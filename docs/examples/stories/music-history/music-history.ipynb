{
 "cells": [
  {
   "cell_type": "code",
   "execution_count": 1,
   "metadata": {
    "scrolled": true
   },
   "outputs": [
    {
     "data": {
      "text/html": [
       "<script id=\"myVizzu_a1c4105\">\n",
       "    let myVizzu_edd9400 = document.createElement(\"div\");\n",
       "    myVizzu_edd9400.style.cssText = \"width: 640px; height: =360px;\";\n",
       "    let chart_edd9400 = import(\"https://cdn.jsdelivr.net/npm/vizzu@~0.4.0/dist/vizzu.min.js\").then(Vizzu => new Vizzu.default(myVizzu_edd9400).initializing);\n",
       "    myVizzu_a1c4105.parentNode.insertBefore(myVizzu_edd9400, myVizzu_a1c4105);\n",
       "</script>"
      ]
     },
     "metadata": {},
     "output_type": "display_data"
    },
    {
     "data": {
      "text/html": [
       "<script id=\"myVizzu_fcb4b6c\">\n",
       "    let display_fcb4b6c = myVizzu_fcb4b6c.parentNode.parentNode.style.display;\n",
       "    myVizzu_fcb4b6c.parentNode.parentNode.style.display = \"none\";\n",
       "    chart_edd9400 = chart_edd9400.then(chart => {\n",
       "        if (myVizzu_edd9400.parentNode && myVizzu_edd9400.parentNode.parentNode) {\n",
       "            myVizzu_edd9400.parentNode.parentNode.style.display = \"none\";\n",
       "        }\n",
       "        myVizzu_fcb4b6c.parentNode.parentNode.style.display = display_fcb4b6c;\n",
       "        myVizzu_fcb4b6c.parentNode.insertBefore(myVizzu_edd9400, myVizzu_fcb4b6c);\n",
       "        myVizzu_edd9400.scrollIntoView({behavior: \"auto\", block: \"center\"});\n",
       "        return chart.animate({\"data\": {\"series\": [{\"name\": \"Year\", \"type\": \"dimension\", \"values\": [\"1972\", \"1972\", \"1972\", \"1972\", \"1972\", \"1972\", \"1972\", \"1972\", \"1973\", \"1973\", \"1973\", \"1974\", \"1974\", \"1974\", \"1975\", \"1975\", \"1975\", \"1976\", \"1976\", \"1976\", \"1977\", \"1977\", \"1977\", \"1978\", \"1978\", \"1978\", \"1979\", \"1979\", \"1979\", \"1980\", \"1980\", \"1980\", \"1981\", \"1981\", \"1981\", \"1982\", \"1982\", \"1982\", \"1983\", \"1983\", \"1983\", \"1984\", \"1984\", \"1984\", \"1985\", \"1985\", \"1985\", \"1986\", \"1986\", \"1986\", \"1987\", \"1987\", \"1987\", \"1988\", \"1988\", \"1988\", \"1989\", \"1989\", \"1989\", \"1989\", \"1990\", \"1990\", \"1990\", \"1990\", \"1991\", \"1991\", \"1991\", \"1991\", \"1992\", \"1992\", \"1992\", \"1992\", \"1993\", \"1993\", \"1993\", \"1993\", \"1994\", \"1994\", \"1994\", \"1994\", \"1995\", \"1995\", \"1995\", \"1995\", \"1996\", \"1996\", \"1996\", \"1996\", \"1997\", \"1997\", \"1997\", \"1997\", \"1998\", \"1998\", \"1998\", \"1998\", \"1999\", \"1999\", \"1999\", \"1999\", \"2000\", \"2000\", \"2000\", \"2000\", \"2001\", \"2001\", \"2001\", \"2001\", \"2002\", \"2002\", \"2002\", \"2002\", \"2003\", \"2003\", \"2003\", \"2003\", \"2004\", \"2004\", \"2004\", \"2004\", \"2004\", \"2004\", \"2005\", \"2005\", \"2005\", \"2005\", \"2005\", \"2005\", \"2005\", \"2006\", \"2006\", \"2006\", \"2006\", \"2006\", \"2006\", \"2006\", \"2007\", \"2007\", \"2007\", \"2007\", \"2007\", \"2007\", \"2007\", \"2008\", \"2008\", \"2008\", \"2008\", \"2008\", \"2008\", \"2008\", \"2009\", \"2009\", \"2009\", \"2009\", \"2009\", \"2009\", \"2010\", \"2010\", \"2010\", \"2010\", \"2010\", \"2010\", \"2011\", \"2011\", \"2011\", \"2011\", \"2011\", \"2011\", \"2012\", \"2012\", \"2012\", \"2012\", \"2012\", \"2012\", \"2013\", \"2013\", \"2013\", \"2013\", \"2013\", \"2013\", \"2014\", \"2014\", \"2014\", \"2014\", \"2014\", \"2014\", \"2015\", \"2015\", \"2015\", \"2015\", \"2015\", \"2015\", \"2016\", \"2016\", \"2016\", \"2016\", \"2016\", \"2016\", \"2017\", \"2017\", \"2017\", \"2017\", \"2017\", \"2017\", \"2018\", \"2018\", \"2018\", \"2018\", \"2018\", \"2018\", \"2019\", \"2019\", \"2019\", \"2019\", \"2019\", \"2019\", \"2020\", \"2020\", \"2020\", \"2020\", \"2020\", \"2020\"]}, {\"name\": \"Format\", \"type\": \"dimension\", \"values\": [\"Other\", \"DVD\", \"Tapes\", \"Download\", \"Streaming\", \"Cassette\", \"Vinyl\", \"CD\", \"Cassette\", \"Tapes\", \"Vinyl\", \"Cassette\", \"Tapes\", \"Vinyl\", \"Cassette\", \"Tapes\", \"Vinyl\", \"Cassette\", \"Tapes\", \"Vinyl\", \"Cassette\", \"Tapes\", \"Vinyl\", \"Cassette\", \"Tapes\", \"Vinyl\", \"Cassette\", \"Tapes\", \"Vinyl\", \"Tapes\", \"Cassette\", \"Vinyl\", \"Tapes\", \"Cassette\", \"Vinyl\", \"Tapes\", \"Cassette\", \"Vinyl\", \"CD\", \"Cassette\", \"Vinyl\", \"CD\", \"Vinyl\", \"Cassette\", \"CD\", \"Vinyl\", \"Cassette\", \"CD\", \"Vinyl\", \"Cassette\", \"Vinyl\", \"CD\", \"Cassette\", \"Vinyl\", \"CD\", \"Cassette\", \"DVD\", \"Vinyl\", \"CD\", \"Cassette\", \"DVD\", \"Vinyl\", \"CD\", \"Cassette\", \"Vinyl\", \"DVD\", \"Cassette\", \"CD\", \"Vinyl\", \"DVD\", \"Cassette\", \"CD\", \"Vinyl\", \"DVD\", \"Cassette\", \"CD\", \"Vinyl\", \"DVD\", \"Cassette\", \"CD\", \"Vinyl\", \"DVD\", \"Cassette\", \"CD\", \"Vinyl\", \"DVD\", \"Cassette\", \"CD\", \"Vinyl\", \"DVD\", \"Cassette\", \"CD\", \"Vinyl\", \"DVD\", \"Cassette\", \"CD\", \"Vinyl\", \"DVD\", \"Cassette\", \"CD\", \"Vinyl\", \"DVD\", \"Cassette\", \"CD\", \"Vinyl\", \"DVD\", \"Cassette\", \"CD\", \"Vinyl\", \"Cassette\", \"DVD\", \"CD\", \"Vinyl\", \"Cassette\", \"DVD\", \"CD\", \"Streaming\", \"Cassette\", \"Vinyl\", \"Download\", \"DVD\", \"CD\", \"Cassette\", \"Vinyl\", \"Streaming\", \"Other\", \"Download\", \"DVD\", \"CD\", \"Cassette\", \"Vinyl\", \"Streaming\", \"DVD\", \"Other\", \"Download\", \"CD\", \"Cassette\", \"Vinyl\", \"Streaming\", \"DVD\", \"Other\", \"Download\", \"CD\", \"Cassette\", \"Vinyl\", \"DVD\", \"Streaming\", \"Other\", \"Download\", \"CD\", \"Vinyl\", \"DVD\", \"Streaming\", \"Other\", \"Download\", \"CD\", \"Vinyl\", \"DVD\", \"Streaming\", \"Other\", \"Download\", \"CD\", \"Vinyl\", \"DVD\", \"Other\", \"Streaming\", \"Download\", \"CD\", \"DVD\", \"Vinyl\", \"Other\", \"Streaming\", \"CD\", \"Download\", \"DVD\", \"Vinyl\", \"Other\", \"Streaming\", \"CD\", \"Download\", \"DVD\", \"Vinyl\", \"Other\", \"CD\", \"Streaming\", \"Download\", \"DVD\", \"Other\", \"Vinyl\", \"CD\", \"Download\", \"Streaming\", \"DVD\", \"Other\", \"Vinyl\", \"CD\", \"Download\", \"Streaming\", \"DVD\", \"Other\", \"Vinyl\", \"CD\", \"Download\", \"Streaming\", \"DVD\", \"Other\", \"Vinyl\", \"CD\", \"Download\", \"Streaming\", \"DVD\", \"Other\", \"Vinyl\", \"CD\", \"Download\", \"Streaming\", \"DVD\", \"Other\", \"CD\", \"Vinyl\", \"Download\", \"Streaming\"]}, {\"name\": \"Revenue [m$]\", \"type\": \"measure\", \"values\": [0.0, 0.0, 0.0, 0.0, 0.0, 0.0, 0.0, 0.0, 443.0, 2941.0, 8371.0, 458.0, 2953.0, 8137.0, 475.0, 2854.0, 8161.0, 663.0, 3108.0, 8679.0, 1066.0, 3464.0, 10422.0, 1786.0, 3763.0, 10851.0, 2070.0, 2440.0, 8594.0, 1655.0, 2214.0, 7695.0, 891.0, 3026.0, 7397.0, 97.0, 3713.0, 5922.0, 45.0, 4706.0, 5089.0, 257.0, 4602.0, 5938.0, 937.0, 3756.0, 5800.0, 2196.0, 2860.0, 5902.0, 2270.0, 3631.0, 6776.0, 1559.0, 4594.0, 7531.0, 241.0, 703.0, 5401.0, 7390.0, 341.0, 358.0, 6847.0, 7387.0, 177.0, 224.0, 6176.0, 8309.0, 147.0, 290.0, 6300.0, 9909.0, 111.0, 382.0, 5757.0, 11745.0, 114.0, 404.0, 5678.0, 14880.0, 122.0, 374.0, 4313.0, 16113.0, 139.0, 390.0, 3455.0, 16691.0, 111.0, 522.0, 2671.0, 16428.0, 95.0, 807.0, 2404.0, 18465.0, 93.0, 585.0, 1724.0, 20256.0, 81.0, 424.0, 948.0, 20075.0, 86.0, 490.0, 531.0, 18982.0, 65.0, 302.0, 427.0, 17355.0, 61.0, 152.0, 574.0, 15888.0, 10.0, 33.0, 54.0, 251.0, 841.0, 15726.0, 17.0, 36.0, 225.0, 560.0, 666.0, 813.0, 13969.0, 5.0, 33.0, 307.0, 582.0, 996.0, 1125.0, 12049.0, 4.0, 34.0, 337.0, 609.0, 1321.0, 1669.0, 9324.0, 1.0, 72.0, 275.0, 386.0, 1178.0, 2054.0, 6585.0, 80.0, 255.0, 436.0, 1098.0, 2361.0, 5217.0, 108.0, 212.0, 548.0, 763.0, 2665.0, 4028.0, 143.0, 174.0, 547.0, 752.0, 3021.0, 3573.0, 132.0, 187.0, 384.0, 1164.0, 2807.0, 3236.0, 118.0, 237.0, 327.0, 1616.0, 2382.0, 3136.0, 100.0, 273.0, 283.0, 1947.0, 1998.0, 2719.0, 83.0, 285.0, 370.0, 1580.0, 2464.0, 2546.0, 64.0, 296.0, 389.0, 1221.0, 1930.0, 4179.0, 40.0, 285.0, 417.0, 1103.0, 1412.0, 5721.0, 30.0, 322.0, 438.0, 718.0, 1038.0, 7491.0, 28.0, 307.0, 492.0, 639.0, 810.0, 8992.0, 29.0, 287.0, 484.0, 626.0, 653.0, 10075.0]}]}, \"style\": {\"fontSize\": 12.5, \"title\": {\"fontWeight\": 200}, \"plot\": {\"paddingLeft\": 100, \"paddingTop\": 25, \"yAxis\": {\"color\": \"#ffffff00\", \"label\": {\"paddingRight\": 10}}, \"xAxis\": {\"title\": {\"color\": \"#ffffff00\"}, \"label\": {\"color\": \"#ffffff00\", \"numberFormat\": \"grouped\"}}, \"marker\": {\"colorPalette\": \"#b74c20FF #c47f58FF #1c9761FF #ea4549FF #875792FF #3562b6FF #ee7c34FF #efae3aFF\"}}}});\n",
       "    });\n",
       "</script>"
      ]
     },
     "metadata": {},
     "output_type": "display_data"
    },
    {
     "data": {
      "text/html": [
       "<script id=\"myVizzu_e3f6377\">\n",
       "    let display_e3f6377 = myVizzu_e3f6377.parentNode.parentNode.style.display;\n",
       "    myVizzu_e3f6377.parentNode.parentNode.style.display = \"none\";\n",
       "    chart_edd9400 = chart_edd9400.then(chart => {\n",
       "        if (myVizzu_edd9400.parentNode && myVizzu_edd9400.parentNode.parentNode) {\n",
       "            myVizzu_edd9400.parentNode.parentNode.style.display = \"none\";\n",
       "        }\n",
       "        myVizzu_e3f6377.parentNode.parentNode.style.display = display_e3f6377;\n",
       "        myVizzu_e3f6377.parentNode.insertBefore(myVizzu_edd9400, myVizzu_e3f6377);\n",
       "        myVizzu_edd9400.scrollIntoView({behavior: \"auto\", block: \"center\"});\n",
       "        return chart.animate({\"data\": {\"filter\": record => { return (parseInt(record.Year) == 1973) }}, \"config\": {\"channels\": {\"y\": {\"set\": [\"Format\"]}, \"x\": {\"set\": [\"Revenue [m$]\"]}, \"label\": {\"set\": [\"Revenue [m$]\"]}, \"color\": {\"set\": [\"Format\"]}}, \"title\": \"Music Revenue by Format - Year by Year 1973\", \"sort\": \"byValue\"}}, {\"duration\": 0.2, \"x\": {\"easing\": \"linear\", \"delay\": 0}, \"y\": {\"delay\": 0}, \"show\": {\"delay\": 0}, \"hide\": {\"delay\": 0}, \"title\": {\"duration\": 0, \"delay\": 0}});\n",
       "    });\n",
       "</script>"
      ]
     },
     "metadata": {},
     "output_type": "display_data"
    },
    {
     "data": {
      "text/html": [
       "<script id=\"myVizzu_d8d20d3\">\n",
       "    let display_d8d20d3 = myVizzu_d8d20d3.parentNode.parentNode.style.display;\n",
       "    myVizzu_d8d20d3.parentNode.parentNode.style.display = \"none\";\n",
       "    chart_edd9400 = chart_edd9400.then(chart => {\n",
       "        if (myVizzu_edd9400.parentNode && myVizzu_edd9400.parentNode.parentNode) {\n",
       "            myVizzu_edd9400.parentNode.parentNode.style.display = \"none\";\n",
       "        }\n",
       "        myVizzu_d8d20d3.parentNode.parentNode.style.display = display_d8d20d3;\n",
       "        myVizzu_d8d20d3.parentNode.insertBefore(myVizzu_edd9400, myVizzu_d8d20d3);\n",
       "        myVizzu_edd9400.scrollIntoView({behavior: \"auto\", block: \"center\"});\n",
       "        return chart.animate({\"data\": {\"filter\": record => { return (parseInt(record.Year) == 1974) }}, \"config\": {\"channels\": {\"y\": {\"set\": [\"Format\"]}, \"x\": {\"set\": [\"Revenue [m$]\"]}, \"label\": {\"set\": [\"Revenue [m$]\"]}, \"color\": {\"set\": [\"Format\"]}}, \"title\": \"Music Revenue by Format - Year by Year 1974\", \"sort\": \"byValue\"}}, {\"duration\": 0.2, \"x\": {\"easing\": \"linear\", \"delay\": 0}, \"y\": {\"delay\": 0}, \"show\": {\"delay\": 0}, \"hide\": {\"delay\": 0}, \"title\": {\"duration\": 0, \"delay\": 0}});\n",
       "    });\n",
       "</script>"
      ]
     },
     "metadata": {},
     "output_type": "display_data"
    },
    {
     "data": {
      "text/html": [
       "<script id=\"myVizzu_8042f8d\">\n",
       "    let display_8042f8d = myVizzu_8042f8d.parentNode.parentNode.style.display;\n",
       "    myVizzu_8042f8d.parentNode.parentNode.style.display = \"none\";\n",
       "    chart_edd9400 = chart_edd9400.then(chart => {\n",
       "        if (myVizzu_edd9400.parentNode && myVizzu_edd9400.parentNode.parentNode) {\n",
       "            myVizzu_edd9400.parentNode.parentNode.style.display = \"none\";\n",
       "        }\n",
       "        myVizzu_8042f8d.parentNode.parentNode.style.display = display_8042f8d;\n",
       "        myVizzu_8042f8d.parentNode.insertBefore(myVizzu_edd9400, myVizzu_8042f8d);\n",
       "        myVizzu_edd9400.scrollIntoView({behavior: \"auto\", block: \"center\"});\n",
       "        return chart.animate({\"data\": {\"filter\": record => { return (parseInt(record.Year) == 1975) }}, \"config\": {\"channels\": {\"y\": {\"set\": [\"Format\"]}, \"x\": {\"set\": [\"Revenue [m$]\"]}, \"label\": {\"set\": [\"Revenue [m$]\"]}, \"color\": {\"set\": [\"Format\"]}}, \"title\": \"Music Revenue by Format - Year by Year 1975\", \"sort\": \"byValue\"}}, {\"duration\": 0.2, \"x\": {\"easing\": \"linear\", \"delay\": 0}, \"y\": {\"delay\": 0}, \"show\": {\"delay\": 0}, \"hide\": {\"delay\": 0}, \"title\": {\"duration\": 0, \"delay\": 0}});\n",
       "    });\n",
       "</script>"
      ]
     },
     "metadata": {},
     "output_type": "display_data"
    },
    {
     "data": {
      "text/html": [
       "<script id=\"myVizzu_1eb2fc5\">\n",
       "    let display_1eb2fc5 = myVizzu_1eb2fc5.parentNode.parentNode.style.display;\n",
       "    myVizzu_1eb2fc5.parentNode.parentNode.style.display = \"none\";\n",
       "    chart_edd9400 = chart_edd9400.then(chart => {\n",
       "        if (myVizzu_edd9400.parentNode && myVizzu_edd9400.parentNode.parentNode) {\n",
       "            myVizzu_edd9400.parentNode.parentNode.style.display = \"none\";\n",
       "        }\n",
       "        myVizzu_1eb2fc5.parentNode.parentNode.style.display = display_1eb2fc5;\n",
       "        myVizzu_1eb2fc5.parentNode.insertBefore(myVizzu_edd9400, myVizzu_1eb2fc5);\n",
       "        myVizzu_edd9400.scrollIntoView({behavior: \"auto\", block: \"center\"});\n",
       "        return chart.animate({\"data\": {\"filter\": record => { return (parseInt(record.Year) == 1976) }}, \"config\": {\"channels\": {\"y\": {\"set\": [\"Format\"]}, \"x\": {\"set\": [\"Revenue [m$]\"]}, \"label\": {\"set\": [\"Revenue [m$]\"]}, \"color\": {\"set\": [\"Format\"]}}, \"title\": \"Music Revenue by Format - Year by Year 1976\", \"sort\": \"byValue\"}}, {\"duration\": 0.2, \"x\": {\"easing\": \"linear\", \"delay\": 0}, \"y\": {\"delay\": 0}, \"show\": {\"delay\": 0}, \"hide\": {\"delay\": 0}, \"title\": {\"duration\": 0, \"delay\": 0}});\n",
       "    });\n",
       "</script>"
      ]
     },
     "metadata": {},
     "output_type": "display_data"
    },
    {
     "data": {
      "text/html": [
       "<script id=\"myVizzu_0520154\">\n",
       "    let display_0520154 = myVizzu_0520154.parentNode.parentNode.style.display;\n",
       "    myVizzu_0520154.parentNode.parentNode.style.display = \"none\";\n",
       "    chart_edd9400 = chart_edd9400.then(chart => {\n",
       "        if (myVizzu_edd9400.parentNode && myVizzu_edd9400.parentNode.parentNode) {\n",
       "            myVizzu_edd9400.parentNode.parentNode.style.display = \"none\";\n",
       "        }\n",
       "        myVizzu_0520154.parentNode.parentNode.style.display = display_0520154;\n",
       "        myVizzu_0520154.parentNode.insertBefore(myVizzu_edd9400, myVizzu_0520154);\n",
       "        myVizzu_edd9400.scrollIntoView({behavior: \"auto\", block: \"center\"});\n",
       "        return chart.animate({\"data\": {\"filter\": record => { return (parseInt(record.Year) == 1977) }}, \"config\": {\"channels\": {\"y\": {\"set\": [\"Format\"]}, \"x\": {\"set\": [\"Revenue [m$]\"]}, \"label\": {\"set\": [\"Revenue [m$]\"]}, \"color\": {\"set\": [\"Format\"]}}, \"title\": \"Music Revenue by Format - Year by Year 1977\", \"sort\": \"byValue\"}}, {\"duration\": 0.2, \"x\": {\"easing\": \"linear\", \"delay\": 0}, \"y\": {\"delay\": 0}, \"show\": {\"delay\": 0}, \"hide\": {\"delay\": 0}, \"title\": {\"duration\": 0, \"delay\": 0}});\n",
       "    });\n",
       "</script>"
      ]
     },
     "metadata": {},
     "output_type": "display_data"
    },
    {
     "data": {
      "text/html": [
       "<script id=\"myVizzu_6891620\">\n",
       "    let display_6891620 = myVizzu_6891620.parentNode.parentNode.style.display;\n",
       "    myVizzu_6891620.parentNode.parentNode.style.display = \"none\";\n",
       "    chart_edd9400 = chart_edd9400.then(chart => {\n",
       "        if (myVizzu_edd9400.parentNode && myVizzu_edd9400.parentNode.parentNode) {\n",
       "            myVizzu_edd9400.parentNode.parentNode.style.display = \"none\";\n",
       "        }\n",
       "        myVizzu_6891620.parentNode.parentNode.style.display = display_6891620;\n",
       "        myVizzu_6891620.parentNode.insertBefore(myVizzu_edd9400, myVizzu_6891620);\n",
       "        myVizzu_edd9400.scrollIntoView({behavior: \"auto\", block: \"center\"});\n",
       "        return chart.animate({\"data\": {\"filter\": record => { return (parseInt(record.Year) == 1978) }}, \"config\": {\"channels\": {\"y\": {\"set\": [\"Format\"]}, \"x\": {\"set\": [\"Revenue [m$]\"]}, \"label\": {\"set\": [\"Revenue [m$]\"]}, \"color\": {\"set\": [\"Format\"]}}, \"title\": \"Music Revenue by Format - Year by Year 1978\", \"sort\": \"byValue\"}}, {\"duration\": 0.2, \"x\": {\"easing\": \"linear\", \"delay\": 0}, \"y\": {\"delay\": 0}, \"show\": {\"delay\": 0}, \"hide\": {\"delay\": 0}, \"title\": {\"duration\": 0, \"delay\": 0}});\n",
       "    });\n",
       "</script>"
      ]
     },
     "metadata": {},
     "output_type": "display_data"
    },
    {
     "data": {
      "text/html": [
       "<script id=\"myVizzu_93cc4fe\">\n",
       "    let display_93cc4fe = myVizzu_93cc4fe.parentNode.parentNode.style.display;\n",
       "    myVizzu_93cc4fe.parentNode.parentNode.style.display = \"none\";\n",
       "    chart_edd9400 = chart_edd9400.then(chart => {\n",
       "        if (myVizzu_edd9400.parentNode && myVizzu_edd9400.parentNode.parentNode) {\n",
       "            myVizzu_edd9400.parentNode.parentNode.style.display = \"none\";\n",
       "        }\n",
       "        myVizzu_93cc4fe.parentNode.parentNode.style.display = display_93cc4fe;\n",
       "        myVizzu_93cc4fe.parentNode.insertBefore(myVizzu_edd9400, myVizzu_93cc4fe);\n",
       "        myVizzu_edd9400.scrollIntoView({behavior: \"auto\", block: \"center\"});\n",
       "        return chart.animate({\"data\": {\"filter\": record => { return (parseInt(record.Year) == 1979) }}, \"config\": {\"channels\": {\"y\": {\"set\": [\"Format\"]}, \"x\": {\"set\": [\"Revenue [m$]\"]}, \"label\": {\"set\": [\"Revenue [m$]\"]}, \"color\": {\"set\": [\"Format\"]}}, \"title\": \"Music Revenue by Format - Year by Year 1979\", \"sort\": \"byValue\"}}, {\"duration\": 0.2, \"x\": {\"easing\": \"linear\", \"delay\": 0}, \"y\": {\"delay\": 0}, \"show\": {\"delay\": 0}, \"hide\": {\"delay\": 0}, \"title\": {\"duration\": 0, \"delay\": 0}});\n",
       "    });\n",
       "</script>"
      ]
     },
     "metadata": {},
     "output_type": "display_data"
    },
    {
     "data": {
      "text/html": [
       "<script id=\"myVizzu_3d3268d\">\n",
       "    let display_3d3268d = myVizzu_3d3268d.parentNode.parentNode.style.display;\n",
       "    myVizzu_3d3268d.parentNode.parentNode.style.display = \"none\";\n",
       "    chart_edd9400 = chart_edd9400.then(chart => {\n",
       "        if (myVizzu_edd9400.parentNode && myVizzu_edd9400.parentNode.parentNode) {\n",
       "            myVizzu_edd9400.parentNode.parentNode.style.display = \"none\";\n",
       "        }\n",
       "        myVizzu_3d3268d.parentNode.parentNode.style.display = display_3d3268d;\n",
       "        myVizzu_3d3268d.parentNode.insertBefore(myVizzu_edd9400, myVizzu_3d3268d);\n",
       "        myVizzu_edd9400.scrollIntoView({behavior: \"auto\", block: \"center\"});\n",
       "        return chart.animate({\"data\": {\"filter\": record => { return (parseInt(record.Year) == 1980) }}, \"config\": {\"channels\": {\"y\": {\"set\": [\"Format\"]}, \"x\": {\"set\": [\"Revenue [m$]\"]}, \"label\": {\"set\": [\"Revenue [m$]\"]}, \"color\": {\"set\": [\"Format\"]}}, \"title\": \"Music Revenue by Format - Year by Year 1980\", \"sort\": \"byValue\"}}, {\"duration\": 0.2, \"x\": {\"easing\": \"linear\", \"delay\": 0}, \"y\": {\"delay\": 0}, \"show\": {\"delay\": 0}, \"hide\": {\"delay\": 0}, \"title\": {\"duration\": 0, \"delay\": 0}});\n",
       "    });\n",
       "</script>"
      ]
     },
     "metadata": {},
     "output_type": "display_data"
    },
    {
     "data": {
      "text/html": [
       "<script id=\"myVizzu_694eaf1\">\n",
       "    let display_694eaf1 = myVizzu_694eaf1.parentNode.parentNode.style.display;\n",
       "    myVizzu_694eaf1.parentNode.parentNode.style.display = \"none\";\n",
       "    chart_edd9400 = chart_edd9400.then(chart => {\n",
       "        if (myVizzu_edd9400.parentNode && myVizzu_edd9400.parentNode.parentNode) {\n",
       "            myVizzu_edd9400.parentNode.parentNode.style.display = \"none\";\n",
       "        }\n",
       "        myVizzu_694eaf1.parentNode.parentNode.style.display = display_694eaf1;\n",
       "        myVizzu_694eaf1.parentNode.insertBefore(myVizzu_edd9400, myVizzu_694eaf1);\n",
       "        myVizzu_edd9400.scrollIntoView({behavior: \"auto\", block: \"center\"});\n",
       "        return chart.animate({\"data\": {\"filter\": record => { return (parseInt(record.Year) == 1981) }}, \"config\": {\"channels\": {\"y\": {\"set\": [\"Format\"]}, \"x\": {\"set\": [\"Revenue [m$]\"]}, \"label\": {\"set\": [\"Revenue [m$]\"]}, \"color\": {\"set\": [\"Format\"]}}, \"title\": \"Music Revenue by Format - Year by Year 1981\", \"sort\": \"byValue\"}}, {\"duration\": 0.2, \"x\": {\"easing\": \"linear\", \"delay\": 0}, \"y\": {\"delay\": 0}, \"show\": {\"delay\": 0}, \"hide\": {\"delay\": 0}, \"title\": {\"duration\": 0, \"delay\": 0}});\n",
       "    });\n",
       "</script>"
      ]
     },
     "metadata": {},
     "output_type": "display_data"
    },
    {
     "data": {
      "text/html": [
       "<script id=\"myVizzu_4816946\">\n",
       "    let display_4816946 = myVizzu_4816946.parentNode.parentNode.style.display;\n",
       "    myVizzu_4816946.parentNode.parentNode.style.display = \"none\";\n",
       "    chart_edd9400 = chart_edd9400.then(chart => {\n",
       "        if (myVizzu_edd9400.parentNode && myVizzu_edd9400.parentNode.parentNode) {\n",
       "            myVizzu_edd9400.parentNode.parentNode.style.display = \"none\";\n",
       "        }\n",
       "        myVizzu_4816946.parentNode.parentNode.style.display = display_4816946;\n",
       "        myVizzu_4816946.parentNode.insertBefore(myVizzu_edd9400, myVizzu_4816946);\n",
       "        myVizzu_edd9400.scrollIntoView({behavior: \"auto\", block: \"center\"});\n",
       "        return chart.animate({\"data\": {\"filter\": record => { return (parseInt(record.Year) == 1982) }}, \"config\": {\"channels\": {\"y\": {\"set\": [\"Format\"]}, \"x\": {\"set\": [\"Revenue [m$]\"]}, \"label\": {\"set\": [\"Revenue [m$]\"]}, \"color\": {\"set\": [\"Format\"]}}, \"title\": \"Music Revenue by Format - Year by Year 1982\", \"sort\": \"byValue\"}}, {\"duration\": 0.2, \"x\": {\"easing\": \"linear\", \"delay\": 0}, \"y\": {\"delay\": 0}, \"show\": {\"delay\": 0}, \"hide\": {\"delay\": 0}, \"title\": {\"duration\": 0, \"delay\": 0}});\n",
       "    });\n",
       "</script>"
      ]
     },
     "metadata": {},
     "output_type": "display_data"
    },
    {
     "data": {
      "text/html": [
       "<script id=\"myVizzu_579e0dd\">\n",
       "    let display_579e0dd = myVizzu_579e0dd.parentNode.parentNode.style.display;\n",
       "    myVizzu_579e0dd.parentNode.parentNode.style.display = \"none\";\n",
       "    chart_edd9400 = chart_edd9400.then(chart => {\n",
       "        if (myVizzu_edd9400.parentNode && myVizzu_edd9400.parentNode.parentNode) {\n",
       "            myVizzu_edd9400.parentNode.parentNode.style.display = \"none\";\n",
       "        }\n",
       "        myVizzu_579e0dd.parentNode.parentNode.style.display = display_579e0dd;\n",
       "        myVizzu_579e0dd.parentNode.insertBefore(myVizzu_edd9400, myVizzu_579e0dd);\n",
       "        myVizzu_edd9400.scrollIntoView({behavior: \"auto\", block: \"center\"});\n",
       "        return chart.animate({\"data\": {\"filter\": record => { return (parseInt(record.Year) == 1983) }}, \"config\": {\"channels\": {\"y\": {\"set\": [\"Format\"]}, \"x\": {\"set\": [\"Revenue [m$]\"]}, \"label\": {\"set\": [\"Revenue [m$]\"]}, \"color\": {\"set\": [\"Format\"]}}, \"title\": \"Music Revenue by Format - Year by Year 1983\", \"sort\": \"byValue\"}}, {\"duration\": 0.2, \"x\": {\"easing\": \"linear\", \"delay\": 0}, \"y\": {\"delay\": 0}, \"show\": {\"delay\": 0}, \"hide\": {\"delay\": 0}, \"title\": {\"duration\": 0, \"delay\": 0}});\n",
       "    });\n",
       "</script>"
      ]
     },
     "metadata": {},
     "output_type": "display_data"
    },
    {
     "data": {
      "text/html": [
       "<script id=\"myVizzu_9ad7857\">\n",
       "    let display_9ad7857 = myVizzu_9ad7857.parentNode.parentNode.style.display;\n",
       "    myVizzu_9ad7857.parentNode.parentNode.style.display = \"none\";\n",
       "    chart_edd9400 = chart_edd9400.then(chart => {\n",
       "        if (myVizzu_edd9400.parentNode && myVizzu_edd9400.parentNode.parentNode) {\n",
       "            myVizzu_edd9400.parentNode.parentNode.style.display = \"none\";\n",
       "        }\n",
       "        myVizzu_9ad7857.parentNode.parentNode.style.display = display_9ad7857;\n",
       "        myVizzu_9ad7857.parentNode.insertBefore(myVizzu_edd9400, myVizzu_9ad7857);\n",
       "        myVizzu_edd9400.scrollIntoView({behavior: \"auto\", block: \"center\"});\n",
       "        return chart.animate({\"data\": {\"filter\": record => { return (parseInt(record.Year) == 1984) }}, \"config\": {\"channels\": {\"y\": {\"set\": [\"Format\"]}, \"x\": {\"set\": [\"Revenue [m$]\"]}, \"label\": {\"set\": [\"Revenue [m$]\"]}, \"color\": {\"set\": [\"Format\"]}}, \"title\": \"Music Revenue by Format - Year by Year 1984\", \"sort\": \"byValue\"}}, {\"duration\": 0.2, \"x\": {\"easing\": \"linear\", \"delay\": 0}, \"y\": {\"delay\": 0}, \"show\": {\"delay\": 0}, \"hide\": {\"delay\": 0}, \"title\": {\"duration\": 0, \"delay\": 0}});\n",
       "    });\n",
       "</script>"
      ]
     },
     "metadata": {},
     "output_type": "display_data"
    },
    {
     "data": {
      "text/html": [
       "<script id=\"myVizzu_96ec7f1\">\n",
       "    let display_96ec7f1 = myVizzu_96ec7f1.parentNode.parentNode.style.display;\n",
       "    myVizzu_96ec7f1.parentNode.parentNode.style.display = \"none\";\n",
       "    chart_edd9400 = chart_edd9400.then(chart => {\n",
       "        if (myVizzu_edd9400.parentNode && myVizzu_edd9400.parentNode.parentNode) {\n",
       "            myVizzu_edd9400.parentNode.parentNode.style.display = \"none\";\n",
       "        }\n",
       "        myVizzu_96ec7f1.parentNode.parentNode.style.display = display_96ec7f1;\n",
       "        myVizzu_96ec7f1.parentNode.insertBefore(myVizzu_edd9400, myVizzu_96ec7f1);\n",
       "        myVizzu_edd9400.scrollIntoView({behavior: \"auto\", block: \"center\"});\n",
       "        return chart.animate({\"data\": {\"filter\": record => { return (parseInt(record.Year) == 1985) }}, \"config\": {\"channels\": {\"y\": {\"set\": [\"Format\"]}, \"x\": {\"set\": [\"Revenue [m$]\"]}, \"label\": {\"set\": [\"Revenue [m$]\"]}, \"color\": {\"set\": [\"Format\"]}}, \"title\": \"Music Revenue by Format - Year by Year 1985\", \"sort\": \"byValue\"}}, {\"duration\": 0.2, \"x\": {\"easing\": \"linear\", \"delay\": 0}, \"y\": {\"delay\": 0}, \"show\": {\"delay\": 0}, \"hide\": {\"delay\": 0}, \"title\": {\"duration\": 0, \"delay\": 0}});\n",
       "    });\n",
       "</script>"
      ]
     },
     "metadata": {},
     "output_type": "display_data"
    },
    {
     "data": {
      "text/html": [
       "<script id=\"myVizzu_d7f46c5\">\n",
       "    let display_d7f46c5 = myVizzu_d7f46c5.parentNode.parentNode.style.display;\n",
       "    myVizzu_d7f46c5.parentNode.parentNode.style.display = \"none\";\n",
       "    chart_edd9400 = chart_edd9400.then(chart => {\n",
       "        if (myVizzu_edd9400.parentNode && myVizzu_edd9400.parentNode.parentNode) {\n",
       "            myVizzu_edd9400.parentNode.parentNode.style.display = \"none\";\n",
       "        }\n",
       "        myVizzu_d7f46c5.parentNode.parentNode.style.display = display_d7f46c5;\n",
       "        myVizzu_d7f46c5.parentNode.insertBefore(myVizzu_edd9400, myVizzu_d7f46c5);\n",
       "        myVizzu_edd9400.scrollIntoView({behavior: \"auto\", block: \"center\"});\n",
       "        return chart.animate({\"data\": {\"filter\": record => { return (parseInt(record.Year) == 1986) }}, \"config\": {\"channels\": {\"y\": {\"set\": [\"Format\"]}, \"x\": {\"set\": [\"Revenue [m$]\"]}, \"label\": {\"set\": [\"Revenue [m$]\"]}, \"color\": {\"set\": [\"Format\"]}}, \"title\": \"Music Revenue by Format - Year by Year 1986\", \"sort\": \"byValue\"}}, {\"duration\": 0.2, \"x\": {\"easing\": \"linear\", \"delay\": 0}, \"y\": {\"delay\": 0}, \"show\": {\"delay\": 0}, \"hide\": {\"delay\": 0}, \"title\": {\"duration\": 0, \"delay\": 0}});\n",
       "    });\n",
       "</script>"
      ]
     },
     "metadata": {},
     "output_type": "display_data"
    },
    {
     "data": {
      "text/html": [
       "<script id=\"myVizzu_7bdf6a6\">\n",
       "    let display_7bdf6a6 = myVizzu_7bdf6a6.parentNode.parentNode.style.display;\n",
       "    myVizzu_7bdf6a6.parentNode.parentNode.style.display = \"none\";\n",
       "    chart_edd9400 = chart_edd9400.then(chart => {\n",
       "        if (myVizzu_edd9400.parentNode && myVizzu_edd9400.parentNode.parentNode) {\n",
       "            myVizzu_edd9400.parentNode.parentNode.style.display = \"none\";\n",
       "        }\n",
       "        myVizzu_7bdf6a6.parentNode.parentNode.style.display = display_7bdf6a6;\n",
       "        myVizzu_7bdf6a6.parentNode.insertBefore(myVizzu_edd9400, myVizzu_7bdf6a6);\n",
       "        myVizzu_edd9400.scrollIntoView({behavior: \"auto\", block: \"center\"});\n",
       "        return chart.animate({\"data\": {\"filter\": record => { return (parseInt(record.Year) == 1987) }}, \"config\": {\"channels\": {\"y\": {\"set\": [\"Format\"]}, \"x\": {\"set\": [\"Revenue [m$]\"]}, \"label\": {\"set\": [\"Revenue [m$]\"]}, \"color\": {\"set\": [\"Format\"]}}, \"title\": \"Music Revenue by Format - Year by Year 1987\", \"sort\": \"byValue\"}}, {\"duration\": 0.2, \"x\": {\"easing\": \"linear\", \"delay\": 0}, \"y\": {\"delay\": 0}, \"show\": {\"delay\": 0}, \"hide\": {\"delay\": 0}, \"title\": {\"duration\": 0, \"delay\": 0}});\n",
       "    });\n",
       "</script>"
      ]
     },
     "metadata": {},
     "output_type": "display_data"
    },
    {
     "data": {
      "text/html": [
       "<script id=\"myVizzu_37201ac\">\n",
       "    let display_37201ac = myVizzu_37201ac.parentNode.parentNode.style.display;\n",
       "    myVizzu_37201ac.parentNode.parentNode.style.display = \"none\";\n",
       "    chart_edd9400 = chart_edd9400.then(chart => {\n",
       "        if (myVizzu_edd9400.parentNode && myVizzu_edd9400.parentNode.parentNode) {\n",
       "            myVizzu_edd9400.parentNode.parentNode.style.display = \"none\";\n",
       "        }\n",
       "        myVizzu_37201ac.parentNode.parentNode.style.display = display_37201ac;\n",
       "        myVizzu_37201ac.parentNode.insertBefore(myVizzu_edd9400, myVizzu_37201ac);\n",
       "        myVizzu_edd9400.scrollIntoView({behavior: \"auto\", block: \"center\"});\n",
       "        return chart.animate({\"data\": {\"filter\": record => { return (parseInt(record.Year) == 1988) }}, \"config\": {\"channels\": {\"y\": {\"set\": [\"Format\"]}, \"x\": {\"set\": [\"Revenue [m$]\"]}, \"label\": {\"set\": [\"Revenue [m$]\"]}, \"color\": {\"set\": [\"Format\"]}}, \"title\": \"Music Revenue by Format - Year by Year 1988\", \"sort\": \"byValue\"}}, {\"duration\": 0.2, \"x\": {\"easing\": \"linear\", \"delay\": 0}, \"y\": {\"delay\": 0}, \"show\": {\"delay\": 0}, \"hide\": {\"delay\": 0}, \"title\": {\"duration\": 0, \"delay\": 0}});\n",
       "    });\n",
       "</script>"
      ]
     },
     "metadata": {},
     "output_type": "display_data"
    },
    {
     "data": {
      "text/html": [
       "<script id=\"myVizzu_0b2a88d\">\n",
       "    let display_0b2a88d = myVizzu_0b2a88d.parentNode.parentNode.style.display;\n",
       "    myVizzu_0b2a88d.parentNode.parentNode.style.display = \"none\";\n",
       "    chart_edd9400 = chart_edd9400.then(chart => {\n",
       "        if (myVizzu_edd9400.parentNode && myVizzu_edd9400.parentNode.parentNode) {\n",
       "            myVizzu_edd9400.parentNode.parentNode.style.display = \"none\";\n",
       "        }\n",
       "        myVizzu_0b2a88d.parentNode.parentNode.style.display = display_0b2a88d;\n",
       "        myVizzu_0b2a88d.parentNode.insertBefore(myVizzu_edd9400, myVizzu_0b2a88d);\n",
       "        myVizzu_edd9400.scrollIntoView({behavior: \"auto\", block: \"center\"});\n",
       "        return chart.animate({\"data\": {\"filter\": record => { return (parseInt(record.Year) == 1989) }}, \"config\": {\"channels\": {\"y\": {\"set\": [\"Format\"]}, \"x\": {\"set\": [\"Revenue [m$]\"]}, \"label\": {\"set\": [\"Revenue [m$]\"]}, \"color\": {\"set\": [\"Format\"]}}, \"title\": \"Music Revenue by Format - Year by Year 1989\", \"sort\": \"byValue\"}}, {\"duration\": 0.2, \"x\": {\"easing\": \"linear\", \"delay\": 0}, \"y\": {\"delay\": 0}, \"show\": {\"delay\": 0}, \"hide\": {\"delay\": 0}, \"title\": {\"duration\": 0, \"delay\": 0}});\n",
       "    });\n",
       "</script>"
      ]
     },
     "metadata": {},
     "output_type": "display_data"
    },
    {
     "data": {
      "text/html": [
       "<script id=\"myVizzu_e724d11\">\n",
       "    let display_e724d11 = myVizzu_e724d11.parentNode.parentNode.style.display;\n",
       "    myVizzu_e724d11.parentNode.parentNode.style.display = \"none\";\n",
       "    chart_edd9400 = chart_edd9400.then(chart => {\n",
       "        if (myVizzu_edd9400.parentNode && myVizzu_edd9400.parentNode.parentNode) {\n",
       "            myVizzu_edd9400.parentNode.parentNode.style.display = \"none\";\n",
       "        }\n",
       "        myVizzu_e724d11.parentNode.parentNode.style.display = display_e724d11;\n",
       "        myVizzu_e724d11.parentNode.insertBefore(myVizzu_edd9400, myVizzu_e724d11);\n",
       "        myVizzu_edd9400.scrollIntoView({behavior: \"auto\", block: \"center\"});\n",
       "        return chart.animate({\"data\": {\"filter\": record => { return (parseInt(record.Year) == 1990) }}, \"config\": {\"channels\": {\"y\": {\"set\": [\"Format\"]}, \"x\": {\"set\": [\"Revenue [m$]\"]}, \"label\": {\"set\": [\"Revenue [m$]\"]}, \"color\": {\"set\": [\"Format\"]}}, \"title\": \"Music Revenue by Format - Year by Year 1990\", \"sort\": \"byValue\"}}, {\"duration\": 0.2, \"x\": {\"easing\": \"linear\", \"delay\": 0}, \"y\": {\"delay\": 0}, \"show\": {\"delay\": 0}, \"hide\": {\"delay\": 0}, \"title\": {\"duration\": 0, \"delay\": 0}});\n",
       "    });\n",
       "</script>"
      ]
     },
     "metadata": {},
     "output_type": "display_data"
    },
    {
     "data": {
      "text/html": [
       "<script id=\"myVizzu_0a24b11\">\n",
       "    let display_0a24b11 = myVizzu_0a24b11.parentNode.parentNode.style.display;\n",
       "    myVizzu_0a24b11.parentNode.parentNode.style.display = \"none\";\n",
       "    chart_edd9400 = chart_edd9400.then(chart => {\n",
       "        if (myVizzu_edd9400.parentNode && myVizzu_edd9400.parentNode.parentNode) {\n",
       "            myVizzu_edd9400.parentNode.parentNode.style.display = \"none\";\n",
       "        }\n",
       "        myVizzu_0a24b11.parentNode.parentNode.style.display = display_0a24b11;\n",
       "        myVizzu_0a24b11.parentNode.insertBefore(myVizzu_edd9400, myVizzu_0a24b11);\n",
       "        myVizzu_edd9400.scrollIntoView({behavior: \"auto\", block: \"center\"});\n",
       "        return chart.animate({\"data\": {\"filter\": record => { return (parseInt(record.Year) == 1991) }}, \"config\": {\"channels\": {\"y\": {\"set\": [\"Format\"]}, \"x\": {\"set\": [\"Revenue [m$]\"]}, \"label\": {\"set\": [\"Revenue [m$]\"]}, \"color\": {\"set\": [\"Format\"]}}, \"title\": \"Music Revenue by Format - Year by Year 1991\", \"sort\": \"byValue\"}}, {\"duration\": 0.2, \"x\": {\"easing\": \"linear\", \"delay\": 0}, \"y\": {\"delay\": 0}, \"show\": {\"delay\": 0}, \"hide\": {\"delay\": 0}, \"title\": {\"duration\": 0, \"delay\": 0}});\n",
       "    });\n",
       "</script>"
      ]
     },
     "metadata": {},
     "output_type": "display_data"
    },
    {
     "data": {
      "text/html": [
       "<script id=\"myVizzu_84d41ff\">\n",
       "    let display_84d41ff = myVizzu_84d41ff.parentNode.parentNode.style.display;\n",
       "    myVizzu_84d41ff.parentNode.parentNode.style.display = \"none\";\n",
       "    chart_edd9400 = chart_edd9400.then(chart => {\n",
       "        if (myVizzu_edd9400.parentNode && myVizzu_edd9400.parentNode.parentNode) {\n",
       "            myVizzu_edd9400.parentNode.parentNode.style.display = \"none\";\n",
       "        }\n",
       "        myVizzu_84d41ff.parentNode.parentNode.style.display = display_84d41ff;\n",
       "        myVizzu_84d41ff.parentNode.insertBefore(myVizzu_edd9400, myVizzu_84d41ff);\n",
       "        myVizzu_edd9400.scrollIntoView({behavior: \"auto\", block: \"center\"});\n",
       "        return chart.animate({\"data\": {\"filter\": record => { return (parseInt(record.Year) == 1992) }}, \"config\": {\"channels\": {\"y\": {\"set\": [\"Format\"]}, \"x\": {\"set\": [\"Revenue [m$]\"]}, \"label\": {\"set\": [\"Revenue [m$]\"]}, \"color\": {\"set\": [\"Format\"]}}, \"title\": \"Music Revenue by Format - Year by Year 1992\", \"sort\": \"byValue\"}}, {\"duration\": 0.2, \"x\": {\"easing\": \"linear\", \"delay\": 0}, \"y\": {\"delay\": 0}, \"show\": {\"delay\": 0}, \"hide\": {\"delay\": 0}, \"title\": {\"duration\": 0, \"delay\": 0}});\n",
       "    });\n",
       "</script>"
      ]
     },
     "metadata": {},
     "output_type": "display_data"
    },
    {
     "data": {
      "text/html": [
       "<script id=\"myVizzu_9345082\">\n",
       "    let display_9345082 = myVizzu_9345082.parentNode.parentNode.style.display;\n",
       "    myVizzu_9345082.parentNode.parentNode.style.display = \"none\";\n",
       "    chart_edd9400 = chart_edd9400.then(chart => {\n",
       "        if (myVizzu_edd9400.parentNode && myVizzu_edd9400.parentNode.parentNode) {\n",
       "            myVizzu_edd9400.parentNode.parentNode.style.display = \"none\";\n",
       "        }\n",
       "        myVizzu_9345082.parentNode.parentNode.style.display = display_9345082;\n",
       "        myVizzu_9345082.parentNode.insertBefore(myVizzu_edd9400, myVizzu_9345082);\n",
       "        myVizzu_edd9400.scrollIntoView({behavior: \"auto\", block: \"center\"});\n",
       "        return chart.animate({\"data\": {\"filter\": record => { return (parseInt(record.Year) == 1993) }}, \"config\": {\"channels\": {\"y\": {\"set\": [\"Format\"]}, \"x\": {\"set\": [\"Revenue [m$]\"]}, \"label\": {\"set\": [\"Revenue [m$]\"]}, \"color\": {\"set\": [\"Format\"]}}, \"title\": \"Music Revenue by Format - Year by Year 1993\", \"sort\": \"byValue\"}}, {\"duration\": 0.2, \"x\": {\"easing\": \"linear\", \"delay\": 0}, \"y\": {\"delay\": 0}, \"show\": {\"delay\": 0}, \"hide\": {\"delay\": 0}, \"title\": {\"duration\": 0, \"delay\": 0}});\n",
       "    });\n",
       "</script>"
      ]
     },
     "metadata": {},
     "output_type": "display_data"
    },
    {
     "data": {
      "text/html": [
       "<script id=\"myVizzu_acd686a\">\n",
       "    let display_acd686a = myVizzu_acd686a.parentNode.parentNode.style.display;\n",
       "    myVizzu_acd686a.parentNode.parentNode.style.display = \"none\";\n",
       "    chart_edd9400 = chart_edd9400.then(chart => {\n",
       "        if (myVizzu_edd9400.parentNode && myVizzu_edd9400.parentNode.parentNode) {\n",
       "            myVizzu_edd9400.parentNode.parentNode.style.display = \"none\";\n",
       "        }\n",
       "        myVizzu_acd686a.parentNode.parentNode.style.display = display_acd686a;\n",
       "        myVizzu_acd686a.parentNode.insertBefore(myVizzu_edd9400, myVizzu_acd686a);\n",
       "        myVizzu_edd9400.scrollIntoView({behavior: \"auto\", block: \"center\"});\n",
       "        return chart.animate({\"data\": {\"filter\": record => { return (parseInt(record.Year) == 1994) }}, \"config\": {\"channels\": {\"y\": {\"set\": [\"Format\"]}, \"x\": {\"set\": [\"Revenue [m$]\"]}, \"label\": {\"set\": [\"Revenue [m$]\"]}, \"color\": {\"set\": [\"Format\"]}}, \"title\": \"Music Revenue by Format - Year by Year 1994\", \"sort\": \"byValue\"}}, {\"duration\": 0.2, \"x\": {\"easing\": \"linear\", \"delay\": 0}, \"y\": {\"delay\": 0}, \"show\": {\"delay\": 0}, \"hide\": {\"delay\": 0}, \"title\": {\"duration\": 0, \"delay\": 0}});\n",
       "    });\n",
       "</script>"
      ]
     },
     "metadata": {},
     "output_type": "display_data"
    },
    {
     "data": {
      "text/html": [
       "<script id=\"myVizzu_6b0efc0\">\n",
       "    let display_6b0efc0 = myVizzu_6b0efc0.parentNode.parentNode.style.display;\n",
       "    myVizzu_6b0efc0.parentNode.parentNode.style.display = \"none\";\n",
       "    chart_edd9400 = chart_edd9400.then(chart => {\n",
       "        if (myVizzu_edd9400.parentNode && myVizzu_edd9400.parentNode.parentNode) {\n",
       "            myVizzu_edd9400.parentNode.parentNode.style.display = \"none\";\n",
       "        }\n",
       "        myVizzu_6b0efc0.parentNode.parentNode.style.display = display_6b0efc0;\n",
       "        myVizzu_6b0efc0.parentNode.insertBefore(myVizzu_edd9400, myVizzu_6b0efc0);\n",
       "        myVizzu_edd9400.scrollIntoView({behavior: \"auto\", block: \"center\"});\n",
       "        return chart.animate({\"data\": {\"filter\": record => { return (parseInt(record.Year) == 1995) }}, \"config\": {\"channels\": {\"y\": {\"set\": [\"Format\"]}, \"x\": {\"set\": [\"Revenue [m$]\"]}, \"label\": {\"set\": [\"Revenue [m$]\"]}, \"color\": {\"set\": [\"Format\"]}}, \"title\": \"Music Revenue by Format - Year by Year 1995\", \"sort\": \"byValue\"}}, {\"duration\": 0.2, \"x\": {\"easing\": \"linear\", \"delay\": 0}, \"y\": {\"delay\": 0}, \"show\": {\"delay\": 0}, \"hide\": {\"delay\": 0}, \"title\": {\"duration\": 0, \"delay\": 0}});\n",
       "    });\n",
       "</script>"
      ]
     },
     "metadata": {},
     "output_type": "display_data"
    },
    {
     "data": {
      "text/html": [
       "<script id=\"myVizzu_79d1a11\">\n",
       "    let display_79d1a11 = myVizzu_79d1a11.parentNode.parentNode.style.display;\n",
       "    myVizzu_79d1a11.parentNode.parentNode.style.display = \"none\";\n",
       "    chart_edd9400 = chart_edd9400.then(chart => {\n",
       "        if (myVizzu_edd9400.parentNode && myVizzu_edd9400.parentNode.parentNode) {\n",
       "            myVizzu_edd9400.parentNode.parentNode.style.display = \"none\";\n",
       "        }\n",
       "        myVizzu_79d1a11.parentNode.parentNode.style.display = display_79d1a11;\n",
       "        myVizzu_79d1a11.parentNode.insertBefore(myVizzu_edd9400, myVizzu_79d1a11);\n",
       "        myVizzu_edd9400.scrollIntoView({behavior: \"auto\", block: \"center\"});\n",
       "        return chart.animate({\"data\": {\"filter\": record => { return (parseInt(record.Year) == 1996) }}, \"config\": {\"channels\": {\"y\": {\"set\": [\"Format\"]}, \"x\": {\"set\": [\"Revenue [m$]\"]}, \"label\": {\"set\": [\"Revenue [m$]\"]}, \"color\": {\"set\": [\"Format\"]}}, \"title\": \"Music Revenue by Format - Year by Year 1996\", \"sort\": \"byValue\"}}, {\"duration\": 0.2, \"x\": {\"easing\": \"linear\", \"delay\": 0}, \"y\": {\"delay\": 0}, \"show\": {\"delay\": 0}, \"hide\": {\"delay\": 0}, \"title\": {\"duration\": 0, \"delay\": 0}});\n",
       "    });\n",
       "</script>"
      ]
     },
     "metadata": {},
     "output_type": "display_data"
    },
    {
     "data": {
      "text/html": [
       "<script id=\"myVizzu_62cffe0\">\n",
       "    let display_62cffe0 = myVizzu_62cffe0.parentNode.parentNode.style.display;\n",
       "    myVizzu_62cffe0.parentNode.parentNode.style.display = \"none\";\n",
       "    chart_edd9400 = chart_edd9400.then(chart => {\n",
       "        if (myVizzu_edd9400.parentNode && myVizzu_edd9400.parentNode.parentNode) {\n",
       "            myVizzu_edd9400.parentNode.parentNode.style.display = \"none\";\n",
       "        }\n",
       "        myVizzu_62cffe0.parentNode.parentNode.style.display = display_62cffe0;\n",
       "        myVizzu_62cffe0.parentNode.insertBefore(myVizzu_edd9400, myVizzu_62cffe0);\n",
       "        myVizzu_edd9400.scrollIntoView({behavior: \"auto\", block: \"center\"});\n",
       "        return chart.animate({\"data\": {\"filter\": record => { return (parseInt(record.Year) == 1997) }}, \"config\": {\"channels\": {\"y\": {\"set\": [\"Format\"]}, \"x\": {\"set\": [\"Revenue [m$]\"]}, \"label\": {\"set\": [\"Revenue [m$]\"]}, \"color\": {\"set\": [\"Format\"]}}, \"title\": \"Music Revenue by Format - Year by Year 1997\", \"sort\": \"byValue\"}}, {\"duration\": 0.2, \"x\": {\"easing\": \"linear\", \"delay\": 0}, \"y\": {\"delay\": 0}, \"show\": {\"delay\": 0}, \"hide\": {\"delay\": 0}, \"title\": {\"duration\": 0, \"delay\": 0}});\n",
       "    });\n",
       "</script>"
      ]
     },
     "metadata": {},
     "output_type": "display_data"
    },
    {
     "data": {
      "text/html": [
       "<script id=\"myVizzu_c4256f9\">\n",
       "    let display_c4256f9 = myVizzu_c4256f9.parentNode.parentNode.style.display;\n",
       "    myVizzu_c4256f9.parentNode.parentNode.style.display = \"none\";\n",
       "    chart_edd9400 = chart_edd9400.then(chart => {\n",
       "        if (myVizzu_edd9400.parentNode && myVizzu_edd9400.parentNode.parentNode) {\n",
       "            myVizzu_edd9400.parentNode.parentNode.style.display = \"none\";\n",
       "        }\n",
       "        myVizzu_c4256f9.parentNode.parentNode.style.display = display_c4256f9;\n",
       "        myVizzu_c4256f9.parentNode.insertBefore(myVizzu_edd9400, myVizzu_c4256f9);\n",
       "        myVizzu_edd9400.scrollIntoView({behavior: \"auto\", block: \"center\"});\n",
       "        return chart.animate({\"data\": {\"filter\": record => { return (parseInt(record.Year) == 1998) }}, \"config\": {\"channels\": {\"y\": {\"set\": [\"Format\"]}, \"x\": {\"set\": [\"Revenue [m$]\"]}, \"label\": {\"set\": [\"Revenue [m$]\"]}, \"color\": {\"set\": [\"Format\"]}}, \"title\": \"Music Revenue by Format - Year by Year 1998\", \"sort\": \"byValue\"}}, {\"duration\": 0.2, \"x\": {\"easing\": \"linear\", \"delay\": 0}, \"y\": {\"delay\": 0}, \"show\": {\"delay\": 0}, \"hide\": {\"delay\": 0}, \"title\": {\"duration\": 0, \"delay\": 0}});\n",
       "    });\n",
       "</script>"
      ]
     },
     "metadata": {},
     "output_type": "display_data"
    },
    {
     "data": {
      "text/html": [
       "<script id=\"myVizzu_e50241a\">\n",
       "    let display_e50241a = myVizzu_e50241a.parentNode.parentNode.style.display;\n",
       "    myVizzu_e50241a.parentNode.parentNode.style.display = \"none\";\n",
       "    chart_edd9400 = chart_edd9400.then(chart => {\n",
       "        if (myVizzu_edd9400.parentNode && myVizzu_edd9400.parentNode.parentNode) {\n",
       "            myVizzu_edd9400.parentNode.parentNode.style.display = \"none\";\n",
       "        }\n",
       "        myVizzu_e50241a.parentNode.parentNode.style.display = display_e50241a;\n",
       "        myVizzu_e50241a.parentNode.insertBefore(myVizzu_edd9400, myVizzu_e50241a);\n",
       "        myVizzu_edd9400.scrollIntoView({behavior: \"auto\", block: \"center\"});\n",
       "        return chart.animate({\"data\": {\"filter\": record => { return (parseInt(record.Year) == 1999) }}, \"config\": {\"channels\": {\"y\": {\"set\": [\"Format\"]}, \"x\": {\"set\": [\"Revenue [m$]\"]}, \"label\": {\"set\": [\"Revenue [m$]\"]}, \"color\": {\"set\": [\"Format\"]}}, \"title\": \"Music Revenue by Format - Year by Year 1999\", \"sort\": \"byValue\"}}, {\"duration\": 0.2, \"x\": {\"easing\": \"linear\", \"delay\": 0}, \"y\": {\"delay\": 0}, \"show\": {\"delay\": 0}, \"hide\": {\"delay\": 0}, \"title\": {\"duration\": 0, \"delay\": 0}});\n",
       "    });\n",
       "</script>"
      ]
     },
     "metadata": {},
     "output_type": "display_data"
    },
    {
     "data": {
      "text/html": [
       "<script id=\"myVizzu_753d7fb\">\n",
       "    let display_753d7fb = myVizzu_753d7fb.parentNode.parentNode.style.display;\n",
       "    myVizzu_753d7fb.parentNode.parentNode.style.display = \"none\";\n",
       "    chart_edd9400 = chart_edd9400.then(chart => {\n",
       "        if (myVizzu_edd9400.parentNode && myVizzu_edd9400.parentNode.parentNode) {\n",
       "            myVizzu_edd9400.parentNode.parentNode.style.display = \"none\";\n",
       "        }\n",
       "        myVizzu_753d7fb.parentNode.parentNode.style.display = display_753d7fb;\n",
       "        myVizzu_753d7fb.parentNode.insertBefore(myVizzu_edd9400, myVizzu_753d7fb);\n",
       "        myVizzu_edd9400.scrollIntoView({behavior: \"auto\", block: \"center\"});\n",
       "        return chart.animate({\"data\": {\"filter\": record => { return (parseInt(record.Year) == 2000) }}, \"config\": {\"channels\": {\"y\": {\"set\": [\"Format\"]}, \"x\": {\"set\": [\"Revenue [m$]\"]}, \"label\": {\"set\": [\"Revenue [m$]\"]}, \"color\": {\"set\": [\"Format\"]}}, \"title\": \"Music Revenue by Format - Year by Year 2000\", \"sort\": \"byValue\"}}, {\"duration\": 0.2, \"x\": {\"easing\": \"linear\", \"delay\": 0}, \"y\": {\"delay\": 0}, \"show\": {\"delay\": 0}, \"hide\": {\"delay\": 0}, \"title\": {\"duration\": 0, \"delay\": 0}});\n",
       "    });\n",
       "</script>"
      ]
     },
     "metadata": {},
     "output_type": "display_data"
    },
    {
     "data": {
      "text/html": [
       "<script id=\"myVizzu_6bb4c0f\">\n",
       "    let display_6bb4c0f = myVizzu_6bb4c0f.parentNode.parentNode.style.display;\n",
       "    myVizzu_6bb4c0f.parentNode.parentNode.style.display = \"none\";\n",
       "    chart_edd9400 = chart_edd9400.then(chart => {\n",
       "        if (myVizzu_edd9400.parentNode && myVizzu_edd9400.parentNode.parentNode) {\n",
       "            myVizzu_edd9400.parentNode.parentNode.style.display = \"none\";\n",
       "        }\n",
       "        myVizzu_6bb4c0f.parentNode.parentNode.style.display = display_6bb4c0f;\n",
       "        myVizzu_6bb4c0f.parentNode.insertBefore(myVizzu_edd9400, myVizzu_6bb4c0f);\n",
       "        myVizzu_edd9400.scrollIntoView({behavior: \"auto\", block: \"center\"});\n",
       "        return chart.animate({\"data\": {\"filter\": record => { return (parseInt(record.Year) == 2001) }}, \"config\": {\"channels\": {\"y\": {\"set\": [\"Format\"]}, \"x\": {\"set\": [\"Revenue [m$]\"]}, \"label\": {\"set\": [\"Revenue [m$]\"]}, \"color\": {\"set\": [\"Format\"]}}, \"title\": \"Music Revenue by Format - Year by Year 2001\", \"sort\": \"byValue\"}}, {\"duration\": 0.2, \"x\": {\"easing\": \"linear\", \"delay\": 0}, \"y\": {\"delay\": 0}, \"show\": {\"delay\": 0}, \"hide\": {\"delay\": 0}, \"title\": {\"duration\": 0, \"delay\": 0}});\n",
       "    });\n",
       "</script>"
      ]
     },
     "metadata": {},
     "output_type": "display_data"
    },
    {
     "data": {
      "text/html": [
       "<script id=\"myVizzu_fb92265\">\n",
       "    let display_fb92265 = myVizzu_fb92265.parentNode.parentNode.style.display;\n",
       "    myVizzu_fb92265.parentNode.parentNode.style.display = \"none\";\n",
       "    chart_edd9400 = chart_edd9400.then(chart => {\n",
       "        if (myVizzu_edd9400.parentNode && myVizzu_edd9400.parentNode.parentNode) {\n",
       "            myVizzu_edd9400.parentNode.parentNode.style.display = \"none\";\n",
       "        }\n",
       "        myVizzu_fb92265.parentNode.parentNode.style.display = display_fb92265;\n",
       "        myVizzu_fb92265.parentNode.insertBefore(myVizzu_edd9400, myVizzu_fb92265);\n",
       "        myVizzu_edd9400.scrollIntoView({behavior: \"auto\", block: \"center\"});\n",
       "        return chart.animate({\"data\": {\"filter\": record => { return (parseInt(record.Year) == 2002) }}, \"config\": {\"channels\": {\"y\": {\"set\": [\"Format\"]}, \"x\": {\"set\": [\"Revenue [m$]\"]}, \"label\": {\"set\": [\"Revenue [m$]\"]}, \"color\": {\"set\": [\"Format\"]}}, \"title\": \"Music Revenue by Format - Year by Year 2002\", \"sort\": \"byValue\"}}, {\"duration\": 0.2, \"x\": {\"easing\": \"linear\", \"delay\": 0}, \"y\": {\"delay\": 0}, \"show\": {\"delay\": 0}, \"hide\": {\"delay\": 0}, \"title\": {\"duration\": 0, \"delay\": 0}});\n",
       "    });\n",
       "</script>"
      ]
     },
     "metadata": {},
     "output_type": "display_data"
    },
    {
     "data": {
      "text/html": [
       "<script id=\"myVizzu_81f02cc\">\n",
       "    let display_81f02cc = myVizzu_81f02cc.parentNode.parentNode.style.display;\n",
       "    myVizzu_81f02cc.parentNode.parentNode.style.display = \"none\";\n",
       "    chart_edd9400 = chart_edd9400.then(chart => {\n",
       "        if (myVizzu_edd9400.parentNode && myVizzu_edd9400.parentNode.parentNode) {\n",
       "            myVizzu_edd9400.parentNode.parentNode.style.display = \"none\";\n",
       "        }\n",
       "        myVizzu_81f02cc.parentNode.parentNode.style.display = display_81f02cc;\n",
       "        myVizzu_81f02cc.parentNode.insertBefore(myVizzu_edd9400, myVizzu_81f02cc);\n",
       "        myVizzu_edd9400.scrollIntoView({behavior: \"auto\", block: \"center\"});\n",
       "        return chart.animate({\"data\": {\"filter\": record => { return (parseInt(record.Year) == 2003) }}, \"config\": {\"channels\": {\"y\": {\"set\": [\"Format\"]}, \"x\": {\"set\": [\"Revenue [m$]\"]}, \"label\": {\"set\": [\"Revenue [m$]\"]}, \"color\": {\"set\": [\"Format\"]}}, \"title\": \"Music Revenue by Format - Year by Year 2003\", \"sort\": \"byValue\"}}, {\"duration\": 0.2, \"x\": {\"easing\": \"linear\", \"delay\": 0}, \"y\": {\"delay\": 0}, \"show\": {\"delay\": 0}, \"hide\": {\"delay\": 0}, \"title\": {\"duration\": 0, \"delay\": 0}});\n",
       "    });\n",
       "</script>"
      ]
     },
     "metadata": {},
     "output_type": "display_data"
    },
    {
     "data": {
      "text/html": [
       "<script id=\"myVizzu_ce11d2d\">\n",
       "    let display_ce11d2d = myVizzu_ce11d2d.parentNode.parentNode.style.display;\n",
       "    myVizzu_ce11d2d.parentNode.parentNode.style.display = \"none\";\n",
       "    chart_edd9400 = chart_edd9400.then(chart => {\n",
       "        if (myVizzu_edd9400.parentNode && myVizzu_edd9400.parentNode.parentNode) {\n",
       "            myVizzu_edd9400.parentNode.parentNode.style.display = \"none\";\n",
       "        }\n",
       "        myVizzu_ce11d2d.parentNode.parentNode.style.display = display_ce11d2d;\n",
       "        myVizzu_ce11d2d.parentNode.insertBefore(myVizzu_edd9400, myVizzu_ce11d2d);\n",
       "        myVizzu_edd9400.scrollIntoView({behavior: \"auto\", block: \"center\"});\n",
       "        return chart.animate({\"data\": {\"filter\": record => { return (parseInt(record.Year) == 2004) }}, \"config\": {\"channels\": {\"y\": {\"set\": [\"Format\"]}, \"x\": {\"set\": [\"Revenue [m$]\"]}, \"label\": {\"set\": [\"Revenue [m$]\"]}, \"color\": {\"set\": [\"Format\"]}}, \"title\": \"Music Revenue by Format - Year by Year 2004\", \"sort\": \"byValue\"}}, {\"duration\": 0.2, \"x\": {\"easing\": \"linear\", \"delay\": 0}, \"y\": {\"delay\": 0}, \"show\": {\"delay\": 0}, \"hide\": {\"delay\": 0}, \"title\": {\"duration\": 0, \"delay\": 0}});\n",
       "    });\n",
       "</script>"
      ]
     },
     "metadata": {},
     "output_type": "display_data"
    },
    {
     "data": {
      "text/html": [
       "<script id=\"myVizzu_b1c5c43\">\n",
       "    let display_b1c5c43 = myVizzu_b1c5c43.parentNode.parentNode.style.display;\n",
       "    myVizzu_b1c5c43.parentNode.parentNode.style.display = \"none\";\n",
       "    chart_edd9400 = chart_edd9400.then(chart => {\n",
       "        if (myVizzu_edd9400.parentNode && myVizzu_edd9400.parentNode.parentNode) {\n",
       "            myVizzu_edd9400.parentNode.parentNode.style.display = \"none\";\n",
       "        }\n",
       "        myVizzu_b1c5c43.parentNode.parentNode.style.display = display_b1c5c43;\n",
       "        myVizzu_b1c5c43.parentNode.insertBefore(myVizzu_edd9400, myVizzu_b1c5c43);\n",
       "        myVizzu_edd9400.scrollIntoView({behavior: \"auto\", block: \"center\"});\n",
       "        return chart.animate({\"data\": {\"filter\": record => { return (parseInt(record.Year) == 2005) }}, \"config\": {\"channels\": {\"y\": {\"set\": [\"Format\"]}, \"x\": {\"set\": [\"Revenue [m$]\"]}, \"label\": {\"set\": [\"Revenue [m$]\"]}, \"color\": {\"set\": [\"Format\"]}}, \"title\": \"Music Revenue by Format - Year by Year 2005\", \"sort\": \"byValue\"}}, {\"duration\": 0.2, \"x\": {\"easing\": \"linear\", \"delay\": 0}, \"y\": {\"delay\": 0}, \"show\": {\"delay\": 0}, \"hide\": {\"delay\": 0}, \"title\": {\"duration\": 0, \"delay\": 0}});\n",
       "    });\n",
       "</script>"
      ]
     },
     "metadata": {},
     "output_type": "display_data"
    },
    {
     "data": {
      "text/html": [
       "<script id=\"myVizzu_c2a976b\">\n",
       "    let display_c2a976b = myVizzu_c2a976b.parentNode.parentNode.style.display;\n",
       "    myVizzu_c2a976b.parentNode.parentNode.style.display = \"none\";\n",
       "    chart_edd9400 = chart_edd9400.then(chart => {\n",
       "        if (myVizzu_edd9400.parentNode && myVizzu_edd9400.parentNode.parentNode) {\n",
       "            myVizzu_edd9400.parentNode.parentNode.style.display = \"none\";\n",
       "        }\n",
       "        myVizzu_c2a976b.parentNode.parentNode.style.display = display_c2a976b;\n",
       "        myVizzu_c2a976b.parentNode.insertBefore(myVizzu_edd9400, myVizzu_c2a976b);\n",
       "        myVizzu_edd9400.scrollIntoView({behavior: \"auto\", block: \"center\"});\n",
       "        return chart.animate({\"data\": {\"filter\": record => { return (parseInt(record.Year) == 2006) }}, \"config\": {\"channels\": {\"y\": {\"set\": [\"Format\"]}, \"x\": {\"set\": [\"Revenue [m$]\"]}, \"label\": {\"set\": [\"Revenue [m$]\"]}, \"color\": {\"set\": [\"Format\"]}}, \"title\": \"Music Revenue by Format - Year by Year 2006\", \"sort\": \"byValue\"}}, {\"duration\": 0.2, \"x\": {\"easing\": \"linear\", \"delay\": 0}, \"y\": {\"delay\": 0}, \"show\": {\"delay\": 0}, \"hide\": {\"delay\": 0}, \"title\": {\"duration\": 0, \"delay\": 0}});\n",
       "    });\n",
       "</script>"
      ]
     },
     "metadata": {},
     "output_type": "display_data"
    },
    {
     "data": {
      "text/html": [
       "<script id=\"myVizzu_df5d119\">\n",
       "    let display_df5d119 = myVizzu_df5d119.parentNode.parentNode.style.display;\n",
       "    myVizzu_df5d119.parentNode.parentNode.style.display = \"none\";\n",
       "    chart_edd9400 = chart_edd9400.then(chart => {\n",
       "        if (myVizzu_edd9400.parentNode && myVizzu_edd9400.parentNode.parentNode) {\n",
       "            myVizzu_edd9400.parentNode.parentNode.style.display = \"none\";\n",
       "        }\n",
       "        myVizzu_df5d119.parentNode.parentNode.style.display = display_df5d119;\n",
       "        myVizzu_df5d119.parentNode.insertBefore(myVizzu_edd9400, myVizzu_df5d119);\n",
       "        myVizzu_edd9400.scrollIntoView({behavior: \"auto\", block: \"center\"});\n",
       "        return chart.animate({\"data\": {\"filter\": record => { return (parseInt(record.Year) == 2007) }}, \"config\": {\"channels\": {\"y\": {\"set\": [\"Format\"]}, \"x\": {\"set\": [\"Revenue [m$]\"]}, \"label\": {\"set\": [\"Revenue [m$]\"]}, \"color\": {\"set\": [\"Format\"]}}, \"title\": \"Music Revenue by Format - Year by Year 2007\", \"sort\": \"byValue\"}}, {\"duration\": 0.2, \"x\": {\"easing\": \"linear\", \"delay\": 0}, \"y\": {\"delay\": 0}, \"show\": {\"delay\": 0}, \"hide\": {\"delay\": 0}, \"title\": {\"duration\": 0, \"delay\": 0}});\n",
       "    });\n",
       "</script>"
      ]
     },
     "metadata": {},
     "output_type": "display_data"
    },
    {
     "data": {
      "text/html": [
       "<script id=\"myVizzu_4d9382f\">\n",
       "    let display_4d9382f = myVizzu_4d9382f.parentNode.parentNode.style.display;\n",
       "    myVizzu_4d9382f.parentNode.parentNode.style.display = \"none\";\n",
       "    chart_edd9400 = chart_edd9400.then(chart => {\n",
       "        if (myVizzu_edd9400.parentNode && myVizzu_edd9400.parentNode.parentNode) {\n",
       "            myVizzu_edd9400.parentNode.parentNode.style.display = \"none\";\n",
       "        }\n",
       "        myVizzu_4d9382f.parentNode.parentNode.style.display = display_4d9382f;\n",
       "        myVizzu_4d9382f.parentNode.insertBefore(myVizzu_edd9400, myVizzu_4d9382f);\n",
       "        myVizzu_edd9400.scrollIntoView({behavior: \"auto\", block: \"center\"});\n",
       "        return chart.animate({\"data\": {\"filter\": record => { return (parseInt(record.Year) == 2008) }}, \"config\": {\"channels\": {\"y\": {\"set\": [\"Format\"]}, \"x\": {\"set\": [\"Revenue [m$]\"]}, \"label\": {\"set\": [\"Revenue [m$]\"]}, \"color\": {\"set\": [\"Format\"]}}, \"title\": \"Music Revenue by Format - Year by Year 2008\", \"sort\": \"byValue\"}}, {\"duration\": 0.2, \"x\": {\"easing\": \"linear\", \"delay\": 0}, \"y\": {\"delay\": 0}, \"show\": {\"delay\": 0}, \"hide\": {\"delay\": 0}, \"title\": {\"duration\": 0, \"delay\": 0}});\n",
       "    });\n",
       "</script>"
      ]
     },
     "metadata": {},
     "output_type": "display_data"
    },
    {
     "data": {
      "text/html": [
       "<script id=\"myVizzu_3876ea1\">\n",
       "    let display_3876ea1 = myVizzu_3876ea1.parentNode.parentNode.style.display;\n",
       "    myVizzu_3876ea1.parentNode.parentNode.style.display = \"none\";\n",
       "    chart_edd9400 = chart_edd9400.then(chart => {\n",
       "        if (myVizzu_edd9400.parentNode && myVizzu_edd9400.parentNode.parentNode) {\n",
       "            myVizzu_edd9400.parentNode.parentNode.style.display = \"none\";\n",
       "        }\n",
       "        myVizzu_3876ea1.parentNode.parentNode.style.display = display_3876ea1;\n",
       "        myVizzu_3876ea1.parentNode.insertBefore(myVizzu_edd9400, myVizzu_3876ea1);\n",
       "        myVizzu_edd9400.scrollIntoView({behavior: \"auto\", block: \"center\"});\n",
       "        return chart.animate({\"data\": {\"filter\": record => { return (parseInt(record.Year) == 2009) }}, \"config\": {\"channels\": {\"y\": {\"set\": [\"Format\"]}, \"x\": {\"set\": [\"Revenue [m$]\"]}, \"label\": {\"set\": [\"Revenue [m$]\"]}, \"color\": {\"set\": [\"Format\"]}}, \"title\": \"Music Revenue by Format - Year by Year 2009\", \"sort\": \"byValue\"}}, {\"duration\": 0.2, \"x\": {\"easing\": \"linear\", \"delay\": 0}, \"y\": {\"delay\": 0}, \"show\": {\"delay\": 0}, \"hide\": {\"delay\": 0}, \"title\": {\"duration\": 0, \"delay\": 0}});\n",
       "    });\n",
       "</script>"
      ]
     },
     "metadata": {},
     "output_type": "display_data"
    },
    {
     "data": {
      "text/html": [
       "<script id=\"myVizzu_d599f09\">\n",
       "    let display_d599f09 = myVizzu_d599f09.parentNode.parentNode.style.display;\n",
       "    myVizzu_d599f09.parentNode.parentNode.style.display = \"none\";\n",
       "    chart_edd9400 = chart_edd9400.then(chart => {\n",
       "        if (myVizzu_edd9400.parentNode && myVizzu_edd9400.parentNode.parentNode) {\n",
       "            myVizzu_edd9400.parentNode.parentNode.style.display = \"none\";\n",
       "        }\n",
       "        myVizzu_d599f09.parentNode.parentNode.style.display = display_d599f09;\n",
       "        myVizzu_d599f09.parentNode.insertBefore(myVizzu_edd9400, myVizzu_d599f09);\n",
       "        myVizzu_edd9400.scrollIntoView({behavior: \"auto\", block: \"center\"});\n",
       "        return chart.animate({\"data\": {\"filter\": record => { return (parseInt(record.Year) == 2010) }}, \"config\": {\"channels\": {\"y\": {\"set\": [\"Format\"]}, \"x\": {\"set\": [\"Revenue [m$]\"]}, \"label\": {\"set\": [\"Revenue [m$]\"]}, \"color\": {\"set\": [\"Format\"]}}, \"title\": \"Music Revenue by Format - Year by Year 2010\", \"sort\": \"byValue\"}}, {\"duration\": 0.2, \"x\": {\"easing\": \"linear\", \"delay\": 0}, \"y\": {\"delay\": 0}, \"show\": {\"delay\": 0}, \"hide\": {\"delay\": 0}, \"title\": {\"duration\": 0, \"delay\": 0}});\n",
       "    });\n",
       "</script>"
      ]
     },
     "metadata": {},
     "output_type": "display_data"
    },
    {
     "data": {
      "text/html": [
       "<script id=\"myVizzu_ce28ed5\">\n",
       "    let display_ce28ed5 = myVizzu_ce28ed5.parentNode.parentNode.style.display;\n",
       "    myVizzu_ce28ed5.parentNode.parentNode.style.display = \"none\";\n",
       "    chart_edd9400 = chart_edd9400.then(chart => {\n",
       "        if (myVizzu_edd9400.parentNode && myVizzu_edd9400.parentNode.parentNode) {\n",
       "            myVizzu_edd9400.parentNode.parentNode.style.display = \"none\";\n",
       "        }\n",
       "        myVizzu_ce28ed5.parentNode.parentNode.style.display = display_ce28ed5;\n",
       "        myVizzu_ce28ed5.parentNode.insertBefore(myVizzu_edd9400, myVizzu_ce28ed5);\n",
       "        myVizzu_edd9400.scrollIntoView({behavior: \"auto\", block: \"center\"});\n",
       "        return chart.animate({\"data\": {\"filter\": record => { return (parseInt(record.Year) == 2011) }}, \"config\": {\"channels\": {\"y\": {\"set\": [\"Format\"]}, \"x\": {\"set\": [\"Revenue [m$]\"]}, \"label\": {\"set\": [\"Revenue [m$]\"]}, \"color\": {\"set\": [\"Format\"]}}, \"title\": \"Music Revenue by Format - Year by Year 2011\", \"sort\": \"byValue\"}}, {\"duration\": 0.2, \"x\": {\"easing\": \"linear\", \"delay\": 0}, \"y\": {\"delay\": 0}, \"show\": {\"delay\": 0}, \"hide\": {\"delay\": 0}, \"title\": {\"duration\": 0, \"delay\": 0}});\n",
       "    });\n",
       "</script>"
      ]
     },
     "metadata": {},
     "output_type": "display_data"
    },
    {
     "data": {
      "text/html": [
       "<script id=\"myVizzu_f3a6259\">\n",
       "    let display_f3a6259 = myVizzu_f3a6259.parentNode.parentNode.style.display;\n",
       "    myVizzu_f3a6259.parentNode.parentNode.style.display = \"none\";\n",
       "    chart_edd9400 = chart_edd9400.then(chart => {\n",
       "        if (myVizzu_edd9400.parentNode && myVizzu_edd9400.parentNode.parentNode) {\n",
       "            myVizzu_edd9400.parentNode.parentNode.style.display = \"none\";\n",
       "        }\n",
       "        myVizzu_f3a6259.parentNode.parentNode.style.display = display_f3a6259;\n",
       "        myVizzu_f3a6259.parentNode.insertBefore(myVizzu_edd9400, myVizzu_f3a6259);\n",
       "        myVizzu_edd9400.scrollIntoView({behavior: \"auto\", block: \"center\"});\n",
       "        return chart.animate({\"data\": {\"filter\": record => { return (parseInt(record.Year) == 2012) }}, \"config\": {\"channels\": {\"y\": {\"set\": [\"Format\"]}, \"x\": {\"set\": [\"Revenue [m$]\"]}, \"label\": {\"set\": [\"Revenue [m$]\"]}, \"color\": {\"set\": [\"Format\"]}}, \"title\": \"Music Revenue by Format - Year by Year 2012\", \"sort\": \"byValue\"}}, {\"duration\": 0.2, \"x\": {\"easing\": \"linear\", \"delay\": 0}, \"y\": {\"delay\": 0}, \"show\": {\"delay\": 0}, \"hide\": {\"delay\": 0}, \"title\": {\"duration\": 0, \"delay\": 0}});\n",
       "    });\n",
       "</script>"
      ]
     },
     "metadata": {},
     "output_type": "display_data"
    },
    {
     "data": {
      "text/html": [
       "<script id=\"myVizzu_ddab484\">\n",
       "    let display_ddab484 = myVizzu_ddab484.parentNode.parentNode.style.display;\n",
       "    myVizzu_ddab484.parentNode.parentNode.style.display = \"none\";\n",
       "    chart_edd9400 = chart_edd9400.then(chart => {\n",
       "        if (myVizzu_edd9400.parentNode && myVizzu_edd9400.parentNode.parentNode) {\n",
       "            myVizzu_edd9400.parentNode.parentNode.style.display = \"none\";\n",
       "        }\n",
       "        myVizzu_ddab484.parentNode.parentNode.style.display = display_ddab484;\n",
       "        myVizzu_ddab484.parentNode.insertBefore(myVizzu_edd9400, myVizzu_ddab484);\n",
       "        myVizzu_edd9400.scrollIntoView({behavior: \"auto\", block: \"center\"});\n",
       "        return chart.animate({\"data\": {\"filter\": record => { return (parseInt(record.Year) == 2013) }}, \"config\": {\"channels\": {\"y\": {\"set\": [\"Format\"]}, \"x\": {\"set\": [\"Revenue [m$]\"]}, \"label\": {\"set\": [\"Revenue [m$]\"]}, \"color\": {\"set\": [\"Format\"]}}, \"title\": \"Music Revenue by Format - Year by Year 2013\", \"sort\": \"byValue\"}}, {\"duration\": 0.2, \"x\": {\"easing\": \"linear\", \"delay\": 0}, \"y\": {\"delay\": 0}, \"show\": {\"delay\": 0}, \"hide\": {\"delay\": 0}, \"title\": {\"duration\": 0, \"delay\": 0}});\n",
       "    });\n",
       "</script>"
      ]
     },
     "metadata": {},
     "output_type": "display_data"
    },
    {
     "data": {
      "text/html": [
       "<script id=\"myVizzu_40c7e24\">\n",
       "    let display_40c7e24 = myVizzu_40c7e24.parentNode.parentNode.style.display;\n",
       "    myVizzu_40c7e24.parentNode.parentNode.style.display = \"none\";\n",
       "    chart_edd9400 = chart_edd9400.then(chart => {\n",
       "        if (myVizzu_edd9400.parentNode && myVizzu_edd9400.parentNode.parentNode) {\n",
       "            myVizzu_edd9400.parentNode.parentNode.style.display = \"none\";\n",
       "        }\n",
       "        myVizzu_40c7e24.parentNode.parentNode.style.display = display_40c7e24;\n",
       "        myVizzu_40c7e24.parentNode.insertBefore(myVizzu_edd9400, myVizzu_40c7e24);\n",
       "        myVizzu_edd9400.scrollIntoView({behavior: \"auto\", block: \"center\"});\n",
       "        return chart.animate({\"data\": {\"filter\": record => { return (parseInt(record.Year) == 2014) }}, \"config\": {\"channels\": {\"y\": {\"set\": [\"Format\"]}, \"x\": {\"set\": [\"Revenue [m$]\"]}, \"label\": {\"set\": [\"Revenue [m$]\"]}, \"color\": {\"set\": [\"Format\"]}}, \"title\": \"Music Revenue by Format - Year by Year 2014\", \"sort\": \"byValue\"}}, {\"duration\": 0.2, \"x\": {\"easing\": \"linear\", \"delay\": 0}, \"y\": {\"delay\": 0}, \"show\": {\"delay\": 0}, \"hide\": {\"delay\": 0}, \"title\": {\"duration\": 0, \"delay\": 0}});\n",
       "    });\n",
       "</script>"
      ]
     },
     "metadata": {},
     "output_type": "display_data"
    },
    {
     "data": {
      "text/html": [
       "<script id=\"myVizzu_bd01081\">\n",
       "    let display_bd01081 = myVizzu_bd01081.parentNode.parentNode.style.display;\n",
       "    myVizzu_bd01081.parentNode.parentNode.style.display = \"none\";\n",
       "    chart_edd9400 = chart_edd9400.then(chart => {\n",
       "        if (myVizzu_edd9400.parentNode && myVizzu_edd9400.parentNode.parentNode) {\n",
       "            myVizzu_edd9400.parentNode.parentNode.style.display = \"none\";\n",
       "        }\n",
       "        myVizzu_bd01081.parentNode.parentNode.style.display = display_bd01081;\n",
       "        myVizzu_bd01081.parentNode.insertBefore(myVizzu_edd9400, myVizzu_bd01081);\n",
       "        myVizzu_edd9400.scrollIntoView({behavior: \"auto\", block: \"center\"});\n",
       "        return chart.animate({\"data\": {\"filter\": record => { return (parseInt(record.Year) == 2015) }}, \"config\": {\"channels\": {\"y\": {\"set\": [\"Format\"]}, \"x\": {\"set\": [\"Revenue [m$]\"]}, \"label\": {\"set\": [\"Revenue [m$]\"]}, \"color\": {\"set\": [\"Format\"]}}, \"title\": \"Music Revenue by Format - Year by Year 2015\", \"sort\": \"byValue\"}}, {\"duration\": 0.2, \"x\": {\"easing\": \"linear\", \"delay\": 0}, \"y\": {\"delay\": 0}, \"show\": {\"delay\": 0}, \"hide\": {\"delay\": 0}, \"title\": {\"duration\": 0, \"delay\": 0}});\n",
       "    });\n",
       "</script>"
      ]
     },
     "metadata": {},
     "output_type": "display_data"
    },
    {
     "data": {
      "text/html": [
       "<script id=\"myVizzu_b8b44b5\">\n",
       "    let display_b8b44b5 = myVizzu_b8b44b5.parentNode.parentNode.style.display;\n",
       "    myVizzu_b8b44b5.parentNode.parentNode.style.display = \"none\";\n",
       "    chart_edd9400 = chart_edd9400.then(chart => {\n",
       "        if (myVizzu_edd9400.parentNode && myVizzu_edd9400.parentNode.parentNode) {\n",
       "            myVizzu_edd9400.parentNode.parentNode.style.display = \"none\";\n",
       "        }\n",
       "        myVizzu_b8b44b5.parentNode.parentNode.style.display = display_b8b44b5;\n",
       "        myVizzu_b8b44b5.parentNode.insertBefore(myVizzu_edd9400, myVizzu_b8b44b5);\n",
       "        myVizzu_edd9400.scrollIntoView({behavior: \"auto\", block: \"center\"});\n",
       "        return chart.animate({\"data\": {\"filter\": record => { return (parseInt(record.Year) == 2016) }}, \"config\": {\"channels\": {\"y\": {\"set\": [\"Format\"]}, \"x\": {\"set\": [\"Revenue [m$]\"]}, \"label\": {\"set\": [\"Revenue [m$]\"]}, \"color\": {\"set\": [\"Format\"]}}, \"title\": \"Music Revenue by Format - Year by Year 2016\", \"sort\": \"byValue\"}}, {\"duration\": 0.2, \"x\": {\"easing\": \"linear\", \"delay\": 0}, \"y\": {\"delay\": 0}, \"show\": {\"delay\": 0}, \"hide\": {\"delay\": 0}, \"title\": {\"duration\": 0, \"delay\": 0}});\n",
       "    });\n",
       "</script>"
      ]
     },
     "metadata": {},
     "output_type": "display_data"
    },
    {
     "data": {
      "text/html": [
       "<script id=\"myVizzu_3473104\">\n",
       "    let display_3473104 = myVizzu_3473104.parentNode.parentNode.style.display;\n",
       "    myVizzu_3473104.parentNode.parentNode.style.display = \"none\";\n",
       "    chart_edd9400 = chart_edd9400.then(chart => {\n",
       "        if (myVizzu_edd9400.parentNode && myVizzu_edd9400.parentNode.parentNode) {\n",
       "            myVizzu_edd9400.parentNode.parentNode.style.display = \"none\";\n",
       "        }\n",
       "        myVizzu_3473104.parentNode.parentNode.style.display = display_3473104;\n",
       "        myVizzu_3473104.parentNode.insertBefore(myVizzu_edd9400, myVizzu_3473104);\n",
       "        myVizzu_edd9400.scrollIntoView({behavior: \"auto\", block: \"center\"});\n",
       "        return chart.animate({\"data\": {\"filter\": record => { return (parseInt(record.Year) == 2017) }}, \"config\": {\"channels\": {\"y\": {\"set\": [\"Format\"]}, \"x\": {\"set\": [\"Revenue [m$]\"]}, \"label\": {\"set\": [\"Revenue [m$]\"]}, \"color\": {\"set\": [\"Format\"]}}, \"title\": \"Music Revenue by Format - Year by Year 2017\", \"sort\": \"byValue\"}}, {\"duration\": 0.2, \"x\": {\"easing\": \"linear\", \"delay\": 0}, \"y\": {\"delay\": 0}, \"show\": {\"delay\": 0}, \"hide\": {\"delay\": 0}, \"title\": {\"duration\": 0, \"delay\": 0}});\n",
       "    });\n",
       "</script>"
      ]
     },
     "metadata": {},
     "output_type": "display_data"
    },
    {
     "data": {
      "text/html": [
       "<script id=\"myVizzu_8bb77da\">\n",
       "    let display_8bb77da = myVizzu_8bb77da.parentNode.parentNode.style.display;\n",
       "    myVizzu_8bb77da.parentNode.parentNode.style.display = \"none\";\n",
       "    chart_edd9400 = chart_edd9400.then(chart => {\n",
       "        if (myVizzu_edd9400.parentNode && myVizzu_edd9400.parentNode.parentNode) {\n",
       "            myVizzu_edd9400.parentNode.parentNode.style.display = \"none\";\n",
       "        }\n",
       "        myVizzu_8bb77da.parentNode.parentNode.style.display = display_8bb77da;\n",
       "        myVizzu_8bb77da.parentNode.insertBefore(myVizzu_edd9400, myVizzu_8bb77da);\n",
       "        myVizzu_edd9400.scrollIntoView({behavior: \"auto\", block: \"center\"});\n",
       "        return chart.animate({\"data\": {\"filter\": record => { return (parseInt(record.Year) == 2018) }}, \"config\": {\"channels\": {\"y\": {\"set\": [\"Format\"]}, \"x\": {\"set\": [\"Revenue [m$]\"]}, \"label\": {\"set\": [\"Revenue [m$]\"]}, \"color\": {\"set\": [\"Format\"]}}, \"title\": \"Music Revenue by Format - Year by Year 2018\", \"sort\": \"byValue\"}}, {\"duration\": 0.2, \"x\": {\"easing\": \"linear\", \"delay\": 0}, \"y\": {\"delay\": 0}, \"show\": {\"delay\": 0}, \"hide\": {\"delay\": 0}, \"title\": {\"duration\": 0, \"delay\": 0}});\n",
       "    });\n",
       "</script>"
      ]
     },
     "metadata": {},
     "output_type": "display_data"
    },
    {
     "data": {
      "text/html": [
       "<script id=\"myVizzu_efb2107\">\n",
       "    let display_efb2107 = myVizzu_efb2107.parentNode.parentNode.style.display;\n",
       "    myVizzu_efb2107.parentNode.parentNode.style.display = \"none\";\n",
       "    chart_edd9400 = chart_edd9400.then(chart => {\n",
       "        if (myVizzu_edd9400.parentNode && myVizzu_edd9400.parentNode.parentNode) {\n",
       "            myVizzu_edd9400.parentNode.parentNode.style.display = \"none\";\n",
       "        }\n",
       "        myVizzu_efb2107.parentNode.parentNode.style.display = display_efb2107;\n",
       "        myVizzu_efb2107.parentNode.insertBefore(myVizzu_edd9400, myVizzu_efb2107);\n",
       "        myVizzu_edd9400.scrollIntoView({behavior: \"auto\", block: \"center\"});\n",
       "        return chart.animate({\"data\": {\"filter\": record => { return (parseInt(record.Year) == 2019) }}, \"config\": {\"channels\": {\"y\": {\"set\": [\"Format\"]}, \"x\": {\"set\": [\"Revenue [m$]\"]}, \"label\": {\"set\": [\"Revenue [m$]\"]}, \"color\": {\"set\": [\"Format\"]}}, \"title\": \"Music Revenue by Format - Year by Year 2019\", \"sort\": \"byValue\"}}, {\"duration\": 0.2, \"x\": {\"easing\": \"linear\", \"delay\": 0}, \"y\": {\"delay\": 0}, \"show\": {\"delay\": 0}, \"hide\": {\"delay\": 0}, \"title\": {\"duration\": 0, \"delay\": 0}});\n",
       "    });\n",
       "</script>"
      ]
     },
     "metadata": {},
     "output_type": "display_data"
    },
    {
     "data": {
      "text/html": [
       "<script id=\"myVizzu_981129a\">\n",
       "    let display_981129a = myVizzu_981129a.parentNode.parentNode.style.display;\n",
       "    myVizzu_981129a.parentNode.parentNode.style.display = \"none\";\n",
       "    chart_edd9400 = chart_edd9400.then(chart => {\n",
       "        if (myVizzu_edd9400.parentNode && myVizzu_edd9400.parentNode.parentNode) {\n",
       "            myVizzu_edd9400.parentNode.parentNode.style.display = \"none\";\n",
       "        }\n",
       "        myVizzu_981129a.parentNode.parentNode.style.display = display_981129a;\n",
       "        myVizzu_981129a.parentNode.insertBefore(myVizzu_edd9400, myVizzu_981129a);\n",
       "        myVizzu_edd9400.scrollIntoView({behavior: \"auto\", block: \"center\"});\n",
       "        return chart.animate({\"data\": {\"filter\": record => { return (parseInt(record.Year) == 2020) }}, \"config\": {\"channels\": {\"y\": {\"set\": [\"Format\"]}, \"x\": {\"set\": [\"Revenue [m$]\"]}, \"label\": {\"set\": [\"Revenue [m$]\"]}, \"color\": {\"set\": [\"Format\"]}}, \"title\": \"Music Revenue by Format - Year by Year 2020\", \"sort\": \"byValue\"}}, {\"duration\": 0.2, \"x\": {\"easing\": \"linear\", \"delay\": 0}, \"y\": {\"delay\": 0}, \"show\": {\"delay\": 0}, \"hide\": {\"delay\": 0}, \"title\": {\"duration\": 0, \"delay\": 0}});\n",
       "    });\n",
       "</script>"
      ]
     },
     "metadata": {},
     "output_type": "display_data"
    }
   ],
   "source": [
    "import pandas as pd\n",
    "from ipyvizzu import Chart, Data, Config, Style\n",
    "\n",
    "data_frame = pd.read_csv('./data.csv')\n",
    "data = Data()\n",
    "data.add_data_frame(data_frame, infer_types={\"Year\": \"dimension\"})\n",
    "\n",
    "config = Config({\n",
    "    \"channels\": {\n",
    "        \"y\": { \"set\": [\"Format\"], },\n",
    "        \"x\": { \"set\": [\"Revenue [m$]\"] },\n",
    "        \"label\": { \"set\": [\"Revenue [m$]\"] },\n",
    "        \"color\": { \"set\": [\"Format\"] }\n",
    "    },\n",
    "    \"title\": 'Music Revenue by Format - Year by Year     ',\n",
    "    \"sort\": 'byValue'\n",
    "})\n",
    "\n",
    "style = Style({\n",
    "    \"fontSize\": 12.5,\n",
    "    \"title\":\n",
    "    {\n",
    "        \"fontWeight\": 200\n",
    "    },\n",
    "    \"plot\": {\n",
    "        \"paddingLeft\": 100,\n",
    "        \"paddingTop\": 25,\n",
    "        \"yAxis\": {\n",
    "            \"color\": \"#ffffff00\",\n",
    "            \"label\": {\n",
    "                \"paddingRight\": 10\n",
    "            },\n",
    "        },\n",
    "        \"xAxis\": {\n",
    "            \"title\": { \"color\": \"#ffffff00\" },\n",
    "            \"label\": { \"color\": \"#ffffff00\", \"numberFormat\": \"grouped\" }\n",
    "        },\n",
    "        \"marker\": {\n",
    "            \"colorPalette\": '#b74c20FF #c47f58FF #1c9761FF #ea4549FF #875792FF #3562b6FF #ee7c34FF #efae3aFF'\n",
    "        }\n",
    "    }\n",
    "})\n",
    "\n",
    "chart = Chart(width=\"640px\", height=\"=360px\")\n",
    "\n",
    "chart.animate(data, style)\n",
    "\n",
    "for year in range(1973, 2021):\n",
    "    config[\"title\"] = f\"Music Revenue by Format - Year by Year {year}\";\n",
    "    chart.animate(\n",
    "        Data.filter(f\"parseInt(record.Year) == {year}\"),\n",
    "        config,\n",
    "        duration = 0.2,\n",
    "        x = { \"easing\": \"linear\", \"delay\": 0 },\n",
    "        y = { \"delay\": 0 },\n",
    "        show = { \"delay\": 0 },\n",
    "        hide = { \"delay\": 0 },\n",
    "        title = { \"duration\": 0, \"delay\": 0 }\n",
    "    )"
   ]
  },
  {
   "cell_type": "code",
   "execution_count": 2,
   "metadata": {},
   "outputs": [
    {
     "data": {
      "text/html": [
       "<script id=\"myVizzu_6324549\">\n",
       "    let display_6324549 = myVizzu_6324549.parentNode.parentNode.style.display;\n",
       "    myVizzu_6324549.parentNode.parentNode.style.display = \"none\";\n",
       "    chart_edd9400 = chart_edd9400.then(chart => {\n",
       "        if (myVizzu_edd9400.parentNode && myVizzu_edd9400.parentNode.parentNode) {\n",
       "            myVizzu_edd9400.parentNode.parentNode.style.display = \"none\";\n",
       "        }\n",
       "        myVizzu_6324549.parentNode.parentNode.style.display = display_6324549;\n",
       "        myVizzu_6324549.parentNode.insertBefore(myVizzu_edd9400, myVizzu_6324549);\n",
       "        myVizzu_edd9400.scrollIntoView({behavior: \"auto\", block: \"center\"});\n",
       "        return chart.animate({\"config\": {\"channels\": {\"x\": {\"attach\": [\"Year\"]}, \"label\": {\"set\": null}}}}, {\"duration\": 0.3});\n",
       "    });\n",
       "</script>"
      ]
     },
     "metadata": {},
     "output_type": "display_data"
    },
    {
     "data": {
      "text/html": [
       "<script id=\"myVizzu_d1eb132\">\n",
       "    let display_d1eb132 = myVizzu_d1eb132.parentNode.parentNode.style.display;\n",
       "    myVizzu_d1eb132.parentNode.parentNode.style.display = \"none\";\n",
       "    chart_edd9400 = chart_edd9400.then(chart => {\n",
       "        if (myVizzu_edd9400.parentNode && myVizzu_edd9400.parentNode.parentNode) {\n",
       "            myVizzu_edd9400.parentNode.parentNode.style.display = \"none\";\n",
       "        }\n",
       "        myVizzu_d1eb132.parentNode.parentNode.style.display = display_d1eb132;\n",
       "        myVizzu_d1eb132.parentNode.insertBefore(myVizzu_edd9400, myVizzu_d1eb132);\n",
       "        myVizzu_edd9400.scrollIntoView({behavior: \"auto\", block: \"center\"});\n",
       "        return chart.animate({\"data\": {\"filter\": record => { return (record.Year == '2020' || record.Year == '1972') }}, \"config\": {\"title\": \"Lets see the total of the last 47 years\"}}, {\"duration\": 2});\n",
       "    });\n",
       "</script>"
      ]
     },
     "metadata": {},
     "output_type": "display_data"
    },
    {
     "data": {
      "text/html": [
       "<script id=\"myVizzu_b187f49\">\n",
       "    let display_b187f49 = myVizzu_b187f49.parentNode.parentNode.style.display;\n",
       "    myVizzu_b187f49.parentNode.parentNode.style.display = \"none\";\n",
       "    chart_edd9400 = chart_edd9400.then(chart => {\n",
       "        if (myVizzu_edd9400.parentNode && myVizzu_edd9400.parentNode.parentNode) {\n",
       "            myVizzu_edd9400.parentNode.parentNode.style.display = \"none\";\n",
       "        }\n",
       "        myVizzu_b187f49.parentNode.parentNode.style.display = display_b187f49;\n",
       "        myVizzu_b187f49.parentNode.insertBefore(myVizzu_edd9400, myVizzu_b187f49);\n",
       "        myVizzu_edd9400.scrollIntoView({behavior: \"auto\", block: \"center\"});\n",
       "        return chart.animate({\"config\": {\"sort\": \"none\"}}, {\"delay\": 0, \"duration\": 2});\n",
       "    });\n",
       "</script>"
      ]
     },
     "metadata": {},
     "output_type": "display_data"
    },
    {
     "data": {
      "text/html": [
       "<script id=\"myVizzu_ce1c031\">\n",
       "    let display_ce1c031 = myVizzu_ce1c031.parentNode.parentNode.style.display;\n",
       "    myVizzu_ce1c031.parentNode.parentNode.style.display = \"none\";\n",
       "    chart_edd9400 = chart_edd9400.then(chart => {\n",
       "        if (myVizzu_edd9400.parentNode && myVizzu_edd9400.parentNode.parentNode) {\n",
       "            myVizzu_edd9400.parentNode.parentNode.style.display = \"none\";\n",
       "        }\n",
       "        myVizzu_ce1c031.parentNode.parentNode.style.display = display_ce1c031;\n",
       "        myVizzu_ce1c031.parentNode.insertBefore(myVizzu_edd9400, myVizzu_ce1c031);\n",
       "        myVizzu_edd9400.scrollIntoView({behavior: \"auto\", block: \"center\"});\n",
       "        return chart.animate({\"data\": {\"filter\": record => { return (parseInt(record.Year) >= 2019 || record.Year == '1972') }}, \"config\": {\"split\": true}, \"style\": {\"plot.xAxis.interlacing.color\": \"#ffffff\"}}, {\"duration\": 0.005});\n",
       "    });\n",
       "</script>"
      ]
     },
     "metadata": {},
     "output_type": "display_data"
    },
    {
     "data": {
      "text/html": [
       "<script id=\"myVizzu_16c3565\">\n",
       "    let display_16c3565 = myVizzu_16c3565.parentNode.parentNode.style.display;\n",
       "    myVizzu_16c3565.parentNode.parentNode.style.display = \"none\";\n",
       "    chart_edd9400 = chart_edd9400.then(chart => {\n",
       "        if (myVizzu_edd9400.parentNode && myVizzu_edd9400.parentNode.parentNode) {\n",
       "            myVizzu_edd9400.parentNode.parentNode.style.display = \"none\";\n",
       "        }\n",
       "        myVizzu_16c3565.parentNode.parentNode.style.display = display_16c3565;\n",
       "        myVizzu_16c3565.parentNode.insertBefore(myVizzu_edd9400, myVizzu_16c3565);\n",
       "        myVizzu_edd9400.scrollIntoView({behavior: \"auto\", block: \"center\"});\n",
       "        return chart.animate({\"data\": {\"filter\": record => { return (parseInt(record.Year) >= 2018 || record.Year == '1972') }}, \"config\": {\"split\": true}, \"style\": {\"plot.xAxis.interlacing.color\": \"#ffffff\"}}, {\"duration\": 0.005});\n",
       "    });\n",
       "</script>"
      ]
     },
     "metadata": {},
     "output_type": "display_data"
    },
    {
     "data": {
      "text/html": [
       "<script id=\"myVizzu_e6b2551\">\n",
       "    let display_e6b2551 = myVizzu_e6b2551.parentNode.parentNode.style.display;\n",
       "    myVizzu_e6b2551.parentNode.parentNode.style.display = \"none\";\n",
       "    chart_edd9400 = chart_edd9400.then(chart => {\n",
       "        if (myVizzu_edd9400.parentNode && myVizzu_edd9400.parentNode.parentNode) {\n",
       "            myVizzu_edd9400.parentNode.parentNode.style.display = \"none\";\n",
       "        }\n",
       "        myVizzu_e6b2551.parentNode.parentNode.style.display = display_e6b2551;\n",
       "        myVizzu_e6b2551.parentNode.insertBefore(myVizzu_edd9400, myVizzu_e6b2551);\n",
       "        myVizzu_edd9400.scrollIntoView({behavior: \"auto\", block: \"center\"});\n",
       "        return chart.animate({\"data\": {\"filter\": record => { return (parseInt(record.Year) >= 2017 || record.Year == '1972') }}, \"config\": {\"split\": true}, \"style\": {\"plot.xAxis.interlacing.color\": \"#ffffff\"}}, {\"duration\": 0.005});\n",
       "    });\n",
       "</script>"
      ]
     },
     "metadata": {},
     "output_type": "display_data"
    },
    {
     "data": {
      "text/html": [
       "<script id=\"myVizzu_6fee2af\">\n",
       "    let display_6fee2af = myVizzu_6fee2af.parentNode.parentNode.style.display;\n",
       "    myVizzu_6fee2af.parentNode.parentNode.style.display = \"none\";\n",
       "    chart_edd9400 = chart_edd9400.then(chart => {\n",
       "        if (myVizzu_edd9400.parentNode && myVizzu_edd9400.parentNode.parentNode) {\n",
       "            myVizzu_edd9400.parentNode.parentNode.style.display = \"none\";\n",
       "        }\n",
       "        myVizzu_6fee2af.parentNode.parentNode.style.display = display_6fee2af;\n",
       "        myVizzu_6fee2af.parentNode.insertBefore(myVizzu_edd9400, myVizzu_6fee2af);\n",
       "        myVizzu_edd9400.scrollIntoView({behavior: \"auto\", block: \"center\"});\n",
       "        return chart.animate({\"data\": {\"filter\": record => { return (parseInt(record.Year) >= 2016 || record.Year == '1972') }}, \"config\": {\"split\": true}, \"style\": {\"plot.xAxis.interlacing.color\": \"#ffffff\"}}, {\"duration\": 0.005});\n",
       "    });\n",
       "</script>"
      ]
     },
     "metadata": {},
     "output_type": "display_data"
    },
    {
     "data": {
      "text/html": [
       "<script id=\"myVizzu_1e22a09\">\n",
       "    let display_1e22a09 = myVizzu_1e22a09.parentNode.parentNode.style.display;\n",
       "    myVizzu_1e22a09.parentNode.parentNode.style.display = \"none\";\n",
       "    chart_edd9400 = chart_edd9400.then(chart => {\n",
       "        if (myVizzu_edd9400.parentNode && myVizzu_edd9400.parentNode.parentNode) {\n",
       "            myVizzu_edd9400.parentNode.parentNode.style.display = \"none\";\n",
       "        }\n",
       "        myVizzu_1e22a09.parentNode.parentNode.style.display = display_1e22a09;\n",
       "        myVizzu_1e22a09.parentNode.insertBefore(myVizzu_edd9400, myVizzu_1e22a09);\n",
       "        myVizzu_edd9400.scrollIntoView({behavior: \"auto\", block: \"center\"});\n",
       "        return chart.animate({\"data\": {\"filter\": record => { return (parseInt(record.Year) >= 2015 || record.Year == '1972') }}, \"config\": {\"split\": true}, \"style\": {\"plot.xAxis.interlacing.color\": \"#ffffff\"}}, {\"duration\": 0.005});\n",
       "    });\n",
       "</script>"
      ]
     },
     "metadata": {},
     "output_type": "display_data"
    },
    {
     "data": {
      "text/html": [
       "<script id=\"myVizzu_acff859\">\n",
       "    let display_acff859 = myVizzu_acff859.parentNode.parentNode.style.display;\n",
       "    myVizzu_acff859.parentNode.parentNode.style.display = \"none\";\n",
       "    chart_edd9400 = chart_edd9400.then(chart => {\n",
       "        if (myVizzu_edd9400.parentNode && myVizzu_edd9400.parentNode.parentNode) {\n",
       "            myVizzu_edd9400.parentNode.parentNode.style.display = \"none\";\n",
       "        }\n",
       "        myVizzu_acff859.parentNode.parentNode.style.display = display_acff859;\n",
       "        myVizzu_acff859.parentNode.insertBefore(myVizzu_edd9400, myVizzu_acff859);\n",
       "        myVizzu_edd9400.scrollIntoView({behavior: \"auto\", block: \"center\"});\n",
       "        return chart.animate({\"data\": {\"filter\": record => { return (parseInt(record.Year) >= 2014 || record.Year == '1972') }}, \"config\": {\"split\": true}, \"style\": {\"plot.xAxis.interlacing.color\": \"#ffffff\"}}, {\"duration\": 0.005});\n",
       "    });\n",
       "</script>"
      ]
     },
     "metadata": {},
     "output_type": "display_data"
    },
    {
     "data": {
      "text/html": [
       "<script id=\"myVizzu_6dbe607\">\n",
       "    let display_6dbe607 = myVizzu_6dbe607.parentNode.parentNode.style.display;\n",
       "    myVizzu_6dbe607.parentNode.parentNode.style.display = \"none\";\n",
       "    chart_edd9400 = chart_edd9400.then(chart => {\n",
       "        if (myVizzu_edd9400.parentNode && myVizzu_edd9400.parentNode.parentNode) {\n",
       "            myVizzu_edd9400.parentNode.parentNode.style.display = \"none\";\n",
       "        }\n",
       "        myVizzu_6dbe607.parentNode.parentNode.style.display = display_6dbe607;\n",
       "        myVizzu_6dbe607.parentNode.insertBefore(myVizzu_edd9400, myVizzu_6dbe607);\n",
       "        myVizzu_edd9400.scrollIntoView({behavior: \"auto\", block: \"center\"});\n",
       "        return chart.animate({\"data\": {\"filter\": record => { return (parseInt(record.Year) >= 2013 || record.Year == '1972') }}, \"config\": {\"split\": true}, \"style\": {\"plot.xAxis.interlacing.color\": \"#ffffff\"}}, {\"duration\": 0.005});\n",
       "    });\n",
       "</script>"
      ]
     },
     "metadata": {},
     "output_type": "display_data"
    },
    {
     "data": {
      "text/html": [
       "<script id=\"myVizzu_f5f4deb\">\n",
       "    let display_f5f4deb = myVizzu_f5f4deb.parentNode.parentNode.style.display;\n",
       "    myVizzu_f5f4deb.parentNode.parentNode.style.display = \"none\";\n",
       "    chart_edd9400 = chart_edd9400.then(chart => {\n",
       "        if (myVizzu_edd9400.parentNode && myVizzu_edd9400.parentNode.parentNode) {\n",
       "            myVizzu_edd9400.parentNode.parentNode.style.display = \"none\";\n",
       "        }\n",
       "        myVizzu_f5f4deb.parentNode.parentNode.style.display = display_f5f4deb;\n",
       "        myVizzu_f5f4deb.parentNode.insertBefore(myVizzu_edd9400, myVizzu_f5f4deb);\n",
       "        myVizzu_edd9400.scrollIntoView({behavior: \"auto\", block: \"center\"});\n",
       "        return chart.animate({\"data\": {\"filter\": record => { return (parseInt(record.Year) >= 2012 || record.Year == '1972') }}, \"config\": {\"split\": true}, \"style\": {\"plot.xAxis.interlacing.color\": \"#ffffff\"}}, {\"duration\": 0.005});\n",
       "    });\n",
       "</script>"
      ]
     },
     "metadata": {},
     "output_type": "display_data"
    },
    {
     "data": {
      "text/html": [
       "<script id=\"myVizzu_3c680ce\">\n",
       "    let display_3c680ce = myVizzu_3c680ce.parentNode.parentNode.style.display;\n",
       "    myVizzu_3c680ce.parentNode.parentNode.style.display = \"none\";\n",
       "    chart_edd9400 = chart_edd9400.then(chart => {\n",
       "        if (myVizzu_edd9400.parentNode && myVizzu_edd9400.parentNode.parentNode) {\n",
       "            myVizzu_edd9400.parentNode.parentNode.style.display = \"none\";\n",
       "        }\n",
       "        myVizzu_3c680ce.parentNode.parentNode.style.display = display_3c680ce;\n",
       "        myVizzu_3c680ce.parentNode.insertBefore(myVizzu_edd9400, myVizzu_3c680ce);\n",
       "        myVizzu_edd9400.scrollIntoView({behavior: \"auto\", block: \"center\"});\n",
       "        return chart.animate({\"data\": {\"filter\": record => { return (parseInt(record.Year) >= 2011 || record.Year == '1972') }}, \"config\": {\"split\": true}, \"style\": {\"plot.xAxis.interlacing.color\": \"#ffffff\"}}, {\"duration\": 0.005});\n",
       "    });\n",
       "</script>"
      ]
     },
     "metadata": {},
     "output_type": "display_data"
    },
    {
     "data": {
      "text/html": [
       "<script id=\"myVizzu_ac8c82a\">\n",
       "    let display_ac8c82a = myVizzu_ac8c82a.parentNode.parentNode.style.display;\n",
       "    myVizzu_ac8c82a.parentNode.parentNode.style.display = \"none\";\n",
       "    chart_edd9400 = chart_edd9400.then(chart => {\n",
       "        if (myVizzu_edd9400.parentNode && myVizzu_edd9400.parentNode.parentNode) {\n",
       "            myVizzu_edd9400.parentNode.parentNode.style.display = \"none\";\n",
       "        }\n",
       "        myVizzu_ac8c82a.parentNode.parentNode.style.display = display_ac8c82a;\n",
       "        myVizzu_ac8c82a.parentNode.insertBefore(myVizzu_edd9400, myVizzu_ac8c82a);\n",
       "        myVizzu_edd9400.scrollIntoView({behavior: \"auto\", block: \"center\"});\n",
       "        return chart.animate({\"data\": {\"filter\": record => { return (parseInt(record.Year) >= 2010 || record.Year == '1972') }}, \"config\": {\"split\": true}, \"style\": {\"plot.xAxis.interlacing.color\": \"#ffffff\"}}, {\"duration\": 0.005});\n",
       "    });\n",
       "</script>"
      ]
     },
     "metadata": {},
     "output_type": "display_data"
    },
    {
     "data": {
      "text/html": [
       "<script id=\"myVizzu_2d1e3ee\">\n",
       "    let display_2d1e3ee = myVizzu_2d1e3ee.parentNode.parentNode.style.display;\n",
       "    myVizzu_2d1e3ee.parentNode.parentNode.style.display = \"none\";\n",
       "    chart_edd9400 = chart_edd9400.then(chart => {\n",
       "        if (myVizzu_edd9400.parentNode && myVizzu_edd9400.parentNode.parentNode) {\n",
       "            myVizzu_edd9400.parentNode.parentNode.style.display = \"none\";\n",
       "        }\n",
       "        myVizzu_2d1e3ee.parentNode.parentNode.style.display = display_2d1e3ee;\n",
       "        myVizzu_2d1e3ee.parentNode.insertBefore(myVizzu_edd9400, myVizzu_2d1e3ee);\n",
       "        myVizzu_edd9400.scrollIntoView({behavior: \"auto\", block: \"center\"});\n",
       "        return chart.animate({\"data\": {\"filter\": record => { return (parseInt(record.Year) >= 2009 || record.Year == '1972') }}, \"config\": {\"split\": true}, \"style\": {\"plot.xAxis.interlacing.color\": \"#ffffff\"}}, {\"duration\": 0.005});\n",
       "    });\n",
       "</script>"
      ]
     },
     "metadata": {},
     "output_type": "display_data"
    },
    {
     "data": {
      "text/html": [
       "<script id=\"myVizzu_1cfa388\">\n",
       "    let display_1cfa388 = myVizzu_1cfa388.parentNode.parentNode.style.display;\n",
       "    myVizzu_1cfa388.parentNode.parentNode.style.display = \"none\";\n",
       "    chart_edd9400 = chart_edd9400.then(chart => {\n",
       "        if (myVizzu_edd9400.parentNode && myVizzu_edd9400.parentNode.parentNode) {\n",
       "            myVizzu_edd9400.parentNode.parentNode.style.display = \"none\";\n",
       "        }\n",
       "        myVizzu_1cfa388.parentNode.parentNode.style.display = display_1cfa388;\n",
       "        myVizzu_1cfa388.parentNode.insertBefore(myVizzu_edd9400, myVizzu_1cfa388);\n",
       "        myVizzu_edd9400.scrollIntoView({behavior: \"auto\", block: \"center\"});\n",
       "        return chart.animate({\"data\": {\"filter\": record => { return (parseInt(record.Year) >= 2008 || record.Year == '1972') }}, \"config\": {\"split\": true}, \"style\": {\"plot.xAxis.interlacing.color\": \"#ffffff\"}}, {\"duration\": 0.005});\n",
       "    });\n",
       "</script>"
      ]
     },
     "metadata": {},
     "output_type": "display_data"
    },
    {
     "data": {
      "text/html": [
       "<script id=\"myVizzu_115f899\">\n",
       "    let display_115f899 = myVizzu_115f899.parentNode.parentNode.style.display;\n",
       "    myVizzu_115f899.parentNode.parentNode.style.display = \"none\";\n",
       "    chart_edd9400 = chart_edd9400.then(chart => {\n",
       "        if (myVizzu_edd9400.parentNode && myVizzu_edd9400.parentNode.parentNode) {\n",
       "            myVizzu_edd9400.parentNode.parentNode.style.display = \"none\";\n",
       "        }\n",
       "        myVizzu_115f899.parentNode.parentNode.style.display = display_115f899;\n",
       "        myVizzu_115f899.parentNode.insertBefore(myVizzu_edd9400, myVizzu_115f899);\n",
       "        myVizzu_edd9400.scrollIntoView({behavior: \"auto\", block: \"center\"});\n",
       "        return chart.animate({\"data\": {\"filter\": record => { return (parseInt(record.Year) >= 2007 || record.Year == '1972') }}, \"config\": {\"split\": true}, \"style\": {\"plot.xAxis.interlacing.color\": \"#ffffff\"}}, {\"duration\": 0.005});\n",
       "    });\n",
       "</script>"
      ]
     },
     "metadata": {},
     "output_type": "display_data"
    },
    {
     "data": {
      "text/html": [
       "<script id=\"myVizzu_5363c71\">\n",
       "    let display_5363c71 = myVizzu_5363c71.parentNode.parentNode.style.display;\n",
       "    myVizzu_5363c71.parentNode.parentNode.style.display = \"none\";\n",
       "    chart_edd9400 = chart_edd9400.then(chart => {\n",
       "        if (myVizzu_edd9400.parentNode && myVizzu_edd9400.parentNode.parentNode) {\n",
       "            myVizzu_edd9400.parentNode.parentNode.style.display = \"none\";\n",
       "        }\n",
       "        myVizzu_5363c71.parentNode.parentNode.style.display = display_5363c71;\n",
       "        myVizzu_5363c71.parentNode.insertBefore(myVizzu_edd9400, myVizzu_5363c71);\n",
       "        myVizzu_edd9400.scrollIntoView({behavior: \"auto\", block: \"center\"});\n",
       "        return chart.animate({\"data\": {\"filter\": record => { return (parseInt(record.Year) >= 2006 || record.Year == '1972') }}, \"config\": {\"split\": true}, \"style\": {\"plot.xAxis.interlacing.color\": \"#ffffff\"}}, {\"duration\": 0.005});\n",
       "    });\n",
       "</script>"
      ]
     },
     "metadata": {},
     "output_type": "display_data"
    },
    {
     "data": {
      "text/html": [
       "<script id=\"myVizzu_7b9c6f7\">\n",
       "    let display_7b9c6f7 = myVizzu_7b9c6f7.parentNode.parentNode.style.display;\n",
       "    myVizzu_7b9c6f7.parentNode.parentNode.style.display = \"none\";\n",
       "    chart_edd9400 = chart_edd9400.then(chart => {\n",
       "        if (myVizzu_edd9400.parentNode && myVizzu_edd9400.parentNode.parentNode) {\n",
       "            myVizzu_edd9400.parentNode.parentNode.style.display = \"none\";\n",
       "        }\n",
       "        myVizzu_7b9c6f7.parentNode.parentNode.style.display = display_7b9c6f7;\n",
       "        myVizzu_7b9c6f7.parentNode.insertBefore(myVizzu_edd9400, myVizzu_7b9c6f7);\n",
       "        myVizzu_edd9400.scrollIntoView({behavior: \"auto\", block: \"center\"});\n",
       "        return chart.animate({\"data\": {\"filter\": record => { return (parseInt(record.Year) >= 2005 || record.Year == '1972') }}, \"config\": {\"split\": true}, \"style\": {\"plot.xAxis.interlacing.color\": \"#ffffff\"}}, {\"duration\": 0.005});\n",
       "    });\n",
       "</script>"
      ]
     },
     "metadata": {},
     "output_type": "display_data"
    },
    {
     "data": {
      "text/html": [
       "<script id=\"myVizzu_1d09158\">\n",
       "    let display_1d09158 = myVizzu_1d09158.parentNode.parentNode.style.display;\n",
       "    myVizzu_1d09158.parentNode.parentNode.style.display = \"none\";\n",
       "    chart_edd9400 = chart_edd9400.then(chart => {\n",
       "        if (myVizzu_edd9400.parentNode && myVizzu_edd9400.parentNode.parentNode) {\n",
       "            myVizzu_edd9400.parentNode.parentNode.style.display = \"none\";\n",
       "        }\n",
       "        myVizzu_1d09158.parentNode.parentNode.style.display = display_1d09158;\n",
       "        myVizzu_1d09158.parentNode.insertBefore(myVizzu_edd9400, myVizzu_1d09158);\n",
       "        myVizzu_edd9400.scrollIntoView({behavior: \"auto\", block: \"center\"});\n",
       "        return chart.animate({\"data\": {\"filter\": record => { return (parseInt(record.Year) >= 2004 || record.Year == '1972') }}, \"config\": {\"split\": true}, \"style\": {\"plot.xAxis.interlacing.color\": \"#ffffff\"}}, {\"duration\": 0.005});\n",
       "    });\n",
       "</script>"
      ]
     },
     "metadata": {},
     "output_type": "display_data"
    },
    {
     "data": {
      "text/html": [
       "<script id=\"myVizzu_eb1b6b6\">\n",
       "    let display_eb1b6b6 = myVizzu_eb1b6b6.parentNode.parentNode.style.display;\n",
       "    myVizzu_eb1b6b6.parentNode.parentNode.style.display = \"none\";\n",
       "    chart_edd9400 = chart_edd9400.then(chart => {\n",
       "        if (myVizzu_edd9400.parentNode && myVizzu_edd9400.parentNode.parentNode) {\n",
       "            myVizzu_edd9400.parentNode.parentNode.style.display = \"none\";\n",
       "        }\n",
       "        myVizzu_eb1b6b6.parentNode.parentNode.style.display = display_eb1b6b6;\n",
       "        myVizzu_eb1b6b6.parentNode.insertBefore(myVizzu_edd9400, myVizzu_eb1b6b6);\n",
       "        myVizzu_edd9400.scrollIntoView({behavior: \"auto\", block: \"center\"});\n",
       "        return chart.animate({\"data\": {\"filter\": record => { return (parseInt(record.Year) >= 2003 || record.Year == '1972') }}, \"config\": {\"split\": true}, \"style\": {\"plot.xAxis.interlacing.color\": \"#ffffff\"}}, {\"duration\": 0.005});\n",
       "    });\n",
       "</script>"
      ]
     },
     "metadata": {},
     "output_type": "display_data"
    },
    {
     "data": {
      "text/html": [
       "<script id=\"myVizzu_83e5766\">\n",
       "    let display_83e5766 = myVizzu_83e5766.parentNode.parentNode.style.display;\n",
       "    myVizzu_83e5766.parentNode.parentNode.style.display = \"none\";\n",
       "    chart_edd9400 = chart_edd9400.then(chart => {\n",
       "        if (myVizzu_edd9400.parentNode && myVizzu_edd9400.parentNode.parentNode) {\n",
       "            myVizzu_edd9400.parentNode.parentNode.style.display = \"none\";\n",
       "        }\n",
       "        myVizzu_83e5766.parentNode.parentNode.style.display = display_83e5766;\n",
       "        myVizzu_83e5766.parentNode.insertBefore(myVizzu_edd9400, myVizzu_83e5766);\n",
       "        myVizzu_edd9400.scrollIntoView({behavior: \"auto\", block: \"center\"});\n",
       "        return chart.animate({\"data\": {\"filter\": record => { return (parseInt(record.Year) >= 2002 || record.Year == '1972') }}, \"config\": {\"split\": true}, \"style\": {\"plot.xAxis.interlacing.color\": \"#ffffff\"}}, {\"duration\": 0.005});\n",
       "    });\n",
       "</script>"
      ]
     },
     "metadata": {},
     "output_type": "display_data"
    },
    {
     "data": {
      "text/html": [
       "<script id=\"myVizzu_a3c641a\">\n",
       "    let display_a3c641a = myVizzu_a3c641a.parentNode.parentNode.style.display;\n",
       "    myVizzu_a3c641a.parentNode.parentNode.style.display = \"none\";\n",
       "    chart_edd9400 = chart_edd9400.then(chart => {\n",
       "        if (myVizzu_edd9400.parentNode && myVizzu_edd9400.parentNode.parentNode) {\n",
       "            myVizzu_edd9400.parentNode.parentNode.style.display = \"none\";\n",
       "        }\n",
       "        myVizzu_a3c641a.parentNode.parentNode.style.display = display_a3c641a;\n",
       "        myVizzu_a3c641a.parentNode.insertBefore(myVizzu_edd9400, myVizzu_a3c641a);\n",
       "        myVizzu_edd9400.scrollIntoView({behavior: \"auto\", block: \"center\"});\n",
       "        return chart.animate({\"data\": {\"filter\": record => { return (parseInt(record.Year) >= 2001 || record.Year == '1972') }}, \"config\": {\"split\": true}, \"style\": {\"plot.xAxis.interlacing.color\": \"#ffffff\"}}, {\"duration\": 0.005});\n",
       "    });\n",
       "</script>"
      ]
     },
     "metadata": {},
     "output_type": "display_data"
    },
    {
     "data": {
      "text/html": [
       "<script id=\"myVizzu_cdfc5a2\">\n",
       "    let display_cdfc5a2 = myVizzu_cdfc5a2.parentNode.parentNode.style.display;\n",
       "    myVizzu_cdfc5a2.parentNode.parentNode.style.display = \"none\";\n",
       "    chart_edd9400 = chart_edd9400.then(chart => {\n",
       "        if (myVizzu_edd9400.parentNode && myVizzu_edd9400.parentNode.parentNode) {\n",
       "            myVizzu_edd9400.parentNode.parentNode.style.display = \"none\";\n",
       "        }\n",
       "        myVizzu_cdfc5a2.parentNode.parentNode.style.display = display_cdfc5a2;\n",
       "        myVizzu_cdfc5a2.parentNode.insertBefore(myVizzu_edd9400, myVizzu_cdfc5a2);\n",
       "        myVizzu_edd9400.scrollIntoView({behavior: \"auto\", block: \"center\"});\n",
       "        return chart.animate({\"data\": {\"filter\": record => { return (parseInt(record.Year) >= 2000 || record.Year == '1972') }}, \"config\": {\"split\": true}, \"style\": {\"plot.xAxis.interlacing.color\": \"#ffffff\"}}, {\"duration\": 0.005});\n",
       "    });\n",
       "</script>"
      ]
     },
     "metadata": {},
     "output_type": "display_data"
    },
    {
     "data": {
      "text/html": [
       "<script id=\"myVizzu_acf1b35\">\n",
       "    let display_acf1b35 = myVizzu_acf1b35.parentNode.parentNode.style.display;\n",
       "    myVizzu_acf1b35.parentNode.parentNode.style.display = \"none\";\n",
       "    chart_edd9400 = chart_edd9400.then(chart => {\n",
       "        if (myVizzu_edd9400.parentNode && myVizzu_edd9400.parentNode.parentNode) {\n",
       "            myVizzu_edd9400.parentNode.parentNode.style.display = \"none\";\n",
       "        }\n",
       "        myVizzu_acf1b35.parentNode.parentNode.style.display = display_acf1b35;\n",
       "        myVizzu_acf1b35.parentNode.insertBefore(myVizzu_edd9400, myVizzu_acf1b35);\n",
       "        myVizzu_edd9400.scrollIntoView({behavior: \"auto\", block: \"center\"});\n",
       "        return chart.animate({\"data\": {\"filter\": record => { return (parseInt(record.Year) >= 1999 || record.Year == '1972') }}, \"config\": {\"split\": true}, \"style\": {\"plot.xAxis.interlacing.color\": \"#ffffff\"}}, {\"duration\": 0.005});\n",
       "    });\n",
       "</script>"
      ]
     },
     "metadata": {},
     "output_type": "display_data"
    },
    {
     "data": {
      "text/html": [
       "<script id=\"myVizzu_c04042f\">\n",
       "    let display_c04042f = myVizzu_c04042f.parentNode.parentNode.style.display;\n",
       "    myVizzu_c04042f.parentNode.parentNode.style.display = \"none\";\n",
       "    chart_edd9400 = chart_edd9400.then(chart => {\n",
       "        if (myVizzu_edd9400.parentNode && myVizzu_edd9400.parentNode.parentNode) {\n",
       "            myVizzu_edd9400.parentNode.parentNode.style.display = \"none\";\n",
       "        }\n",
       "        myVizzu_c04042f.parentNode.parentNode.style.display = display_c04042f;\n",
       "        myVizzu_c04042f.parentNode.insertBefore(myVizzu_edd9400, myVizzu_c04042f);\n",
       "        myVizzu_edd9400.scrollIntoView({behavior: \"auto\", block: \"center\"});\n",
       "        return chart.animate({\"data\": {\"filter\": record => { return (parseInt(record.Year) >= 1998 || record.Year == '1972') }}, \"config\": {\"split\": true}, \"style\": {\"plot.xAxis.interlacing.color\": \"#ffffff\"}}, {\"duration\": 0.005});\n",
       "    });\n",
       "</script>"
      ]
     },
     "metadata": {},
     "output_type": "display_data"
    },
    {
     "data": {
      "text/html": [
       "<script id=\"myVizzu_00b3547\">\n",
       "    let display_00b3547 = myVizzu_00b3547.parentNode.parentNode.style.display;\n",
       "    myVizzu_00b3547.parentNode.parentNode.style.display = \"none\";\n",
       "    chart_edd9400 = chart_edd9400.then(chart => {\n",
       "        if (myVizzu_edd9400.parentNode && myVizzu_edd9400.parentNode.parentNode) {\n",
       "            myVizzu_edd9400.parentNode.parentNode.style.display = \"none\";\n",
       "        }\n",
       "        myVizzu_00b3547.parentNode.parentNode.style.display = display_00b3547;\n",
       "        myVizzu_00b3547.parentNode.insertBefore(myVizzu_edd9400, myVizzu_00b3547);\n",
       "        myVizzu_edd9400.scrollIntoView({behavior: \"auto\", block: \"center\"});\n",
       "        return chart.animate({\"data\": {\"filter\": record => { return (parseInt(record.Year) >= 1997 || record.Year == '1972') }}, \"config\": {\"split\": true}, \"style\": {\"plot.xAxis.interlacing.color\": \"#ffffff\"}}, {\"duration\": 0.005});\n",
       "    });\n",
       "</script>"
      ]
     },
     "metadata": {},
     "output_type": "display_data"
    },
    {
     "data": {
      "text/html": [
       "<script id=\"myVizzu_54cf1da\">\n",
       "    let display_54cf1da = myVizzu_54cf1da.parentNode.parentNode.style.display;\n",
       "    myVizzu_54cf1da.parentNode.parentNode.style.display = \"none\";\n",
       "    chart_edd9400 = chart_edd9400.then(chart => {\n",
       "        if (myVizzu_edd9400.parentNode && myVizzu_edd9400.parentNode.parentNode) {\n",
       "            myVizzu_edd9400.parentNode.parentNode.style.display = \"none\";\n",
       "        }\n",
       "        myVizzu_54cf1da.parentNode.parentNode.style.display = display_54cf1da;\n",
       "        myVizzu_54cf1da.parentNode.insertBefore(myVizzu_edd9400, myVizzu_54cf1da);\n",
       "        myVizzu_edd9400.scrollIntoView({behavior: \"auto\", block: \"center\"});\n",
       "        return chart.animate({\"data\": {\"filter\": record => { return (parseInt(record.Year) >= 1996 || record.Year == '1972') }}, \"config\": {\"split\": true}, \"style\": {\"plot.xAxis.interlacing.color\": \"#ffffff\"}}, {\"duration\": 0.005});\n",
       "    });\n",
       "</script>"
      ]
     },
     "metadata": {},
     "output_type": "display_data"
    },
    {
     "data": {
      "text/html": [
       "<script id=\"myVizzu_852bc21\">\n",
       "    let display_852bc21 = myVizzu_852bc21.parentNode.parentNode.style.display;\n",
       "    myVizzu_852bc21.parentNode.parentNode.style.display = \"none\";\n",
       "    chart_edd9400 = chart_edd9400.then(chart => {\n",
       "        if (myVizzu_edd9400.parentNode && myVizzu_edd9400.parentNode.parentNode) {\n",
       "            myVizzu_edd9400.parentNode.parentNode.style.display = \"none\";\n",
       "        }\n",
       "        myVizzu_852bc21.parentNode.parentNode.style.display = display_852bc21;\n",
       "        myVizzu_852bc21.parentNode.insertBefore(myVizzu_edd9400, myVizzu_852bc21);\n",
       "        myVizzu_edd9400.scrollIntoView({behavior: \"auto\", block: \"center\"});\n",
       "        return chart.animate({\"data\": {\"filter\": record => { return (parseInt(record.Year) >= 1995 || record.Year == '1972') }}, \"config\": {\"split\": true}, \"style\": {\"plot.xAxis.interlacing.color\": \"#ffffff\"}}, {\"duration\": 0.005});\n",
       "    });\n",
       "</script>"
      ]
     },
     "metadata": {},
     "output_type": "display_data"
    },
    {
     "data": {
      "text/html": [
       "<script id=\"myVizzu_f2922b3\">\n",
       "    let display_f2922b3 = myVizzu_f2922b3.parentNode.parentNode.style.display;\n",
       "    myVizzu_f2922b3.parentNode.parentNode.style.display = \"none\";\n",
       "    chart_edd9400 = chart_edd9400.then(chart => {\n",
       "        if (myVizzu_edd9400.parentNode && myVizzu_edd9400.parentNode.parentNode) {\n",
       "            myVizzu_edd9400.parentNode.parentNode.style.display = \"none\";\n",
       "        }\n",
       "        myVizzu_f2922b3.parentNode.parentNode.style.display = display_f2922b3;\n",
       "        myVizzu_f2922b3.parentNode.insertBefore(myVizzu_edd9400, myVizzu_f2922b3);\n",
       "        myVizzu_edd9400.scrollIntoView({behavior: \"auto\", block: \"center\"});\n",
       "        return chart.animate({\"data\": {\"filter\": record => { return (parseInt(record.Year) >= 1994 || record.Year == '1972') }}, \"config\": {\"split\": true}, \"style\": {\"plot.xAxis.interlacing.color\": \"#ffffff\"}}, {\"duration\": 0.005});\n",
       "    });\n",
       "</script>"
      ]
     },
     "metadata": {},
     "output_type": "display_data"
    },
    {
     "data": {
      "text/html": [
       "<script id=\"myVizzu_09ba39e\">\n",
       "    let display_09ba39e = myVizzu_09ba39e.parentNode.parentNode.style.display;\n",
       "    myVizzu_09ba39e.parentNode.parentNode.style.display = \"none\";\n",
       "    chart_edd9400 = chart_edd9400.then(chart => {\n",
       "        if (myVizzu_edd9400.parentNode && myVizzu_edd9400.parentNode.parentNode) {\n",
       "            myVizzu_edd9400.parentNode.parentNode.style.display = \"none\";\n",
       "        }\n",
       "        myVizzu_09ba39e.parentNode.parentNode.style.display = display_09ba39e;\n",
       "        myVizzu_09ba39e.parentNode.insertBefore(myVizzu_edd9400, myVizzu_09ba39e);\n",
       "        myVizzu_edd9400.scrollIntoView({behavior: \"auto\", block: \"center\"});\n",
       "        return chart.animate({\"data\": {\"filter\": record => { return (parseInt(record.Year) >= 1993 || record.Year == '1972') }}, \"config\": {\"split\": true}, \"style\": {\"plot.xAxis.interlacing.color\": \"#ffffff\"}}, {\"duration\": 0.005});\n",
       "    });\n",
       "</script>"
      ]
     },
     "metadata": {},
     "output_type": "display_data"
    },
    {
     "data": {
      "text/html": [
       "<script id=\"myVizzu_92a87c6\">\n",
       "    let display_92a87c6 = myVizzu_92a87c6.parentNode.parentNode.style.display;\n",
       "    myVizzu_92a87c6.parentNode.parentNode.style.display = \"none\";\n",
       "    chart_edd9400 = chart_edd9400.then(chart => {\n",
       "        if (myVizzu_edd9400.parentNode && myVizzu_edd9400.parentNode.parentNode) {\n",
       "            myVizzu_edd9400.parentNode.parentNode.style.display = \"none\";\n",
       "        }\n",
       "        myVizzu_92a87c6.parentNode.parentNode.style.display = display_92a87c6;\n",
       "        myVizzu_92a87c6.parentNode.insertBefore(myVizzu_edd9400, myVizzu_92a87c6);\n",
       "        myVizzu_edd9400.scrollIntoView({behavior: \"auto\", block: \"center\"});\n",
       "        return chart.animate({\"data\": {\"filter\": record => { return (parseInt(record.Year) >= 1992 || record.Year == '1972') }}, \"config\": {\"split\": true}, \"style\": {\"plot.xAxis.interlacing.color\": \"#ffffff\"}}, {\"duration\": 0.005});\n",
       "    });\n",
       "</script>"
      ]
     },
     "metadata": {},
     "output_type": "display_data"
    },
    {
     "data": {
      "text/html": [
       "<script id=\"myVizzu_17a3fee\">\n",
       "    let display_17a3fee = myVizzu_17a3fee.parentNode.parentNode.style.display;\n",
       "    myVizzu_17a3fee.parentNode.parentNode.style.display = \"none\";\n",
       "    chart_edd9400 = chart_edd9400.then(chart => {\n",
       "        if (myVizzu_edd9400.parentNode && myVizzu_edd9400.parentNode.parentNode) {\n",
       "            myVizzu_edd9400.parentNode.parentNode.style.display = \"none\";\n",
       "        }\n",
       "        myVizzu_17a3fee.parentNode.parentNode.style.display = display_17a3fee;\n",
       "        myVizzu_17a3fee.parentNode.insertBefore(myVizzu_edd9400, myVizzu_17a3fee);\n",
       "        myVizzu_edd9400.scrollIntoView({behavior: \"auto\", block: \"center\"});\n",
       "        return chart.animate({\"data\": {\"filter\": record => { return (parseInt(record.Year) >= 1991 || record.Year == '1972') }}, \"config\": {\"split\": true}, \"style\": {\"plot.xAxis.interlacing.color\": \"#ffffff\"}}, {\"duration\": 0.005});\n",
       "    });\n",
       "</script>"
      ]
     },
     "metadata": {},
     "output_type": "display_data"
    },
    {
     "data": {
      "text/html": [
       "<script id=\"myVizzu_9629ee0\">\n",
       "    let display_9629ee0 = myVizzu_9629ee0.parentNode.parentNode.style.display;\n",
       "    myVizzu_9629ee0.parentNode.parentNode.style.display = \"none\";\n",
       "    chart_edd9400 = chart_edd9400.then(chart => {\n",
       "        if (myVizzu_edd9400.parentNode && myVizzu_edd9400.parentNode.parentNode) {\n",
       "            myVizzu_edd9400.parentNode.parentNode.style.display = \"none\";\n",
       "        }\n",
       "        myVizzu_9629ee0.parentNode.parentNode.style.display = display_9629ee0;\n",
       "        myVizzu_9629ee0.parentNode.insertBefore(myVizzu_edd9400, myVizzu_9629ee0);\n",
       "        myVizzu_edd9400.scrollIntoView({behavior: \"auto\", block: \"center\"});\n",
       "        return chart.animate({\"data\": {\"filter\": record => { return (parseInt(record.Year) >= 1990 || record.Year == '1972') }}, \"config\": {\"split\": true}, \"style\": {\"plot.xAxis.interlacing.color\": \"#ffffff\"}}, {\"duration\": 0.005});\n",
       "    });\n",
       "</script>"
      ]
     },
     "metadata": {},
     "output_type": "display_data"
    },
    {
     "data": {
      "text/html": [
       "<script id=\"myVizzu_98d56a3\">\n",
       "    let display_98d56a3 = myVizzu_98d56a3.parentNode.parentNode.style.display;\n",
       "    myVizzu_98d56a3.parentNode.parentNode.style.display = \"none\";\n",
       "    chart_edd9400 = chart_edd9400.then(chart => {\n",
       "        if (myVizzu_edd9400.parentNode && myVizzu_edd9400.parentNode.parentNode) {\n",
       "            myVizzu_edd9400.parentNode.parentNode.style.display = \"none\";\n",
       "        }\n",
       "        myVizzu_98d56a3.parentNode.parentNode.style.display = display_98d56a3;\n",
       "        myVizzu_98d56a3.parentNode.insertBefore(myVizzu_edd9400, myVizzu_98d56a3);\n",
       "        myVizzu_edd9400.scrollIntoView({behavior: \"auto\", block: \"center\"});\n",
       "        return chart.animate({\"data\": {\"filter\": record => { return (parseInt(record.Year) >= 1989 || record.Year == '1972') }}, \"config\": {\"split\": true}, \"style\": {\"plot.xAxis.interlacing.color\": \"#ffffff\"}}, {\"duration\": 0.005});\n",
       "    });\n",
       "</script>"
      ]
     },
     "metadata": {},
     "output_type": "display_data"
    },
    {
     "data": {
      "text/html": [
       "<script id=\"myVizzu_8b33b4f\">\n",
       "    let display_8b33b4f = myVizzu_8b33b4f.parentNode.parentNode.style.display;\n",
       "    myVizzu_8b33b4f.parentNode.parentNode.style.display = \"none\";\n",
       "    chart_edd9400 = chart_edd9400.then(chart => {\n",
       "        if (myVizzu_edd9400.parentNode && myVizzu_edd9400.parentNode.parentNode) {\n",
       "            myVizzu_edd9400.parentNode.parentNode.style.display = \"none\";\n",
       "        }\n",
       "        myVizzu_8b33b4f.parentNode.parentNode.style.display = display_8b33b4f;\n",
       "        myVizzu_8b33b4f.parentNode.insertBefore(myVizzu_edd9400, myVizzu_8b33b4f);\n",
       "        myVizzu_edd9400.scrollIntoView({behavior: \"auto\", block: \"center\"});\n",
       "        return chart.animate({\"data\": {\"filter\": record => { return (parseInt(record.Year) >= 1988 || record.Year == '1972') }}, \"config\": {\"split\": true}, \"style\": {\"plot.xAxis.interlacing.color\": \"#ffffff\"}}, {\"duration\": 0.005});\n",
       "    });\n",
       "</script>"
      ]
     },
     "metadata": {},
     "output_type": "display_data"
    },
    {
     "data": {
      "text/html": [
       "<script id=\"myVizzu_74e0138\">\n",
       "    let display_74e0138 = myVizzu_74e0138.parentNode.parentNode.style.display;\n",
       "    myVizzu_74e0138.parentNode.parentNode.style.display = \"none\";\n",
       "    chart_edd9400 = chart_edd9400.then(chart => {\n",
       "        if (myVizzu_edd9400.parentNode && myVizzu_edd9400.parentNode.parentNode) {\n",
       "            myVizzu_edd9400.parentNode.parentNode.style.display = \"none\";\n",
       "        }\n",
       "        myVizzu_74e0138.parentNode.parentNode.style.display = display_74e0138;\n",
       "        myVizzu_74e0138.parentNode.insertBefore(myVizzu_edd9400, myVizzu_74e0138);\n",
       "        myVizzu_edd9400.scrollIntoView({behavior: \"auto\", block: \"center\"});\n",
       "        return chart.animate({\"data\": {\"filter\": record => { return (parseInt(record.Year) >= 1987 || record.Year == '1972') }}, \"config\": {\"split\": true}, \"style\": {\"plot.xAxis.interlacing.color\": \"#ffffff\"}}, {\"duration\": 0.005});\n",
       "    });\n",
       "</script>"
      ]
     },
     "metadata": {},
     "output_type": "display_data"
    },
    {
     "data": {
      "text/html": [
       "<script id=\"myVizzu_a8f35fe\">\n",
       "    let display_a8f35fe = myVizzu_a8f35fe.parentNode.parentNode.style.display;\n",
       "    myVizzu_a8f35fe.parentNode.parentNode.style.display = \"none\";\n",
       "    chart_edd9400 = chart_edd9400.then(chart => {\n",
       "        if (myVizzu_edd9400.parentNode && myVizzu_edd9400.parentNode.parentNode) {\n",
       "            myVizzu_edd9400.parentNode.parentNode.style.display = \"none\";\n",
       "        }\n",
       "        myVizzu_a8f35fe.parentNode.parentNode.style.display = display_a8f35fe;\n",
       "        myVizzu_a8f35fe.parentNode.insertBefore(myVizzu_edd9400, myVizzu_a8f35fe);\n",
       "        myVizzu_edd9400.scrollIntoView({behavior: \"auto\", block: \"center\"});\n",
       "        return chart.animate({\"data\": {\"filter\": record => { return (parseInt(record.Year) >= 1986 || record.Year == '1972') }}, \"config\": {\"split\": true}, \"style\": {\"plot.xAxis.interlacing.color\": \"#ffffff\"}}, {\"duration\": 0.005});\n",
       "    });\n",
       "</script>"
      ]
     },
     "metadata": {},
     "output_type": "display_data"
    },
    {
     "data": {
      "text/html": [
       "<script id=\"myVizzu_e2ff6bd\">\n",
       "    let display_e2ff6bd = myVizzu_e2ff6bd.parentNode.parentNode.style.display;\n",
       "    myVizzu_e2ff6bd.parentNode.parentNode.style.display = \"none\";\n",
       "    chart_edd9400 = chart_edd9400.then(chart => {\n",
       "        if (myVizzu_edd9400.parentNode && myVizzu_edd9400.parentNode.parentNode) {\n",
       "            myVizzu_edd9400.parentNode.parentNode.style.display = \"none\";\n",
       "        }\n",
       "        myVizzu_e2ff6bd.parentNode.parentNode.style.display = display_e2ff6bd;\n",
       "        myVizzu_e2ff6bd.parentNode.insertBefore(myVizzu_edd9400, myVizzu_e2ff6bd);\n",
       "        myVizzu_edd9400.scrollIntoView({behavior: \"auto\", block: \"center\"});\n",
       "        return chart.animate({\"data\": {\"filter\": record => { return (parseInt(record.Year) >= 1985 || record.Year == '1972') }}, \"config\": {\"split\": true}, \"style\": {\"plot.xAxis.interlacing.color\": \"#ffffff\"}}, {\"duration\": 0.005});\n",
       "    });\n",
       "</script>"
      ]
     },
     "metadata": {},
     "output_type": "display_data"
    },
    {
     "data": {
      "text/html": [
       "<script id=\"myVizzu_0957559\">\n",
       "    let display_0957559 = myVizzu_0957559.parentNode.parentNode.style.display;\n",
       "    myVizzu_0957559.parentNode.parentNode.style.display = \"none\";\n",
       "    chart_edd9400 = chart_edd9400.then(chart => {\n",
       "        if (myVizzu_edd9400.parentNode && myVizzu_edd9400.parentNode.parentNode) {\n",
       "            myVizzu_edd9400.parentNode.parentNode.style.display = \"none\";\n",
       "        }\n",
       "        myVizzu_0957559.parentNode.parentNode.style.display = display_0957559;\n",
       "        myVizzu_0957559.parentNode.insertBefore(myVizzu_edd9400, myVizzu_0957559);\n",
       "        myVizzu_edd9400.scrollIntoView({behavior: \"auto\", block: \"center\"});\n",
       "        return chart.animate({\"data\": {\"filter\": record => { return (parseInt(record.Year) >= 1984 || record.Year == '1972') }}, \"config\": {\"split\": true}, \"style\": {\"plot.xAxis.interlacing.color\": \"#ffffff\"}}, {\"duration\": 0.005});\n",
       "    });\n",
       "</script>"
      ]
     },
     "metadata": {},
     "output_type": "display_data"
    },
    {
     "data": {
      "text/html": [
       "<script id=\"myVizzu_083e2d7\">\n",
       "    let display_083e2d7 = myVizzu_083e2d7.parentNode.parentNode.style.display;\n",
       "    myVizzu_083e2d7.parentNode.parentNode.style.display = \"none\";\n",
       "    chart_edd9400 = chart_edd9400.then(chart => {\n",
       "        if (myVizzu_edd9400.parentNode && myVizzu_edd9400.parentNode.parentNode) {\n",
       "            myVizzu_edd9400.parentNode.parentNode.style.display = \"none\";\n",
       "        }\n",
       "        myVizzu_083e2d7.parentNode.parentNode.style.display = display_083e2d7;\n",
       "        myVizzu_083e2d7.parentNode.insertBefore(myVizzu_edd9400, myVizzu_083e2d7);\n",
       "        myVizzu_edd9400.scrollIntoView({behavior: \"auto\", block: \"center\"});\n",
       "        return chart.animate({\"data\": {\"filter\": record => { return (parseInt(record.Year) >= 1983 || record.Year == '1972') }}, \"config\": {\"split\": true}, \"style\": {\"plot.xAxis.interlacing.color\": \"#ffffff\"}}, {\"duration\": 0.005});\n",
       "    });\n",
       "</script>"
      ]
     },
     "metadata": {},
     "output_type": "display_data"
    },
    {
     "data": {
      "text/html": [
       "<script id=\"myVizzu_67c30a9\">\n",
       "    let display_67c30a9 = myVizzu_67c30a9.parentNode.parentNode.style.display;\n",
       "    myVizzu_67c30a9.parentNode.parentNode.style.display = \"none\";\n",
       "    chart_edd9400 = chart_edd9400.then(chart => {\n",
       "        if (myVizzu_edd9400.parentNode && myVizzu_edd9400.parentNode.parentNode) {\n",
       "            myVizzu_edd9400.parentNode.parentNode.style.display = \"none\";\n",
       "        }\n",
       "        myVizzu_67c30a9.parentNode.parentNode.style.display = display_67c30a9;\n",
       "        myVizzu_67c30a9.parentNode.insertBefore(myVizzu_edd9400, myVizzu_67c30a9);\n",
       "        myVizzu_edd9400.scrollIntoView({behavior: \"auto\", block: \"center\"});\n",
       "        return chart.animate({\"data\": {\"filter\": record => { return (parseInt(record.Year) >= 1982 || record.Year == '1972') }}, \"config\": {\"split\": true}, \"style\": {\"plot.xAxis.interlacing.color\": \"#ffffff\"}}, {\"duration\": 0.005});\n",
       "    });\n",
       "</script>"
      ]
     },
     "metadata": {},
     "output_type": "display_data"
    },
    {
     "data": {
      "text/html": [
       "<script id=\"myVizzu_85fa1d4\">\n",
       "    let display_85fa1d4 = myVizzu_85fa1d4.parentNode.parentNode.style.display;\n",
       "    myVizzu_85fa1d4.parentNode.parentNode.style.display = \"none\";\n",
       "    chart_edd9400 = chart_edd9400.then(chart => {\n",
       "        if (myVizzu_edd9400.parentNode && myVizzu_edd9400.parentNode.parentNode) {\n",
       "            myVizzu_edd9400.parentNode.parentNode.style.display = \"none\";\n",
       "        }\n",
       "        myVizzu_85fa1d4.parentNode.parentNode.style.display = display_85fa1d4;\n",
       "        myVizzu_85fa1d4.parentNode.insertBefore(myVizzu_edd9400, myVizzu_85fa1d4);\n",
       "        myVizzu_edd9400.scrollIntoView({behavior: \"auto\", block: \"center\"});\n",
       "        return chart.animate({\"data\": {\"filter\": record => { return (parseInt(record.Year) >= 1981 || record.Year == '1972') }}, \"config\": {\"split\": true}, \"style\": {\"plot.xAxis.interlacing.color\": \"#ffffff\"}}, {\"duration\": 0.005});\n",
       "    });\n",
       "</script>"
      ]
     },
     "metadata": {},
     "output_type": "display_data"
    },
    {
     "data": {
      "text/html": [
       "<script id=\"myVizzu_9ecddbf\">\n",
       "    let display_9ecddbf = myVizzu_9ecddbf.parentNode.parentNode.style.display;\n",
       "    myVizzu_9ecddbf.parentNode.parentNode.style.display = \"none\";\n",
       "    chart_edd9400 = chart_edd9400.then(chart => {\n",
       "        if (myVizzu_edd9400.parentNode && myVizzu_edd9400.parentNode.parentNode) {\n",
       "            myVizzu_edd9400.parentNode.parentNode.style.display = \"none\";\n",
       "        }\n",
       "        myVizzu_9ecddbf.parentNode.parentNode.style.display = display_9ecddbf;\n",
       "        myVizzu_9ecddbf.parentNode.insertBefore(myVizzu_edd9400, myVizzu_9ecddbf);\n",
       "        myVizzu_edd9400.scrollIntoView({behavior: \"auto\", block: \"center\"});\n",
       "        return chart.animate({\"data\": {\"filter\": record => { return (parseInt(record.Year) >= 1980 || record.Year == '1972') }}, \"config\": {\"split\": true}, \"style\": {\"plot.xAxis.interlacing.color\": \"#ffffff\"}}, {\"duration\": 0.005});\n",
       "    });\n",
       "</script>"
      ]
     },
     "metadata": {},
     "output_type": "display_data"
    },
    {
     "data": {
      "text/html": [
       "<script id=\"myVizzu_029065a\">\n",
       "    let display_029065a = myVizzu_029065a.parentNode.parentNode.style.display;\n",
       "    myVizzu_029065a.parentNode.parentNode.style.display = \"none\";\n",
       "    chart_edd9400 = chart_edd9400.then(chart => {\n",
       "        if (myVizzu_edd9400.parentNode && myVizzu_edd9400.parentNode.parentNode) {\n",
       "            myVizzu_edd9400.parentNode.parentNode.style.display = \"none\";\n",
       "        }\n",
       "        myVizzu_029065a.parentNode.parentNode.style.display = display_029065a;\n",
       "        myVizzu_029065a.parentNode.insertBefore(myVizzu_edd9400, myVizzu_029065a);\n",
       "        myVizzu_edd9400.scrollIntoView({behavior: \"auto\", block: \"center\"});\n",
       "        return chart.animate({\"data\": {\"filter\": record => { return (parseInt(record.Year) >= 1979 || record.Year == '1972') }}, \"config\": {\"split\": true}, \"style\": {\"plot.xAxis.interlacing.color\": \"#ffffff\"}}, {\"duration\": 0.005});\n",
       "    });\n",
       "</script>"
      ]
     },
     "metadata": {},
     "output_type": "display_data"
    },
    {
     "data": {
      "text/html": [
       "<script id=\"myVizzu_9fbe21f\">\n",
       "    let display_9fbe21f = myVizzu_9fbe21f.parentNode.parentNode.style.display;\n",
       "    myVizzu_9fbe21f.parentNode.parentNode.style.display = \"none\";\n",
       "    chart_edd9400 = chart_edd9400.then(chart => {\n",
       "        if (myVizzu_edd9400.parentNode && myVizzu_edd9400.parentNode.parentNode) {\n",
       "            myVizzu_edd9400.parentNode.parentNode.style.display = \"none\";\n",
       "        }\n",
       "        myVizzu_9fbe21f.parentNode.parentNode.style.display = display_9fbe21f;\n",
       "        myVizzu_9fbe21f.parentNode.insertBefore(myVizzu_edd9400, myVizzu_9fbe21f);\n",
       "        myVizzu_edd9400.scrollIntoView({behavior: \"auto\", block: \"center\"});\n",
       "        return chart.animate({\"data\": {\"filter\": record => { return (parseInt(record.Year) >= 1978 || record.Year == '1972') }}, \"config\": {\"split\": true}, \"style\": {\"plot.xAxis.interlacing.color\": \"#ffffff\"}}, {\"duration\": 0.005});\n",
       "    });\n",
       "</script>"
      ]
     },
     "metadata": {},
     "output_type": "display_data"
    },
    {
     "data": {
      "text/html": [
       "<script id=\"myVizzu_009743d\">\n",
       "    let display_009743d = myVizzu_009743d.parentNode.parentNode.style.display;\n",
       "    myVizzu_009743d.parentNode.parentNode.style.display = \"none\";\n",
       "    chart_edd9400 = chart_edd9400.then(chart => {\n",
       "        if (myVizzu_edd9400.parentNode && myVizzu_edd9400.parentNode.parentNode) {\n",
       "            myVizzu_edd9400.parentNode.parentNode.style.display = \"none\";\n",
       "        }\n",
       "        myVizzu_009743d.parentNode.parentNode.style.display = display_009743d;\n",
       "        myVizzu_009743d.parentNode.insertBefore(myVizzu_edd9400, myVizzu_009743d);\n",
       "        myVizzu_edd9400.scrollIntoView({behavior: \"auto\", block: \"center\"});\n",
       "        return chart.animate({\"data\": {\"filter\": record => { return (parseInt(record.Year) >= 1977 || record.Year == '1972') }}, \"config\": {\"split\": true}, \"style\": {\"plot.xAxis.interlacing.color\": \"#ffffff\"}}, {\"duration\": 0.005});\n",
       "    });\n",
       "</script>"
      ]
     },
     "metadata": {},
     "output_type": "display_data"
    },
    {
     "data": {
      "text/html": [
       "<script id=\"myVizzu_2be202c\">\n",
       "    let display_2be202c = myVizzu_2be202c.parentNode.parentNode.style.display;\n",
       "    myVizzu_2be202c.parentNode.parentNode.style.display = \"none\";\n",
       "    chart_edd9400 = chart_edd9400.then(chart => {\n",
       "        if (myVizzu_edd9400.parentNode && myVizzu_edd9400.parentNode.parentNode) {\n",
       "            myVizzu_edd9400.parentNode.parentNode.style.display = \"none\";\n",
       "        }\n",
       "        myVizzu_2be202c.parentNode.parentNode.style.display = display_2be202c;\n",
       "        myVizzu_2be202c.parentNode.insertBefore(myVizzu_edd9400, myVizzu_2be202c);\n",
       "        myVizzu_edd9400.scrollIntoView({behavior: \"auto\", block: \"center\"});\n",
       "        return chart.animate({\"data\": {\"filter\": record => { return (parseInt(record.Year) >= 1976 || record.Year == '1972') }}, \"config\": {\"split\": true}, \"style\": {\"plot.xAxis.interlacing.color\": \"#ffffff\"}}, {\"duration\": 0.005});\n",
       "    });\n",
       "</script>"
      ]
     },
     "metadata": {},
     "output_type": "display_data"
    },
    {
     "data": {
      "text/html": [
       "<script id=\"myVizzu_10d43f9\">\n",
       "    let display_10d43f9 = myVizzu_10d43f9.parentNode.parentNode.style.display;\n",
       "    myVizzu_10d43f9.parentNode.parentNode.style.display = \"none\";\n",
       "    chart_edd9400 = chart_edd9400.then(chart => {\n",
       "        if (myVizzu_edd9400.parentNode && myVizzu_edd9400.parentNode.parentNode) {\n",
       "            myVizzu_edd9400.parentNode.parentNode.style.display = \"none\";\n",
       "        }\n",
       "        myVizzu_10d43f9.parentNode.parentNode.style.display = display_10d43f9;\n",
       "        myVizzu_10d43f9.parentNode.insertBefore(myVizzu_edd9400, myVizzu_10d43f9);\n",
       "        myVizzu_edd9400.scrollIntoView({behavior: \"auto\", block: \"center\"});\n",
       "        return chart.animate({\"data\": {\"filter\": record => { return (parseInt(record.Year) >= 1975 || record.Year == '1972') }}, \"config\": {\"split\": true}, \"style\": {\"plot.xAxis.interlacing.color\": \"#ffffff\"}}, {\"duration\": 0.005});\n",
       "    });\n",
       "</script>"
      ]
     },
     "metadata": {},
     "output_type": "display_data"
    },
    {
     "data": {
      "text/html": [
       "<script id=\"myVizzu_e97022e\">\n",
       "    let display_e97022e = myVizzu_e97022e.parentNode.parentNode.style.display;\n",
       "    myVizzu_e97022e.parentNode.parentNode.style.display = \"none\";\n",
       "    chart_edd9400 = chart_edd9400.then(chart => {\n",
       "        if (myVizzu_edd9400.parentNode && myVizzu_edd9400.parentNode.parentNode) {\n",
       "            myVizzu_edd9400.parentNode.parentNode.style.display = \"none\";\n",
       "        }\n",
       "        myVizzu_e97022e.parentNode.parentNode.style.display = display_e97022e;\n",
       "        myVizzu_e97022e.parentNode.insertBefore(myVizzu_edd9400, myVizzu_e97022e);\n",
       "        myVizzu_edd9400.scrollIntoView({behavior: \"auto\", block: \"center\"});\n",
       "        return chart.animate({\"data\": {\"filter\": record => { return (parseInt(record.Year) >= 1974 || record.Year == '1972') }}, \"config\": {\"split\": true}, \"style\": {\"plot.xAxis.interlacing.color\": \"#ffffff\"}}, {\"duration\": 0.005});\n",
       "    });\n",
       "</script>"
      ]
     },
     "metadata": {},
     "output_type": "display_data"
    },
    {
     "data": {
      "text/html": [
       "<script id=\"myVizzu_806fea9\">\n",
       "    let display_806fea9 = myVizzu_806fea9.parentNode.parentNode.style.display;\n",
       "    myVizzu_806fea9.parentNode.parentNode.style.display = \"none\";\n",
       "    chart_edd9400 = chart_edd9400.then(chart => {\n",
       "        if (myVizzu_edd9400.parentNode && myVizzu_edd9400.parentNode.parentNode) {\n",
       "            myVizzu_edd9400.parentNode.parentNode.style.display = \"none\";\n",
       "        }\n",
       "        myVizzu_806fea9.parentNode.parentNode.style.display = display_806fea9;\n",
       "        myVizzu_806fea9.parentNode.insertBefore(myVizzu_edd9400, myVizzu_806fea9);\n",
       "        myVizzu_edd9400.scrollIntoView({behavior: \"auto\", block: \"center\"});\n",
       "        return chart.animate({\"data\": {\"filter\": record => { return (parseInt(record.Year) >= 1973 || record.Year == '1972') }}, \"config\": {\"split\": true}, \"style\": {\"plot.xAxis.interlacing.color\": \"#ffffff\"}}, {\"duration\": 0.005});\n",
       "    });\n",
       "</script>"
      ]
     },
     "metadata": {},
     "output_type": "display_data"
    },
    {
     "data": {
      "text/html": [
       "<script id=\"myVizzu_84cda29\">\n",
       "    let display_84cda29 = myVizzu_84cda29.parentNode.parentNode.style.display;\n",
       "    myVizzu_84cda29.parentNode.parentNode.style.display = \"none\";\n",
       "    chart_edd9400 = chart_edd9400.then(chart => {\n",
       "        if (myVizzu_edd9400.parentNode && myVizzu_edd9400.parentNode.parentNode) {\n",
       "            myVizzu_edd9400.parentNode.parentNode.style.display = \"none\";\n",
       "        }\n",
       "        myVizzu_84cda29.parentNode.parentNode.style.display = display_84cda29;\n",
       "        myVizzu_84cda29.parentNode.insertBefore(myVizzu_edd9400, myVizzu_84cda29);\n",
       "        myVizzu_edd9400.scrollIntoView({behavior: \"auto\", block: \"center\"});\n",
       "        return chart.animate({\"data\": {\"filter\": record => { return (record.Year != '1972') }}, \"config\": {\"split\": false}}, {\"duration\": 1.5});\n",
       "    });\n",
       "</script>"
      ]
     },
     "metadata": {},
     "output_type": "display_data"
    },
    {
     "data": {
      "text/html": [
       "<script id=\"myVizzu_db011e2\">\n",
       "    let display_db011e2 = myVizzu_db011e2.parentNode.parentNode.style.display;\n",
       "    myVizzu_db011e2.parentNode.parentNode.style.display = \"none\";\n",
       "    chart_edd9400 = chart_edd9400.then(chart => {\n",
       "        if (myVizzu_edd9400.parentNode && myVizzu_edd9400.parentNode.parentNode) {\n",
       "            myVizzu_edd9400.parentNode.parentNode.style.display = \"none\";\n",
       "        }\n",
       "        myVizzu_db011e2.parentNode.parentNode.style.display = display_db011e2;\n",
       "        myVizzu_db011e2.parentNode.insertBefore(myVizzu_edd9400, myVizzu_db011e2);\n",
       "        myVizzu_edd9400.scrollIntoView({behavior: \"auto\", block: \"center\"});\n",
       "        return chart.animate({\"config\": {\"channels\": {\"x\": {\"detach\": [\"Year\"]}}}}, {\"duration\": 0});\n",
       "    });\n",
       "</script>"
      ]
     },
     "metadata": {},
     "output_type": "display_data"
    },
    {
     "data": {
      "text/html": [
       "<script id=\"myVizzu_53b133e\">\n",
       "    let display_53b133e = myVizzu_53b133e.parentNode.parentNode.style.display;\n",
       "    myVizzu_53b133e.parentNode.parentNode.style.display = \"none\";\n",
       "    chart_edd9400 = chart_edd9400.then(chart => {\n",
       "        if (myVizzu_edd9400.parentNode && myVizzu_edd9400.parentNode.parentNode) {\n",
       "            myVizzu_edd9400.parentNode.parentNode.style.display = \"none\";\n",
       "        }\n",
       "        myVizzu_53b133e.parentNode.parentNode.style.display = display_53b133e;\n",
       "        myVizzu_53b133e.parentNode.insertBefore(myVizzu_edd9400, myVizzu_53b133e);\n",
       "        myVizzu_edd9400.scrollIntoView({behavior: \"auto\", block: \"center\"});\n",
       "        return chart.animate({\"config\": {\"channels\": {\"label\": {\"set\": [\"Revenue [m$]\"]}}}}, {\"duration\": 0.1});\n",
       "    });\n",
       "</script>"
      ]
     },
     "metadata": {},
     "output_type": "display_data"
    }
   ],
   "source": [
    "chart.animate(\n",
    "    Config({\n",
    "        \"channels\": {\n",
    "            \"x\": { \"attach\": [\"Year\"] },\n",
    "            \"label\": { \"set\": None }\n",
    "        }\n",
    "    }),\n",
    "    duration = 0.3\n",
    ")\n",
    "\n",
    "chart.animate(\n",
    "    Data.filter(\"record.Year == '2020' || record.Year == '1972'\"),\n",
    "    Config({\n",
    "        \"title\": \"Lets see the total of the last 47 years\"\n",
    "    }),\n",
    "    duration = 2\n",
    ")\n",
    "\n",
    "chart.animate(Config({ \"sort\": \"none\" }), delay = 0, duration = 2)\n",
    "\n",
    "\n",
    "for year in reversed(range(1973, 2020)):\n",
    "    chart.animate(\n",
    "        Data.filter(f\"parseInt(record.Year) >= {year} || record.Year == '1972'\"),\n",
    "        Config({ \"split\": True }),\n",
    "        Style({ \"plot.xAxis.interlacing.color\": \"#ffffff\" }),\n",
    "        duration = 0.005\n",
    "    )\n",
    "\n",
    "chart.animate(\n",
    "    Data.filter(\"record.Year != '1972'\"),\n",
    "    Config({ \"split\": False }),\n",
    "    duration = 1.5\n",
    ")\n",
    "\n",
    "\n",
    "chart.animate(\n",
    "    Config({\n",
    "        \"channels\": {\n",
    "            \"x\": { \"detach\": [\"Year\"] }\n",
    "        }\n",
    "    }),\n",
    "    duration = 0\n",
    ")\n",
    "\n",
    "chart.animate(\n",
    "    Config({\n",
    "        \"channels\": {\n",
    "            \"label\": { \"set\": [\"Revenue [m$]\"] }\n",
    "        }\n",
    "    }),\n",
    "    duration = 0.1\n",
    ")\n"
   ]
  },
  {
   "cell_type": "code",
   "execution_count": 3,
   "metadata": {},
   "outputs": [
    {
     "data": {
      "text/html": [
       "<script id=\"myVizzu_1fd731b\">\n",
       "    let display_1fd731b = myVizzu_1fd731b.parentNode.parentNode.style.display;\n",
       "    myVizzu_1fd731b.parentNode.parentNode.style.display = \"none\";\n",
       "    chart_edd9400 = chart_edd9400.then(chart => {\n",
       "        if (myVizzu_edd9400.parentNode && myVizzu_edd9400.parentNode.parentNode) {\n",
       "            myVizzu_edd9400.parentNode.parentNode.style.display = \"none\";\n",
       "        }\n",
       "        myVizzu_1fd731b.parentNode.parentNode.style.display = display_1fd731b;\n",
       "        myVizzu_1fd731b.parentNode.insertBefore(myVizzu_edd9400, myVizzu_1fd731b);\n",
       "        myVizzu_edd9400.scrollIntoView({behavior: \"auto\", block: \"center\"});\n",
       "        return chart.animate({\"config\": {\"channels\": {\"x\": {\"attach\": [\"Year\"]}, \"label\": {\"detach\": [\"Revenue [m$]\"]}}}}, {\"duration\": 1});\n",
       "    });\n",
       "</script>"
      ]
     },
     "metadata": {},
     "output_type": "display_data"
    },
    {
     "data": {
      "text/html": [
       "<script id=\"myVizzu_e5e0d2a\">\n",
       "    let display_e5e0d2a = myVizzu_e5e0d2a.parentNode.parentNode.style.display;\n",
       "    myVizzu_e5e0d2a.parentNode.parentNode.style.display = \"none\";\n",
       "    chart_edd9400 = chart_edd9400.then(chart => {\n",
       "        if (myVizzu_edd9400.parentNode && myVizzu_edd9400.parentNode.parentNode) {\n",
       "            myVizzu_edd9400.parentNode.parentNode.style.display = \"none\";\n",
       "        }\n",
       "        myVizzu_e5e0d2a.parentNode.parentNode.style.display = display_e5e0d2a;\n",
       "        myVizzu_e5e0d2a.parentNode.insertBefore(myVizzu_edd9400, myVizzu_e5e0d2a);\n",
       "        myVizzu_edd9400.scrollIntoView({behavior: \"auto\", block: \"center\"});\n",
       "        return chart.animate({\"config\": {\"channels\": {\"x\": {\"set\": [\"Year\"]}, \"y\": {\"set\": [\"Revenue [m$]\", \"Format\"], \"range\": {\"min\": null, \"max\": null}}, \"color\": {\"set\": [\"Format\"]}}, \"title\": \"Music Revenue by Format in the USA 1973 - 2020\", \"split\": true}, \"style\": {\"plot\": {\"paddingLeft\": 7.5, \"paddingTop\": 25, \"xAxis\": {\"label\": {\"fontSize\": 9, \"angle\": 2.0, \"color\": \"#8e8e8e\"}}, \"yAxis\": {\"interlacing\": {\"color\": \"#ffffff00\"}, \"title\": {\"color\": \"#ffffff00\"}, \"label\": {\"color\": \"#ffffff00\"}}}}}, {\"duration\": 2});\n",
       "    });\n",
       "</script>"
      ]
     },
     "metadata": {},
     "output_type": "display_data"
    },
    {
     "data": {
      "text/html": [
       "<script id=\"myVizzu_14de86c\">\n",
       "    let display_14de86c = myVizzu_14de86c.parentNode.parentNode.style.display;\n",
       "    myVizzu_14de86c.parentNode.parentNode.style.display = \"none\";\n",
       "    chart_edd9400 = chart_edd9400.then(chart => {\n",
       "        if (myVizzu_edd9400.parentNode && myVizzu_edd9400.parentNode.parentNode) {\n",
       "            myVizzu_edd9400.parentNode.parentNode.style.display = \"none\";\n",
       "        }\n",
       "        myVizzu_14de86c.parentNode.parentNode.style.display = display_14de86c;\n",
       "        myVizzu_14de86c.parentNode.insertBefore(myVizzu_edd9400, myVizzu_14de86c);\n",
       "        myVizzu_edd9400.scrollIntoView({behavior: \"auto\", block: \"center\"});\n",
       "        return chart.animate({\"config\": {\"geometry\": \"area\"}}, {\"duration\": 1});\n",
       "    });\n",
       "</script>"
      ]
     },
     "metadata": {},
     "output_type": "display_data"
    }
   ],
   "source": [
    "chart.animate(\n",
    "    Config({\n",
    "        \"channels\": {\n",
    "            \"x\": { \"attach\": [\"Year\"] },\n",
    "            \"label\": { \"detach\": [\"Revenue [m$]\"] }\n",
    "        }\n",
    "    }),\n",
    "    duration = 1\n",
    ")\n",
    "\n",
    "chart.animate(\n",
    "    Config({\n",
    "        \"channels\": {\n",
    "            \"x\": { \"set\": ['Year'] },\n",
    "            \"y\": { \"set\": ['Revenue [m$]', 'Format'], \"range\": { \"min\": None, \"max\": None } },\n",
    "            \"color\": { \"set\": ['Format'] }\n",
    "        },\n",
    "        \"title\": 'Music Revenue by Format in the USA 1973 - 2020',\n",
    "        \"split\": True\n",
    "    }),\n",
    "    Style({\n",
    "        \"plot\": {\n",
    "            \"paddingLeft\": 7.5,\n",
    "            \"paddingTop\": 25,\n",
    "            \"xAxis\": {\n",
    "                \"label\": {\n",
    "                    \"fontSize\": 9,\n",
    "                    \"angle\": 2.0,\n",
    "                    \"color\": \"#8e8e8e\"\n",
    "                }\n",
    "            },\n",
    "            \"yAxis\": {\n",
    "                \"interlacing\": { \"color\": \"#ffffff00\" },\n",
    "                \"title\": { \"color\": \"#ffffff00\" },\n",
    "                \"label\": { \"color\": \"#ffffff00\" }\n",
    "            }\n",
    "        }\n",
    "    }),\n",
    "    duration = 2\n",
    ")\n",
    "\n",
    "chart.animate(Config({ \"geometry\": \"area\" }), duration = 1)\n",
    "\n"
   ]
  },
  {
   "cell_type": "code",
   "execution_count": 4,
   "metadata": {},
   "outputs": [
    {
     "data": {
      "text/html": [
       "<script id=\"myVizzu_1512996\">\n",
       "    let display_1512996 = myVizzu_1512996.parentNode.parentNode.style.display;\n",
       "    myVizzu_1512996.parentNode.parentNode.style.display = \"none\";\n",
       "    chart_edd9400 = chart_edd9400.then(chart => {\n",
       "        if (myVizzu_edd9400.parentNode && myVizzu_edd9400.parentNode.parentNode) {\n",
       "            myVizzu_edd9400.parentNode.parentNode.style.display = \"none\";\n",
       "        }\n",
       "        myVizzu_1512996.parentNode.parentNode.style.display = display_1512996;\n",
       "        myVizzu_1512996.parentNode.insertBefore(myVizzu_edd9400, myVizzu_1512996);\n",
       "        myVizzu_edd9400.scrollIntoView({behavior: \"auto\", block: \"center\"});\n",
       "        return chart.animate({\"config\": {\"channels\": {\"x\": {\"set\": [\"Year\"]}, \"y\": {\"range\": {\"max\": \"110%\"}}}, \"align\": \"center\", \"split\": false}, \"style\": {\"plot.marker.borderWidth\": 1}}, {\"duration\": 1});\n",
       "    });\n",
       "</script>"
      ]
     },
     "metadata": {},
     "output_type": "display_data"
    }
   ],
   "source": [
    "chart.animate(\n",
    "    Config({\n",
    "        \"channels\": {\n",
    "            \"x\": { \"set\": [\"Year\"] },\n",
    "            \"y\": {\n",
    "                \"range\": {\n",
    "                    \"max\": \"110%\"\n",
    "                }\n",
    "            }\n",
    "        },\n",
    "        \"align\": \"center\",\n",
    "        \"split\": False\n",
    "    }),\n",
    "    Style({ \"plot.marker.borderWidth\": 1 }),\n",
    "    duration = 1\n",
    ")"
   ]
  }
 ],
 "metadata": {
  "kernelspec": {
   "display_name": "Python 3 (ipykernel)",
   "language": "python",
   "name": "python3"
  },
  "language_info": {
   "codemirror_mode": {
    "name": "ipython",
    "version": 3
   },
   "file_extension": ".py",
   "mimetype": "text/x-python",
   "name": "python",
   "nbconvert_exporter": "python",
   "pygments_lexer": "ipython3",
   "version": "3.8.10"
  }
 },
 "nbformat": 4,
 "nbformat_minor": 2
}
