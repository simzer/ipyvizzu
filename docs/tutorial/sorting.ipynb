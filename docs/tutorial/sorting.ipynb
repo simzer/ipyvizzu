{
 "cells": [
  {
   "cell_type": "markdown",
   "id": "072921f4",
   "metadata": {},
   "source": [
    "## Sorting\n",
    "\n",
    "Vizzu provides multiple options to sort data. By default, the data is sorted by the order it is added to Vizzu. This is why we suggest to add temporal data such as dates in chronological order - from oldest to newest.\n",
    "\n",
    "You can also sort the elements by value, which will provide you with an ascending order."
   ]
  },
  {
   "cell_type": "code",
   "execution_count": 1,
   "id": "200f66d2",
   "metadata": {},
   "outputs": [
    {
     "data": {
      "text/html": [
       "<script id=\"myVizzu_638bc6a\">\n",
       "    let myVizzu_bb04c69 = document.createElement(\"div\");\n",
       "    myVizzu_bb04c69.style.cssText = \"width: 800px; height: 480px;\";\n",
       "    let chart_bb04c69 = import(\"https://cdn.jsdelivr.net/npm/vizzu@~0.4.0/dist/vizzu.min.js\").then(Vizzu => new Vizzu.default(myVizzu_bb04c69).initializing);\n",
       "    myVizzu_638bc6a.parentNode.insertBefore(myVizzu_bb04c69, myVizzu_638bc6a);\n",
       "</script>"
      ]
     },
     "metadata": {},
     "output_type": "display_data"
    },
    {
     "data": {
      "text/html": [
       "<script id=\"myVizzu_cfa740a\">\n",
       "    let display_cfa740a = myVizzu_cfa740a.parentNode.parentNode.style.display;\n",
       "    myVizzu_cfa740a.parentNode.parentNode.style.display = \"none\";\n",
       "    chart_bb04c69 = chart_bb04c69.then(chart => {\n",
       "        if (myVizzu_bb04c69.parentNode && myVizzu_bb04c69.parentNode.parentNode) {\n",
       "            myVizzu_bb04c69.parentNode.parentNode.style.display = \"none\";\n",
       "        }\n",
       "        myVizzu_cfa740a.parentNode.parentNode.style.display = display_cfa740a;\n",
       "        myVizzu_cfa740a.parentNode.insertBefore(myVizzu_bb04c69, myVizzu_cfa740a);\n",
       "        myVizzu_bb04c69.scrollIntoView({behavior: \"auto\", block: \"center\"});\n",
       "        return chart.animate({\"data\": {\"dimensions\": [{\"name\": \"Genres\", \"values\": [\"Pop\", \"Rock\", \"Jazz\", \"Metal\"]}, {\"name\": \"Types\", \"values\": [\"Hard\", \"Smooth\", \"Experimental\"]}], \"measures\": [{\"name\": \"Popularity\", \"values\": [[114, 96, 78, 52], [56, 36, 174, 121], [127, 83, 94, 58]]}]}});\n",
       "    });\n",
       "</script>"
      ]
     },
     "metadata": {},
     "output_type": "display_data"
    },
    {
     "data": {
      "text/html": [
       "<script id=\"myVizzu_7859e4c\">\n",
       "    let display_7859e4c = myVizzu_7859e4c.parentNode.parentNode.style.display;\n",
       "    myVizzu_7859e4c.parentNode.parentNode.style.display = \"none\";\n",
       "    chart_bb04c69 = chart_bb04c69.then(chart => {\n",
       "        if (myVizzu_bb04c69.parentNode && myVizzu_bb04c69.parentNode.parentNode) {\n",
       "            myVizzu_bb04c69.parentNode.parentNode.style.display = \"none\";\n",
       "        }\n",
       "        myVizzu_7859e4c.parentNode.parentNode.style.display = display_7859e4c;\n",
       "        myVizzu_7859e4c.parentNode.insertBefore(myVizzu_bb04c69, myVizzu_7859e4c);\n",
       "        myVizzu_bb04c69.scrollIntoView({behavior: \"auto\", block: \"center\"});\n",
       "        return chart.animate({\"config\": {\"channels\": {\"y\": {\"set\": [\"Popularity\", \"Types\"]}, \"x\": {\"set\": \"Genres\"}, \"label\": {\"attach\": \"Popularity\"}}, \"color\": {\"attach\": \"Types\"}, \"title\": \"Switch to ascending order...\"}});\n",
       "    });\n",
       "</script>"
      ]
     },
     "metadata": {},
     "output_type": "display_data"
    },
    {
     "data": {
      "text/html": [
       "<script id=\"myVizzu_ad0f039\">\n",
       "    let display_ad0f039 = myVizzu_ad0f039.parentNode.parentNode.style.display;\n",
       "    myVizzu_ad0f039.parentNode.parentNode.style.display = \"none\";\n",
       "    chart_bb04c69 = chart_bb04c69.then(chart => {\n",
       "        if (myVizzu_bb04c69.parentNode && myVizzu_bb04c69.parentNode.parentNode) {\n",
       "            myVizzu_bb04c69.parentNode.parentNode.style.display = \"none\";\n",
       "        }\n",
       "        myVizzu_ad0f039.parentNode.parentNode.style.display = display_ad0f039;\n",
       "        myVizzu_ad0f039.parentNode.insertBefore(myVizzu_bb04c69, myVizzu_ad0f039);\n",
       "        myVizzu_bb04c69.scrollIntoView({behavior: \"auto\", block: \"center\"});\n",
       "        return chart.animate({\"config\": {\"sort\": \"byValue\"}});\n",
       "    });\n",
       "</script>"
      ]
     },
     "metadata": {},
     "output_type": "display_data"
    },
    {
     "data": {
      "text/html": [
       "<script id=\"myVizzu_a44fd55\">\n",
       "    myVizzu_a44fd55.parentNode.parentNode.style.display = \"none\";\n",
       "    let snapshot_a44fd55;\n",
       "    chart_bb04c69 = chart_bb04c69.then(chart => {\n",
       "        snapshot_a44fd55 = chart.store();\n",
       "        return chart;\n",
       "    });\n",
       "</script>"
      ]
     },
     "metadata": {},
     "output_type": "display_data"
    }
   ],
   "source": [
    "from ipyvizzu import Chart, Data, Config\n",
    "\n",
    "chart = Chart()\n",
    "\n",
    "data = Data.from_json(\"./music_data.json\")\n",
    "\n",
    "chart.animate(data)\n",
    "\n",
    "chart.animate(Config({\n",
    "    \"channels\": {\n",
    "        \"y\": {\n",
    "            \"set\": [\"Popularity\", \"Types\"]\n",
    "        }, \n",
    "        \"x\": {\n",
    "            \"set\": \"Genres\"\n",
    "        },\n",
    "        \"label\": {\n",
    "            \"attach\": \"Popularity\"\n",
    "        }\n",
    "    },\n",
    "    \"color\": {\n",
    "        \"attach\": \"Types\"\n",
    "    },\n",
    "    \"title\": \"Switch to ascending order...\"\n",
    "}))\n",
    "\n",
    "chart.animate(Config({\n",
    "    \"sort\": \"byValue\",\n",
    "}))\n",
    "\n",
    "snapshot1 = chart.store()"
   ]
  },
  {
   "cell_type": "markdown",
   "id": "c6736370",
   "metadata": {},
   "source": [
    "If you want descending order instead, you have to set the reverse parameter to true. When used without setting the sorting to byValue, the elements will be in the opposite order than they are in the data set added to Vizzu."
   ]
  },
  {
   "cell_type": "code",
   "execution_count": 2,
   "id": "acf4a7d9",
   "metadata": {},
   "outputs": [
    {
     "data": {
      "text/html": [
       "<script id=\"myVizzu_0b27b14\">\n",
       "    let display_0b27b14 = myVizzu_0b27b14.parentNode.parentNode.style.display;\n",
       "    myVizzu_0b27b14.parentNode.parentNode.style.display = \"none\";\n",
       "    chart_bb04c69 = chart_bb04c69.then(chart => {\n",
       "        if (myVizzu_bb04c69.parentNode && myVizzu_bb04c69.parentNode.parentNode) {\n",
       "            myVizzu_bb04c69.parentNode.parentNode.style.display = \"none\";\n",
       "        }\n",
       "        myVizzu_0b27b14.parentNode.parentNode.style.display = display_0b27b14;\n",
       "        myVizzu_0b27b14.parentNode.insertBefore(myVizzu_bb04c69, myVizzu_0b27b14);\n",
       "        myVizzu_bb04c69.scrollIntoView({behavior: \"auto\", block: \"center\"});\n",
       "        return chart.animate(snapshot_a44fd55);\n",
       "    });\n",
       "</script>"
      ]
     },
     "metadata": {},
     "output_type": "display_data"
    },
    {
     "data": {
      "text/html": [
       "<script id=\"myVizzu_2c0ce6e\">\n",
       "    let display_2c0ce6e = myVizzu_2c0ce6e.parentNode.parentNode.style.display;\n",
       "    myVizzu_2c0ce6e.parentNode.parentNode.style.display = \"none\";\n",
       "    chart_bb04c69 = chart_bb04c69.then(chart => {\n",
       "        if (myVizzu_bb04c69.parentNode && myVizzu_bb04c69.parentNode.parentNode) {\n",
       "            myVizzu_bb04c69.parentNode.parentNode.style.display = \"none\";\n",
       "        }\n",
       "        myVizzu_2c0ce6e.parentNode.parentNode.style.display = display_2c0ce6e;\n",
       "        myVizzu_2c0ce6e.parentNode.insertBefore(myVizzu_bb04c69, myVizzu_2c0ce6e);\n",
       "        myVizzu_bb04c69.scrollIntoView({behavior: \"auto\", block: \"center\"});\n",
       "        return chart.animate({\"config\": {\"title\": \"...or descending order.\"}});\n",
       "    });\n",
       "</script>"
      ]
     },
     "metadata": {},
     "output_type": "display_data"
    },
    {
     "data": {
      "text/html": [
       "<script id=\"myVizzu_577315f\">\n",
       "    let display_577315f = myVizzu_577315f.parentNode.parentNode.style.display;\n",
       "    myVizzu_577315f.parentNode.parentNode.style.display = \"none\";\n",
       "    chart_bb04c69 = chart_bb04c69.then(chart => {\n",
       "        if (myVizzu_bb04c69.parentNode && myVizzu_bb04c69.parentNode.parentNode) {\n",
       "            myVizzu_bb04c69.parentNode.parentNode.style.display = \"none\";\n",
       "        }\n",
       "        myVizzu_577315f.parentNode.parentNode.style.display = display_577315f;\n",
       "        myVizzu_577315f.parentNode.insertBefore(myVizzu_bb04c69, myVizzu_577315f);\n",
       "        myVizzu_bb04c69.scrollIntoView({behavior: \"auto\", block: \"center\"});\n",
       "        return chart.animate({\"config\": {\"reverse\": true}});\n",
       "    });\n",
       "</script>"
      ]
     },
     "metadata": {},
     "output_type": "display_data"
    },
    {
     "data": {
      "text/html": [
       "<script id=\"myVizzu_b250fcc\">\n",
       "    myVizzu_b250fcc.parentNode.parentNode.style.display = \"none\";\n",
       "    let snapshot_b250fcc;\n",
       "    chart_bb04c69 = chart_bb04c69.then(chart => {\n",
       "        snapshot_b250fcc = chart.store();\n",
       "        return chart;\n",
       "    });\n",
       "</script>"
      ]
     },
     "metadata": {},
     "output_type": "display_data"
    }
   ],
   "source": [
    "chart.animate(snapshot1)\n",
    "\n",
    "chart.animate(Config({\"title\": \"...or descending order.\"}))\n",
    "\n",
    "chart.animate(Config({\n",
    "    \"reverse\": True,\n",
    "}))\n",
    "\n",
    "snapshot2 = chart.store()"
   ]
  },
  {
   "cell_type": "markdown",
   "id": "527bc690",
   "metadata": {},
   "source": [
    "This is how to switch back to the default sorting."
   ]
  },
  {
   "cell_type": "code",
   "execution_count": 3,
   "id": "a18b8749",
   "metadata": {},
   "outputs": [
    {
     "data": {
      "text/html": [
       "<script id=\"myVizzu_09c58bf\">\n",
       "    let display_09c58bf = myVizzu_09c58bf.parentNode.parentNode.style.display;\n",
       "    myVizzu_09c58bf.parentNode.parentNode.style.display = \"none\";\n",
       "    chart_bb04c69 = chart_bb04c69.then(chart => {\n",
       "        if (myVizzu_bb04c69.parentNode && myVizzu_bb04c69.parentNode.parentNode) {\n",
       "            myVizzu_bb04c69.parentNode.parentNode.style.display = \"none\";\n",
       "        }\n",
       "        myVizzu_09c58bf.parentNode.parentNode.style.display = display_09c58bf;\n",
       "        myVizzu_09c58bf.parentNode.insertBefore(myVizzu_bb04c69, myVizzu_09c58bf);\n",
       "        myVizzu_bb04c69.scrollIntoView({behavior: \"auto\", block: \"center\"});\n",
       "        return chart.animate(snapshot_b250fcc);\n",
       "    });\n",
       "</script>"
      ]
     },
     "metadata": {},
     "output_type": "display_data"
    },
    {
     "data": {
      "text/html": [
       "<script id=\"myVizzu_3069ef1\">\n",
       "    let display_3069ef1 = myVizzu_3069ef1.parentNode.parentNode.style.display;\n",
       "    myVizzu_3069ef1.parentNode.parentNode.style.display = \"none\";\n",
       "    chart_bb04c69 = chart_bb04c69.then(chart => {\n",
       "        if (myVizzu_bb04c69.parentNode && myVizzu_bb04c69.parentNode.parentNode) {\n",
       "            myVizzu_bb04c69.parentNode.parentNode.style.display = \"none\";\n",
       "        }\n",
       "        myVizzu_3069ef1.parentNode.parentNode.style.display = display_3069ef1;\n",
       "        myVizzu_3069ef1.parentNode.insertBefore(myVizzu_bb04c69, myVizzu_3069ef1);\n",
       "        myVizzu_bb04c69.scrollIntoView({behavior: \"auto\", block: \"center\"});\n",
       "        return chart.animate({\"config\": {\"title\": \"Let's get back to where we were\"}});\n",
       "    });\n",
       "</script>"
      ]
     },
     "metadata": {},
     "output_type": "display_data"
    },
    {
     "data": {
      "text/html": [
       "<script id=\"myVizzu_45ee1a4\">\n",
       "    let display_45ee1a4 = myVizzu_45ee1a4.parentNode.parentNode.style.display;\n",
       "    myVizzu_45ee1a4.parentNode.parentNode.style.display = \"none\";\n",
       "    chart_bb04c69 = chart_bb04c69.then(chart => {\n",
       "        if (myVizzu_bb04c69.parentNode && myVizzu_bb04c69.parentNode.parentNode) {\n",
       "            myVizzu_bb04c69.parentNode.parentNode.style.display = \"none\";\n",
       "        }\n",
       "        myVizzu_45ee1a4.parentNode.parentNode.style.display = display_45ee1a4;\n",
       "        myVizzu_45ee1a4.parentNode.insertBefore(myVizzu_bb04c69, myVizzu_45ee1a4);\n",
       "        myVizzu_bb04c69.scrollIntoView({behavior: \"auto\", block: \"center\"});\n",
       "        return chart.animate({\"config\": {\"sort\": \"none\", \"reverse\": false}});\n",
       "    });\n",
       "</script>"
      ]
     },
     "metadata": {},
     "output_type": "display_data"
    },
    {
     "data": {
      "text/html": [
       "<script id=\"myVizzu_444bb50\">\n",
       "    myVizzu_444bb50.parentNode.parentNode.style.display = \"none\";\n",
       "    let snapshot_444bb50;\n",
       "    chart_bb04c69 = chart_bb04c69.then(chart => {\n",
       "        snapshot_444bb50 = chart.store();\n",
       "        return chart;\n",
       "    });\n",
       "</script>"
      ]
     },
     "metadata": {},
     "output_type": "display_data"
    }
   ],
   "source": [
    "chart.animate(snapshot2)\n",
    "\n",
    "chart.animate(Config({\"title\": \"Let's get back to where we were\"}))\n",
    "\n",
    "chart.animate(Config({\n",
    "    \"sort\": \"none\",\n",
    "    \"reverse\": False,\n",
    "}))\n",
    "\n",
    "snapshot3 = chart.store()"
   ]
  },
  {
   "cell_type": "markdown",
   "id": "eae56a59",
   "metadata": {},
   "source": [
    "When you have more than one dimension on a channel, their order determines how the elements are grouped."
   ]
  },
  {
   "cell_type": "code",
   "execution_count": 4,
   "id": "8fdbb27b",
   "metadata": {},
   "outputs": [
    {
     "data": {
      "text/html": [
       "<script id=\"myVizzu_1cba67b\">\n",
       "    let display_1cba67b = myVizzu_1cba67b.parentNode.parentNode.style.display;\n",
       "    myVizzu_1cba67b.parentNode.parentNode.style.display = \"none\";\n",
       "    chart_bb04c69 = chart_bb04c69.then(chart => {\n",
       "        if (myVizzu_bb04c69.parentNode && myVizzu_bb04c69.parentNode.parentNode) {\n",
       "            myVizzu_bb04c69.parentNode.parentNode.style.display = \"none\";\n",
       "        }\n",
       "        myVizzu_1cba67b.parentNode.parentNode.style.display = display_1cba67b;\n",
       "        myVizzu_1cba67b.parentNode.insertBefore(myVizzu_bb04c69, myVizzu_1cba67b);\n",
       "        myVizzu_bb04c69.scrollIntoView({behavior: \"auto\", block: \"center\"});\n",
       "        return chart.animate(snapshot_444bb50);\n",
       "    });\n",
       "</script>"
      ]
     },
     "metadata": {},
     "output_type": "display_data"
    },
    {
     "data": {
      "text/html": [
       "<script id=\"myVizzu_3befa28\">\n",
       "    let display_3befa28 = myVizzu_3befa28.parentNode.parentNode.style.display;\n",
       "    myVizzu_3befa28.parentNode.parentNode.style.display = \"none\";\n",
       "    chart_bb04c69 = chart_bb04c69.then(chart => {\n",
       "        if (myVizzu_bb04c69.parentNode && myVizzu_bb04c69.parentNode.parentNode) {\n",
       "            myVizzu_bb04c69.parentNode.parentNode.style.display = \"none\";\n",
       "        }\n",
       "        myVizzu_3befa28.parentNode.parentNode.style.display = display_3befa28;\n",
       "        myVizzu_3befa28.parentNode.insertBefore(myVizzu_bb04c69, myVizzu_3befa28);\n",
       "        myVizzu_bb04c69.scrollIntoView({behavior: \"auto\", block: \"center\"});\n",
       "        return chart.animate({\"config\": {\"title\": \"With two discretes on one axis...\"}});\n",
       "    });\n",
       "</script>"
      ]
     },
     "metadata": {},
     "output_type": "display_data"
    },
    {
     "data": {
      "text/html": [
       "<script id=\"myVizzu_a3f923a\">\n",
       "    let display_a3f923a = myVizzu_a3f923a.parentNode.parentNode.style.display;\n",
       "    myVizzu_a3f923a.parentNode.parentNode.style.display = \"none\";\n",
       "    chart_bb04c69 = chart_bb04c69.then(chart => {\n",
       "        if (myVizzu_bb04c69.parentNode && myVizzu_bb04c69.parentNode.parentNode) {\n",
       "            myVizzu_bb04c69.parentNode.parentNode.style.display = \"none\";\n",
       "        }\n",
       "        myVizzu_a3f923a.parentNode.parentNode.style.display = display_a3f923a;\n",
       "        myVizzu_a3f923a.parentNode.insertBefore(myVizzu_bb04c69, myVizzu_a3f923a);\n",
       "        myVizzu_bb04c69.scrollIntoView({behavior: \"auto\", block: \"center\"});\n",
       "        return chart.animate({\"config\": {\"channels\": {\"y\": {\"detach\": \"Types\"}, \"x\": {\"set\": [\"Genres\", \"Types\"]}}}});\n",
       "    });\n",
       "</script>"
      ]
     },
     "metadata": {},
     "output_type": "display_data"
    },
    {
     "data": {
      "text/html": [
       "<script id=\"myVizzu_1417d14\">\n",
       "    myVizzu_1417d14.parentNode.parentNode.style.display = \"none\";\n",
       "    let snapshot_1417d14;\n",
       "    chart_bb04c69 = chart_bb04c69.then(chart => {\n",
       "        snapshot_1417d14 = chart.store();\n",
       "        return chart;\n",
       "    });\n",
       "</script>"
      ]
     },
     "metadata": {},
     "output_type": "display_data"
    }
   ],
   "source": [
    "chart.animate(snapshot3)\n",
    "\n",
    "chart.animate(Config({\"title\": \"With two discretes on one axis...\"}))\n",
    "\n",
    "chart.animate(Config({\n",
    "    \"channels\": {\n",
    "        \"y\": {\n",
    "            \"detach\": \"Types\"\n",
    "        },\n",
    "        \"x\": {\n",
    "            \"set\": [\"Genres\", \"Types\"]\n",
    "        },\n",
    "    }\n",
    "}))\n",
    "\n",
    "snapshot4 = chart.store()"
   ]
  },
  {
   "cell_type": "markdown",
   "id": "173771d8",
   "metadata": {},
   "source": [
    "When switching the order of dimensions on the x-axis Vizzu will rearrange the elements according to this new logic."
   ]
  },
  {
   "cell_type": "code",
   "execution_count": 5,
   "id": "02100d01",
   "metadata": {},
   "outputs": [
    {
     "data": {
      "text/html": [
       "<script id=\"myVizzu_4b1ff20\">\n",
       "    let display_4b1ff20 = myVizzu_4b1ff20.parentNode.parentNode.style.display;\n",
       "    myVizzu_4b1ff20.parentNode.parentNode.style.display = \"none\";\n",
       "    chart_bb04c69 = chart_bb04c69.then(chart => {\n",
       "        if (myVizzu_bb04c69.parentNode && myVizzu_bb04c69.parentNode.parentNode) {\n",
       "            myVizzu_bb04c69.parentNode.parentNode.style.display = \"none\";\n",
       "        }\n",
       "        myVizzu_4b1ff20.parentNode.parentNode.style.display = display_4b1ff20;\n",
       "        myVizzu_4b1ff20.parentNode.insertBefore(myVizzu_bb04c69, myVizzu_4b1ff20);\n",
       "        myVizzu_bb04c69.scrollIntoView({behavior: \"auto\", block: \"center\"});\n",
       "        return chart.animate(snapshot_1417d14);\n",
       "    });\n",
       "</script>"
      ]
     },
     "metadata": {},
     "output_type": "display_data"
    },
    {
     "data": {
      "text/html": [
       "<script id=\"myVizzu_05b8024\">\n",
       "    let display_05b8024 = myVizzu_05b8024.parentNode.parentNode.style.display;\n",
       "    myVizzu_05b8024.parentNode.parentNode.style.display = \"none\";\n",
       "    chart_bb04c69 = chart_bb04c69.then(chart => {\n",
       "        if (myVizzu_bb04c69.parentNode && myVizzu_bb04c69.parentNode.parentNode) {\n",
       "            myVizzu_bb04c69.parentNode.parentNode.style.display = \"none\";\n",
       "        }\n",
       "        myVizzu_05b8024.parentNode.parentNode.style.display = display_05b8024;\n",
       "        myVizzu_05b8024.parentNode.insertBefore(myVizzu_bb04c69, myVizzu_05b8024);\n",
       "        myVizzu_bb04c69.scrollIntoView({behavior: \"auto\", block: \"center\"});\n",
       "        return chart.animate({\"config\": {\"title\": \"...grouping is determined by their order.\"}});\n",
       "    });\n",
       "</script>"
      ]
     },
     "metadata": {},
     "output_type": "display_data"
    },
    {
     "data": {
      "text/html": [
       "<script id=\"myVizzu_2caef95\">\n",
       "    let display_2caef95 = myVizzu_2caef95.parentNode.parentNode.style.display;\n",
       "    myVizzu_2caef95.parentNode.parentNode.style.display = \"none\";\n",
       "    chart_bb04c69 = chart_bb04c69.then(chart => {\n",
       "        if (myVizzu_bb04c69.parentNode && myVizzu_bb04c69.parentNode.parentNode) {\n",
       "            myVizzu_bb04c69.parentNode.parentNode.style.display = \"none\";\n",
       "        }\n",
       "        myVizzu_2caef95.parentNode.parentNode.style.display = display_2caef95;\n",
       "        myVizzu_2caef95.parentNode.insertBefore(myVizzu_bb04c69, myVizzu_2caef95);\n",
       "        myVizzu_bb04c69.scrollIntoView({behavior: \"auto\", block: \"center\"});\n",
       "        return chart.animate({\"config\": {\"channels\": {\"x\": {\"set\": [\"Types\", \"Genres\"]}}}});\n",
       "    });\n",
       "</script>"
      ]
     },
     "metadata": {},
     "output_type": "display_data"
    }
   ],
   "source": [
    "chart.animate(snapshot4)\n",
    "\n",
    "chart.animate(Config({\"title\": \"...grouping is determined by their order.\"}))\n",
    "\n",
    "chart.animate(Config({\n",
    "    \"channels\": {\n",
    "        \"x\": {\n",
    "            \"set\": [\"Types\", \"Genres\"]\n",
    "        },\n",
    "    }\n",
    "}))"
   ]
  }
 ],
 "metadata": {
  "kernelspec": {
   "display_name": "Python 3 (ipykernel)",
   "language": "python",
   "name": "python3"
  },
  "language_info": {
   "codemirror_mode": {
    "name": "ipython",
    "version": 3
   },
   "file_extension": ".py",
   "mimetype": "text/x-python",
   "name": "python",
   "nbconvert_exporter": "python",
   "pygments_lexer": "ipython3",
   "version": "3.8.10"
  }
 },
 "nbformat": 4,
 "nbformat_minor": 5
}
