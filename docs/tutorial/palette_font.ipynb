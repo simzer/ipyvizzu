{
 "cells": [
  {
   "cell_type": "markdown",
   "id": "8518ab11",
   "metadata": {},
   "source": [
    "## Color palette & fonts\n",
    "\n",
    "This and the next chapter provide a quick intro to the styling of the charts. You can either use the style property like in the following examples or use CSS. By using CSS, it's easier to set the same style for multiple charts on one page or re-use style settings.\n",
    "\n",
    "If you use CSS, don't change the set parameters later on via the style property.\n",
    "\n",
    "The font sizes automatically adjust to the chart size to help readability, and can also be set separately or for specific groups.\n",
    "\n",
    "The color palette is changed to the colors we add here. The order of the dimension’s items in the data set determine which color belongs to which item as the colors are added one-by-one. If you want to use the same setting via CSS, you should add --vizzu-plot-marker-colorPalette: #9355e8FF #123456FF #BDAF10FF;"
   ]
  },
  {
   "cell_type": "code",
   "execution_count": 1,
   "id": "b0552636",
   "metadata": {},
   "outputs": [
    {
     "data": {
      "text/html": [
       "<script id=\"myVizzu_2ed1ec4\">\n",
       "    let myVizzu_d64975c = document.createElement(\"div\");\n",
       "    myVizzu_d64975c.style.cssText = \"width: 800px; height: 480px;\";\n",
       "    let chart_d64975c = import(\"https://cdn.jsdelivr.net/npm/vizzu@~0.4.0/dist/vizzu.min.js\").then(Vizzu => new Vizzu.default(myVizzu_d64975c).initializing);\n",
       "    myVizzu_2ed1ec4.parentNode.insertBefore(myVizzu_d64975c, myVizzu_2ed1ec4);\n",
       "</script>"
      ]
     },
     "metadata": {},
     "output_type": "display_data"
    },
    {
     "data": {
      "text/html": [
       "<script id=\"myVizzu_d593d40\">\n",
       "    let display_d593d40 = myVizzu_d593d40.parentNode.parentNode.style.display;\n",
       "    myVizzu_d593d40.parentNode.parentNode.style.display = \"none\";\n",
       "    chart_d64975c = chart_d64975c.then(chart => {\n",
       "        if (myVizzu_d64975c.parentNode && myVizzu_d64975c.parentNode.parentNode) {\n",
       "            myVizzu_d64975c.parentNode.parentNode.style.display = \"none\";\n",
       "        }\n",
       "        myVizzu_d593d40.parentNode.parentNode.style.display = display_d593d40;\n",
       "        myVizzu_d593d40.parentNode.insertBefore(myVizzu_d64975c, myVizzu_d593d40);\n",
       "        myVizzu_d64975c.scrollIntoView({behavior: \"auto\", block: \"center\"});\n",
       "        return chart.animate({\"data\": {\"dimensions\": [{\"name\": \"Genres\", \"values\": [\"Pop\", \"Rock\", \"Jazz\", \"Metal\"]}, {\"name\": \"Types\", \"values\": [\"Hard\", \"Smooth\", \"Experimental\"]}], \"measures\": [{\"name\": \"Popularity\", \"values\": [[114, 96, 78, 52], [56, 36, 174, 121], [127, 83, 94, 58]]}]}});\n",
       "    });\n",
       "</script>"
      ]
     },
     "metadata": {},
     "output_type": "display_data"
    },
    {
     "data": {
      "text/html": [
       "<script id=\"myVizzu_302bc17\">\n",
       "    let display_302bc17 = myVizzu_302bc17.parentNode.parentNode.style.display;\n",
       "    myVizzu_302bc17.parentNode.parentNode.style.display = \"none\";\n",
       "    chart_d64975c = chart_d64975c.then(chart => {\n",
       "        if (myVizzu_d64975c.parentNode && myVizzu_d64975c.parentNode.parentNode) {\n",
       "            myVizzu_d64975c.parentNode.parentNode.style.display = \"none\";\n",
       "        }\n",
       "        myVizzu_302bc17.parentNode.parentNode.style.display = display_302bc17;\n",
       "        myVizzu_302bc17.parentNode.insertBefore(myVizzu_d64975c, myVizzu_302bc17);\n",
       "        myVizzu_d64975c.scrollIntoView({behavior: \"auto\", block: \"center\"});\n",
       "        return chart.animate({\"config\": {\"channels\": {\"y\": {\"set\": [\"Popularity\", \"Types\"]}, \"x\": {\"set\": \"Genres\"}}, \"label\": {\"attach\": \"Popularity\"}, \"color\": {\"set\": \"Types\"}, \"title\": \"Color palette\"}});\n",
       "    });\n",
       "</script>"
      ]
     },
     "metadata": {},
     "output_type": "display_data"
    },
    {
     "data": {
      "text/html": [
       "<script id=\"myVizzu_7419143\">\n",
       "    let display_7419143 = myVizzu_7419143.parentNode.parentNode.style.display;\n",
       "    myVizzu_7419143.parentNode.parentNode.style.display = \"none\";\n",
       "    chart_d64975c = chart_d64975c.then(chart => {\n",
       "        if (myVizzu_d64975c.parentNode && myVizzu_d64975c.parentNode.parentNode) {\n",
       "            myVizzu_d64975c.parentNode.parentNode.style.display = \"none\";\n",
       "        }\n",
       "        myVizzu_7419143.parentNode.parentNode.style.display = display_7419143;\n",
       "        myVizzu_7419143.parentNode.insertBefore(myVizzu_d64975c, myVizzu_7419143);\n",
       "        myVizzu_d64975c.scrollIntoView({behavior: \"auto\", block: \"center\"});\n",
       "        return chart.animate({\"style\": {\"plot\": {\"marker\": {\"colorPalette\": \"#9355e8FF #123456FF #BDAF10FF\"}}}});\n",
       "    });\n",
       "</script>"
      ]
     },
     "metadata": {},
     "output_type": "display_data"
    },
    {
     "data": {
      "text/html": [
       "<script id=\"myVizzu_e943173\">\n",
       "    myVizzu_e943173.parentNode.parentNode.style.display = \"none\";\n",
       "    let snapshot_e943173;\n",
       "    chart_d64975c = chart_d64975c.then(chart => {\n",
       "        snapshot_e943173 = chart.store();\n",
       "        return chart;\n",
       "    });\n",
       "</script>"
      ]
     },
     "metadata": {},
     "output_type": "display_data"
    }
   ],
   "source": [
    "from ipyvizzu import Chart, Data, Config, Style\n",
    "\n",
    "chart = Chart()\n",
    "\n",
    "data = Data.from_json(\"./music_data.json\")\n",
    "\n",
    "chart.animate(data)\n",
    "\n",
    "chart.animate(Config({\n",
    "    \"channels\": {\n",
    "        \"y\": {\n",
    "            \"set\": [\"Popularity\", \"Types\"]\n",
    "        }, \n",
    "        \"x\": {\n",
    "            \"set\": \"Genres\"\n",
    "        }\n",
    "    }, \n",
    "    \"label\": {\n",
    "        \"attach\": \"Popularity\"\n",
    "    },\n",
    "    \"color\": {\n",
    "        \"set\": \"Types\"\n",
    "    },\n",
    "    \"title\": \"Color palette\"\n",
    "}))\n",
    "\n",
    "chart.animate(Style({\n",
    "    \"plot\": {\n",
    "        \"marker\": {\n",
    "            \"colorPalette\": \"#9355e8FF #123456FF #BDAF10FF\"\n",
    "        }\n",
    "    }\n",
    "}))\n",
    "\n",
    "snapshot1 = chart.store()"
   ]
  },
  {
   "cell_type": "markdown",
   "id": "00bf9cba",
   "metadata": {},
   "source": [
    "Changing the title font size will only affect the title; all other font sizes remain the same. CSS version: --vizzu-title-fontSize: 50;"
   ]
  },
  {
   "cell_type": "code",
   "execution_count": 2,
   "id": "9a7fe9b8",
   "metadata": {},
   "outputs": [
    {
     "data": {
      "text/html": [
       "<script id=\"myVizzu_579f1d1\">\n",
       "    let display_579f1d1 = myVizzu_579f1d1.parentNode.parentNode.style.display;\n",
       "    myVizzu_579f1d1.parentNode.parentNode.style.display = \"none\";\n",
       "    chart_d64975c = chart_d64975c.then(chart => {\n",
       "        if (myVizzu_d64975c.parentNode && myVizzu_d64975c.parentNode.parentNode) {\n",
       "            myVizzu_d64975c.parentNode.parentNode.style.display = \"none\";\n",
       "        }\n",
       "        myVizzu_579f1d1.parentNode.parentNode.style.display = display_579f1d1;\n",
       "        myVizzu_579f1d1.parentNode.insertBefore(myVizzu_d64975c, myVizzu_579f1d1);\n",
       "        myVizzu_d64975c.scrollIntoView({behavior: \"auto\", block: \"center\"});\n",
       "        return chart.animate(snapshot_e943173);\n",
       "    });\n",
       "</script>"
      ]
     },
     "metadata": {},
     "output_type": "display_data"
    },
    {
     "data": {
      "text/html": [
       "<script id=\"myVizzu_42064f4\">\n",
       "    let display_42064f4 = myVizzu_42064f4.parentNode.parentNode.style.display;\n",
       "    myVizzu_42064f4.parentNode.parentNode.style.display = \"none\";\n",
       "    chart_d64975c = chart_d64975c.then(chart => {\n",
       "        if (myVizzu_d64975c.parentNode && myVizzu_d64975c.parentNode.parentNode) {\n",
       "            myVizzu_d64975c.parentNode.parentNode.style.display = \"none\";\n",
       "        }\n",
       "        myVizzu_42064f4.parentNode.parentNode.style.display = display_42064f4;\n",
       "        myVizzu_42064f4.parentNode.insertBefore(myVizzu_d64975c, myVizzu_42064f4);\n",
       "        myVizzu_d64975c.scrollIntoView({behavior: \"auto\", block: \"center\"});\n",
       "        return chart.animate({\"config\": {\"title\": \"Title font size\"}});\n",
       "    });\n",
       "</script>"
      ]
     },
     "metadata": {},
     "output_type": "display_data"
    },
    {
     "data": {
      "text/html": [
       "<script id=\"myVizzu_4cb3156\">\n",
       "    let display_4cb3156 = myVizzu_4cb3156.parentNode.parentNode.style.display;\n",
       "    myVizzu_4cb3156.parentNode.parentNode.style.display = \"none\";\n",
       "    chart_d64975c = chart_d64975c.then(chart => {\n",
       "        if (myVizzu_d64975c.parentNode && myVizzu_d64975c.parentNode.parentNode) {\n",
       "            myVizzu_d64975c.parentNode.parentNode.style.display = \"none\";\n",
       "        }\n",
       "        myVizzu_4cb3156.parentNode.parentNode.style.display = display_4cb3156;\n",
       "        myVizzu_4cb3156.parentNode.insertBefore(myVizzu_d64975c, myVizzu_4cb3156);\n",
       "        myVizzu_d64975c.scrollIntoView({behavior: \"auto\", block: \"center\"});\n",
       "        return chart.animate({\"style\": {\"title\": {\"fontSize\": 50}}});\n",
       "    });\n",
       "</script>"
      ]
     },
     "metadata": {},
     "output_type": "display_data"
    },
    {
     "data": {
      "text/html": [
       "<script id=\"myVizzu_1dc6b69\">\n",
       "    myVizzu_1dc6b69.parentNode.parentNode.style.display = \"none\";\n",
       "    let snapshot_1dc6b69;\n",
       "    chart_d64975c = chart_d64975c.then(chart => {\n",
       "        snapshot_1dc6b69 = chart.store();\n",
       "        return chart;\n",
       "    });\n",
       "</script>"
      ]
     },
     "metadata": {},
     "output_type": "display_data"
    }
   ],
   "source": [
    "chart.animate(snapshot1)\n",
    "\n",
    "chart.animate(Config({\"title\": \"Title font size\"}))\n",
    "\n",
    "chart.animate(Style({\n",
    "    \"title\": {\n",
    "        \"fontSize\": 50\n",
    "    }\n",
    "}))\n",
    "\n",
    "snapshot2 = chart.store()"
   ]
  },
  {
   "cell_type": "markdown",
   "id": "fa329122",
   "metadata": {},
   "source": [
    "This is how to set the font size back to its default value."
   ]
  },
  {
   "cell_type": "code",
   "execution_count": 3,
   "id": "88fa24a8",
   "metadata": {},
   "outputs": [
    {
     "data": {
      "text/html": [
       "<script id=\"myVizzu_a97cb86\">\n",
       "    let display_a97cb86 = myVizzu_a97cb86.parentNode.parentNode.style.display;\n",
       "    myVizzu_a97cb86.parentNode.parentNode.style.display = \"none\";\n",
       "    chart_d64975c = chart_d64975c.then(chart => {\n",
       "        if (myVizzu_d64975c.parentNode && myVizzu_d64975c.parentNode.parentNode) {\n",
       "            myVizzu_d64975c.parentNode.parentNode.style.display = \"none\";\n",
       "        }\n",
       "        myVizzu_a97cb86.parentNode.parentNode.style.display = display_a97cb86;\n",
       "        myVizzu_a97cb86.parentNode.insertBefore(myVizzu_d64975c, myVizzu_a97cb86);\n",
       "        myVizzu_d64975c.scrollIntoView({behavior: \"auto\", block: \"center\"});\n",
       "        return chart.animate(snapshot_1dc6b69);\n",
       "    });\n",
       "</script>"
      ]
     },
     "metadata": {},
     "output_type": "display_data"
    },
    {
     "data": {
      "text/html": [
       "<script id=\"myVizzu_8faae92\">\n",
       "    let display_8faae92 = myVizzu_8faae92.parentNode.parentNode.style.display;\n",
       "    myVizzu_8faae92.parentNode.parentNode.style.display = \"none\";\n",
       "    chart_d64975c = chart_d64975c.then(chart => {\n",
       "        if (myVizzu_d64975c.parentNode && myVizzu_d64975c.parentNode.parentNode) {\n",
       "            myVizzu_d64975c.parentNode.parentNode.style.display = \"none\";\n",
       "        }\n",
       "        myVizzu_8faae92.parentNode.parentNode.style.display = display_8faae92;\n",
       "        myVizzu_8faae92.parentNode.insertBefore(myVizzu_d64975c, myVizzu_8faae92);\n",
       "        myVizzu_d64975c.scrollIntoView({behavior: \"auto\", block: \"center\"});\n",
       "        return chart.animate({\"config\": {\"title\": \"Title font size - back to default\"}});\n",
       "    });\n",
       "</script>"
      ]
     },
     "metadata": {},
     "output_type": "display_data"
    },
    {
     "data": {
      "text/html": [
       "<script id=\"myVizzu_50ebd04\">\n",
       "    let display_50ebd04 = myVizzu_50ebd04.parentNode.parentNode.style.display;\n",
       "    myVizzu_50ebd04.parentNode.parentNode.style.display = \"none\";\n",
       "    chart_d64975c = chart_d64975c.then(chart => {\n",
       "        if (myVizzu_d64975c.parentNode && myVizzu_d64975c.parentNode.parentNode) {\n",
       "            myVizzu_d64975c.parentNode.parentNode.style.display = \"none\";\n",
       "        }\n",
       "        myVizzu_50ebd04.parentNode.parentNode.style.display = display_50ebd04;\n",
       "        myVizzu_50ebd04.parentNode.insertBefore(myVizzu_d64975c, myVizzu_50ebd04);\n",
       "        myVizzu_d64975c.scrollIntoView({behavior: \"auto\", block: \"center\"});\n",
       "        return chart.animate({\"style\": {\"title\": {\"fontSize\": null}}});\n",
       "    });\n",
       "</script>"
      ]
     },
     "metadata": {},
     "output_type": "display_data"
    },
    {
     "data": {
      "text/html": [
       "<script id=\"myVizzu_c77cea7\">\n",
       "    myVizzu_c77cea7.parentNode.parentNode.style.display = \"none\";\n",
       "    let snapshot_c77cea7;\n",
       "    chart_d64975c = chart_d64975c.then(chart => {\n",
       "        snapshot_c77cea7 = chart.store();\n",
       "        return chart;\n",
       "    });\n",
       "</script>"
      ]
     },
     "metadata": {},
     "output_type": "display_data"
    }
   ],
   "source": [
    "chart.animate(snapshot2)\n",
    "\n",
    "chart.animate(Config({\"title\": \"Title font size - back to default\"}))\n",
    "\n",
    "chart.animate(Style({\n",
    "    \"title\": {\n",
    "        \"fontSize\": None\n",
    "    }\n",
    "}))\n",
    "\n",
    "snapshot3 = chart.store()"
   ]
  },
  {
   "cell_type": "markdown",
   "id": "3d68c376",
   "metadata": {},
   "source": [
    "In case you change the font size of the whole chart with the top-level fontSize parameter then every font on the chart will grow/shrink proportionally. The size refers to the font size of the axis labels by default."
   ]
  },
  {
   "cell_type": "code",
   "execution_count": 4,
   "id": "c7e60196",
   "metadata": {},
   "outputs": [
    {
     "data": {
      "text/html": [
       "<script id=\"myVizzu_d886020\">\n",
       "    let display_d886020 = myVizzu_d886020.parentNode.parentNode.style.display;\n",
       "    myVizzu_d886020.parentNode.parentNode.style.display = \"none\";\n",
       "    chart_d64975c = chart_d64975c.then(chart => {\n",
       "        if (myVizzu_d64975c.parentNode && myVizzu_d64975c.parentNode.parentNode) {\n",
       "            myVizzu_d64975c.parentNode.parentNode.style.display = \"none\";\n",
       "        }\n",
       "        myVizzu_d886020.parentNode.parentNode.style.display = display_d886020;\n",
       "        myVizzu_d886020.parentNode.insertBefore(myVizzu_d64975c, myVizzu_d886020);\n",
       "        myVizzu_d64975c.scrollIntoView({behavior: \"auto\", block: \"center\"});\n",
       "        return chart.animate(snapshot_c77cea7);\n",
       "    });\n",
       "</script>"
      ]
     },
     "metadata": {},
     "output_type": "display_data"
    },
    {
     "data": {
      "text/html": [
       "<script id=\"myVizzu_d3159b9\">\n",
       "    let display_d3159b9 = myVizzu_d3159b9.parentNode.parentNode.style.display;\n",
       "    myVizzu_d3159b9.parentNode.parentNode.style.display = \"none\";\n",
       "    chart_d64975c = chart_d64975c.then(chart => {\n",
       "        if (myVizzu_d64975c.parentNode && myVizzu_d64975c.parentNode.parentNode) {\n",
       "            myVizzu_d64975c.parentNode.parentNode.style.display = \"none\";\n",
       "        }\n",
       "        myVizzu_d3159b9.parentNode.parentNode.style.display = display_d3159b9;\n",
       "        myVizzu_d3159b9.parentNode.insertBefore(myVizzu_d64975c, myVizzu_d3159b9);\n",
       "        myVizzu_d64975c.scrollIntoView({behavior: \"auto\", block: \"center\"});\n",
       "        return chart.animate({\"config\": {\"title\": \"Setting all font sizes in one step\"}});\n",
       "    });\n",
       "</script>"
      ]
     },
     "metadata": {},
     "output_type": "display_data"
    },
    {
     "data": {
      "text/html": [
       "<script id=\"myVizzu_936f54c\">\n",
       "    let display_936f54c = myVizzu_936f54c.parentNode.parentNode.style.display;\n",
       "    myVizzu_936f54c.parentNode.parentNode.style.display = \"none\";\n",
       "    chart_d64975c = chart_d64975c.then(chart => {\n",
       "        if (myVizzu_d64975c.parentNode && myVizzu_d64975c.parentNode.parentNode) {\n",
       "            myVizzu_d64975c.parentNode.parentNode.style.display = \"none\";\n",
       "        }\n",
       "        myVizzu_936f54c.parentNode.parentNode.style.display = display_936f54c;\n",
       "        myVizzu_936f54c.parentNode.insertBefore(myVizzu_d64975c, myVizzu_936f54c);\n",
       "        myVizzu_d64975c.scrollIntoView({behavior: \"auto\", block: \"center\"});\n",
       "        return chart.animate({\"style\": {\"fontSize\": 20}});\n",
       "    });\n",
       "</script>"
      ]
     },
     "metadata": {},
     "output_type": "display_data"
    },
    {
     "data": {
      "text/html": [
       "<script id=\"myVizzu_fa63057\">\n",
       "    myVizzu_fa63057.parentNode.parentNode.style.display = \"none\";\n",
       "    let snapshot_fa63057;\n",
       "    chart_d64975c = chart_d64975c.then(chart => {\n",
       "        snapshot_fa63057 = chart.store();\n",
       "        return chart;\n",
       "    });\n",
       "</script>"
      ]
     },
     "metadata": {},
     "output_type": "display_data"
    }
   ],
   "source": [
    "chart.animate(snapshot3)\n",
    "\n",
    "chart.animate(Config({\"title\": \"Setting all font sizes in one step\"}))\n",
    "\n",
    "chart.animate(Style({\n",
    "    \"fontSize\": 20\n",
    "}))\n",
    "\n",
    "snapshot4 = chart.store()"
   ]
  },
  {
   "cell_type": "markdown",
   "id": "b45e96b6",
   "metadata": {},
   "source": [
    "You can reset styles to default on any levels by setting them to null."
   ]
  },
  {
   "cell_type": "code",
   "execution_count": 5,
   "id": "d58b14d9",
   "metadata": {},
   "outputs": [
    {
     "data": {
      "text/html": [
       "<script id=\"myVizzu_183344f\">\n",
       "    let display_183344f = myVizzu_183344f.parentNode.parentNode.style.display;\n",
       "    myVizzu_183344f.parentNode.parentNode.style.display = \"none\";\n",
       "    chart_d64975c = chart_d64975c.then(chart => {\n",
       "        if (myVizzu_d64975c.parentNode && myVizzu_d64975c.parentNode.parentNode) {\n",
       "            myVizzu_d64975c.parentNode.parentNode.style.display = \"none\";\n",
       "        }\n",
       "        myVizzu_183344f.parentNode.parentNode.style.display = display_183344f;\n",
       "        myVizzu_183344f.parentNode.insertBefore(myVizzu_d64975c, myVizzu_183344f);\n",
       "        myVizzu_d64975c.scrollIntoView({behavior: \"auto\", block: \"center\"});\n",
       "        return chart.animate(snapshot_fa63057);\n",
       "    });\n",
       "</script>"
      ]
     },
     "metadata": {},
     "output_type": "display_data"
    },
    {
     "data": {
      "text/html": [
       "<script id=\"myVizzu_7930a10\">\n",
       "    let display_7930a10 = myVizzu_7930a10.parentNode.parentNode.style.display;\n",
       "    myVizzu_7930a10.parentNode.parentNode.style.display = \"none\";\n",
       "    chart_d64975c = chart_d64975c.then(chart => {\n",
       "        if (myVizzu_d64975c.parentNode && myVizzu_d64975c.parentNode.parentNode) {\n",
       "            myVizzu_d64975c.parentNode.parentNode.style.display = \"none\";\n",
       "        }\n",
       "        myVizzu_7930a10.parentNode.parentNode.style.display = display_7930a10;\n",
       "        myVizzu_7930a10.parentNode.insertBefore(myVizzu_d64975c, myVizzu_7930a10);\n",
       "        myVizzu_d64975c.scrollIntoView({behavior: \"auto\", block: \"center\"});\n",
       "        return chart.animate({\"config\": {\"title\": \"Setting all style settings back to default\"}});\n",
       "    });\n",
       "</script>"
      ]
     },
     "metadata": {},
     "output_type": "display_data"
    },
    {
     "data": {
      "text/html": [
       "<script id=\"myVizzu_c4ee3d1\">\n",
       "    let display_c4ee3d1 = myVizzu_c4ee3d1.parentNode.parentNode.style.display;\n",
       "    myVizzu_c4ee3d1.parentNode.parentNode.style.display = \"none\";\n",
       "    chart_d64975c = chart_d64975c.then(chart => {\n",
       "        if (myVizzu_d64975c.parentNode && myVizzu_d64975c.parentNode.parentNode) {\n",
       "            myVizzu_d64975c.parentNode.parentNode.style.display = \"none\";\n",
       "        }\n",
       "        myVizzu_c4ee3d1.parentNode.parentNode.style.display = display_c4ee3d1;\n",
       "        myVizzu_c4ee3d1.parentNode.insertBefore(myVizzu_d64975c, myVizzu_c4ee3d1);\n",
       "        myVizzu_d64975c.scrollIntoView({behavior: \"auto\", block: \"center\"});\n",
       "        return chart.animate({\"style\": null});\n",
       "    });\n",
       "</script>"
      ]
     },
     "metadata": {},
     "output_type": "display_data"
    }
   ],
   "source": [
    "chart.animate(snapshot4)\n",
    "\n",
    "chart.animate(Config({\"title\": \"Setting all style settings back to default\"}))\n",
    "\n",
    "chart.animate(Style(None))"
   ]
  }
 ],
 "metadata": {
  "kernelspec": {
   "display_name": "Python 3 (ipykernel)",
   "language": "python",
   "name": "python3"
  },
  "language_info": {
   "codemirror_mode": {
    "name": "ipython",
    "version": 3
   },
   "file_extension": ".py",
   "mimetype": "text/x-python",
   "name": "python",
   "nbconvert_exporter": "python",
   "pygments_lexer": "ipython3",
   "version": "3.8.10"
  }
 },
 "nbformat": 4,
 "nbformat_minor": 5
}
