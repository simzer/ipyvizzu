{
 "cells": [
  {
   "cell_type": "markdown",
   "id": "9b68a06e",
   "metadata": {},
   "source": [
    "# Adding data\n",
    "\n",
    "## Data types\n",
    "\n",
    "ipyvizzu currently supports two types of data series: dimensions and measures. Dimensions slice the data cube Vizzu uses, whereas measures are values within the cube.\n",
    "\n",
    "Dimensions are categorical series that can contain strings and numbers, but both will be treated as strings. Temporal data such as dates or timestamps should also be added as dimensions. By default, Vizzu will draw the elements on the chart in the order they are provided in the data set. Thus we suggest adding temporal data in a sorted format from oldest to newest.\n",
    "\n",
    "Measures at the moment can only be numerical.\n",
    "\n",
    "**Missing values** should be filled with the number zero in case of measures and \"\" in case of categories - this creates a category with \"\" as its name. `null`, `undefined` and empty cells will result in an error.\n",
    "\n",
    "### Adding data\n",
    "\n",
    "There are multiple ways you can add data to ipyvizzu:\n",
    "\n",
    "* Using pandas DataFrame - [More info](./data.ipynb#dataframe)\n",
    "* Specify data by series - column after column if you think of a spreadsheet. - [More info](./data.ipynb#byseries)\n",
    "* Specify data by records - row after row. - [More info](./data.ipynb#byrecords)\n",
    "* Data cube form - [More info](./data.ipynb#datacube)\n",
    "* JSON - [More info](./data.ipynb#json)"
   ]
  },
  {
   "cell_type": "markdown",
   "id": "e45b133a",
   "metadata": {},
   "source": [
    "<a id=\"dataframe\"></a>\n",
    "### using pandas DataFrame\n",
    "\n",
    "Note: `Data().add_data_frame()` arguments are:\n",
    "\n",
    "* `data_frame` (mandatory): pandas DataFrame object\n",
    "* `infer_types` (optional, default: None): When ommitted, ipyvizzu tries to determine the infer type of a column (dimension or measure) by its first value. The infer type of a column can be manually set in the following format `infer_types={\"column_name\": \"infer_type\"}`. Example: When year is added as a series of numbers but should be used as a dimension instead: infer_types={\"Year\": \"dimension\"} \n",
    "* `default_measure_value` (optional, default: 0): ipyvizzu fills empty measure values with this number.\n",
    "* `default_dimension_value` (optional, default: \"\"): ipyvizzu fills the empty dimension values with this string."
   ]
  },
  {
   "cell_type": "code",
   "execution_count": null,
   "id": "97d78bca",
   "metadata": {},
   "outputs": [],
   "source": [
    "import pandas as pd\n",
    "\n",
    "from ipyvizzu import Data\n",
    "\n",
    "data_frame = pd.DataFrame(\n",
    "    {\n",
    "        \"Genres\": [\n",
    "            \"Pop\",\n",
    "            \"Rock\",\n",
    "            \"Jazz\",\n",
    "            \"Metal\",\n",
    "            \"Pop\",\n",
    "            \"Rock\",\n",
    "            \"Jazz\",\n",
    "            \"Metal\",\n",
    "            \"Pop\",\n",
    "            \"Rock\",\n",
    "            \"Jazz\",\n",
    "            \"Metal\"\n",
    "        ],\n",
    "        \"Kinds\": [\n",
    "            \"Hard\",\n",
    "            \"Hard\",\n",
    "            \"Hard\",\n",
    "            \"Hard\",\n",
    "            \"Smooth\",\n",
    "            \"Smooth\",\n",
    "            \"Smooth\",\n",
    "            \"Smooth\",\n",
    "            \"Experimental\",\n",
    "            \"Experimental\",\n",
    "            \"Experimental\",\n",
    "            \"Experimental\"\n",
    "        ],\n",
    "        \"Popularity\": [\n",
    "            114, \n",
    "            96, \n",
    "            78, \n",
    "            52, \n",
    "            56, \n",
    "            36, \n",
    "            174, \n",
    "            121, \n",
    "            127, \n",
    "            83, \n",
    "            94, \n",
    "            58\n",
    "        ]\n",
    "    }\n",
    ")\n",
    "\n",
    "data_pd = Data()\n",
    "data_pd.add_data_frame(data_frame)"
   ]
  },
  {
   "cell_type": "markdown",
   "id": "2b9a2d02",
   "metadata": {},
   "source": [
    "When you specify the data by series or by records, it has to be in first normal form. Here is an example of that:\n",
    "\n",
    "|Genres |\tKinds | Popularity |\n",
    "|---|---|---|\n",
    "|Pop \t |Hard \t|114|\n",
    "|Rock \t |Hard \t|96|\n",
    "|Jazz \t |Hard \t|78|\n",
    "|Metal \t |Hard \t|52|\n",
    "|Pop \t |Smooth \t|56|\n",
    "|Rock \t |Smooth \t|36|\n",
    "|Jazz \t |Smooth \t|174|\n",
    "|Metal \t |Smooth \t|121|\n",
    "|Pop \t |Experimental \t|127|\n",
    "|Rock \t |Experimental \t|83|\n",
    "|Jazz \t |Experimental \t|94|\n",
    "|Metal \t |Experimental \t|58|\n",
    "\n",
    "In the type parameter, you can set if a series is a dimension or a measure. Adding the type parameter is optional. If omitted, ipyvizzu will automatically select the type depending on the first element of the array using the typeof operator. If it is a numbers, it will be declared as a measure, in any other case, a dimension."
   ]
  },
  {
   "cell_type": "markdown",
   "id": "83fca0c8",
   "metadata": {},
   "source": [
    "<a id=\"byseries\"></a>\n",
    "### Data specified by series"
   ]
  },
  {
   "cell_type": "code",
   "execution_count": null,
   "id": "bb92ccaf",
   "metadata": {},
   "outputs": [],
   "source": [
    "from ipyvizzu import Data\n",
    "\n",
    "data_series = Data()\n",
    "data_series.add_series(\n",
    "    \"Genres\",\n",
    "    [\"Pop\", \"Rock\", \"Jazz\", \"Metal\",\n",
    "     \"Pop\", \"Rock\", \"Jazz\", \"Metal\",\n",
    "     \"Pop\", \"Rock\", \"Jazz\", \"Metal\"],\n",
    "    type=\"dimension\"\n",
    ")\n",
    "data_series.add_series(\n",
    "    \"Kinds\",\n",
    "    [\"Hard\", \"Hard\", \"Hard\", \"Hard\",\n",
    "     \"Smooth\", \"Smooth\", \"Smooth\", \"Smooth\",\n",
    "     \"Experimental\", \"Experimental\", \"Experimental\", \"Experimental\"],\n",
    "    type=\"dimension\"\n",
    ")\n",
    "data_series.add_series(\n",
    "    \"Popularity\",\n",
    "    [114, 96, 78, 52, 56, 36, 174, 121, 127, 83, 94, 58],\n",
    "    type=\"measure\"\n",
    ")"
   ]
  },
  {
   "cell_type": "markdown",
   "id": "46210c8c",
   "metadata": {},
   "source": [
    "<a id=\"byrecords\"></a>\n",
    "### Data specified by records"
   ]
  },
  {
   "cell_type": "code",
   "execution_count": null,
   "id": "7db79113",
   "metadata": {},
   "outputs": [],
   "source": [
    "from ipyvizzu import Data\n",
    "\n",
    "data_records = Data()\n",
    "\n",
    "data_records.add_series('Genres', type='dimension')\n",
    "data_records.add_series('Kinds', type='dimension')\n",
    "data_records.add_series('Popularity', type='measure')\n",
    "\n",
    "record = ['Pop', 'Hard', 114]\n",
    "\n",
    "data_records.add_record(record)\n",
    "\n",
    "records = [\n",
    "    ['Rock', 'Hard', 96],\n",
    "    ['Jazz', 'Hard', 78],\n",
    "    ['Metal', 'Hard', 52],\n",
    "    ['Pop', 'Smooth', 56],\n",
    "    ['Rock', 'Smooth', 36],\n",
    "    ['Jazz', 'Smooth', 174],\n",
    "    ['Metal', 'Smooth', 121],\n",
    "    ['Pop', 'Experimental', 127],\n",
    "    ['Rock', 'Experimental', 83],\n",
    "    ['Jazz', 'Experimental', 94],\n",
    "    ['Metal', 'Experimental', 58],\n",
    "]\n",
    "\n",
    "data_records.add_records(records)"
   ]
  },
  {
   "cell_type": "markdown",
   "id": "b2f94552",
   "metadata": {},
   "source": [
    "<a id=\"datacube\"></a>\n",
    "### Data cube"
   ]
  },
  {
   "cell_type": "code",
   "execution_count": null,
   "id": "1dcd113e",
   "metadata": {},
   "outputs": [],
   "source": [
    "from ipyvizzu import Data\n",
    "\n",
    "data_cube = Data()\n",
    "\n",
    "data_cube.add_dimension('Genres', [ 'Pop', 'Rock', 'Jazz', 'Metal'])\n",
    "data_cube.add_dimension('Kinds', [ 'Hard', 'Smooth', 'Experimental' ])\n",
    "\n",
    "data_cube.add_measure(\n",
    "    'Popularity',\n",
    "    [\n",
    "        [114, 96, 78, 52],\n",
    "        [56, 36, 174, 121],\n",
    "        [127, 83, 94, 58],\n",
    "    ]\n",
    ")"
   ]
  },
  {
   "cell_type": "markdown",
   "id": "8fcfddb1",
   "metadata": {},
   "source": [
    "<a id=\"json\"></a>\n",
    "### JSON\n",
    "\n",
    "Content of `./music_data.json` (in this example the data stored in the Data Cube format):\n",
    "\n",
    "```JSON\n",
    "{\n",
    "    \"dimensions\": [\n",
    "        {\"name\": \"Genres\", \"values\": [ \"Pop\", \"Rock\", \"Jazz\", \"Metal\"]},\n",
    "        {\"name\": \"Kinds\", \"values\": [ \"Hard\", \"Smooth\", \"Experimental\"]}\n",
    "    ],\n",
    "    \"measures\": [\n",
    "        {\n",
    "            \"name\": \"Popularity\",\n",
    "            \"values\":  [\n",
    "                [114, 96, 78, 52],\n",
    "                [56, 36, 174, 121],\n",
    "                [127, 83, 94, 58]\n",
    "            ]\n",
    "        }\n",
    "    ]\n",
    "}\n",
    "```"
   ]
  },
  {
   "cell_type": "code",
   "execution_count": null,
   "id": "dd70fd2d",
   "metadata": {},
   "outputs": [],
   "source": [
    "from ipyvizzu import Data\n",
    "\n",
    "data_json = Data.from_json(\"./music_data.json\")"
   ]
  },
  {
   "cell_type": "markdown",
   "id": "c7699fe0",
   "metadata": {},
   "source": [
    "Next chapter: [Axes, title, tooltip](./axes.ipynb) ----- Previous chapter: [Intro](./intro.ipynb) ----- Back to the [Table of contents](../index.ipynb#tutorial)"
   ]
  }
 ],
 "metadata": {
  "kernelspec": {
   "display_name": ".venv",
   "language": "python",
   "name": ".venv"
  },
  "language_info": {
   "codemirror_mode": {
    "name": "ipython",
    "version": 3
   },
   "file_extension": ".py",
   "mimetype": "text/x-python",
   "name": "python",
   "nbconvert_exporter": "python",
   "pygments_lexer": "ipython3",
   "version": "3.8.10"
  }
 },
 "nbformat": 4,
 "nbformat_minor": 5
}
