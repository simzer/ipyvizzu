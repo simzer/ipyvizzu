{
 "cells": [
  {
   "cell_type": "markdown",
   "id": "8518ab11",
   "metadata": {},
   "source": [
    "## Animation options\n",
    "\n",
    "In Vizzu you can set the timing and duration of the animation. You can do this either for the whole animation, or for animation groups such as the elements moving along the x-axis or the y-axis, appearing or disappearing or when the coordinate system is changed.\n",
    "\n",
    "Let’s see first a simple example when a stacked column chart is grouped using the default animation options."
   ]
  },
  {
   "cell_type": "code",
   "execution_count": 1,
   "id": "b0552636",
   "metadata": {},
   "outputs": [
    {
     "data": {
      "text/html": [
       "<script id=\"myVizzu_b15d23b\">\n",
       "    let myVizzu_42024da = document.createElement(\"div\");\n",
       "    myVizzu_42024da.style.cssText = \"width: 800px; height: 480px;\";\n",
       "    let chart_42024da = import(\"https://cdn.jsdelivr.net/npm/vizzu@~0.4.0/dist/vizzu.min.js\").then(Vizzu => new Vizzu.default(myVizzu_42024da).initializing);\n",
       "    myVizzu_b15d23b.parentNode.insertBefore(myVizzu_42024da, myVizzu_b15d23b);\n",
       "</script>"
      ]
     },
     "metadata": {},
     "output_type": "display_data"
    },
    {
     "data": {
      "text/html": [
       "<script id=\"myVizzu_407c6b9\">\n",
       "    let display_407c6b9 = myVizzu_407c6b9.parentNode.parentNode.style.display;\n",
       "    myVizzu_407c6b9.parentNode.parentNode.style.display = \"none\";\n",
       "    chart_42024da = chart_42024da.then(chart => {\n",
       "        if (myVizzu_42024da.parentNode && myVizzu_42024da.parentNode.parentNode) {\n",
       "            myVizzu_42024da.parentNode.parentNode.style.display = \"none\";\n",
       "        }\n",
       "        myVizzu_407c6b9.parentNode.parentNode.style.display = display_407c6b9;\n",
       "        myVizzu_407c6b9.parentNode.insertBefore(myVizzu_42024da, myVizzu_407c6b9);\n",
       "        myVizzu_42024da.scrollIntoView({behavior: \"auto\", block: \"center\"});\n",
       "        return chart.animate({\"data\": {\"dimensions\": [{\"name\": \"Genres\", \"values\": [\"Pop\", \"Rock\", \"Jazz\", \"Metal\"]}, {\"name\": \"Types\", \"values\": [\"Hard\", \"Smooth\", \"Experimental\"]}], \"measures\": [{\"name\": \"Popularity\", \"values\": [[114, 96, 78, 52], [56, 36, 174, 121], [127, 83, 94, 58]]}]}});\n",
       "    });\n",
       "</script>"
      ]
     },
     "metadata": {},
     "output_type": "display_data"
    },
    {
     "data": {
      "text/html": [
       "<script id=\"myVizzu_2697e68\">\n",
       "    let display_2697e68 = myVizzu_2697e68.parentNode.parentNode.style.display;\n",
       "    myVizzu_2697e68.parentNode.parentNode.style.display = \"none\";\n",
       "    chart_42024da = chart_42024da.then(chart => {\n",
       "        if (myVizzu_42024da.parentNode && myVizzu_42024da.parentNode.parentNode) {\n",
       "            myVizzu_42024da.parentNode.parentNode.style.display = \"none\";\n",
       "        }\n",
       "        myVizzu_2697e68.parentNode.parentNode.style.display = display_2697e68;\n",
       "        myVizzu_2697e68.parentNode.insertBefore(myVizzu_42024da, myVizzu_2697e68);\n",
       "        myVizzu_42024da.scrollIntoView({behavior: \"auto\", block: \"center\"});\n",
       "        return chart.animate({\"config\": {\"channels\": {\"y\": {\"set\": [\"Popularity\", \"Types\"]}, \"x\": {\"set\": \"Genres\"}}, \"label\": {\"attach\": \"Popularity\"}, \"color\": {\"set\": \"Types\"}, \"title\": \"Default options - step 1\"}});\n",
       "    });\n",
       "</script>"
      ]
     },
     "metadata": {},
     "output_type": "display_data"
    },
    {
     "data": {
      "text/html": [
       "<script id=\"myVizzu_9a162d0\">\n",
       "    let display_9a162d0 = myVizzu_9a162d0.parentNode.parentNode.style.display;\n",
       "    myVizzu_9a162d0.parentNode.parentNode.style.display = \"none\";\n",
       "    chart_42024da = chart_42024da.then(chart => {\n",
       "        if (myVizzu_42024da.parentNode && myVizzu_42024da.parentNode.parentNode) {\n",
       "            myVizzu_42024da.parentNode.parentNode.style.display = \"none\";\n",
       "        }\n",
       "        myVizzu_9a162d0.parentNode.parentNode.style.display = display_9a162d0;\n",
       "        myVizzu_9a162d0.parentNode.insertBefore(myVizzu_42024da, myVizzu_9a162d0);\n",
       "        myVizzu_42024da.scrollIntoView({behavior: \"auto\", block: \"center\"});\n",
       "        return chart.animate({\"config\": {\"channels\": {\"y\": {\"detach\": \"Types\"}, \"x\": {\"attach\": \"Types\"}}}});\n",
       "    });\n",
       "</script>"
      ]
     },
     "metadata": {},
     "output_type": "display_data"
    },
    {
     "data": {
      "text/html": [
       "<script id=\"myVizzu_0a33b11\">\n",
       "    myVizzu_0a33b11.parentNode.parentNode.style.display = \"none\";\n",
       "    let snapshot_0a33b11;\n",
       "    chart_42024da = chart_42024da.then(chart => {\n",
       "        snapshot_0a33b11 = chart.store();\n",
       "        return chart;\n",
       "    });\n",
       "</script>"
      ]
     },
     "metadata": {},
     "output_type": "display_data"
    }
   ],
   "source": [
    "from ipyvizzu import Chart, Data, Config\n",
    "\n",
    "chart = Chart()\n",
    "\n",
    "data = Data.from_json(\"./music_data.json\")\n",
    "\n",
    "chart.animate(data)\n",
    "\n",
    "chart.animate(Config({\n",
    "    \"channels\": {\n",
    "        \"y\": {\n",
    "            \"set\": [\"Popularity\", \"Types\"]\n",
    "        }, \n",
    "        \"x\": {\n",
    "            \"set\": \"Genres\"\n",
    "        }\n",
    "    }, \n",
    "    \"label\": {\n",
    "        \"attach\": \"Popularity\"\n",
    "    },\n",
    "    \"color\": {\n",
    "        \"set\": \"Types\"\n",
    "    },\n",
    "    \"title\": \"Default options - step 1\"\n",
    "}))\n",
    "\n",
    "chart.animate(Config({\n",
    "    \"channels\": {\n",
    "        \"y\": {\n",
    "            \"detach\": \"Types\"\n",
    "        }, \n",
    "        \"x\": {\n",
    "            \"attach\": \"Types\"\n",
    "        }\n",
    "    }\n",
    "}))\n",
    "\n",
    "snapshot1 = chart.store()"
   ]
  },
  {
   "cell_type": "markdown",
   "id": "703a28af",
   "metadata": {},
   "source": [
    "We stack the columns, still with the default options."
   ]
  },
  {
   "cell_type": "code",
   "execution_count": 2,
   "id": "ebce53a8",
   "metadata": {},
   "outputs": [
    {
     "data": {
      "text/html": [
       "<script id=\"myVizzu_47eb7a5\">\n",
       "    let display_47eb7a5 = myVizzu_47eb7a5.parentNode.parentNode.style.display;\n",
       "    myVizzu_47eb7a5.parentNode.parentNode.style.display = \"none\";\n",
       "    chart_42024da = chart_42024da.then(chart => {\n",
       "        if (myVizzu_42024da.parentNode && myVizzu_42024da.parentNode.parentNode) {\n",
       "            myVizzu_42024da.parentNode.parentNode.style.display = \"none\";\n",
       "        }\n",
       "        myVizzu_47eb7a5.parentNode.parentNode.style.display = display_47eb7a5;\n",
       "        myVizzu_47eb7a5.parentNode.insertBefore(myVizzu_42024da, myVizzu_47eb7a5);\n",
       "        myVizzu_42024da.scrollIntoView({behavior: \"auto\", block: \"center\"});\n",
       "        return chart.animate(snapshot_0a33b11);\n",
       "    });\n",
       "</script>"
      ]
     },
     "metadata": {},
     "output_type": "display_data"
    },
    {
     "data": {
      "text/html": [
       "<script id=\"myVizzu_941f569\">\n",
       "    let display_941f569 = myVizzu_941f569.parentNode.parentNode.style.display;\n",
       "    myVizzu_941f569.parentNode.parentNode.style.display = \"none\";\n",
       "    chart_42024da = chart_42024da.then(chart => {\n",
       "        if (myVizzu_42024da.parentNode && myVizzu_42024da.parentNode.parentNode) {\n",
       "            myVizzu_42024da.parentNode.parentNode.style.display = \"none\";\n",
       "        }\n",
       "        myVizzu_941f569.parentNode.parentNode.style.display = display_941f569;\n",
       "        myVizzu_941f569.parentNode.insertBefore(myVizzu_42024da, myVizzu_941f569);\n",
       "        myVizzu_42024da.scrollIntoView({behavior: \"auto\", block: \"center\"});\n",
       "        return chart.animate({\"config\": {\"title\": \"Default options - step 2\"}});\n",
       "    });\n",
       "</script>"
      ]
     },
     "metadata": {},
     "output_type": "display_data"
    },
    {
     "data": {
      "text/html": [
       "<script id=\"myVizzu_6025111\">\n",
       "    let display_6025111 = myVizzu_6025111.parentNode.parentNode.style.display;\n",
       "    myVizzu_6025111.parentNode.parentNode.style.display = \"none\";\n",
       "    chart_42024da = chart_42024da.then(chart => {\n",
       "        if (myVizzu_42024da.parentNode && myVizzu_42024da.parentNode.parentNode) {\n",
       "            myVizzu_42024da.parentNode.parentNode.style.display = \"none\";\n",
       "        }\n",
       "        myVizzu_6025111.parentNode.parentNode.style.display = display_6025111;\n",
       "        myVizzu_6025111.parentNode.insertBefore(myVizzu_42024da, myVizzu_6025111);\n",
       "        myVizzu_42024da.scrollIntoView({behavior: \"auto\", block: \"center\"});\n",
       "        return chart.animate({\"config\": {\"channels\": {\"x\": {\"detach\": \"Types\"}, \"y\": {\"attach\": \"Types\"}}}});\n",
       "    });\n",
       "</script>"
      ]
     },
     "metadata": {},
     "output_type": "display_data"
    },
    {
     "data": {
      "text/html": [
       "<script id=\"myVizzu_fefd519\">\n",
       "    myVizzu_fefd519.parentNode.parentNode.style.display = \"none\";\n",
       "    let snapshot_fefd519;\n",
       "    chart_42024da = chart_42024da.then(chart => {\n",
       "        snapshot_fefd519 = chart.store();\n",
       "        return chart;\n",
       "    });\n",
       "</script>"
      ]
     },
     "metadata": {},
     "output_type": "display_data"
    }
   ],
   "source": [
    "chart.animate(snapshot1)\n",
    "\n",
    "chart.animate(Config({\"title\": \"Default options - step 2\"}))\n",
    "\n",
    "chart.animate(Config({\n",
    "    \"channels\": {\n",
    "        \"x\": {\n",
    "            \"detach\": \"Types\"\n",
    "        }, \n",
    "        \"y\": {\n",
    "            \"attach\": \"Types\"\n",
    "        }\n",
    "    }\n",
    "}))\n",
    "\n",
    "snapshot2 = chart.store()"
   ]
  },
  {
   "cell_type": "markdown",
   "id": "3c5ed3f8",
   "metadata": {},
   "source": [
    "Now we change the animation settings for the elements moving along the y-axis and also the change in styles, more specifically when the labels on the markers move from the center of the chart elements to the top of them."
   ]
  },
  {
   "cell_type": "code",
   "execution_count": 3,
   "id": "31c17b7c",
   "metadata": {},
   "outputs": [
    {
     "data": {
      "text/html": [
       "<script id=\"myVizzu_d109051\">\n",
       "    let display_d109051 = myVizzu_d109051.parentNode.parentNode.style.display;\n",
       "    myVizzu_d109051.parentNode.parentNode.style.display = \"none\";\n",
       "    chart_42024da = chart_42024da.then(chart => {\n",
       "        if (myVizzu_42024da.parentNode && myVizzu_42024da.parentNode.parentNode) {\n",
       "            myVizzu_42024da.parentNode.parentNode.style.display = \"none\";\n",
       "        }\n",
       "        myVizzu_d109051.parentNode.parentNode.style.display = display_d109051;\n",
       "        myVizzu_d109051.parentNode.insertBefore(myVizzu_42024da, myVizzu_d109051);\n",
       "        myVizzu_42024da.scrollIntoView({behavior: \"auto\", block: \"center\"});\n",
       "        return chart.animate(snapshot_fefd519);\n",
       "    });\n",
       "</script>"
      ]
     },
     "metadata": {},
     "output_type": "display_data"
    },
    {
     "data": {
      "text/html": [
       "<script id=\"myVizzu_083d2c2\">\n",
       "    let display_083d2c2 = myVizzu_083d2c2.parentNode.parentNode.style.display;\n",
       "    myVizzu_083d2c2.parentNode.parentNode.style.display = \"none\";\n",
       "    chart_42024da = chart_42024da.then(chart => {\n",
       "        if (myVizzu_42024da.parentNode && myVizzu_42024da.parentNode.parentNode) {\n",
       "            myVizzu_42024da.parentNode.parentNode.style.display = \"none\";\n",
       "        }\n",
       "        myVizzu_083d2c2.parentNode.parentNode.style.display = display_083d2c2;\n",
       "        myVizzu_083d2c2.parentNode.insertBefore(myVizzu_42024da, myVizzu_083d2c2);\n",
       "        myVizzu_42024da.scrollIntoView({behavior: \"auto\", block: \"center\"});\n",
       "        return chart.animate({\"config\": {\"title\": \"Custom animation settings for specific groups\"}});\n",
       "    });\n",
       "</script>"
      ]
     },
     "metadata": {},
     "output_type": "display_data"
    },
    {
     "data": {
      "text/html": [
       "<script id=\"myVizzu_12ce2be\">\n",
       "    let display_12ce2be = myVizzu_12ce2be.parentNode.parentNode.style.display;\n",
       "    myVizzu_12ce2be.parentNode.parentNode.style.display = \"none\";\n",
       "    chart_42024da = chart_42024da.then(chart => {\n",
       "        if (myVizzu_42024da.parentNode && myVizzu_42024da.parentNode.parentNode) {\n",
       "            myVizzu_42024da.parentNode.parentNode.style.display = \"none\";\n",
       "        }\n",
       "        myVizzu_12ce2be.parentNode.parentNode.style.display = display_12ce2be;\n",
       "        myVizzu_12ce2be.parentNode.insertBefore(myVizzu_42024da, myVizzu_12ce2be);\n",
       "        myVizzu_42024da.scrollIntoView({behavior: \"auto\", block: \"center\"});\n",
       "        return chart.animate({\"config\": {\"channels\": {\"y\": {\"detach\": \"Types\"}, \"x\": {\"attach\": \"Types\"}}}}, {\"y\": {\"duration\": 2, \"delay\": 2}, \"style\": {\"duration\": 2, \"delay\": 4}});\n",
       "    });\n",
       "</script>"
      ]
     },
     "metadata": {},
     "output_type": "display_data"
    },
    {
     "data": {
      "text/html": [
       "<script id=\"myVizzu_f76f3c5\">\n",
       "    myVizzu_f76f3c5.parentNode.parentNode.style.display = \"none\";\n",
       "    let snapshot_f76f3c5;\n",
       "    chart_42024da = chart_42024da.then(chart => {\n",
       "        snapshot_f76f3c5 = chart.store();\n",
       "        return chart;\n",
       "    });\n",
       "</script>"
      ]
     },
     "metadata": {},
     "output_type": "display_data"
    }
   ],
   "source": [
    "chart.animate(snapshot2)\n",
    "\n",
    "chart.animate(Config({\"title\": \"Custom animation settings for specific groups\"}))\n",
    "\n",
    "chart.animate(\n",
    "    Config({\n",
    "        \"channels\": {\n",
    "            \"y\": {\n",
    "                \"detach\": \"Types\"\n",
    "            }, \n",
    "            \"x\": {\n",
    "                \"attach\": \"Types\"\n",
    "            }\n",
    "        }\n",
    "    }),\n",
    "    y={\n",
    "        \"duration\": 2,\n",
    "        \"delay\": 2\n",
    "    },\n",
    "    style={\n",
    "        \"duration\": 2,\n",
    "        \"delay\": 4\n",
    "    }\n",
    ")\n",
    "\n",
    "snapshot3 = chart.store()"
   ]
  },
  {
   "cell_type": "markdown",
   "id": "0ea85836",
   "metadata": {},
   "source": [
    "This is an example of changing the settings for the whole animation at once."
   ]
  },
  {
   "cell_type": "code",
   "execution_count": 4,
   "id": "b835da76",
   "metadata": {},
   "outputs": [
    {
     "data": {
      "text/html": [
       "<script id=\"myVizzu_10455cd\">\n",
       "    let display_10455cd = myVizzu_10455cd.parentNode.parentNode.style.display;\n",
       "    myVizzu_10455cd.parentNode.parentNode.style.display = \"none\";\n",
       "    chart_42024da = chart_42024da.then(chart => {\n",
       "        if (myVizzu_42024da.parentNode && myVizzu_42024da.parentNode.parentNode) {\n",
       "            myVizzu_42024da.parentNode.parentNode.style.display = \"none\";\n",
       "        }\n",
       "        myVizzu_10455cd.parentNode.parentNode.style.display = display_10455cd;\n",
       "        myVizzu_10455cd.parentNode.insertBefore(myVizzu_42024da, myVizzu_10455cd);\n",
       "        myVizzu_42024da.scrollIntoView({behavior: \"auto\", block: \"center\"});\n",
       "        return chart.animate(snapshot_f76f3c5);\n",
       "    });\n",
       "</script>"
      ]
     },
     "metadata": {},
     "output_type": "display_data"
    },
    {
     "data": {
      "text/html": [
       "<script id=\"myVizzu_31086b1\">\n",
       "    let display_31086b1 = myVizzu_31086b1.parentNode.parentNode.style.display;\n",
       "    myVizzu_31086b1.parentNode.parentNode.style.display = \"none\";\n",
       "    chart_42024da = chart_42024da.then(chart => {\n",
       "        if (myVizzu_42024da.parentNode && myVizzu_42024da.parentNode.parentNode) {\n",
       "            myVizzu_42024da.parentNode.parentNode.style.display = \"none\";\n",
       "        }\n",
       "        myVizzu_31086b1.parentNode.parentNode.style.display = display_31086b1;\n",
       "        myVizzu_31086b1.parentNode.insertBefore(myVizzu_42024da, myVizzu_31086b1);\n",
       "        myVizzu_42024da.scrollIntoView({behavior: \"auto\", block: \"center\"});\n",
       "        return chart.animate({\"config\": {\"title\": \"Custom options for the whole animation\"}});\n",
       "    });\n",
       "</script>"
      ]
     },
     "metadata": {},
     "output_type": "display_data"
    },
    {
     "data": {
      "text/html": [
       "<script id=\"myVizzu_9748924\">\n",
       "    let display_9748924 = myVizzu_9748924.parentNode.parentNode.style.display;\n",
       "    myVizzu_9748924.parentNode.parentNode.style.display = \"none\";\n",
       "    chart_42024da = chart_42024da.then(chart => {\n",
       "        if (myVizzu_42024da.parentNode && myVizzu_42024da.parentNode.parentNode) {\n",
       "            myVizzu_42024da.parentNode.parentNode.style.display = \"none\";\n",
       "        }\n",
       "        myVizzu_9748924.parentNode.parentNode.style.display = display_9748924;\n",
       "        myVizzu_9748924.parentNode.insertBefore(myVizzu_42024da, myVizzu_9748924);\n",
       "        myVizzu_42024da.scrollIntoView({behavior: \"auto\", block: \"center\"});\n",
       "        return chart.animate({\"config\": {\"channels\": {\"x\": {\"detach\": \"Types\"}, \"y\": {\"attach\": \"Types\"}}}}, {\"duration\": 1, \"easing\": \"linear\"});\n",
       "    });\n",
       "</script>"
      ]
     },
     "metadata": {},
     "output_type": "display_data"
    },
    {
     "data": {
      "text/html": [
       "<script id=\"myVizzu_20eefb1\">\n",
       "    myVizzu_20eefb1.parentNode.parentNode.style.display = \"none\";\n",
       "    let snapshot_20eefb1;\n",
       "    chart_42024da = chart_42024da.then(chart => {\n",
       "        snapshot_20eefb1 = chart.store();\n",
       "        return chart;\n",
       "    });\n",
       "</script>"
      ]
     },
     "metadata": {},
     "output_type": "display_data"
    }
   ],
   "source": [
    "chart.animate(snapshot3)\n",
    "\n",
    "chart.animate(Config({\"title\": \"Custom options for the whole animation\"}))\n",
    "\n",
    "chart.animate(\n",
    "    Config({\n",
    "        \"channels\": {\n",
    "            \"x\": {\n",
    "                \"detach\": \"Types\"\n",
    "            }, \n",
    "            \"y\": {\n",
    "                \"attach\": \"Types\"\n",
    "            }\n",
    "        }\n",
    "    }),\n",
    "    duration=1,\n",
    "    easing=\"linear\"\n",
    ")\n",
    "\n",
    "snapshot4 = chart.store()"
   ]
  },
  {
   "cell_type": "markdown",
   "id": "7397ac85",
   "metadata": {},
   "source": [
    "When the two settings are combined, Vizzu will use the general animation options and spread the unique settings for specific groups proportionally. This is why you can see the same animation as two steps before but happening much quicker since the duration of the whole animation is set to 1 second."
   ]
  },
  {
   "cell_type": "code",
   "execution_count": 5,
   "id": "b9fe93a3",
   "metadata": {},
   "outputs": [
    {
     "data": {
      "text/html": [
       "<script id=\"myVizzu_d1b15ea\">\n",
       "    let display_d1b15ea = myVizzu_d1b15ea.parentNode.parentNode.style.display;\n",
       "    myVizzu_d1b15ea.parentNode.parentNode.style.display = \"none\";\n",
       "    chart_42024da = chart_42024da.then(chart => {\n",
       "        if (myVizzu_42024da.parentNode && myVizzu_42024da.parentNode.parentNode) {\n",
       "            myVizzu_42024da.parentNode.parentNode.style.display = \"none\";\n",
       "        }\n",
       "        myVizzu_d1b15ea.parentNode.parentNode.style.display = display_d1b15ea;\n",
       "        myVizzu_d1b15ea.parentNode.insertBefore(myVizzu_42024da, myVizzu_d1b15ea);\n",
       "        myVizzu_42024da.scrollIntoView({behavior: \"auto\", block: \"center\"});\n",
       "        return chart.animate(snapshot_20eefb1);\n",
       "    });\n",
       "</script>"
      ]
     },
     "metadata": {},
     "output_type": "display_data"
    },
    {
     "data": {
      "text/html": [
       "<script id=\"myVizzu_ec4e51b\">\n",
       "    let display_ec4e51b = myVizzu_ec4e51b.parentNode.parentNode.style.display;\n",
       "    myVizzu_ec4e51b.parentNode.parentNode.style.display = \"none\";\n",
       "    chart_42024da = chart_42024da.then(chart => {\n",
       "        if (myVizzu_42024da.parentNode && myVizzu_42024da.parentNode.parentNode) {\n",
       "            myVizzu_42024da.parentNode.parentNode.style.display = \"none\";\n",
       "        }\n",
       "        myVizzu_ec4e51b.parentNode.parentNode.style.display = display_ec4e51b;\n",
       "        myVizzu_ec4e51b.parentNode.insertBefore(myVizzu_42024da, myVizzu_ec4e51b);\n",
       "        myVizzu_42024da.scrollIntoView({behavior: \"auto\", block: \"center\"});\n",
       "        return chart.animate({\"config\": {\"title\": \"Custom settings for both\"}});\n",
       "    });\n",
       "</script>"
      ]
     },
     "metadata": {},
     "output_type": "display_data"
    },
    {
     "data": {
      "text/html": [
       "<script id=\"myVizzu_a18ff62\">\n",
       "    let display_a18ff62 = myVizzu_a18ff62.parentNode.parentNode.style.display;\n",
       "    myVizzu_a18ff62.parentNode.parentNode.style.display = \"none\";\n",
       "    chart_42024da = chart_42024da.then(chart => {\n",
       "        if (myVizzu_42024da.parentNode && myVizzu_42024da.parentNode.parentNode) {\n",
       "            myVizzu_42024da.parentNode.parentNode.style.display = \"none\";\n",
       "        }\n",
       "        myVizzu_a18ff62.parentNode.parentNode.style.display = display_a18ff62;\n",
       "        myVizzu_a18ff62.parentNode.insertBefore(myVizzu_42024da, myVizzu_a18ff62);\n",
       "        myVizzu_42024da.scrollIntoView({behavior: \"auto\", block: \"center\"});\n",
       "        return chart.animate({\"config\": {\"channels\": {\"y\": {\"detach\": \"Types\"}, \"x\": {\"attach\": \"Types\"}}}}, {\"duration\": 1, \"easing\": \"linear\", \"y\": {\"duration\": 2, \"delay\": 2}, \"style\": {\"duration\": 2, \"delay\": 4}});\n",
       "    });\n",
       "</script>"
      ]
     },
     "metadata": {},
     "output_type": "display_data"
    }
   ],
   "source": [
    "chart.animate(snapshot4)\n",
    "\n",
    "chart.animate(Config({\"title\": \"Custom settings for both\"}))\n",
    "\n",
    "chart.animate(\n",
    "    Config({\n",
    "        \"channels\": {\n",
    "            \"y\": {\n",
    "                \"detach\": \"Types\"\n",
    "            }, \n",
    "            \"x\": {\n",
    "                \"attach\": \"Types\"\n",
    "            }\n",
    "        }\n",
    "    }),\n",
    "    duration=1,\n",
    "    easing=\"linear\",\n",
    "    y={\n",
    "        \"duration\": 2,\n",
    "        \"delay\": 2\n",
    "    },\n",
    "    style={\n",
    "        \"duration\": 2,\n",
    "        \"delay\": 4\n",
    "    }\n",
    ")"
   ]
  }
 ],
 "metadata": {
  "kernelspec": {
   "display_name": "Python 3 (ipykernel)",
   "language": "python",
   "name": "python3"
  },
  "language_info": {
   "codemirror_mode": {
    "name": "ipython",
    "version": 3
   },
   "file_extension": ".py",
   "mimetype": "text/x-python",
   "name": "python",
   "nbconvert_exporter": "python",
   "pygments_lexer": "ipython3",
   "version": "3.8.10"
  }
 },
 "nbformat": 4,
 "nbformat_minor": 5
}
