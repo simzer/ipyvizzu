{
 "cells": [
  {
   "cell_type": "markdown",
   "id": "e582c95b",
   "metadata": {},
   "source": [
    "## Aggregate/drill-down\n",
    "\n",
    "These features basically mean that you add or remove an additional dimension to/from an axis or another channel. As you can see below, there are some important things to keep in mind when you use them.\n",
    "\n",
    "Let’s stack together the elements by putting the Genres dimension from the x-axis to the y-axis. At the end of this phase, there are chart elements with the same color stacked on top of each other, which is something you would want to avoid."
   ]
  },
  {
   "cell_type": "code",
   "execution_count": 1,
   "id": "6cae8fe1",
   "metadata": {},
   "outputs": [
    {
     "data": {
      "text/html": [
       "<script id=\"myVizzu_e3e69f1\">\n",
       "    let myVizzu_4b24ece = document.createElement(\"div\");\n",
       "    myVizzu_4b24ece.style.cssText = \"width: 800px; height: 480px;\";\n",
       "    let chart_4b24ece = import(\"https://cdn.jsdelivr.net/npm/vizzu@~0.4.0/dist/vizzu.min.js\").then(Vizzu => new Vizzu.default(myVizzu_4b24ece).initializing);\n",
       "    myVizzu_e3e69f1.parentNode.insertBefore(myVizzu_4b24ece, myVizzu_e3e69f1);\n",
       "</script>"
      ]
     },
     "metadata": {},
     "output_type": "display_data"
    },
    {
     "data": {
      "text/html": [
       "<script id=\"myVizzu_ace9db2\">\n",
       "    let display_ace9db2 = myVizzu_ace9db2.parentNode.parentNode.style.display;\n",
       "    myVizzu_ace9db2.parentNode.parentNode.style.display = \"none\";\n",
       "    chart_4b24ece = chart_4b24ece.then(chart => {\n",
       "        if (myVizzu_4b24ece.parentNode && myVizzu_4b24ece.parentNode.parentNode) {\n",
       "            myVizzu_4b24ece.parentNode.parentNode.style.display = \"none\";\n",
       "        }\n",
       "        myVizzu_ace9db2.parentNode.parentNode.style.display = display_ace9db2;\n",
       "        myVizzu_ace9db2.parentNode.insertBefore(myVizzu_4b24ece, myVizzu_ace9db2);\n",
       "        myVizzu_4b24ece.scrollIntoView({behavior: \"auto\", block: \"center\"});\n",
       "        return chart.animate({\"data\": {\"dimensions\": [{\"name\": \"Genres\", \"values\": [\"Pop\", \"Rock\", \"Jazz\", \"Metal\"]}, {\"name\": \"Types\", \"values\": [\"Hard\", \"Smooth\", \"Experimental\"]}], \"measures\": [{\"name\": \"Popularity\", \"values\": [[114, 96, 78, 52], [56, 36, 174, 121], [127, 83, 94, 58]]}]}});\n",
       "    });\n",
       "</script>"
      ]
     },
     "metadata": {},
     "output_type": "display_data"
    },
    {
     "data": {
      "text/html": [
       "<script id=\"myVizzu_609a5a3\">\n",
       "    let display_609a5a3 = myVizzu_609a5a3.parentNode.parentNode.style.display;\n",
       "    myVizzu_609a5a3.parentNode.parentNode.style.display = \"none\";\n",
       "    chart_4b24ece = chart_4b24ece.then(chart => {\n",
       "        if (myVizzu_4b24ece.parentNode && myVizzu_4b24ece.parentNode.parentNode) {\n",
       "            myVizzu_4b24ece.parentNode.parentNode.style.display = \"none\";\n",
       "        }\n",
       "        myVizzu_609a5a3.parentNode.parentNode.style.display = display_609a5a3;\n",
       "        myVizzu_609a5a3.parentNode.insertBefore(myVizzu_4b24ece, myVizzu_609a5a3);\n",
       "        myVizzu_4b24ece.scrollIntoView({behavior: \"auto\", block: \"center\"});\n",
       "        return chart.animate({\"config\": {\"channels\": {\"y\": {\"set\": [\"Popularity\", \"Types\"]}, \"x\": {\"set\": \"Genres\"}, \"label\": {\"attach\": \"Popularity\"}}, \"color\": {\"attach\": \"Types\"}, \"title\": \"Stack\"}});\n",
       "    });\n",
       "</script>"
      ]
     },
     "metadata": {},
     "output_type": "display_data"
    },
    {
     "data": {
      "text/html": [
       "<script id=\"myVizzu_83bc757\">\n",
       "    let display_83bc757 = myVizzu_83bc757.parentNode.parentNode.style.display;\n",
       "    myVizzu_83bc757.parentNode.parentNode.style.display = \"none\";\n",
       "    chart_4b24ece = chart_4b24ece.then(chart => {\n",
       "        if (myVizzu_4b24ece.parentNode && myVizzu_4b24ece.parentNode.parentNode) {\n",
       "            myVizzu_4b24ece.parentNode.parentNode.style.display = \"none\";\n",
       "        }\n",
       "        myVizzu_83bc757.parentNode.parentNode.style.display = display_83bc757;\n",
       "        myVizzu_83bc757.parentNode.insertBefore(myVizzu_4b24ece, myVizzu_83bc757);\n",
       "        myVizzu_4b24ece.scrollIntoView({behavior: \"auto\", block: \"center\"});\n",
       "        return chart.animate({\"config\": {\"channels\": {\"y\": {\"attach\": \"Genres\"}, \"x\": {\"set\": null}}}});\n",
       "    });\n",
       "</script>"
      ]
     },
     "metadata": {},
     "output_type": "display_data"
    },
    {
     "data": {
      "text/html": [
       "<script id=\"myVizzu_356ad9a\">\n",
       "    myVizzu_356ad9a.parentNode.parentNode.style.display = \"none\";\n",
       "    let snapshot_356ad9a;\n",
       "    chart_4b24ece = chart_4b24ece.then(chart => {\n",
       "        snapshot_356ad9a = chart.store();\n",
       "        return chart;\n",
       "    });\n",
       "</script>"
      ]
     },
     "metadata": {},
     "output_type": "display_data"
    }
   ],
   "source": [
    "from ipyvizzu import Chart, Data, Config\n",
    "\n",
    "chart = Chart()\n",
    "\n",
    "data = Data.from_json(\"./music_data.json\")\n",
    "\n",
    "chart.animate(data)\n",
    "\n",
    "chart.animate(Config({\n",
    "    \"channels\": {\n",
    "        \"y\": {\n",
    "            \"set\": [\"Popularity\", \"Types\"]\n",
    "        }, \n",
    "        \"x\": {\n",
    "            \"set\": \"Genres\"\n",
    "        },\n",
    "        \"label\": {\n",
    "            \"attach\": \"Popularity\"\n",
    "        }\n",
    "    },\n",
    "    \"color\": {\n",
    "        \"attach\": \"Types\"\n",
    "    },\n",
    "    \"title\": \"Stack\"\n",
    "}))\n",
    "\n",
    "chart.animate(Config({\n",
    "    \"channels\": {\n",
    "        \"y\": {\n",
    "            \"attach\": \"Genres\",\n",
    "        },\n",
    "        \"x\": {\n",
    "            \"set\": None\n",
    "        }\n",
    "    }\n",
    "}))\n",
    "\n",
    "snapshot1 = chart.store()"
   ]
  },
  {
   "cell_type": "markdown",
   "id": "5f11abdd",
   "metadata": {},
   "source": [
    "By taking the Genres off of the y-axis, only one chart element remains for every color, and Vizzu automatically calculates and shows the aggregate value of the elements.\n",
    "\n",
    "Note: Instead of taking the unwanted dimension down from the chart, Genres could have been added to the lightness channel to differentiate the chart elements."
   ]
  },
  {
   "cell_type": "code",
   "execution_count": 2,
   "id": "fca41144",
   "metadata": {},
   "outputs": [
    {
     "data": {
      "text/html": [
       "<script id=\"myVizzu_abb82bc\">\n",
       "    let display_abb82bc = myVizzu_abb82bc.parentNode.parentNode.style.display;\n",
       "    myVizzu_abb82bc.parentNode.parentNode.style.display = \"none\";\n",
       "    chart_4b24ece = chart_4b24ece.then(chart => {\n",
       "        if (myVizzu_4b24ece.parentNode && myVizzu_4b24ece.parentNode.parentNode) {\n",
       "            myVizzu_4b24ece.parentNode.parentNode.style.display = \"none\";\n",
       "        }\n",
       "        myVizzu_abb82bc.parentNode.parentNode.style.display = display_abb82bc;\n",
       "        myVizzu_abb82bc.parentNode.insertBefore(myVizzu_4b24ece, myVizzu_abb82bc);\n",
       "        myVizzu_4b24ece.scrollIntoView({behavior: \"auto\", block: \"center\"});\n",
       "        return chart.animate(snapshot_356ad9a);\n",
       "    });\n",
       "</script>"
      ]
     },
     "metadata": {},
     "output_type": "display_data"
    },
    {
     "data": {
      "text/html": [
       "<script id=\"myVizzu_54b261c\">\n",
       "    let display_54b261c = myVizzu_54b261c.parentNode.parentNode.style.display;\n",
       "    myVizzu_54b261c.parentNode.parentNode.style.display = \"none\";\n",
       "    chart_4b24ece = chart_4b24ece.then(chart => {\n",
       "        if (myVizzu_4b24ece.parentNode && myVizzu_4b24ece.parentNode.parentNode) {\n",
       "            myVizzu_4b24ece.parentNode.parentNode.style.display = \"none\";\n",
       "        }\n",
       "        myVizzu_54b261c.parentNode.parentNode.style.display = display_54b261c;\n",
       "        myVizzu_54b261c.parentNode.insertBefore(myVizzu_4b24ece, myVizzu_54b261c);\n",
       "        myVizzu_4b24ece.scrollIntoView({behavior: \"auto\", block: \"center\"});\n",
       "        return chart.animate({\"config\": {\"title\": \"Aggregate element\"}});\n",
       "    });\n",
       "</script>"
      ]
     },
     "metadata": {},
     "output_type": "display_data"
    },
    {
     "data": {
      "text/html": [
       "<script id=\"myVizzu_3d2166f\">\n",
       "    let display_3d2166f = myVizzu_3d2166f.parentNode.parentNode.style.display;\n",
       "    myVizzu_3d2166f.parentNode.parentNode.style.display = \"none\";\n",
       "    chart_4b24ece = chart_4b24ece.then(chart => {\n",
       "        if (myVizzu_4b24ece.parentNode && myVizzu_4b24ece.parentNode.parentNode) {\n",
       "            myVizzu_4b24ece.parentNode.parentNode.style.display = \"none\";\n",
       "        }\n",
       "        myVizzu_3d2166f.parentNode.parentNode.style.display = display_3d2166f;\n",
       "        myVizzu_3d2166f.parentNode.insertBefore(myVizzu_4b24ece, myVizzu_3d2166f);\n",
       "        myVizzu_4b24ece.scrollIntoView({behavior: \"auto\", block: \"center\"});\n",
       "        return chart.animate({\"config\": {\"channels\": {\"y\": {\"detach\": \"Genres\"}}}});\n",
       "    });\n",
       "</script>"
      ]
     },
     "metadata": {},
     "output_type": "display_data"
    },
    {
     "data": {
      "text/html": [
       "<script id=\"myVizzu_2ee2e16\">\n",
       "    myVizzu_2ee2e16.parentNode.parentNode.style.display = \"none\";\n",
       "    let snapshot_2ee2e16;\n",
       "    chart_4b24ece = chart_4b24ece.then(chart => {\n",
       "        snapshot_2ee2e16 = chart.store();\n",
       "        return chart;\n",
       "    });\n",
       "</script>"
      ]
     },
     "metadata": {},
     "output_type": "display_data"
    }
   ],
   "source": [
    "chart.animate(snapshot1)\n",
    "\n",
    "chart.animate(Config({\"title\": \"Aggregate element\"}))\n",
    "\n",
    "chart.animate(Config({\n",
    "    \"channels\": {\n",
    "        \"y\": {\n",
    "            \"detach\": \"Genres\",\n",
    "        },\n",
    "    }\n",
    "}))\n",
    "\n",
    "snapshot2 = chart.store()"
   ]
  },
  {
   "cell_type": "markdown",
   "id": "4782dfe9",
   "metadata": {},
   "source": [
    "To drill-down, the same dimension is put back on the y-axis, which results in a state that we suggest you to only use temporarily when in transition."
   ]
  },
  {
   "cell_type": "code",
   "execution_count": 3,
   "id": "e99596c4",
   "metadata": {},
   "outputs": [
    {
     "data": {
      "text/html": [
       "<script id=\"myVizzu_4811d4b\">\n",
       "    let display_4811d4b = myVizzu_4811d4b.parentNode.parentNode.style.display;\n",
       "    myVizzu_4811d4b.parentNode.parentNode.style.display = \"none\";\n",
       "    chart_4b24ece = chart_4b24ece.then(chart => {\n",
       "        if (myVizzu_4b24ece.parentNode && myVizzu_4b24ece.parentNode.parentNode) {\n",
       "            myVizzu_4b24ece.parentNode.parentNode.style.display = \"none\";\n",
       "        }\n",
       "        myVizzu_4811d4b.parentNode.parentNode.style.display = display_4811d4b;\n",
       "        myVizzu_4811d4b.parentNode.insertBefore(myVizzu_4b24ece, myVizzu_4811d4b);\n",
       "        myVizzu_4b24ece.scrollIntoView({behavior: \"auto\", block: \"center\"});\n",
       "        return chart.animate(snapshot_2ee2e16);\n",
       "    });\n",
       "</script>"
      ]
     },
     "metadata": {},
     "output_type": "display_data"
    },
    {
     "data": {
      "text/html": [
       "<script id=\"myVizzu_aaf5744\">\n",
       "    let display_aaf5744 = myVizzu_aaf5744.parentNode.parentNode.style.display;\n",
       "    myVizzu_aaf5744.parentNode.parentNode.style.display = \"none\";\n",
       "    chart_4b24ece = chart_4b24ece.then(chart => {\n",
       "        if (myVizzu_4b24ece.parentNode && myVizzu_4b24ece.parentNode.parentNode) {\n",
       "            myVizzu_4b24ece.parentNode.parentNode.style.display = \"none\";\n",
       "        }\n",
       "        myVizzu_aaf5744.parentNode.parentNode.style.display = display_aaf5744;\n",
       "        myVizzu_aaf5744.parentNode.insertBefore(myVizzu_4b24ece, myVizzu_aaf5744);\n",
       "        myVizzu_4b24ece.scrollIntoView({behavior: \"auto\", block: \"center\"});\n",
       "        return chart.animate({\"config\": {\"title\": \"Drill-down\"}});\n",
       "    });\n",
       "</script>"
      ]
     },
     "metadata": {},
     "output_type": "display_data"
    },
    {
     "data": {
      "text/html": [
       "<script id=\"myVizzu_8a7ea4f\">\n",
       "    let display_8a7ea4f = myVizzu_8a7ea4f.parentNode.parentNode.style.display;\n",
       "    myVizzu_8a7ea4f.parentNode.parentNode.style.display = \"none\";\n",
       "    chart_4b24ece = chart_4b24ece.then(chart => {\n",
       "        if (myVizzu_4b24ece.parentNode && myVizzu_4b24ece.parentNode.parentNode) {\n",
       "            myVizzu_4b24ece.parentNode.parentNode.style.display = \"none\";\n",
       "        }\n",
       "        myVizzu_8a7ea4f.parentNode.parentNode.style.display = display_8a7ea4f;\n",
       "        myVizzu_8a7ea4f.parentNode.insertBefore(myVizzu_4b24ece, myVizzu_8a7ea4f);\n",
       "        myVizzu_4b24ece.scrollIntoView({behavior: \"auto\", block: \"center\"});\n",
       "        return chart.animate({\"config\": {\"channels\": {\"y\": {\"attach\": \"Genres\"}}}});\n",
       "    });\n",
       "</script>"
      ]
     },
     "metadata": {},
     "output_type": "display_data"
    },
    {
     "data": {
      "text/html": [
       "<script id=\"myVizzu_0d75a7d\">\n",
       "    myVizzu_0d75a7d.parentNode.parentNode.style.display = \"none\";\n",
       "    let snapshot_0d75a7d;\n",
       "    chart_4b24ece = chart_4b24ece.then(chart => {\n",
       "        snapshot_0d75a7d = chart.store();\n",
       "        return chart;\n",
       "    });\n",
       "</script>"
      ]
     },
     "metadata": {},
     "output_type": "display_data"
    }
   ],
   "source": [
    "chart.animate(snapshot2)\n",
    "\n",
    "chart.animate(Config({\"title\": \"Drill-down\"}))\n",
    "\n",
    "chart.animate(Config({\n",
    "    \"channels\": {\n",
    "        \"y\": {\n",
    "            \"attach\": \"Genres\",\n",
    "        },\n",
    "    }\n",
    "}))\n",
    "\n",
    "snapshot3 = chart.store()"
   ]
  },
  {
   "cell_type": "markdown",
   "id": "f971cdc5",
   "metadata": {},
   "source": [
    "We group the elements by putting once again the Genres dimension on the x-axis."
   ]
  },
  {
   "cell_type": "code",
   "execution_count": 4,
   "id": "5735f1e9",
   "metadata": {},
   "outputs": [
    {
     "data": {
      "text/html": [
       "<script id=\"myVizzu_06fb6a6\">\n",
       "    let display_06fb6a6 = myVizzu_06fb6a6.parentNode.parentNode.style.display;\n",
       "    myVizzu_06fb6a6.parentNode.parentNode.style.display = \"none\";\n",
       "    chart_4b24ece = chart_4b24ece.then(chart => {\n",
       "        if (myVizzu_4b24ece.parentNode && myVizzu_4b24ece.parentNode.parentNode) {\n",
       "            myVizzu_4b24ece.parentNode.parentNode.style.display = \"none\";\n",
       "        }\n",
       "        myVizzu_06fb6a6.parentNode.parentNode.style.display = display_06fb6a6;\n",
       "        myVizzu_06fb6a6.parentNode.insertBefore(myVizzu_4b24ece, myVizzu_06fb6a6);\n",
       "        myVizzu_4b24ece.scrollIntoView({behavior: \"auto\", block: \"center\"});\n",
       "        return chart.animate(snapshot_0d75a7d);\n",
       "    });\n",
       "</script>"
      ]
     },
     "metadata": {},
     "output_type": "display_data"
    },
    {
     "data": {
      "text/html": [
       "<script id=\"myVizzu_27ff073\">\n",
       "    let display_27ff073 = myVizzu_27ff073.parentNode.parentNode.style.display;\n",
       "    myVizzu_27ff073.parentNode.parentNode.style.display = \"none\";\n",
       "    chart_4b24ece = chart_4b24ece.then(chart => {\n",
       "        if (myVizzu_4b24ece.parentNode && myVizzu_4b24ece.parentNode.parentNode) {\n",
       "            myVizzu_4b24ece.parentNode.parentNode.style.display = \"none\";\n",
       "        }\n",
       "        myVizzu_27ff073.parentNode.parentNode.style.display = display_27ff073;\n",
       "        myVizzu_27ff073.parentNode.insertBefore(myVizzu_4b24ece, myVizzu_27ff073);\n",
       "        myVizzu_4b24ece.scrollIntoView({behavior: \"auto\", block: \"center\"});\n",
       "        return chart.animate({\"config\": {\"title\": \"Group\"}});\n",
       "    });\n",
       "</script>"
      ]
     },
     "metadata": {},
     "output_type": "display_data"
    },
    {
     "data": {
      "text/html": [
       "<script id=\"myVizzu_35bf464\">\n",
       "    let display_35bf464 = myVizzu_35bf464.parentNode.parentNode.style.display;\n",
       "    myVizzu_35bf464.parentNode.parentNode.style.display = \"none\";\n",
       "    chart_4b24ece = chart_4b24ece.then(chart => {\n",
       "        if (myVizzu_4b24ece.parentNode && myVizzu_4b24ece.parentNode.parentNode) {\n",
       "            myVizzu_4b24ece.parentNode.parentNode.style.display = \"none\";\n",
       "        }\n",
       "        myVizzu_35bf464.parentNode.parentNode.style.display = display_35bf464;\n",
       "        myVizzu_35bf464.parentNode.insertBefore(myVizzu_4b24ece, myVizzu_35bf464);\n",
       "        myVizzu_4b24ece.scrollIntoView({behavior: \"auto\", block: \"center\"});\n",
       "        return chart.animate({\"config\": {\"channels\": {\"y\": {\"detach\": \"Genres\"}, \"x\": {\"set\": \"Genres\"}}}});\n",
       "    });\n",
       "</script>"
      ]
     },
     "metadata": {},
     "output_type": "display_data"
    }
   ],
   "source": [
    "chart.animate(snapshot3)\n",
    "\n",
    "chart.animate(Config({\"title\": \"Group\"}))\n",
    "\n",
    "chart.animate(Config({\n",
    "    \"channels\": {\n",
    "        \"y\": {\n",
    "            \"detach\": \"Genres\",\n",
    "        },\n",
    "        \"x\": {\n",
    "            \"set\": \"Genres\",\n",
    "        }\n",
    "    }\n",
    "}))"
   ]
  }
 ],
 "metadata": {
  "kernelspec": {
   "display_name": "Python 3 (ipykernel)",
   "language": "python",
   "name": "python3"
  },
  "language_info": {
   "codemirror_mode": {
    "name": "ipython",
    "version": 3
   },
   "file_extension": ".py",
   "mimetype": "text/x-python",
   "name": "python",
   "nbconvert_exporter": "python",
   "pygments_lexer": "ipython3",
   "version": "3.8.10"
  }
 },
 "nbformat": 4,
 "nbformat_minor": 5
}
