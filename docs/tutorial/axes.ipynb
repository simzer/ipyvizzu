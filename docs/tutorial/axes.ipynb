{
 "cells": [
  {
   "cell_type": "markdown",
   "id": "789167c4",
   "metadata": {},
   "source": [
    "## Axes, title, tooltip\n",
    "\n",
    "To build a chart with Vizzu, you have to add data series to the channels.\n",
    "\n",
    "The first step is to create a simple column chart, adding one of the dimensions (Genre) to the x-axis and the measure (Popularity) to the y-axis using the set property.\n",
    "\n",
    "In the next step, the chart is rearranged by putting both series on the y-axis using once again the set property, resulting in a single column chart. Vizzu automatically animates between the initial state and this one.\n",
    "\n",
    "Or instead of set, you can use attach and detach to add or remove series to/from the channels.\n",
    "\n",
    "Using attach & detach makes it easier to build your animated charts step-by-step, however you either have to keep in mind what you had on which channel in the previous step."
   ]
  },
  {
   "cell_type": "code",
   "execution_count": 1,
   "id": "8f05ec83",
   "metadata": {},
   "outputs": [
    {
     "data": {
      "text/html": [
       "<script id=\"myVizzu_ab76562\">\n",
       "    let myVizzu_ec05f13 = document.createElement(\"div\");\n",
       "    myVizzu_ec05f13.style.cssText = \"width: 800px; height: 480px;\";\n",
       "    let chart_ec05f13 = import(\"https://cdn.jsdelivr.net/npm/vizzu@~0.4.0/dist/vizzu.min.js\").then(Vizzu => new Vizzu.default(myVizzu_ec05f13).initializing);\n",
       "    myVizzu_ab76562.parentNode.insertBefore(myVizzu_ec05f13, myVizzu_ab76562);\n",
       "</script>"
      ]
     },
     "metadata": {},
     "output_type": "display_data"
    },
    {
     "data": {
      "text/html": [
       "<script id=\"myVizzu_f796a4b\">\n",
       "    let display_f796a4b = myVizzu_f796a4b.parentNode.parentNode.style.display;\n",
       "    myVizzu_f796a4b.parentNode.parentNode.style.display = \"none\";\n",
       "    chart_ec05f13 = chart_ec05f13.then(chart => {\n",
       "        if (myVizzu_ec05f13.parentNode && myVizzu_ec05f13.parentNode.parentNode) {\n",
       "            myVizzu_ec05f13.parentNode.parentNode.style.display = \"none\";\n",
       "        }\n",
       "        myVizzu_f796a4b.parentNode.parentNode.style.display = display_f796a4b;\n",
       "        myVizzu_f796a4b.parentNode.insertBefore(myVizzu_ec05f13, myVizzu_f796a4b);\n",
       "        myVizzu_ec05f13.scrollIntoView({behavior: \"auto\", block: \"center\"});\n",
       "        return chart.animate({\"data\": {\"dimensions\": [{\"name\": \"Genres\", \"values\": [\"Pop\", \"Rock\", \"Jazz\", \"Metal\"]}, {\"name\": \"Types\", \"values\": [\"Hard\", \"Smooth\", \"Experimental\"]}], \"measures\": [{\"name\": \"Popularity\", \"values\": [[114, 96, 78, 52], [56, 36, 174, 121], [127, 83, 94, 58]]}]}});\n",
       "    });\n",
       "</script>"
      ]
     },
     "metadata": {},
     "output_type": "display_data"
    },
    {
     "data": {
      "text/html": [
       "<script id=\"myVizzu_dcd238a\">\n",
       "    let display_dcd238a = myVizzu_dcd238a.parentNode.parentNode.style.display;\n",
       "    myVizzu_dcd238a.parentNode.parentNode.style.display = \"none\";\n",
       "    chart_ec05f13 = chart_ec05f13.then(chart => {\n",
       "        if (myVizzu_ec05f13.parentNode && myVizzu_ec05f13.parentNode.parentNode) {\n",
       "            myVizzu_ec05f13.parentNode.parentNode.style.display = \"none\";\n",
       "        }\n",
       "        myVizzu_dcd238a.parentNode.parentNode.style.display = display_dcd238a;\n",
       "        myVizzu_dcd238a.parentNode.insertBefore(myVizzu_ec05f13, myVizzu_dcd238a);\n",
       "        myVizzu_ec05f13.scrollIntoView({behavior: \"auto\", block: \"center\"});\n",
       "        return chart.animate({\"config\": {\"channels\": {\"y\": {\"set\": \"Popularity\"}, \"x\": {\"set\": \"Genres\"}}}});\n",
       "    });\n",
       "</script>"
      ]
     },
     "metadata": {},
     "output_type": "display_data"
    },
    {
     "data": {
      "text/html": [
       "<script id=\"myVizzu_390d6be\">\n",
       "    let display_390d6be = myVizzu_390d6be.parentNode.parentNode.style.display;\n",
       "    myVizzu_390d6be.parentNode.parentNode.style.display = \"none\";\n",
       "    chart_ec05f13 = chart_ec05f13.then(chart => {\n",
       "        if (myVizzu_ec05f13.parentNode && myVizzu_ec05f13.parentNode.parentNode) {\n",
       "            myVizzu_ec05f13.parentNode.parentNode.style.display = \"none\";\n",
       "        }\n",
       "        myVizzu_390d6be.parentNode.parentNode.style.display = display_390d6be;\n",
       "        myVizzu_390d6be.parentNode.insertBefore(myVizzu_ec05f13, myVizzu_390d6be);\n",
       "        myVizzu_ec05f13.scrollIntoView({behavior: \"auto\", block: \"center\"});\n",
       "        return chart.animate({\"config\": {\"channels\": {\"y\": {\"set\": [\"Popularity\", \"Genres\"]}, \"x\": {\"set\": null}}}});\n",
       "    });\n",
       "</script>"
      ]
     },
     "metadata": {},
     "output_type": "display_data"
    },
    {
     "data": {
      "text/html": [
       "<script id=\"myVizzu_93b5b36\">\n",
       "    let display_93b5b36 = myVizzu_93b5b36.parentNode.parentNode.style.display;\n",
       "    myVizzu_93b5b36.parentNode.parentNode.style.display = \"none\";\n",
       "    chart_ec05f13 = chart_ec05f13.then(chart => {\n",
       "        if (myVizzu_ec05f13.parentNode && myVizzu_ec05f13.parentNode.parentNode) {\n",
       "            myVizzu_ec05f13.parentNode.parentNode.style.display = \"none\";\n",
       "        }\n",
       "        myVizzu_93b5b36.parentNode.parentNode.style.display = display_93b5b36;\n",
       "        myVizzu_93b5b36.parentNode.insertBefore(myVizzu_ec05f13, myVizzu_93b5b36);\n",
       "        myVizzu_ec05f13.scrollIntoView({behavior: \"auto\", block: \"center\"});\n",
       "        return chart.animate({\"config\": {\"channels\": {\"y\": {\"detach\": \"Popularity\"}, \"x\": {\"attach\": \"Popularity\"}}}});\n",
       "    });\n",
       "</script>"
      ]
     },
     "metadata": {},
     "output_type": "display_data"
    },
    {
     "data": {
      "text/html": [
       "<script id=\"myVizzu_07ae4e1\">\n",
       "    myVizzu_07ae4e1.parentNode.parentNode.style.display = \"none\";\n",
       "    let snapshot_07ae4e1;\n",
       "    chart_ec05f13 = chart_ec05f13.then(chart => {\n",
       "        snapshot_07ae4e1 = chart.store();\n",
       "        return chart;\n",
       "    });\n",
       "</script>"
      ]
     },
     "metadata": {},
     "output_type": "display_data"
    }
   ],
   "source": [
    "from ipyvizzu import Chart, Data, Config\n",
    "\n",
    "chart = Chart()\n",
    "\n",
    "data = Data.from_json(\"./music_data.json\")\n",
    "\n",
    "chart.animate(data)\n",
    "\n",
    "chart.animate(Config({\n",
    "    \"channels\": {\n",
    "        \"y\": {\n",
    "            \"set\": \"Popularity\"\n",
    "        }, \n",
    "        \"x\": {\n",
    "            \"set\": \"Genres\"\n",
    "        }\n",
    "    }\n",
    "}))\n",
    "\n",
    "chart.animate(Config({\n",
    "    \"channels\": {\n",
    "        \"y\": {\n",
    "            \"set\": [\"Popularity\", \"Genres\"]\n",
    "        }, \n",
    "        \"x\": {\n",
    "            \"set\": None\n",
    "        }\n",
    "    }\n",
    "}))\n",
    "\n",
    "chart.animate(Config({\n",
    "    \"channels\": {\n",
    "        \"y\": {\n",
    "            \"detach\": \"Popularity\"\n",
    "        }, \n",
    "        \"x\": {\n",
    "            \"attach\": \"Popularity\"\n",
    "        }\n",
    "    }\n",
    "}))\n",
    "\n",
    "snapshot1 = chart.store()"
   ]
  },
  {
   "cell_type": "markdown",
   "id": "86c8b72b",
   "metadata": {},
   "source": [
    "Setting the chart title with the title command."
   ]
  },
  {
   "cell_type": "code",
   "execution_count": 2,
   "id": "e642e113",
   "metadata": {},
   "outputs": [
    {
     "data": {
      "text/html": [
       "<script id=\"myVizzu_4201a79\">\n",
       "    let display_4201a79 = myVizzu_4201a79.parentNode.parentNode.style.display;\n",
       "    myVizzu_4201a79.parentNode.parentNode.style.display = \"none\";\n",
       "    chart_ec05f13 = chart_ec05f13.then(chart => {\n",
       "        if (myVizzu_ec05f13.parentNode && myVizzu_ec05f13.parentNode.parentNode) {\n",
       "            myVizzu_ec05f13.parentNode.parentNode.style.display = \"none\";\n",
       "        }\n",
       "        myVizzu_4201a79.parentNode.parentNode.style.display = display_4201a79;\n",
       "        myVizzu_4201a79.parentNode.insertBefore(myVizzu_ec05f13, myVizzu_4201a79);\n",
       "        myVizzu_ec05f13.scrollIntoView({behavior: \"auto\", block: \"center\"});\n",
       "        return chart.animate(snapshot_07ae4e1);\n",
       "    });\n",
       "</script>"
      ]
     },
     "metadata": {},
     "output_type": "display_data"
    },
    {
     "data": {
      "text/html": [
       "<script id=\"myVizzu_8879ff7\">\n",
       "    let display_8879ff7 = myVizzu_8879ff7.parentNode.parentNode.style.display;\n",
       "    myVizzu_8879ff7.parentNode.parentNode.style.display = \"none\";\n",
       "    chart_ec05f13 = chart_ec05f13.then(chart => {\n",
       "        if (myVizzu_ec05f13.parentNode && myVizzu_ec05f13.parentNode.parentNode) {\n",
       "            myVizzu_ec05f13.parentNode.parentNode.style.display = \"none\";\n",
       "        }\n",
       "        myVizzu_8879ff7.parentNode.parentNode.style.display = display_8879ff7;\n",
       "        myVizzu_8879ff7.parentNode.insertBefore(myVizzu_ec05f13, myVizzu_8879ff7);\n",
       "        myVizzu_ec05f13.scrollIntoView({behavior: \"auto\", block: \"center\"});\n",
       "        return chart.animate({\"config\": {\"title\": \"My first chart\"}});\n",
       "    });\n",
       "</script>"
      ]
     },
     "metadata": {},
     "output_type": "display_data"
    },
    {
     "data": {
      "text/html": [
       "<script id=\"myVizzu_7b806be\">\n",
       "    myVizzu_7b806be.parentNode.parentNode.style.display = \"none\";\n",
       "    let snapshot_7b806be;\n",
       "    chart_ec05f13 = chart_ec05f13.then(chart => {\n",
       "        snapshot_7b806be = chart.store();\n",
       "        return chart;\n",
       "    });\n",
       "</script>"
      ]
     },
     "metadata": {},
     "output_type": "display_data"
    }
   ],
   "source": [
    "chart.animate(snapshot1)\n",
    "\n",
    "chart.animate(Config({\n",
    "    \"title\": \"My first chart\"\n",
    "}))\n",
    "\n",
    "snapshot2 = chart.store()"
   ]
  },
  {
   "cell_type": "markdown",
   "id": "faee856f",
   "metadata": {},
   "source": [
    "Switching on the tooltips that appear on the chart elements when the user hovers over them with their mouse by adding the (tooltip, true) parameters to the chart.feature method."
   ]
  },
  {
   "cell_type": "code",
   "execution_count": 3,
   "id": "6a541934",
   "metadata": {},
   "outputs": [
    {
     "data": {
      "text/html": [
       "<script id=\"myVizzu_5b9617f\">\n",
       "    let display_5b9617f = myVizzu_5b9617f.parentNode.parentNode.style.display;\n",
       "    myVizzu_5b9617f.parentNode.parentNode.style.display = \"none\";\n",
       "    chart_ec05f13 = chart_ec05f13.then(chart => {\n",
       "        if (myVizzu_ec05f13.parentNode && myVizzu_ec05f13.parentNode.parentNode) {\n",
       "            myVizzu_ec05f13.parentNode.parentNode.style.display = \"none\";\n",
       "        }\n",
       "        myVizzu_5b9617f.parentNode.parentNode.style.display = display_5b9617f;\n",
       "        myVizzu_5b9617f.parentNode.insertBefore(myVizzu_ec05f13, myVizzu_5b9617f);\n",
       "        myVizzu_ec05f13.scrollIntoView({behavior: \"auto\", block: \"center\"});\n",
       "        return chart.animate(snapshot_7b806be);\n",
       "    });\n",
       "</script>"
      ]
     },
     "metadata": {},
     "output_type": "display_data"
    },
    {
     "data": {
      "text/html": [
       "<script id=\"myVizzu_e4742ad\">\n",
       "    myVizzu_e4742ad.parentNode.parentNode.style.display = \"none\";\n",
       "    chart_ec05f13 = chart_ec05f13.then(chart => {\n",
       "        chart.feature(\"tooltip\", true);\n",
       "        return chart;\n",
       "    });\n",
       "</script>"
      ]
     },
     "metadata": {},
     "output_type": "display_data"
    }
   ],
   "source": [
    "chart.animate(snapshot2)\n",
    "\n",
    "chart.feature(\"tooltip\", True)"
   ]
  }
 ],
 "metadata": {
  "kernelspec": {
   "display_name": "Python 3 (ipykernel)",
   "language": "python",
   "name": "python3"
  },
  "language_info": {
   "codemirror_mode": {
    "name": "ipython",
    "version": 3
   },
   "file_extension": ".py",
   "mimetype": "text/x-python",
   "name": "python",
   "nbconvert_exporter": "python",
   "pygments_lexer": "ipython3",
   "version": "3.8.10"
  }
 },
 "nbformat": 4,
 "nbformat_minor": 5
}
