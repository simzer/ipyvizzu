{
 "cells": [
  {
   "cell_type": "markdown",
   "id": "8518ab11",
   "metadata": {},
   "source": [
    "## Chart layout\n",
    "\n",
    "Vizzu has three separate parts of the chart layout: the plot area that contains the chart, the title containing the chart title on the top, and the legend on the left. Vizzu automatically hides the legend when it’s unnecessary to show it. When the title is not in use, Vizzu hides that part automatically as well. Each of these parts have their own paddings on all four sides that adjust to the chart size by default, but can also be set with the appropriate settings in the style object. All size parameters can be set in pixel, percentage and em.\n",
    "\n",
    "We add different background colors to the parts of the layout to show how they are aligned."
   ]
  },
  {
   "cell_type": "code",
   "execution_count": 1,
   "id": "b0552636",
   "metadata": {},
   "outputs": [
    {
     "data": {
      "text/html": [
       "<script id=\"myVizzu_f965932\">\n",
       "    let myVizzu_3a80c60 = document.createElement(\"div\");\n",
       "    myVizzu_3a80c60.style.cssText = \"width: 800px; height: 480px;\";\n",
       "    let chart_3a80c60 = import(\"https://cdn.jsdelivr.net/npm/vizzu@~0.4.0/dist/vizzu.min.js\").then(Vizzu => new Vizzu.default(myVizzu_3a80c60).initializing);\n",
       "    myVizzu_f965932.parentNode.insertBefore(myVizzu_3a80c60, myVizzu_f965932);\n",
       "</script>"
      ]
     },
     "metadata": {},
     "output_type": "display_data"
    },
    {
     "data": {
      "text/html": [
       "<script id=\"myVizzu_0263cb0\">\n",
       "    let display_0263cb0 = myVizzu_0263cb0.parentNode.parentNode.style.display;\n",
       "    myVizzu_0263cb0.parentNode.parentNode.style.display = \"none\";\n",
       "    chart_3a80c60 = chart_3a80c60.then(chart => {\n",
       "        if (myVizzu_3a80c60.parentNode && myVizzu_3a80c60.parentNode.parentNode) {\n",
       "            myVizzu_3a80c60.parentNode.parentNode.style.display = \"none\";\n",
       "        }\n",
       "        myVizzu_0263cb0.parentNode.parentNode.style.display = display_0263cb0;\n",
       "        myVizzu_0263cb0.parentNode.insertBefore(myVizzu_3a80c60, myVizzu_0263cb0);\n",
       "        myVizzu_3a80c60.scrollIntoView({behavior: \"auto\", block: \"center\"});\n",
       "        return chart.animate({\"data\": {\"dimensions\": [{\"name\": \"Genres\", \"values\": [\"Pop\", \"Rock\", \"Jazz\", \"Metal\"]}, {\"name\": \"Types\", \"values\": [\"Hard\", \"Smooth\", \"Experimental\"]}], \"measures\": [{\"name\": \"Popularity\", \"values\": [[114, 96, 78, 52], [56, 36, 174, 121], [127, 83, 94, 58]]}]}});\n",
       "    });\n",
       "</script>"
      ]
     },
     "metadata": {},
     "output_type": "display_data"
    },
    {
     "data": {
      "text/html": [
       "<script id=\"myVizzu_7ca7271\">\n",
       "    let display_7ca7271 = myVizzu_7ca7271.parentNode.parentNode.style.display;\n",
       "    myVizzu_7ca7271.parentNode.parentNode.style.display = \"none\";\n",
       "    chart_3a80c60 = chart_3a80c60.then(chart => {\n",
       "        if (myVizzu_3a80c60.parentNode && myVizzu_3a80c60.parentNode.parentNode) {\n",
       "            myVizzu_3a80c60.parentNode.parentNode.style.display = \"none\";\n",
       "        }\n",
       "        myVizzu_7ca7271.parentNode.parentNode.style.display = display_7ca7271;\n",
       "        myVizzu_7ca7271.parentNode.insertBefore(myVizzu_3a80c60, myVizzu_7ca7271);\n",
       "        myVizzu_3a80c60.scrollIntoView({behavior: \"auto\", block: \"center\"});\n",
       "        return chart.animate({\"config\": {\"channels\": {\"y\": {\"set\": [\"Popularity\", \"Types\"]}, \"x\": {\"set\": \"Genres\"}}, \"label\": {\"attach\": \"Popularity\"}, \"color\": {\"set\": \"Types\"}, \"title\": \"Plot, title and legend background\"}});\n",
       "    });\n",
       "</script>"
      ]
     },
     "metadata": {},
     "output_type": "display_data"
    },
    {
     "data": {
      "text/html": [
       "<script id=\"myVizzu_1eaa86d\">\n",
       "    let display_1eaa86d = myVizzu_1eaa86d.parentNode.parentNode.style.display;\n",
       "    myVizzu_1eaa86d.parentNode.parentNode.style.display = \"none\";\n",
       "    chart_3a80c60 = chart_3a80c60.then(chart => {\n",
       "        if (myVizzu_3a80c60.parentNode && myVizzu_3a80c60.parentNode.parentNode) {\n",
       "            myVizzu_3a80c60.parentNode.parentNode.style.display = \"none\";\n",
       "        }\n",
       "        myVizzu_1eaa86d.parentNode.parentNode.style.display = display_1eaa86d;\n",
       "        myVizzu_1eaa86d.parentNode.insertBefore(myVizzu_3a80c60, myVizzu_1eaa86d);\n",
       "        myVizzu_3a80c60.scrollIntoView({behavior: \"auto\", block: \"center\"});\n",
       "        return chart.animate({\"style\": {\"title\": {\"backgroundColor\": \"#A0A0A0\"}, \"plot\": {\"backgroundColor\": \"#D2D2D2\"}, \"legend\": {\"backgroundColor\": \"#808080\"}}});\n",
       "    });\n",
       "</script>"
      ]
     },
     "metadata": {},
     "output_type": "display_data"
    },
    {
     "data": {
      "text/html": [
       "<script id=\"myVizzu_6bdb57b\">\n",
       "    myVizzu_6bdb57b.parentNode.parentNode.style.display = \"none\";\n",
       "    let snapshot_6bdb57b;\n",
       "    chart_3a80c60 = chart_3a80c60.then(chart => {\n",
       "        snapshot_6bdb57b = chart.store();\n",
       "        return chart;\n",
       "    });\n",
       "</script>"
      ]
     },
     "metadata": {},
     "output_type": "display_data"
    }
   ],
   "source": [
    "from ipyvizzu import Chart, Data, Config, Style\n",
    "\n",
    "chart = Chart()\n",
    "\n",
    "data = Data.from_json(\"./music_data.json\")\n",
    "\n",
    "chart.animate(data)\n",
    "\n",
    "chart.animate(Config({\n",
    "    \"channels\": {\n",
    "        \"y\": {\n",
    "            \"set\": [\"Popularity\", \"Types\"]\n",
    "        }, \n",
    "        \"x\": {\n",
    "            \"set\": \"Genres\"\n",
    "        }\n",
    "    }, \n",
    "    \"label\": {\n",
    "        \"attach\": \"Popularity\"\n",
    "    },\n",
    "    \"color\": {\n",
    "        \"set\": \"Types\"\n",
    "    },\n",
    "    \"title\": \"Plot, title and legend background\"\n",
    "}))\n",
    "\n",
    "chart.animate(Style({\n",
    "    \"title\": { \n",
    "        \"backgroundColor\": '#A0A0A0' \n",
    "    },\n",
    "    \"plot\": { \n",
    "        \"backgroundColor\": '#D2D2D2' \n",
    "    },\n",
    "    \"legend\": { \n",
    "        \"backgroundColor\": '#808080' \n",
    "    }\n",
    "}))\n",
    "\n",
    "snapshot1 = chart.store()"
   ]
  },
  {
   "cell_type": "markdown",
   "id": "00bf9cba",
   "metadata": {},
   "source": [
    "Setting the width of the legend."
   ]
  },
  {
   "cell_type": "code",
   "execution_count": 2,
   "id": "9a7fe9b8",
   "metadata": {},
   "outputs": [
    {
     "data": {
      "text/html": [
       "<script id=\"myVizzu_2ea52c8\">\n",
       "    let display_2ea52c8 = myVizzu_2ea52c8.parentNode.parentNode.style.display;\n",
       "    myVizzu_2ea52c8.parentNode.parentNode.style.display = \"none\";\n",
       "    chart_3a80c60 = chart_3a80c60.then(chart => {\n",
       "        if (myVizzu_3a80c60.parentNode && myVizzu_3a80c60.parentNode.parentNode) {\n",
       "            myVizzu_3a80c60.parentNode.parentNode.style.display = \"none\";\n",
       "        }\n",
       "        myVizzu_2ea52c8.parentNode.parentNode.style.display = display_2ea52c8;\n",
       "        myVizzu_2ea52c8.parentNode.insertBefore(myVizzu_3a80c60, myVizzu_2ea52c8);\n",
       "        myVizzu_3a80c60.scrollIntoView({behavior: \"auto\", block: \"center\"});\n",
       "        return chart.animate(snapshot_6bdb57b);\n",
       "    });\n",
       "</script>"
      ]
     },
     "metadata": {},
     "output_type": "display_data"
    },
    {
     "data": {
      "text/html": [
       "<script id=\"myVizzu_e7c6ca1\">\n",
       "    let display_e7c6ca1 = myVizzu_e7c6ca1.parentNode.parentNode.style.display;\n",
       "    myVizzu_e7c6ca1.parentNode.parentNode.style.display = \"none\";\n",
       "    chart_3a80c60 = chart_3a80c60.then(chart => {\n",
       "        if (myVizzu_3a80c60.parentNode && myVizzu_3a80c60.parentNode.parentNode) {\n",
       "            myVizzu_3a80c60.parentNode.parentNode.style.display = \"none\";\n",
       "        }\n",
       "        myVizzu_e7c6ca1.parentNode.parentNode.style.display = display_e7c6ca1;\n",
       "        myVizzu_e7c6ca1.parentNode.insertBefore(myVizzu_3a80c60, myVizzu_e7c6ca1);\n",
       "        myVizzu_3a80c60.scrollIntoView({behavior: \"auto\", block: \"center\"});\n",
       "        return chart.animate({\"config\": {\"title\": \"Legend width\"}});\n",
       "    });\n",
       "</script>"
      ]
     },
     "metadata": {},
     "output_type": "display_data"
    },
    {
     "data": {
      "text/html": [
       "<script id=\"myVizzu_45b573c\">\n",
       "    let display_45b573c = myVizzu_45b573c.parentNode.parentNode.style.display;\n",
       "    myVizzu_45b573c.parentNode.parentNode.style.display = \"none\";\n",
       "    chart_3a80c60 = chart_3a80c60.then(chart => {\n",
       "        if (myVizzu_3a80c60.parentNode && myVizzu_3a80c60.parentNode.parentNode) {\n",
       "            myVizzu_3a80c60.parentNode.parentNode.style.display = \"none\";\n",
       "        }\n",
       "        myVizzu_45b573c.parentNode.parentNode.style.display = display_45b573c;\n",
       "        myVizzu_45b573c.parentNode.insertBefore(myVizzu_3a80c60, myVizzu_45b573c);\n",
       "        myVizzu_3a80c60.scrollIntoView({behavior: \"auto\", block: \"center\"});\n",
       "        return chart.animate({\"style\": {\"legend\": {\"width\": 50}}});\n",
       "    });\n",
       "</script>"
      ]
     },
     "metadata": {},
     "output_type": "display_data"
    },
    {
     "data": {
      "text/html": [
       "<script id=\"myVizzu_cbc67c2\">\n",
       "    myVizzu_cbc67c2.parentNode.parentNode.style.display = \"none\";\n",
       "    let snapshot_cbc67c2;\n",
       "    chart_3a80c60 = chart_3a80c60.then(chart => {\n",
       "        snapshot_cbc67c2 = chart.store();\n",
       "        return chart;\n",
       "    });\n",
       "</script>"
      ]
     },
     "metadata": {},
     "output_type": "display_data"
    }
   ],
   "source": [
    "chart.animate(snapshot1)\n",
    "\n",
    "chart.animate(Config({\"title\": \"Legend width\"}))\n",
    "\n",
    "chart.animate(Style({\n",
    "    \"legend\": { \n",
    "        \"width\": 50 \n",
    "    }\n",
    "}))\n",
    "\n",
    "snapshot2 = chart.store()"
   ]
  },
  {
   "cell_type": "markdown",
   "id": "fa329122",
   "metadata": {},
   "source": [
    "Setting the legend width back to its default value."
   ]
  },
  {
   "cell_type": "code",
   "execution_count": 3,
   "id": "88fa24a8",
   "metadata": {},
   "outputs": [
    {
     "data": {
      "text/html": [
       "<script id=\"myVizzu_7d58986\">\n",
       "    let display_7d58986 = myVizzu_7d58986.parentNode.parentNode.style.display;\n",
       "    myVizzu_7d58986.parentNode.parentNode.style.display = \"none\";\n",
       "    chart_3a80c60 = chart_3a80c60.then(chart => {\n",
       "        if (myVizzu_3a80c60.parentNode && myVizzu_3a80c60.parentNode.parentNode) {\n",
       "            myVizzu_3a80c60.parentNode.parentNode.style.display = \"none\";\n",
       "        }\n",
       "        myVizzu_7d58986.parentNode.parentNode.style.display = display_7d58986;\n",
       "        myVizzu_7d58986.parentNode.insertBefore(myVizzu_3a80c60, myVizzu_7d58986);\n",
       "        myVizzu_3a80c60.scrollIntoView({behavior: \"auto\", block: \"center\"});\n",
       "        return chart.animate(snapshot_cbc67c2);\n",
       "    });\n",
       "</script>"
      ]
     },
     "metadata": {},
     "output_type": "display_data"
    },
    {
     "data": {
      "text/html": [
       "<script id=\"myVizzu_0de3a21\">\n",
       "    let display_0de3a21 = myVizzu_0de3a21.parentNode.parentNode.style.display;\n",
       "    myVizzu_0de3a21.parentNode.parentNode.style.display = \"none\";\n",
       "    chart_3a80c60 = chart_3a80c60.then(chart => {\n",
       "        if (myVizzu_3a80c60.parentNode && myVizzu_3a80c60.parentNode.parentNode) {\n",
       "            myVizzu_3a80c60.parentNode.parentNode.style.display = \"none\";\n",
       "        }\n",
       "        myVizzu_0de3a21.parentNode.parentNode.style.display = display_0de3a21;\n",
       "        myVizzu_0de3a21.parentNode.insertBefore(myVizzu_3a80c60, myVizzu_0de3a21);\n",
       "        myVizzu_3a80c60.scrollIntoView({behavior: \"auto\", block: \"center\"});\n",
       "        return chart.animate({\"style\": {\"legend\": {\"width\": null}}});\n",
       "    });\n",
       "</script>"
      ]
     },
     "metadata": {},
     "output_type": "display_data"
    },
    {
     "data": {
      "text/html": [
       "<script id=\"myVizzu_9eeac31\">\n",
       "    myVizzu_9eeac31.parentNode.parentNode.style.display = \"none\";\n",
       "    let snapshot_9eeac31;\n",
       "    chart_3a80c60 = chart_3a80c60.then(chart => {\n",
       "        snapshot_9eeac31 = chart.store();\n",
       "        return chart;\n",
       "    });\n",
       "</script>"
      ]
     },
     "metadata": {},
     "output_type": "display_data"
    }
   ],
   "source": [
    "chart.animate(snapshot2)\n",
    "\n",
    "chart.animate(Style({\n",
    "    \"legend\": { \n",
    "        \"width\": None \n",
    "    }\n",
    "}))\n",
    "\n",
    "snapshot3 = chart.store()"
   ]
  },
  {
   "cell_type": "markdown",
   "id": "3d68c376",
   "metadata": {},
   "source": [
    "Changing the title paddings. By default, the title is horizontally centered above the chart. In this example, we set the title’s left padding, resulting in the text moving to the right."
   ]
  },
  {
   "cell_type": "code",
   "execution_count": 4,
   "id": "c7e60196",
   "metadata": {},
   "outputs": [
    {
     "data": {
      "text/html": [
       "<script id=\"myVizzu_0492a1e\">\n",
       "    let display_0492a1e = myVizzu_0492a1e.parentNode.parentNode.style.display;\n",
       "    myVizzu_0492a1e.parentNode.parentNode.style.display = \"none\";\n",
       "    chart_3a80c60 = chart_3a80c60.then(chart => {\n",
       "        if (myVizzu_3a80c60.parentNode && myVizzu_3a80c60.parentNode.parentNode) {\n",
       "            myVizzu_3a80c60.parentNode.parentNode.style.display = \"none\";\n",
       "        }\n",
       "        myVizzu_0492a1e.parentNode.parentNode.style.display = display_0492a1e;\n",
       "        myVizzu_0492a1e.parentNode.insertBefore(myVizzu_3a80c60, myVizzu_0492a1e);\n",
       "        myVizzu_3a80c60.scrollIntoView({behavior: \"auto\", block: \"center\"});\n",
       "        return chart.animate(snapshot_9eeac31);\n",
       "    });\n",
       "</script>"
      ]
     },
     "metadata": {},
     "output_type": "display_data"
    },
    {
     "data": {
      "text/html": [
       "<script id=\"myVizzu_ec744cf\">\n",
       "    let display_ec744cf = myVizzu_ec744cf.parentNode.parentNode.style.display;\n",
       "    myVizzu_ec744cf.parentNode.parentNode.style.display = \"none\";\n",
       "    chart_3a80c60 = chart_3a80c60.then(chart => {\n",
       "        if (myVizzu_3a80c60.parentNode && myVizzu_3a80c60.parentNode.parentNode) {\n",
       "            myVizzu_3a80c60.parentNode.parentNode.style.display = \"none\";\n",
       "        }\n",
       "        myVizzu_ec744cf.parentNode.parentNode.style.display = display_ec744cf;\n",
       "        myVizzu_ec744cf.parentNode.insertBefore(myVizzu_3a80c60, myVizzu_ec744cf);\n",
       "        myVizzu_3a80c60.scrollIntoView({behavior: \"auto\", block: \"center\"});\n",
       "        return chart.animate({\"config\": {\"title\": \"Title padding\"}});\n",
       "    });\n",
       "</script>"
      ]
     },
     "metadata": {},
     "output_type": "display_data"
    },
    {
     "data": {
      "text/html": [
       "<script id=\"myVizzu_ea06138\">\n",
       "    let display_ea06138 = myVizzu_ea06138.parentNode.parentNode.style.display;\n",
       "    myVizzu_ea06138.parentNode.parentNode.style.display = \"none\";\n",
       "    chart_3a80c60 = chart_3a80c60.then(chart => {\n",
       "        if (myVizzu_3a80c60.parentNode && myVizzu_3a80c60.parentNode.parentNode) {\n",
       "            myVizzu_3a80c60.parentNode.parentNode.style.display = \"none\";\n",
       "        }\n",
       "        myVizzu_ea06138.parentNode.parentNode.style.display = display_ea06138;\n",
       "        myVizzu_ea06138.parentNode.insertBefore(myVizzu_3a80c60, myVizzu_ea06138);\n",
       "        myVizzu_3a80c60.scrollIntoView({behavior: \"auto\", block: \"center\"});\n",
       "        return chart.animate({\"style\": {\"title\": {\"paddingTop\": 20, \"paddingBottom\": 20, \"paddingLeft\": 200}}});\n",
       "    });\n",
       "</script>"
      ]
     },
     "metadata": {},
     "output_type": "display_data"
    },
    {
     "data": {
      "text/html": [
       "<script id=\"myVizzu_a9301c5\">\n",
       "    myVizzu_a9301c5.parentNode.parentNode.style.display = \"none\";\n",
       "    let snapshot_a9301c5;\n",
       "    chart_3a80c60 = chart_3a80c60.then(chart => {\n",
       "        snapshot_a9301c5 = chart.store();\n",
       "        return chart;\n",
       "    });\n",
       "</script>"
      ]
     },
     "metadata": {},
     "output_type": "display_data"
    }
   ],
   "source": [
    "chart.animate(snapshot3)\n",
    "\n",
    "chart.animate(Config({\"title\": \"Title padding\"}))\n",
    "\n",
    "chart.animate(Style({\n",
    "    \"title\": {\n",
    "        \"paddingTop\": 20,\n",
    "        \"paddingBottom\": 20,\n",
    "        \"paddingLeft\": 200\n",
    "    }\n",
    "}))\n",
    "\n",
    "snapshot4 = chart.store()"
   ]
  },
  {
   "cell_type": "markdown",
   "id": "b45e96b6",
   "metadata": {},
   "source": [
    "Setting the title paddings back to their default values."
   ]
  },
  {
   "cell_type": "code",
   "execution_count": 5,
   "id": "d58b14d9",
   "metadata": {},
   "outputs": [
    {
     "data": {
      "text/html": [
       "<script id=\"myVizzu_a809bf9\">\n",
       "    let display_a809bf9 = myVizzu_a809bf9.parentNode.parentNode.style.display;\n",
       "    myVizzu_a809bf9.parentNode.parentNode.style.display = \"none\";\n",
       "    chart_3a80c60 = chart_3a80c60.then(chart => {\n",
       "        if (myVizzu_3a80c60.parentNode && myVizzu_3a80c60.parentNode.parentNode) {\n",
       "            myVizzu_3a80c60.parentNode.parentNode.style.display = \"none\";\n",
       "        }\n",
       "        myVizzu_a809bf9.parentNode.parentNode.style.display = display_a809bf9;\n",
       "        myVizzu_a809bf9.parentNode.insertBefore(myVizzu_3a80c60, myVizzu_a809bf9);\n",
       "        myVizzu_3a80c60.scrollIntoView({behavior: \"auto\", block: \"center\"});\n",
       "        return chart.animate(snapshot_a9301c5);\n",
       "    });\n",
       "</script>"
      ]
     },
     "metadata": {},
     "output_type": "display_data"
    },
    {
     "data": {
      "text/html": [
       "<script id=\"myVizzu_5def54c\">\n",
       "    let display_5def54c = myVizzu_5def54c.parentNode.parentNode.style.display;\n",
       "    myVizzu_5def54c.parentNode.parentNode.style.display = \"none\";\n",
       "    chart_3a80c60 = chart_3a80c60.then(chart => {\n",
       "        if (myVizzu_3a80c60.parentNode && myVizzu_3a80c60.parentNode.parentNode) {\n",
       "            myVizzu_3a80c60.parentNode.parentNode.style.display = \"none\";\n",
       "        }\n",
       "        myVizzu_5def54c.parentNode.parentNode.style.display = display_5def54c;\n",
       "        myVizzu_5def54c.parentNode.insertBefore(myVizzu_3a80c60, myVizzu_5def54c);\n",
       "        myVizzu_3a80c60.scrollIntoView({behavior: \"auto\", block: \"center\"});\n",
       "        return chart.animate({\"style\": {\"title\": {\"paddingTop\": null, \"paddingBottom\": null, \"paddingLeft\": null}}});\n",
       "    });\n",
       "</script>"
      ]
     },
     "metadata": {},
     "output_type": "display_data"
    },
    {
     "data": {
      "text/html": [
       "<script id=\"myVizzu_f90b043\">\n",
       "    myVizzu_f90b043.parentNode.parentNode.style.display = \"none\";\n",
       "    let snapshot_f90b043;\n",
       "    chart_3a80c60 = chart_3a80c60.then(chart => {\n",
       "        snapshot_f90b043 = chart.store();\n",
       "        return chart;\n",
       "    });\n",
       "</script>"
      ]
     },
     "metadata": {},
     "output_type": "display_data"
    }
   ],
   "source": [
    "chart.animate(snapshot4)\n",
    "\n",
    "chart.animate(Style({\n",
    "    \"title\": {\n",
    "        \"paddingTop\": None,\n",
    "        \"paddingBottom\": None,\n",
    "        \"paddingLeft\": None\n",
    "    }\n",
    "}))\n",
    "\n",
    "snapshot5 = chart.store()"
   ]
  },
  {
   "cell_type": "markdown",
   "id": "6af0c821",
   "metadata": {},
   "source": [
    "Changing the paddings of the plot area to position the plot. The texts on the axes are drawn on the padding of the plot and not the plot itself."
   ]
  },
  {
   "cell_type": "code",
   "execution_count": 6,
   "id": "054257d1",
   "metadata": {},
   "outputs": [
    {
     "data": {
      "text/html": [
       "<script id=\"myVizzu_0e62b23\">\n",
       "    let display_0e62b23 = myVizzu_0e62b23.parentNode.parentNode.style.display;\n",
       "    myVizzu_0e62b23.parentNode.parentNode.style.display = \"none\";\n",
       "    chart_3a80c60 = chart_3a80c60.then(chart => {\n",
       "        if (myVizzu_3a80c60.parentNode && myVizzu_3a80c60.parentNode.parentNode) {\n",
       "            myVizzu_3a80c60.parentNode.parentNode.style.display = \"none\";\n",
       "        }\n",
       "        myVizzu_0e62b23.parentNode.parentNode.style.display = display_0e62b23;\n",
       "        myVizzu_0e62b23.parentNode.insertBefore(myVizzu_3a80c60, myVizzu_0e62b23);\n",
       "        myVizzu_3a80c60.scrollIntoView({behavior: \"auto\", block: \"center\"});\n",
       "        return chart.animate(snapshot_f90b043);\n",
       "    });\n",
       "</script>"
      ]
     },
     "metadata": {},
     "output_type": "display_data"
    },
    {
     "data": {
      "text/html": [
       "<script id=\"myVizzu_f891dea\">\n",
       "    let display_f891dea = myVizzu_f891dea.parentNode.parentNode.style.display;\n",
       "    myVizzu_f891dea.parentNode.parentNode.style.display = \"none\";\n",
       "    chart_3a80c60 = chart_3a80c60.then(chart => {\n",
       "        if (myVizzu_3a80c60.parentNode && myVizzu_3a80c60.parentNode.parentNode) {\n",
       "            myVizzu_3a80c60.parentNode.parentNode.style.display = \"none\";\n",
       "        }\n",
       "        myVizzu_f891dea.parentNode.parentNode.style.display = display_f891dea;\n",
       "        myVizzu_f891dea.parentNode.insertBefore(myVizzu_3a80c60, myVizzu_f891dea);\n",
       "        myVizzu_3a80c60.scrollIntoView({behavior: \"auto\", block: \"center\"});\n",
       "        return chart.animate({\"config\": {\"title\": \"Plot padding\"}});\n",
       "    });\n",
       "</script>"
      ]
     },
     "metadata": {},
     "output_type": "display_data"
    },
    {
     "data": {
      "text/html": [
       "<script id=\"myVizzu_56271bf\">\n",
       "    let display_56271bf = myVizzu_56271bf.parentNode.parentNode.style.display;\n",
       "    myVizzu_56271bf.parentNode.parentNode.style.display = \"none\";\n",
       "    chart_3a80c60 = chart_3a80c60.then(chart => {\n",
       "        if (myVizzu_3a80c60.parentNode && myVizzu_3a80c60.parentNode.parentNode) {\n",
       "            myVizzu_3a80c60.parentNode.parentNode.style.display = \"none\";\n",
       "        }\n",
       "        myVizzu_56271bf.parentNode.parentNode.style.display = display_56271bf;\n",
       "        myVizzu_56271bf.parentNode.insertBefore(myVizzu_3a80c60, myVizzu_56271bf);\n",
       "        myVizzu_3a80c60.scrollIntoView({behavior: \"auto\", block: \"center\"});\n",
       "        return chart.animate({\"style\": {\"plot\": {\"paddingLeft\": 100, \"paddingRight\": 100}}});\n",
       "    });\n",
       "</script>"
      ]
     },
     "metadata": {},
     "output_type": "display_data"
    },
    {
     "data": {
      "text/html": [
       "<script id=\"myVizzu_38fd78b\">\n",
       "    myVizzu_38fd78b.parentNode.parentNode.style.display = \"none\";\n",
       "    let snapshot_38fd78b;\n",
       "    chart_3a80c60 = chart_3a80c60.then(chart => {\n",
       "        snapshot_38fd78b = chart.store();\n",
       "        return chart;\n",
       "    });\n",
       "</script>"
      ]
     },
     "metadata": {},
     "output_type": "display_data"
    }
   ],
   "source": [
    "chart.animate(snapshot5)\n",
    "\n",
    "chart.animate(Config({\"title\": \"Plot padding\"}))\n",
    "\n",
    "chart.animate(Style({\n",
    "    \"plot\": {\n",
    "        \"paddingLeft\": 100,\n",
    "        \"paddingRight\": 100\n",
    "    }\n",
    "}))\n",
    "\n",
    "snapshot6 = chart.store()"
   ]
  },
  {
   "cell_type": "markdown",
   "id": "9e4b5dad",
   "metadata": {},
   "source": [
    "Setting the plot paddings back to their default values."
   ]
  },
  {
   "cell_type": "code",
   "execution_count": 7,
   "id": "28536d66",
   "metadata": {},
   "outputs": [
    {
     "data": {
      "text/html": [
       "<script id=\"myVizzu_75a3e37\">\n",
       "    let display_75a3e37 = myVizzu_75a3e37.parentNode.parentNode.style.display;\n",
       "    myVizzu_75a3e37.parentNode.parentNode.style.display = \"none\";\n",
       "    chart_3a80c60 = chart_3a80c60.then(chart => {\n",
       "        if (myVizzu_3a80c60.parentNode && myVizzu_3a80c60.parentNode.parentNode) {\n",
       "            myVizzu_3a80c60.parentNode.parentNode.style.display = \"none\";\n",
       "        }\n",
       "        myVizzu_75a3e37.parentNode.parentNode.style.display = display_75a3e37;\n",
       "        myVizzu_75a3e37.parentNode.insertBefore(myVizzu_3a80c60, myVizzu_75a3e37);\n",
       "        myVizzu_3a80c60.scrollIntoView({behavior: \"auto\", block: \"center\"});\n",
       "        return chart.animate(snapshot_38fd78b);\n",
       "    });\n",
       "</script>"
      ]
     },
     "metadata": {},
     "output_type": "display_data"
    },
    {
     "data": {
      "text/html": [
       "<script id=\"myVizzu_d5cef0e\">\n",
       "    let display_d5cef0e = myVizzu_d5cef0e.parentNode.parentNode.style.display;\n",
       "    myVizzu_d5cef0e.parentNode.parentNode.style.display = \"none\";\n",
       "    chart_3a80c60 = chart_3a80c60.then(chart => {\n",
       "        if (myVizzu_3a80c60.parentNode && myVizzu_3a80c60.parentNode.parentNode) {\n",
       "            myVizzu_3a80c60.parentNode.parentNode.style.display = \"none\";\n",
       "        }\n",
       "        myVizzu_d5cef0e.parentNode.parentNode.style.display = display_d5cef0e;\n",
       "        myVizzu_d5cef0e.parentNode.insertBefore(myVizzu_3a80c60, myVizzu_d5cef0e);\n",
       "        myVizzu_3a80c60.scrollIntoView({behavior: \"auto\", block: \"center\"});\n",
       "        return chart.animate({\"style\": {\"plot\": {\"paddingLeft\": null, \"paddingRight\": null}}});\n",
       "    });\n",
       "</script>"
      ]
     },
     "metadata": {},
     "output_type": "display_data"
    }
   ],
   "source": [
    "chart.animate(snapshot6)\n",
    "\n",
    "chart.animate(Style({\n",
    "    \"plot\": {\n",
    "        \"paddingLeft\": None,\n",
    "        \"paddingRight\": None\n",
    "    }\n",
    "}))"
   ]
  }
 ],
 "metadata": {
  "kernelspec": {
   "display_name": "Python 3 (ipykernel)",
   "language": "python",
   "name": "python3"
  },
  "language_info": {
   "codemirror_mode": {
    "name": "ipython",
    "version": 3
   },
   "file_extension": ".py",
   "mimetype": "text/x-python",
   "name": "python",
   "nbconvert_exporter": "python",
   "pygments_lexer": "ipython3",
   "version": "3.8.10"
  }
 },
 "nbformat": 4,
 "nbformat_minor": 5
}
