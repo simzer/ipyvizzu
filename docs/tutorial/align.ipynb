{
 "cells": [
  {
   "cell_type": "markdown",
   "id": "454600ae",
   "metadata": {},
   "source": [
    "## Align & range\n",
    "\n",
    "Vizzu offers different options to align your chart elements and to set the range of values shown on the axes. Alignment can be used to create charts like a stream chart where the elements are vertically centered. A good example for using range is when you fix the y-axis so that it would not adapt to the data being shown.\n",
    "\n",
    "Centered alignment. The effect of this parameter depends on the orientation of the chart. For example, on a column chart, elements will be vertically centered, whereas on a bar chart, horizontally."
   ]
  },
  {
   "cell_type": "code",
   "execution_count": 1,
   "id": "5a6a5806",
   "metadata": {},
   "outputs": [
    {
     "data": {
      "text/html": [
       "<script id=\"myVizzu_5d8970b\">\n",
       "    let myVizzu_f4ba9aa = document.createElement(\"div\");\n",
       "    myVizzu_f4ba9aa.style.cssText = \"width: 800px; height: 480px;\";\n",
       "    let chart_f4ba9aa = import(\"https://cdn.jsdelivr.net/npm/vizzu@~0.4.0/dist/vizzu.min.js\").then(Vizzu => new Vizzu.default(myVizzu_f4ba9aa).initializing);\n",
       "    myVizzu_5d8970b.parentNode.insertBefore(myVizzu_f4ba9aa, myVizzu_5d8970b);\n",
       "</script>"
      ]
     },
     "metadata": {},
     "output_type": "display_data"
    },
    {
     "data": {
      "text/html": [
       "<script id=\"myVizzu_d701dc1\">\n",
       "    let display_d701dc1 = myVizzu_d701dc1.parentNode.parentNode.style.display;\n",
       "    myVizzu_d701dc1.parentNode.parentNode.style.display = \"none\";\n",
       "    chart_f4ba9aa = chart_f4ba9aa.then(chart => {\n",
       "        if (myVizzu_f4ba9aa.parentNode && myVizzu_f4ba9aa.parentNode.parentNode) {\n",
       "            myVizzu_f4ba9aa.parentNode.parentNode.style.display = \"none\";\n",
       "        }\n",
       "        myVizzu_d701dc1.parentNode.parentNode.style.display = display_d701dc1;\n",
       "        myVizzu_d701dc1.parentNode.insertBefore(myVizzu_f4ba9aa, myVizzu_d701dc1);\n",
       "        myVizzu_f4ba9aa.scrollIntoView({behavior: \"auto\", block: \"center\"});\n",
       "        return chart.animate({\"data\": {\"dimensions\": [{\"name\": \"Genres\", \"values\": [\"Pop\", \"Rock\", \"Jazz\", \"Metal\"]}, {\"name\": \"Types\", \"values\": [\"Hard\", \"Smooth\", \"Experimental\"]}], \"measures\": [{\"name\": \"Popularity\", \"values\": [[114, 96, 78, 52], [56, 36, 174, 121], [127, 83, 94, 58]]}]}});\n",
       "    });\n",
       "</script>"
      ]
     },
     "metadata": {},
     "output_type": "display_data"
    },
    {
     "data": {
      "text/html": [
       "<script id=\"myVizzu_f430c34\">\n",
       "    let display_f430c34 = myVizzu_f430c34.parentNode.parentNode.style.display;\n",
       "    myVizzu_f430c34.parentNode.parentNode.style.display = \"none\";\n",
       "    chart_f4ba9aa = chart_f4ba9aa.then(chart => {\n",
       "        if (myVizzu_f4ba9aa.parentNode && myVizzu_f4ba9aa.parentNode.parentNode) {\n",
       "            myVizzu_f4ba9aa.parentNode.parentNode.style.display = \"none\";\n",
       "        }\n",
       "        myVizzu_f430c34.parentNode.parentNode.style.display = display_f430c34;\n",
       "        myVizzu_f430c34.parentNode.insertBefore(myVizzu_f4ba9aa, myVizzu_f430c34);\n",
       "        myVizzu_f4ba9aa.scrollIntoView({behavior: \"auto\", block: \"center\"});\n",
       "        return chart.animate({\"config\": {\"channels\": {\"y\": {\"set\": [\"Popularity\", \"Types\"]}, \"x\": {\"set\": \"Genres\"}, \"label\": {\"attach\": \"Popularity\"}}, \"color\": {\"attach\": \"Types\"}, \"title\": \"Align: center\"}});\n",
       "    });\n",
       "</script>"
      ]
     },
     "metadata": {},
     "output_type": "display_data"
    },
    {
     "data": {
      "text/html": [
       "<script id=\"myVizzu_268d7be\">\n",
       "    let display_268d7be = myVizzu_268d7be.parentNode.parentNode.style.display;\n",
       "    myVizzu_268d7be.parentNode.parentNode.style.display = \"none\";\n",
       "    chart_f4ba9aa = chart_f4ba9aa.then(chart => {\n",
       "        if (myVizzu_f4ba9aa.parentNode && myVizzu_f4ba9aa.parentNode.parentNode) {\n",
       "            myVizzu_f4ba9aa.parentNode.parentNode.style.display = \"none\";\n",
       "        }\n",
       "        myVizzu_268d7be.parentNode.parentNode.style.display = display_268d7be;\n",
       "        myVizzu_268d7be.parentNode.insertBefore(myVizzu_f4ba9aa, myVizzu_268d7be);\n",
       "        myVizzu_f4ba9aa.scrollIntoView({behavior: \"auto\", block: \"center\"});\n",
       "        return chart.animate({\"config\": {\"align\": \"center\"}});\n",
       "    });\n",
       "</script>"
      ]
     },
     "metadata": {},
     "output_type": "display_data"
    },
    {
     "data": {
      "text/html": [
       "<script id=\"myVizzu_60cb21a\">\n",
       "    myVizzu_60cb21a.parentNode.parentNode.style.display = \"none\";\n",
       "    let snapshot_60cb21a;\n",
       "    chart_f4ba9aa = chart_f4ba9aa.then(chart => {\n",
       "        snapshot_60cb21a = chart.store();\n",
       "        return chart;\n",
       "    });\n",
       "</script>"
      ]
     },
     "metadata": {},
     "output_type": "display_data"
    }
   ],
   "source": [
    "from ipyvizzu import Chart, Data, Config\n",
    "\n",
    "chart = Chart()\n",
    "\n",
    "data = Data.from_json(\"./music_data.json\")\n",
    "\n",
    "chart.animate(data)\n",
    "\n",
    "chart.animate(Config({\n",
    "    \"channels\": {\n",
    "        \"y\": {\n",
    "            \"set\": [\"Popularity\", \"Types\"]\n",
    "        }, \n",
    "        \"x\": {\n",
    "            \"set\": \"Genres\"\n",
    "        },\n",
    "        \"label\": {\n",
    "            \"attach\": \"Popularity\"\n",
    "        }\n",
    "    },\n",
    "    \"color\": {\n",
    "        \"attach\": \"Types\"\n",
    "    },\n",
    "    \"title\": \"Align: center\"\n",
    "}))\n",
    "\n",
    "chart.animate(Config({\n",
    "    \"align\": \"center\"\n",
    "}))\n",
    "\n",
    "snapshot1 = chart.store()"
   ]
  },
  {
   "cell_type": "markdown",
   "id": "de236c9d",
   "metadata": {},
   "source": [
    "Stretched alignment. This way the elements will proportionally fill the entire plot area, effectively showing proportions in stacked charts. This is why the scale will also switch from values to percentages when used."
   ]
  },
  {
   "cell_type": "code",
   "execution_count": 2,
   "id": "2570dfc5",
   "metadata": {},
   "outputs": [
    {
     "data": {
      "text/html": [
       "<script id=\"myVizzu_d1658ad\">\n",
       "    let display_d1658ad = myVizzu_d1658ad.parentNode.parentNode.style.display;\n",
       "    myVizzu_d1658ad.parentNode.parentNode.style.display = \"none\";\n",
       "    chart_f4ba9aa = chart_f4ba9aa.then(chart => {\n",
       "        if (myVizzu_f4ba9aa.parentNode && myVizzu_f4ba9aa.parentNode.parentNode) {\n",
       "            myVizzu_f4ba9aa.parentNode.parentNode.style.display = \"none\";\n",
       "        }\n",
       "        myVizzu_d1658ad.parentNode.parentNode.style.display = display_d1658ad;\n",
       "        myVizzu_d1658ad.parentNode.insertBefore(myVizzu_f4ba9aa, myVizzu_d1658ad);\n",
       "        myVizzu_f4ba9aa.scrollIntoView({behavior: \"auto\", block: \"center\"});\n",
       "        return chart.animate(snapshot_60cb21a);\n",
       "    });\n",
       "</script>"
      ]
     },
     "metadata": {},
     "output_type": "display_data"
    },
    {
     "data": {
      "text/html": [
       "<script id=\"myVizzu_ca1aa0f\">\n",
       "    let display_ca1aa0f = myVizzu_ca1aa0f.parentNode.parentNode.style.display;\n",
       "    myVizzu_ca1aa0f.parentNode.parentNode.style.display = \"none\";\n",
       "    chart_f4ba9aa = chart_f4ba9aa.then(chart => {\n",
       "        if (myVizzu_f4ba9aa.parentNode && myVizzu_f4ba9aa.parentNode.parentNode) {\n",
       "            myVizzu_f4ba9aa.parentNode.parentNode.style.display = \"none\";\n",
       "        }\n",
       "        myVizzu_ca1aa0f.parentNode.parentNode.style.display = display_ca1aa0f;\n",
       "        myVizzu_ca1aa0f.parentNode.insertBefore(myVizzu_f4ba9aa, myVizzu_ca1aa0f);\n",
       "        myVizzu_f4ba9aa.scrollIntoView({behavior: \"auto\", block: \"center\"});\n",
       "        return chart.animate({\"config\": {\"title\": \"Align: stretch = % view\"}});\n",
       "    });\n",
       "</script>"
      ]
     },
     "metadata": {},
     "output_type": "display_data"
    },
    {
     "data": {
      "text/html": [
       "<script id=\"myVizzu_d89ef5f\">\n",
       "    let display_d89ef5f = myVizzu_d89ef5f.parentNode.parentNode.style.display;\n",
       "    myVizzu_d89ef5f.parentNode.parentNode.style.display = \"none\";\n",
       "    chart_f4ba9aa = chart_f4ba9aa.then(chart => {\n",
       "        if (myVizzu_f4ba9aa.parentNode && myVizzu_f4ba9aa.parentNode.parentNode) {\n",
       "            myVizzu_f4ba9aa.parentNode.parentNode.style.display = \"none\";\n",
       "        }\n",
       "        myVizzu_d89ef5f.parentNode.parentNode.style.display = display_d89ef5f;\n",
       "        myVizzu_d89ef5f.parentNode.insertBefore(myVizzu_f4ba9aa, myVizzu_d89ef5f);\n",
       "        myVizzu_f4ba9aa.scrollIntoView({behavior: \"auto\", block: \"center\"});\n",
       "        return chart.animate({\"config\": {\"align\": \"stretch\"}});\n",
       "    });\n",
       "</script>"
      ]
     },
     "metadata": {},
     "output_type": "display_data"
    },
    {
     "data": {
      "text/html": [
       "<script id=\"myVizzu_b05850c\">\n",
       "    myVizzu_b05850c.parentNode.parentNode.style.display = \"none\";\n",
       "    let snapshot_b05850c;\n",
       "    chart_f4ba9aa = chart_f4ba9aa.then(chart => {\n",
       "        snapshot_b05850c = chart.store();\n",
       "        return chart;\n",
       "    });\n",
       "</script>"
      ]
     },
     "metadata": {},
     "output_type": "display_data"
    }
   ],
   "source": [
    "chart.animate(snapshot1)\n",
    "\n",
    "chart.animate(Config({\"title\": \"Align: stretch = % view\"}))\n",
    "\n",
    "chart.animate(Config({\n",
    "    \"align\": \"stretch\"\n",
    "}))\n",
    "\n",
    "snapshot2 = chart.store()"
   ]
  },
  {
   "cell_type": "markdown",
   "id": "2fe74668",
   "metadata": {},
   "source": [
    "Getting back to the default alignment."
   ]
  },
  {
   "cell_type": "code",
   "execution_count": 3,
   "id": "968c95e7",
   "metadata": {},
   "outputs": [
    {
     "data": {
      "text/html": [
       "<script id=\"myVizzu_a0746d1\">\n",
       "    let display_a0746d1 = myVizzu_a0746d1.parentNode.parentNode.style.display;\n",
       "    myVizzu_a0746d1.parentNode.parentNode.style.display = \"none\";\n",
       "    chart_f4ba9aa = chart_f4ba9aa.then(chart => {\n",
       "        if (myVizzu_f4ba9aa.parentNode && myVizzu_f4ba9aa.parentNode.parentNode) {\n",
       "            myVizzu_f4ba9aa.parentNode.parentNode.style.display = \"none\";\n",
       "        }\n",
       "        myVizzu_a0746d1.parentNode.parentNode.style.display = display_a0746d1;\n",
       "        myVizzu_a0746d1.parentNode.insertBefore(myVizzu_f4ba9aa, myVizzu_a0746d1);\n",
       "        myVizzu_f4ba9aa.scrollIntoView({behavior: \"auto\", block: \"center\"});\n",
       "        return chart.animate(snapshot_b05850c);\n",
       "    });\n",
       "</script>"
      ]
     },
     "metadata": {},
     "output_type": "display_data"
    },
    {
     "data": {
      "text/html": [
       "<script id=\"myVizzu_14b3cdf\">\n",
       "    let display_14b3cdf = myVizzu_14b3cdf.parentNode.parentNode.style.display;\n",
       "    myVizzu_14b3cdf.parentNode.parentNode.style.display = \"none\";\n",
       "    chart_f4ba9aa = chart_f4ba9aa.then(chart => {\n",
       "        if (myVizzu_f4ba9aa.parentNode && myVizzu_f4ba9aa.parentNode.parentNode) {\n",
       "            myVizzu_f4ba9aa.parentNode.parentNode.style.display = \"none\";\n",
       "        }\n",
       "        myVizzu_14b3cdf.parentNode.parentNode.style.display = display_14b3cdf;\n",
       "        myVizzu_14b3cdf.parentNode.insertBefore(myVizzu_f4ba9aa, myVizzu_14b3cdf);\n",
       "        myVizzu_f4ba9aa.scrollIntoView({behavior: \"auto\", block: \"center\"});\n",
       "        return chart.animate({\"config\": {\"title\": \"Align: none - default\"}});\n",
       "    });\n",
       "</script>"
      ]
     },
     "metadata": {},
     "output_type": "display_data"
    },
    {
     "data": {
      "text/html": [
       "<script id=\"myVizzu_a2db433\">\n",
       "    let display_a2db433 = myVizzu_a2db433.parentNode.parentNode.style.display;\n",
       "    myVizzu_a2db433.parentNode.parentNode.style.display = \"none\";\n",
       "    chart_f4ba9aa = chart_f4ba9aa.then(chart => {\n",
       "        if (myVizzu_f4ba9aa.parentNode && myVizzu_f4ba9aa.parentNode.parentNode) {\n",
       "            myVizzu_f4ba9aa.parentNode.parentNode.style.display = \"none\";\n",
       "        }\n",
       "        myVizzu_a2db433.parentNode.parentNode.style.display = display_a2db433;\n",
       "        myVizzu_a2db433.parentNode.insertBefore(myVizzu_f4ba9aa, myVizzu_a2db433);\n",
       "        myVizzu_f4ba9aa.scrollIntoView({behavior: \"auto\", block: \"center\"});\n",
       "        return chart.animate({\"config\": {\"align\": \"none\"}});\n",
       "    });\n",
       "</script>"
      ]
     },
     "metadata": {},
     "output_type": "display_data"
    },
    {
     "data": {
      "text/html": [
       "<script id=\"myVizzu_961fd83\">\n",
       "    myVizzu_961fd83.parentNode.parentNode.style.display = \"none\";\n",
       "    let snapshot_961fd83;\n",
       "    chart_f4ba9aa = chart_f4ba9aa.then(chart => {\n",
       "        snapshot_961fd83 = chart.store();\n",
       "        return chart;\n",
       "    });\n",
       "</script>"
      ]
     },
     "metadata": {},
     "output_type": "display_data"
    }
   ],
   "source": [
    "chart.animate(snapshot2)\n",
    "\n",
    "chart.animate(Config({\"title\": \"Align: none - default\"}))\n",
    "\n",
    "chart.animate(Config({\n",
    "    \"align\": \"none\"\n",
    "}))\n",
    "\n",
    "snapshot3 = chart.store()"
   ]
  },
  {
   "cell_type": "markdown",
   "id": "000773c1",
   "metadata": {},
   "source": [
    "You can set the range of an axis by setting the minimum and maximum values of it. Both parameters are optional so that you can set only one of those, and you either set specific values or a relative value by adding the % sign. In this example, we set the range of the y-axis in a way that the max value is 150% of the biggest element’s value."
   ]
  },
  {
   "cell_type": "code",
   "execution_count": 4,
   "id": "7aeb7745",
   "metadata": {},
   "outputs": [
    {
     "data": {
      "text/html": [
       "<script id=\"myVizzu_a1b0bfd\">\n",
       "    let display_a1b0bfd = myVizzu_a1b0bfd.parentNode.parentNode.style.display;\n",
       "    myVizzu_a1b0bfd.parentNode.parentNode.style.display = \"none\";\n",
       "    chart_f4ba9aa = chart_f4ba9aa.then(chart => {\n",
       "        if (myVizzu_f4ba9aa.parentNode && myVizzu_f4ba9aa.parentNode.parentNode) {\n",
       "            myVizzu_f4ba9aa.parentNode.parentNode.style.display = \"none\";\n",
       "        }\n",
       "        myVizzu_a1b0bfd.parentNode.parentNode.style.display = display_a1b0bfd;\n",
       "        myVizzu_a1b0bfd.parentNode.insertBefore(myVizzu_f4ba9aa, myVizzu_a1b0bfd);\n",
       "        myVizzu_f4ba9aa.scrollIntoView({behavior: \"auto\", block: \"center\"});\n",
       "        return chart.animate(snapshot_961fd83);\n",
       "    });\n",
       "</script>"
      ]
     },
     "metadata": {},
     "output_type": "display_data"
    },
    {
     "data": {
      "text/html": [
       "<script id=\"myVizzu_0ff72f3\">\n",
       "    let display_0ff72f3 = myVizzu_0ff72f3.parentNode.parentNode.style.display;\n",
       "    myVizzu_0ff72f3.parentNode.parentNode.style.display = \"none\";\n",
       "    chart_f4ba9aa = chart_f4ba9aa.then(chart => {\n",
       "        if (myVizzu_f4ba9aa.parentNode && myVizzu_f4ba9aa.parentNode.parentNode) {\n",
       "            myVizzu_f4ba9aa.parentNode.parentNode.style.display = \"none\";\n",
       "        }\n",
       "        myVizzu_0ff72f3.parentNode.parentNode.style.display = display_0ff72f3;\n",
       "        myVizzu_0ff72f3.parentNode.insertBefore(myVizzu_f4ba9aa, myVizzu_0ff72f3);\n",
       "        myVizzu_f4ba9aa.scrollIntoView({behavior: \"auto\", block: \"center\"});\n",
       "        return chart.animate({\"config\": {\"title\": \"Axis range set proportionally to shown values\"}});\n",
       "    });\n",
       "</script>"
      ]
     },
     "metadata": {},
     "output_type": "display_data"
    },
    {
     "data": {
      "text/html": [
       "<script id=\"myVizzu_dc3c739\">\n",
       "    let display_dc3c739 = myVizzu_dc3c739.parentNode.parentNode.style.display;\n",
       "    myVizzu_dc3c739.parentNode.parentNode.style.display = \"none\";\n",
       "    chart_f4ba9aa = chart_f4ba9aa.then(chart => {\n",
       "        if (myVizzu_f4ba9aa.parentNode && myVizzu_f4ba9aa.parentNode.parentNode) {\n",
       "            myVizzu_f4ba9aa.parentNode.parentNode.style.display = \"none\";\n",
       "        }\n",
       "        myVizzu_dc3c739.parentNode.parentNode.style.display = display_dc3c739;\n",
       "        myVizzu_dc3c739.parentNode.insertBefore(myVizzu_f4ba9aa, myVizzu_dc3c739);\n",
       "        myVizzu_f4ba9aa.scrollIntoView({behavior: \"auto\", block: \"center\"});\n",
       "        return chart.animate({\"config\": {\"channels\": {\"y\": {\"range\": {\"max\": \"150%\"}}}}});\n",
       "    });\n",
       "</script>"
      ]
     },
     "metadata": {},
     "output_type": "display_data"
    },
    {
     "data": {
      "text/html": [
       "<script id=\"myVizzu_296f539\">\n",
       "    myVizzu_296f539.parentNode.parentNode.style.display = \"none\";\n",
       "    let snapshot_296f539;\n",
       "    chart_f4ba9aa = chart_f4ba9aa.then(chart => {\n",
       "        snapshot_296f539 = chart.store();\n",
       "        return chart;\n",
       "    });\n",
       "</script>"
      ]
     },
     "metadata": {},
     "output_type": "display_data"
    }
   ],
   "source": [
    "chart.animate(snapshot3)\n",
    "\n",
    "chart.animate(Config({\"title\": \"Axis range set proportionally to shown values\"}))\n",
    "\n",
    "chart.animate(Config({\n",
    "    \"channels\": {\n",
    "        \"y\": {\n",
    "            \"range\": {\n",
    "                \"max\": \"150%\"\n",
    "            }\n",
    "        }\n",
    "    }\n",
    "}))\n",
    "\n",
    "snapshot4 = chart.store()"
   ]
  },
  {
   "cell_type": "markdown",
   "id": "119ea887",
   "metadata": {},
   "source": [
    "You can also set the range for an axis with a dimension on it. You can even use this feature to filter certain elements, just like in the following example."
   ]
  },
  {
   "cell_type": "code",
   "execution_count": 5,
   "id": "aeeeb6a4",
   "metadata": {},
   "outputs": [
    {
     "data": {
      "text/html": [
       "<script id=\"myVizzu_0aee532\">\n",
       "    let display_0aee532 = myVizzu_0aee532.parentNode.parentNode.style.display;\n",
       "    myVizzu_0aee532.parentNode.parentNode.style.display = \"none\";\n",
       "    chart_f4ba9aa = chart_f4ba9aa.then(chart => {\n",
       "        if (myVizzu_f4ba9aa.parentNode && myVizzu_f4ba9aa.parentNode.parentNode) {\n",
       "            myVizzu_f4ba9aa.parentNode.parentNode.style.display = \"none\";\n",
       "        }\n",
       "        myVizzu_0aee532.parentNode.parentNode.style.display = display_0aee532;\n",
       "        myVizzu_0aee532.parentNode.insertBefore(myVizzu_f4ba9aa, myVizzu_0aee532);\n",
       "        myVizzu_f4ba9aa.scrollIntoView({behavior: \"auto\", block: \"center\"});\n",
       "        return chart.animate(snapshot_296f539);\n",
       "    });\n",
       "</script>"
      ]
     },
     "metadata": {},
     "output_type": "display_data"
    },
    {
     "data": {
      "text/html": [
       "<script id=\"myVizzu_d3e920b\">\n",
       "    let display_d3e920b = myVizzu_d3e920b.parentNode.parentNode.style.display;\n",
       "    myVizzu_d3e920b.parentNode.parentNode.style.display = \"none\";\n",
       "    chart_f4ba9aa = chart_f4ba9aa.then(chart => {\n",
       "        if (myVizzu_f4ba9aa.parentNode && myVizzu_f4ba9aa.parentNode.parentNode) {\n",
       "            myVizzu_f4ba9aa.parentNode.parentNode.style.display = \"none\";\n",
       "        }\n",
       "        myVizzu_d3e920b.parentNode.parentNode.style.display = display_d3e920b;\n",
       "        myVizzu_d3e920b.parentNode.insertBefore(myVizzu_f4ba9aa, myVizzu_d3e920b);\n",
       "        myVizzu_f4ba9aa.scrollIntoView({behavior: \"auto\", block: \"center\"});\n",
       "        return chart.animate({\"config\": {\"title\": \"Axis range set explicitly on an axis with discrete series\"}});\n",
       "    });\n",
       "</script>"
      ]
     },
     "metadata": {},
     "output_type": "display_data"
    },
    {
     "data": {
      "text/html": [
       "<script id=\"myVizzu_3fbb871\">\n",
       "    let display_3fbb871 = myVizzu_3fbb871.parentNode.parentNode.style.display;\n",
       "    myVizzu_3fbb871.parentNode.parentNode.style.display = \"none\";\n",
       "    chart_f4ba9aa = chart_f4ba9aa.then(chart => {\n",
       "        if (myVizzu_f4ba9aa.parentNode && myVizzu_f4ba9aa.parentNode.parentNode) {\n",
       "            myVizzu_f4ba9aa.parentNode.parentNode.style.display = \"none\";\n",
       "        }\n",
       "        myVizzu_3fbb871.parentNode.parentNode.style.display = display_3fbb871;\n",
       "        myVizzu_3fbb871.parentNode.insertBefore(myVizzu_f4ba9aa, myVizzu_3fbb871);\n",
       "        myVizzu_f4ba9aa.scrollIntoView({behavior: \"auto\", block: \"center\"});\n",
       "        return chart.animate({\"config\": {\"channels\": {\"x\": {\"range\": {\"min\": -2, \"max\": 3}}}}});\n",
       "    });\n",
       "</script>"
      ]
     },
     "metadata": {},
     "output_type": "display_data"
    },
    {
     "data": {
      "text/html": [
       "<script id=\"myVizzu_8570867\">\n",
       "    myVizzu_8570867.parentNode.parentNode.style.display = \"none\";\n",
       "    let snapshot_8570867;\n",
       "    chart_f4ba9aa = chart_f4ba9aa.then(chart => {\n",
       "        snapshot_8570867 = chart.store();\n",
       "        return chart;\n",
       "    });\n",
       "</script>"
      ]
     },
     "metadata": {},
     "output_type": "display_data"
    }
   ],
   "source": [
    "chart.animate(snapshot4)\n",
    "\n",
    "chart.animate(Config({\"title\": \"Axis range set explicitly on an axis with discrete series\"}))\n",
    "\n",
    "chart.animate(Config({\n",
    "    \"channels\": {\n",
    "        \"x\": {\n",
    "            \"range\": {\n",
    "                \"min\": -2,\n",
    "                \"max\": 3,\n",
    "            }\n",
    "        }\n",
    "    }\n",
    "}))\n",
    "\n",
    "snapshot5 = chart.store()"
   ]
  },
  {
   "cell_type": "markdown",
   "id": "8d504699",
   "metadata": {},
   "source": [
    "Ranges have certain defaults depending on the chart's configuration, based on common data viz guidelines because we wanted to make it easy for you to create sleek charts. For example, in the cartesian coordinate system, the range will be automatically set to the max:110% for an axis with a measure on it. Polar coordinates work differently, as you can see for yourself in the Orientation, split & polar chapter.\n",
    "\n",
    "Whenever you want to set your ranges back to the default value, just set them to ‘auto’."
   ]
  },
  {
   "cell_type": "code",
   "execution_count": 6,
   "id": "db518966",
   "metadata": {},
   "outputs": [
    {
     "data": {
      "text/html": [
       "<script id=\"myVizzu_9c0f449\">\n",
       "    let display_9c0f449 = myVizzu_9c0f449.parentNode.parentNode.style.display;\n",
       "    myVizzu_9c0f449.parentNode.parentNode.style.display = \"none\";\n",
       "    chart_f4ba9aa = chart_f4ba9aa.then(chart => {\n",
       "        if (myVizzu_f4ba9aa.parentNode && myVizzu_f4ba9aa.parentNode.parentNode) {\n",
       "            myVizzu_f4ba9aa.parentNode.parentNode.style.display = \"none\";\n",
       "        }\n",
       "        myVizzu_9c0f449.parentNode.parentNode.style.display = display_9c0f449;\n",
       "        myVizzu_9c0f449.parentNode.insertBefore(myVizzu_f4ba9aa, myVizzu_9c0f449);\n",
       "        myVizzu_f4ba9aa.scrollIntoView({behavior: \"auto\", block: \"center\"});\n",
       "        return chart.animate(snapshot_8570867);\n",
       "    });\n",
       "</script>"
      ]
     },
     "metadata": {},
     "output_type": "display_data"
    },
    {
     "data": {
      "text/html": [
       "<script id=\"myVizzu_5639357\">\n",
       "    let display_5639357 = myVizzu_5639357.parentNode.parentNode.style.display;\n",
       "    myVizzu_5639357.parentNode.parentNode.style.display = \"none\";\n",
       "    chart_f4ba9aa = chart_f4ba9aa.then(chart => {\n",
       "        if (myVizzu_f4ba9aa.parentNode && myVizzu_f4ba9aa.parentNode.parentNode) {\n",
       "            myVizzu_f4ba9aa.parentNode.parentNode.style.display = \"none\";\n",
       "        }\n",
       "        myVizzu_5639357.parentNode.parentNode.style.display = display_5639357;\n",
       "        myVizzu_5639357.parentNode.insertBefore(myVizzu_f4ba9aa, myVizzu_5639357);\n",
       "        myVizzu_f4ba9aa.scrollIntoView({behavior: \"auto\", block: \"center\"});\n",
       "        return chart.animate({\"config\": {\"title\": \"Back to the default ranges\"}});\n",
       "    });\n",
       "</script>"
      ]
     },
     "metadata": {},
     "output_type": "display_data"
    },
    {
     "data": {
      "text/html": [
       "<script id=\"myVizzu_da3618c\">\n",
       "    let display_da3618c = myVizzu_da3618c.parentNode.parentNode.style.display;\n",
       "    myVizzu_da3618c.parentNode.parentNode.style.display = \"none\";\n",
       "    chart_f4ba9aa = chart_f4ba9aa.then(chart => {\n",
       "        if (myVizzu_f4ba9aa.parentNode && myVizzu_f4ba9aa.parentNode.parentNode) {\n",
       "            myVizzu_f4ba9aa.parentNode.parentNode.style.display = \"none\";\n",
       "        }\n",
       "        myVizzu_da3618c.parentNode.parentNode.style.display = display_da3618c;\n",
       "        myVizzu_da3618c.parentNode.insertBefore(myVizzu_f4ba9aa, myVizzu_da3618c);\n",
       "        myVizzu_f4ba9aa.scrollIntoView({behavior: \"auto\", block: \"center\"});\n",
       "        return chart.animate({\"config\": {\"channels\": {\"y\": {\"range\": {\"max\": \"auto\"}}, \"x\": {\"range\": {\"min\": \"auto\", \"max\": \"auto\"}}}}});\n",
       "    });\n",
       "</script>"
      ]
     },
     "metadata": {},
     "output_type": "display_data"
    }
   ],
   "source": [
    "chart.animate(snapshot5)\n",
    "\n",
    "chart.animate(Config({\"title\": \"Back to the default ranges\"}))\n",
    "\n",
    "chart.animate(Config({\n",
    "    \"channels\": {\n",
    "        \"y\": {\n",
    "            \"range\": {\n",
    "                \"max\": \"auto\"\n",
    "            }\n",
    "        },\n",
    "        \"x\": {\n",
    "            \"range\": {\n",
    "                \"min\": \"auto\",\n",
    "                \"max\": \"auto\",\n",
    "            }\n",
    "        }\n",
    "    }\n",
    "}))"
   ]
  }
 ],
 "metadata": {
  "kernelspec": {
   "display_name": "Python 3 (ipykernel)",
   "language": "python",
   "name": "python3"
  },
  "language_info": {
   "codemirror_mode": {
    "name": "ipython",
    "version": 3
   },
   "file_extension": ".py",
   "mimetype": "text/x-python",
   "name": "python",
   "nbconvert_exporter": "python",
   "pygments_lexer": "ipython3",
   "version": "3.8.10"
  }
 },
 "nbformat": 4,
 "nbformat_minor": 5
}
