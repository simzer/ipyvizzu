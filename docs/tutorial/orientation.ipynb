{
 "cells": [
  {
   "cell_type": "markdown",
   "id": "6dbc8df4",
   "metadata": {},
   "source": [
    "## Orientation, split & polar\n",
    "\n",
    "Now that you are familiar with the basic logic and operation of Vizzu, let's dive in with some more advanced features that you can use to create animated data stories and show the data from different perspectives.\n",
    "\n",
    "Switching orientation means that you put a measure from one axis to the other to see the data from a different perspective. This is once again a state you should only use temporarily."
   ]
  },
  {
   "cell_type": "code",
   "execution_count": 1,
   "id": "d5da6794",
   "metadata": {},
   "outputs": [
    {
     "data": {
      "text/html": [
       "<script id=\"myVizzu_b7571c6\">\n",
       "    let myVizzu_44b0f6c = document.createElement(\"div\");\n",
       "    myVizzu_44b0f6c.style.cssText = \"width: 800px; height: 480px;\";\n",
       "    let chart_44b0f6c = import(\"https://cdn.jsdelivr.net/npm/vizzu@~0.4.0/dist/vizzu.min.js\").then(Vizzu => new Vizzu.default(myVizzu_44b0f6c).initializing);\n",
       "    myVizzu_b7571c6.parentNode.insertBefore(myVizzu_44b0f6c, myVizzu_b7571c6);\n",
       "</script>"
      ]
     },
     "metadata": {},
     "output_type": "display_data"
    },
    {
     "data": {
      "text/html": [
       "<script id=\"myVizzu_31c5963\">\n",
       "    let display_31c5963 = myVizzu_31c5963.parentNode.parentNode.style.display;\n",
       "    myVizzu_31c5963.parentNode.parentNode.style.display = \"none\";\n",
       "    chart_44b0f6c = chart_44b0f6c.then(chart => {\n",
       "        if (myVizzu_44b0f6c.parentNode && myVizzu_44b0f6c.parentNode.parentNode) {\n",
       "            myVizzu_44b0f6c.parentNode.parentNode.style.display = \"none\";\n",
       "        }\n",
       "        myVizzu_31c5963.parentNode.parentNode.style.display = display_31c5963;\n",
       "        myVizzu_31c5963.parentNode.insertBefore(myVizzu_44b0f6c, myVizzu_31c5963);\n",
       "        myVizzu_44b0f6c.scrollIntoView({behavior: \"auto\", block: \"center\"});\n",
       "        return chart.animate({\"data\": {\"dimensions\": [{\"name\": \"Genres\", \"values\": [\"Pop\", \"Rock\", \"Jazz\", \"Metal\"]}, {\"name\": \"Types\", \"values\": [\"Hard\", \"Smooth\", \"Experimental\"]}], \"measures\": [{\"name\": \"Popularity\", \"values\": [[114, 96, 78, 52], [56, 36, 174, 121], [127, 83, 94, 58]]}]}});\n",
       "    });\n",
       "</script>"
      ]
     },
     "metadata": {},
     "output_type": "display_data"
    },
    {
     "data": {
      "text/html": [
       "<script id=\"myVizzu_19572a9\">\n",
       "    let display_19572a9 = myVizzu_19572a9.parentNode.parentNode.style.display;\n",
       "    myVizzu_19572a9.parentNode.parentNode.style.display = \"none\";\n",
       "    chart_44b0f6c = chart_44b0f6c.then(chart => {\n",
       "        if (myVizzu_44b0f6c.parentNode && myVizzu_44b0f6c.parentNode.parentNode) {\n",
       "            myVizzu_44b0f6c.parentNode.parentNode.style.display = \"none\";\n",
       "        }\n",
       "        myVizzu_19572a9.parentNode.parentNode.style.display = display_19572a9;\n",
       "        myVizzu_19572a9.parentNode.insertBefore(myVizzu_44b0f6c, myVizzu_19572a9);\n",
       "        myVizzu_44b0f6c.scrollIntoView({behavior: \"auto\", block: \"center\"});\n",
       "        return chart.animate({\"config\": {\"channels\": {\"y\": {\"set\": [\"Popularity\", \"Types\"]}, \"x\": {\"set\": \"Genres\"}, \"label\": {\"attach\": \"Popularity\"}}, \"color\": {\"attach\": \"Types\"}, \"title\": \"Switch the orientation = arrange by other axis\"}});\n",
       "    });\n",
       "</script>"
      ]
     },
     "metadata": {},
     "output_type": "display_data"
    },
    {
     "data": {
      "text/html": [
       "<script id=\"myVizzu_3da7fea\">\n",
       "    let display_3da7fea = myVizzu_3da7fea.parentNode.parentNode.style.display;\n",
       "    myVizzu_3da7fea.parentNode.parentNode.style.display = \"none\";\n",
       "    chart_44b0f6c = chart_44b0f6c.then(chart => {\n",
       "        if (myVizzu_44b0f6c.parentNode && myVizzu_44b0f6c.parentNode.parentNode) {\n",
       "            myVizzu_44b0f6c.parentNode.parentNode.style.display = \"none\";\n",
       "        }\n",
       "        myVizzu_3da7fea.parentNode.parentNode.style.display = display_3da7fea;\n",
       "        myVizzu_3da7fea.parentNode.insertBefore(myVizzu_44b0f6c, myVizzu_3da7fea);\n",
       "        myVizzu_44b0f6c.scrollIntoView({behavior: \"auto\", block: \"center\"});\n",
       "        return chart.animate({\"config\": {\"channels\": {\"y\": {\"detach\": \"Popularity\"}, \"x\": {\"attach\": \"Popularity\"}}}});\n",
       "    });\n",
       "</script>"
      ]
     },
     "metadata": {},
     "output_type": "display_data"
    },
    {
     "data": {
      "text/html": [
       "<script id=\"myVizzu_ce91770\">\n",
       "    myVizzu_ce91770.parentNode.parentNode.style.display = \"none\";\n",
       "    let snapshot_ce91770;\n",
       "    chart_44b0f6c = chart_44b0f6c.then(chart => {\n",
       "        snapshot_ce91770 = chart.store();\n",
       "        return chart;\n",
       "    });\n",
       "</script>"
      ]
     },
     "metadata": {},
     "output_type": "display_data"
    }
   ],
   "source": [
    "from ipyvizzu import Chart, Data, Config\n",
    "\n",
    "chart = Chart()\n",
    "\n",
    "data = Data.from_json(\"./music_data.json\")\n",
    "\n",
    "chart.animate(data)\n",
    "\n",
    "chart.animate(Config({\n",
    "    \"channels\": {\n",
    "        \"y\": {\n",
    "            \"set\": [\"Popularity\", \"Types\"]\n",
    "        }, \n",
    "        \"x\": {\n",
    "            \"set\": \"Genres\"\n",
    "        },\n",
    "        \"label\": {\n",
    "            \"attach\": \"Popularity\"\n",
    "        }\n",
    "    },\n",
    "    \"color\": {\n",
    "        \"attach\": \"Types\"\n",
    "    },\n",
    "    \"title\": \"Switch the orientation = arrange by other axis\"\n",
    "}))\n",
    "\n",
    "chart.animate(Config({\n",
    "    \"channels\": {\n",
    "        \"y\": {\n",
    "            \"detach\": \"Popularity\",\n",
    "        },\n",
    "        \"x\": {\n",
    "            \"attach\": \"Popularity\",\n",
    "        }\n",
    "    }\n",
    "}))\n",
    "\n",
    "snapshot1 = chart.store()"
   ]
  },
  {
   "cell_type": "markdown",
   "id": "64a0effc",
   "metadata": {},
   "source": [
    "By turning the split parameter on, you can see stacked elements side-by-side, which enables the comparison of the components."
   ]
  },
  {
   "cell_type": "code",
   "execution_count": 2,
   "id": "f977713f",
   "metadata": {},
   "outputs": [
    {
     "data": {
      "text/html": [
       "<script id=\"myVizzu_1563d3c\">\n",
       "    let display_1563d3c = myVizzu_1563d3c.parentNode.parentNode.style.display;\n",
       "    myVizzu_1563d3c.parentNode.parentNode.style.display = \"none\";\n",
       "    chart_44b0f6c = chart_44b0f6c.then(chart => {\n",
       "        if (myVizzu_44b0f6c.parentNode && myVizzu_44b0f6c.parentNode.parentNode) {\n",
       "            myVizzu_44b0f6c.parentNode.parentNode.style.display = \"none\";\n",
       "        }\n",
       "        myVizzu_1563d3c.parentNode.parentNode.style.display = display_1563d3c;\n",
       "        myVizzu_1563d3c.parentNode.insertBefore(myVizzu_44b0f6c, myVizzu_1563d3c);\n",
       "        myVizzu_44b0f6c.scrollIntoView({behavior: \"auto\", block: \"center\"});\n",
       "        return chart.animate(snapshot_ce91770);\n",
       "    });\n",
       "</script>"
      ]
     },
     "metadata": {},
     "output_type": "display_data"
    },
    {
     "data": {
      "text/html": [
       "<script id=\"myVizzu_faeadd6\">\n",
       "    let display_faeadd6 = myVizzu_faeadd6.parentNode.parentNode.style.display;\n",
       "    myVizzu_faeadd6.parentNode.parentNode.style.display = \"none\";\n",
       "    chart_44b0f6c = chart_44b0f6c.then(chart => {\n",
       "        if (myVizzu_44b0f6c.parentNode && myVizzu_44b0f6c.parentNode.parentNode) {\n",
       "            myVizzu_44b0f6c.parentNode.parentNode.style.display = \"none\";\n",
       "        }\n",
       "        myVizzu_faeadd6.parentNode.parentNode.style.display = display_faeadd6;\n",
       "        myVizzu_faeadd6.parentNode.insertBefore(myVizzu_44b0f6c, myVizzu_faeadd6);\n",
       "        myVizzu_44b0f6c.scrollIntoView({behavior: \"auto\", block: \"center\"});\n",
       "        return chart.animate({\"config\": {\"title\": \"Split stacked values = show side-by-side\"}});\n",
       "    });\n",
       "</script>"
      ]
     },
     "metadata": {},
     "output_type": "display_data"
    },
    {
     "data": {
      "text/html": [
       "<script id=\"myVizzu_851b361\">\n",
       "    let display_851b361 = myVizzu_851b361.parentNode.parentNode.style.display;\n",
       "    myVizzu_851b361.parentNode.parentNode.style.display = \"none\";\n",
       "    chart_44b0f6c = chart_44b0f6c.then(chart => {\n",
       "        if (myVizzu_44b0f6c.parentNode && myVizzu_44b0f6c.parentNode.parentNode) {\n",
       "            myVizzu_44b0f6c.parentNode.parentNode.style.display = \"none\";\n",
       "        }\n",
       "        myVizzu_851b361.parentNode.parentNode.style.display = display_851b361;\n",
       "        myVizzu_851b361.parentNode.insertBefore(myVizzu_44b0f6c, myVizzu_851b361);\n",
       "        myVizzu_44b0f6c.scrollIntoView({behavior: \"auto\", block: \"center\"});\n",
       "        return chart.animate({\"config\": {\"split\": true}});\n",
       "    });\n",
       "</script>"
      ]
     },
     "metadata": {},
     "output_type": "display_data"
    },
    {
     "data": {
      "text/html": [
       "<script id=\"myVizzu_5dfcbf8\">\n",
       "    myVizzu_5dfcbf8.parentNode.parentNode.style.display = \"none\";\n",
       "    let snapshot_5dfcbf8;\n",
       "    chart_44b0f6c = chart_44b0f6c.then(chart => {\n",
       "        snapshot_5dfcbf8 = chart.store();\n",
       "        return chart;\n",
       "    });\n",
       "</script>"
      ]
     },
     "metadata": {},
     "output_type": "display_data"
    }
   ],
   "source": [
    "chart.animate(snapshot1)\n",
    "\n",
    "chart.animate(Config({\"title\": \"Split stacked values = show side-by-side\"}))\n",
    "\n",
    "chart.animate(Config({\n",
    "    \"split\": True\n",
    "}))\n",
    "\n",
    "snapshot2 = chart.store()"
   ]
  },
  {
   "cell_type": "markdown",
   "id": "0d54187c",
   "metadata": {},
   "source": [
    "Merging the components by turning the split parameter off."
   ]
  },
  {
   "cell_type": "code",
   "execution_count": 3,
   "id": "acfa599d",
   "metadata": {},
   "outputs": [
    {
     "data": {
      "text/html": [
       "<script id=\"myVizzu_5dd18d3\">\n",
       "    let display_5dd18d3 = myVizzu_5dd18d3.parentNode.parentNode.style.display;\n",
       "    myVizzu_5dd18d3.parentNode.parentNode.style.display = \"none\";\n",
       "    chart_44b0f6c = chart_44b0f6c.then(chart => {\n",
       "        if (myVizzu_44b0f6c.parentNode && myVizzu_44b0f6c.parentNode.parentNode) {\n",
       "            myVizzu_44b0f6c.parentNode.parentNode.style.display = \"none\";\n",
       "        }\n",
       "        myVizzu_5dd18d3.parentNode.parentNode.style.display = display_5dd18d3;\n",
       "        myVizzu_5dd18d3.parentNode.insertBefore(myVizzu_44b0f6c, myVizzu_5dd18d3);\n",
       "        myVizzu_44b0f6c.scrollIntoView({behavior: \"auto\", block: \"center\"});\n",
       "        return chart.animate(snapshot_5dfcbf8);\n",
       "    });\n",
       "</script>"
      ]
     },
     "metadata": {},
     "output_type": "display_data"
    },
    {
     "data": {
      "text/html": [
       "<script id=\"myVizzu_e331508\">\n",
       "    let display_e331508 = myVizzu_e331508.parentNode.parentNode.style.display;\n",
       "    myVizzu_e331508.parentNode.parentNode.style.display = \"none\";\n",
       "    chart_44b0f6c = chart_44b0f6c.then(chart => {\n",
       "        if (myVizzu_44b0f6c.parentNode && myVizzu_44b0f6c.parentNode.parentNode) {\n",
       "            myVizzu_44b0f6c.parentNode.parentNode.style.display = \"none\";\n",
       "        }\n",
       "        myVizzu_e331508.parentNode.parentNode.style.display = display_e331508;\n",
       "        myVizzu_e331508.parentNode.insertBefore(myVizzu_44b0f6c, myVizzu_e331508);\n",
       "        myVizzu_44b0f6c.scrollIntoView({behavior: \"auto\", block: \"center\"});\n",
       "        return chart.animate({\"config\": {\"title\": \"Merge\"}});\n",
       "    });\n",
       "</script>"
      ]
     },
     "metadata": {},
     "output_type": "display_data"
    },
    {
     "data": {
      "text/html": [
       "<script id=\"myVizzu_058fc81\">\n",
       "    let display_058fc81 = myVizzu_058fc81.parentNode.parentNode.style.display;\n",
       "    myVizzu_058fc81.parentNode.parentNode.style.display = \"none\";\n",
       "    chart_44b0f6c = chart_44b0f6c.then(chart => {\n",
       "        if (myVizzu_44b0f6c.parentNode && myVizzu_44b0f6c.parentNode.parentNode) {\n",
       "            myVizzu_44b0f6c.parentNode.parentNode.style.display = \"none\";\n",
       "        }\n",
       "        myVizzu_058fc81.parentNode.parentNode.style.display = display_058fc81;\n",
       "        myVizzu_058fc81.parentNode.insertBefore(myVizzu_44b0f6c, myVizzu_058fc81);\n",
       "        myVizzu_44b0f6c.scrollIntoView({behavior: \"auto\", block: \"center\"});\n",
       "        return chart.animate({\"config\": {\"split\": false}});\n",
       "    });\n",
       "</script>"
      ]
     },
     "metadata": {},
     "output_type": "display_data"
    },
    {
     "data": {
      "text/html": [
       "<script id=\"myVizzu_1c6779c\">\n",
       "    myVizzu_1c6779c.parentNode.parentNode.style.display = \"none\";\n",
       "    let snapshot_1c6779c;\n",
       "    chart_44b0f6c = chart_44b0f6c.then(chart => {\n",
       "        snapshot_1c6779c = chart.store();\n",
       "        return chart;\n",
       "    });\n",
       "</script>"
      ]
     },
     "metadata": {},
     "output_type": "display_data"
    }
   ],
   "source": [
    "chart.animate(snapshot2)\n",
    "\n",
    "chart.animate(Config({\"title\": \"Merge\"}))\n",
    "\n",
    "chart.animate(Config({\n",
    "    \"split\": False\n",
    "}))\n",
    "\n",
    "snapshot3 = chart.store()"
   ]
  },
  {
   "cell_type": "markdown",
   "id": "8bdea4dc",
   "metadata": {},
   "source": [
    "We aggregate the data by removing the Genres dimension from the x-axis."
   ]
  },
  {
   "cell_type": "code",
   "execution_count": 4,
   "id": "cd6f4efb",
   "metadata": {},
   "outputs": [
    {
     "data": {
      "text/html": [
       "<script id=\"myVizzu_526b3b0\">\n",
       "    let display_526b3b0 = myVizzu_526b3b0.parentNode.parentNode.style.display;\n",
       "    myVizzu_526b3b0.parentNode.parentNode.style.display = \"none\";\n",
       "    chart_44b0f6c = chart_44b0f6c.then(chart => {\n",
       "        if (myVizzu_44b0f6c.parentNode && myVizzu_44b0f6c.parentNode.parentNode) {\n",
       "            myVizzu_44b0f6c.parentNode.parentNode.style.display = \"none\";\n",
       "        }\n",
       "        myVizzu_526b3b0.parentNode.parentNode.style.display = display_526b3b0;\n",
       "        myVizzu_526b3b0.parentNode.insertBefore(myVizzu_44b0f6c, myVizzu_526b3b0);\n",
       "        myVizzu_44b0f6c.scrollIntoView({behavior: \"auto\", block: \"center\"});\n",
       "        return chart.animate(snapshot_1c6779c);\n",
       "    });\n",
       "</script>"
      ]
     },
     "metadata": {},
     "output_type": "display_data"
    },
    {
     "data": {
      "text/html": [
       "<script id=\"myVizzu_a71fef1\">\n",
       "    let display_a71fef1 = myVizzu_a71fef1.parentNode.parentNode.style.display;\n",
       "    myVizzu_a71fef1.parentNode.parentNode.style.display = \"none\";\n",
       "    chart_44b0f6c = chart_44b0f6c.then(chart => {\n",
       "        if (myVizzu_44b0f6c.parentNode && myVizzu_44b0f6c.parentNode.parentNode) {\n",
       "            myVizzu_44b0f6c.parentNode.parentNode.style.display = \"none\";\n",
       "        }\n",
       "        myVizzu_a71fef1.parentNode.parentNode.style.display = display_a71fef1;\n",
       "        myVizzu_a71fef1.parentNode.insertBefore(myVizzu_44b0f6c, myVizzu_a71fef1);\n",
       "        myVizzu_44b0f6c.scrollIntoView({behavior: \"auto\", block: \"center\"});\n",
       "        return chart.animate({\"config\": {\"title\": \"Aggregate\"}});\n",
       "    });\n",
       "</script>"
      ]
     },
     "metadata": {},
     "output_type": "display_data"
    },
    {
     "data": {
      "text/html": [
       "<script id=\"myVizzu_0bc2389\">\n",
       "    let display_0bc2389 = myVizzu_0bc2389.parentNode.parentNode.style.display;\n",
       "    myVizzu_0bc2389.parentNode.parentNode.style.display = \"none\";\n",
       "    chart_44b0f6c = chart_44b0f6c.then(chart => {\n",
       "        if (myVizzu_44b0f6c.parentNode && myVizzu_44b0f6c.parentNode.parentNode) {\n",
       "            myVizzu_44b0f6c.parentNode.parentNode.style.display = \"none\";\n",
       "        }\n",
       "        myVizzu_0bc2389.parentNode.parentNode.style.display = display_0bc2389;\n",
       "        myVizzu_0bc2389.parentNode.insertBefore(myVizzu_44b0f6c, myVizzu_0bc2389);\n",
       "        myVizzu_44b0f6c.scrollIntoView({behavior: \"auto\", block: \"center\"});\n",
       "        return chart.animate({\"config\": {\"channels\": {\"x\": {\"detach\": \"Genres\"}}}});\n",
       "    });\n",
       "</script>"
      ]
     },
     "metadata": {},
     "output_type": "display_data"
    },
    {
     "data": {
      "text/html": [
       "<script id=\"myVizzu_ce6e923\">\n",
       "    myVizzu_ce6e923.parentNode.parentNode.style.display = \"none\";\n",
       "    let snapshot_ce6e923;\n",
       "    chart_44b0f6c = chart_44b0f6c.then(chart => {\n",
       "        snapshot_ce6e923 = chart.store();\n",
       "        return chart;\n",
       "    });\n",
       "</script>"
      ]
     },
     "metadata": {},
     "output_type": "display_data"
    }
   ],
   "source": [
    "chart.animate(snapshot3)\n",
    "\n",
    "chart.animate(Config({\"title\": \"Aggregate\"}))\n",
    "\n",
    "chart.animate(Config({\n",
    "    \"channels\": {\n",
    "        \"x\": {\n",
    "            \"detach\": \"Genres\",\n",
    "        }\n",
    "    }\n",
    "}))\n",
    "\n",
    "snapshot4 = chart.store()"
   ]
  },
  {
   "cell_type": "markdown",
   "id": "57f51f7b",
   "metadata": {},
   "source": [
    "Switching from cartesian coordinates to polar. When doing so, it is worth setting the axis range on the axis with the dimension so that the viewers can easily compare the values shown. If you want to return to the default cartesian coordinates, just set the coordSystem parameter to ‘cartesian’.\n",
    "\n",
    "Note: The range of the x-axis is automatically set to max:133% as this is the standard way to show radial charts."
   ]
  },
  {
   "cell_type": "code",
   "execution_count": 5,
   "id": "dc6866f3",
   "metadata": {},
   "outputs": [
    {
     "data": {
      "text/html": [
       "<script id=\"myVizzu_db3887e\">\n",
       "    let display_db3887e = myVizzu_db3887e.parentNode.parentNode.style.display;\n",
       "    myVizzu_db3887e.parentNode.parentNode.style.display = \"none\";\n",
       "    chart_44b0f6c = chart_44b0f6c.then(chart => {\n",
       "        if (myVizzu_44b0f6c.parentNode && myVizzu_44b0f6c.parentNode.parentNode) {\n",
       "            myVizzu_44b0f6c.parentNode.parentNode.style.display = \"none\";\n",
       "        }\n",
       "        myVizzu_db3887e.parentNode.parentNode.style.display = display_db3887e;\n",
       "        myVizzu_db3887e.parentNode.insertBefore(myVizzu_44b0f6c, myVizzu_db3887e);\n",
       "        myVizzu_44b0f6c.scrollIntoView({behavior: \"auto\", block: \"center\"});\n",
       "        return chart.animate(snapshot_ce6e923);\n",
       "    });\n",
       "</script>"
      ]
     },
     "metadata": {},
     "output_type": "display_data"
    },
    {
     "data": {
      "text/html": [
       "<script id=\"myVizzu_c653043\">\n",
       "    let display_c653043 = myVizzu_c653043.parentNode.parentNode.style.display;\n",
       "    myVizzu_c653043.parentNode.parentNode.style.display = \"none\";\n",
       "    chart_44b0f6c = chart_44b0f6c.then(chart => {\n",
       "        if (myVizzu_44b0f6c.parentNode && myVizzu_44b0f6c.parentNode.parentNode) {\n",
       "            myVizzu_44b0f6c.parentNode.parentNode.style.display = \"none\";\n",
       "        }\n",
       "        myVizzu_c653043.parentNode.parentNode.style.display = display_c653043;\n",
       "        myVizzu_c653043.parentNode.insertBefore(myVizzu_44b0f6c, myVizzu_c653043);\n",
       "        myVizzu_44b0f6c.scrollIntoView({behavior: \"auto\", block: \"center\"});\n",
       "        return chart.animate({\"config\": {\"title\": \"Polar coordinates\"}});\n",
       "    });\n",
       "</script>"
      ]
     },
     "metadata": {},
     "output_type": "display_data"
    },
    {
     "data": {
      "text/html": [
       "<script id=\"myVizzu_87ea29f\">\n",
       "    let display_87ea29f = myVizzu_87ea29f.parentNode.parentNode.style.display;\n",
       "    myVizzu_87ea29f.parentNode.parentNode.style.display = \"none\";\n",
       "    chart_44b0f6c = chart_44b0f6c.then(chart => {\n",
       "        if (myVizzu_44b0f6c.parentNode && myVizzu_44b0f6c.parentNode.parentNode) {\n",
       "            myVizzu_44b0f6c.parentNode.parentNode.style.display = \"none\";\n",
       "        }\n",
       "        myVizzu_87ea29f.parentNode.parentNode.style.display = display_87ea29f;\n",
       "        myVizzu_87ea29f.parentNode.insertBefore(myVizzu_44b0f6c, myVizzu_87ea29f);\n",
       "        myVizzu_44b0f6c.scrollIntoView({behavior: \"auto\", block: \"center\"});\n",
       "        return chart.animate({\"config\": {\"channels\": {\"y\": {\"range\": {\"min\": \"-30%\"}}}, \"coordSystem\": \"polar\"}});\n",
       "    });\n",
       "</script>"
      ]
     },
     "metadata": {},
     "output_type": "display_data"
    }
   ],
   "source": [
    "chart.animate(snapshot4)\n",
    "\n",
    "chart.animate(Config({\"title\": \"Polar coordinates\"}))\n",
    "\n",
    "chart.animate(Config({\n",
    "    \"channels\": {\n",
    "        \"y\": {\n",
    "            \"range\": {\n",
    "                \"min\": \"-30%\",\n",
    "            },\n",
    "        },\n",
    "    },\n",
    "    \"coordSystem\": \"polar\"\n",
    "}))"
   ]
  }
 ],
 "metadata": {
  "kernelspec": {
   "display_name": "Python 3 (ipykernel)",
   "language": "python",
   "name": "python3"
  },
  "language_info": {
   "codemirror_mode": {
    "name": "ipython",
    "version": 3
   },
   "file_extension": ".py",
   "mimetype": "text/x-python",
   "name": "python",
   "nbconvert_exporter": "python",
   "pygments_lexer": "ipython3",
   "version": "3.8.10"
  }
 },
 "nbformat": 4,
 "nbformat_minor": 5
}
