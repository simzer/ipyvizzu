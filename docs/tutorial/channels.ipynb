{
 "cells": [
  {
   "cell_type": "markdown",
   "id": "22efdcb5",
   "metadata": {},
   "source": [
    "## Channels & legend\n",
    "\n",
    "Besides the x-axis and the y-axis, there are five more channels in Vizzu you can use to visualize your data. Similarly to the axes you can put any number of dimensions and/or one measure to a channel. In the following example the four most commonly used channels are shown. The fifth, noop channel is introduced later in the Without coordinates & noop channel chapter.\n",
    "\n",
    "Data on the label channel will be written on the markers on the chart. Vizzu automatically determines the best way to position these labels, but you can set them differently with the style object introduced in the Color palette & fonts chapter."
   ]
  },
  {
   "cell_type": "code",
   "execution_count": 1,
   "id": "3a2e88db",
   "metadata": {},
   "outputs": [
    {
     "data": {
      "text/html": [
       "<script id=\"myVizzu_39a3f50\">\n",
       "    let myVizzu_ce05078 = document.createElement(\"div\");\n",
       "    myVizzu_ce05078.style.cssText = \"width: 800px; height: 480px;\";\n",
       "    let chart_ce05078 = import(\"https://cdn.jsdelivr.net/npm/vizzu@~0.4.0/dist/vizzu.min.js\").then(Vizzu => new Vizzu.default(myVizzu_ce05078).initializing);\n",
       "    myVizzu_39a3f50.parentNode.insertBefore(myVizzu_ce05078, myVizzu_39a3f50);\n",
       "</script>"
      ]
     },
     "metadata": {},
     "output_type": "display_data"
    },
    {
     "data": {
      "text/html": [
       "<script id=\"myVizzu_4d73c57\">\n",
       "    let display_4d73c57 = myVizzu_4d73c57.parentNode.parentNode.style.display;\n",
       "    myVizzu_4d73c57.parentNode.parentNode.style.display = \"none\";\n",
       "    chart_ce05078 = chart_ce05078.then(chart => {\n",
       "        if (myVizzu_ce05078.parentNode && myVizzu_ce05078.parentNode.parentNode) {\n",
       "            myVizzu_ce05078.parentNode.parentNode.style.display = \"none\";\n",
       "        }\n",
       "        myVizzu_4d73c57.parentNode.parentNode.style.display = display_4d73c57;\n",
       "        myVizzu_4d73c57.parentNode.insertBefore(myVizzu_ce05078, myVizzu_4d73c57);\n",
       "        myVizzu_ce05078.scrollIntoView({behavior: \"auto\", block: \"center\"});\n",
       "        return chart.animate({\"data\": {\"dimensions\": [{\"name\": \"Genres\", \"values\": [\"Pop\", \"Rock\", \"Jazz\", \"Metal\"]}, {\"name\": \"Types\", \"values\": [\"Hard\", \"Smooth\", \"Experimental\"]}], \"measures\": [{\"name\": \"Popularity\", \"values\": [[114, 96, 78, 52], [56, 36, 174, 121], [127, 83, 94, 58]]}]}});\n",
       "    });\n",
       "</script>"
      ]
     },
     "metadata": {},
     "output_type": "display_data"
    },
    {
     "data": {
      "text/html": [
       "<script id=\"myVizzu_531d0d6\">\n",
       "    let display_531d0d6 = myVizzu_531d0d6.parentNode.parentNode.style.display;\n",
       "    myVizzu_531d0d6.parentNode.parentNode.style.display = \"none\";\n",
       "    chart_ce05078 = chart_ce05078.then(chart => {\n",
       "        if (myVizzu_ce05078.parentNode && myVizzu_ce05078.parentNode.parentNode) {\n",
       "            myVizzu_ce05078.parentNode.parentNode.style.display = \"none\";\n",
       "        }\n",
       "        myVizzu_531d0d6.parentNode.parentNode.style.display = display_531d0d6;\n",
       "        myVizzu_531d0d6.parentNode.insertBefore(myVizzu_ce05078, myVizzu_531d0d6);\n",
       "        myVizzu_ce05078.scrollIntoView({behavior: \"auto\", block: \"center\"});\n",
       "        return chart.animate({\"config\": {\"channels\": {\"y\": {\"set\": \"Popularity\"}, \"x\": {\"set\": \"Genres\"}}, \"title\": \"Label\"}});\n",
       "    });\n",
       "</script>"
      ]
     },
     "metadata": {},
     "output_type": "display_data"
    },
    {
     "data": {
      "text/html": [
       "<script id=\"myVizzu_accaabe\">\n",
       "    let display_accaabe = myVizzu_accaabe.parentNode.parentNode.style.display;\n",
       "    myVizzu_accaabe.parentNode.parentNode.style.display = \"none\";\n",
       "    chart_ce05078 = chart_ce05078.then(chart => {\n",
       "        if (myVizzu_ce05078.parentNode && myVizzu_ce05078.parentNode.parentNode) {\n",
       "            myVizzu_ce05078.parentNode.parentNode.style.display = \"none\";\n",
       "        }\n",
       "        myVizzu_accaabe.parentNode.parentNode.style.display = display_accaabe;\n",
       "        myVizzu_accaabe.parentNode.insertBefore(myVizzu_ce05078, myVizzu_accaabe);\n",
       "        myVizzu_ce05078.scrollIntoView({behavior: \"auto\", block: \"center\"});\n",
       "        return chart.animate({\"config\": {\"channels\": {\"label\": {\"attach\": \"Popularity\"}}}});\n",
       "    });\n",
       "</script>"
      ]
     },
     "metadata": {},
     "output_type": "display_data"
    },
    {
     "data": {
      "text/html": [
       "<script id=\"myVizzu_1c2a9bf\">\n",
       "    myVizzu_1c2a9bf.parentNode.parentNode.style.display = \"none\";\n",
       "    let snapshot_1c2a9bf;\n",
       "    chart_ce05078 = chart_ce05078.then(chart => {\n",
       "        snapshot_1c2a9bf = chart.store();\n",
       "        return chart;\n",
       "    });\n",
       "</script>"
      ]
     },
     "metadata": {},
     "output_type": "display_data"
    }
   ],
   "source": [
    "from ipyvizzu import Chart, Data, Config\n",
    "\n",
    "chart = Chart()\n",
    "\n",
    "data = Data.from_json(\"./music_data.json\")\n",
    "\n",
    "chart.animate(data)\n",
    "\n",
    "chart.animate(Config({\n",
    "    \"channels\": {\n",
    "        \"y\": {\n",
    "            \"set\": \"Popularity\"\n",
    "        }, \n",
    "        \"x\": {\n",
    "            \"set\": \"Genres\"\n",
    "        }\n",
    "    }, \n",
    "    \"title\": \"Label\"\n",
    "}))\n",
    "\n",
    "chart.animate(Config({\n",
    "    \"channels\": {\n",
    "        \"label\": {\n",
    "            \"attach\": \"Popularity\"\n",
    "        }\n",
    "    }\n",
    "}))\n",
    "\n",
    "snapshot1 = chart.store()"
   ]
  },
  {
   "cell_type": "markdown",
   "id": "077a2b92",
   "metadata": {},
   "source": [
    "The lightness channel sets the lightness of the markers. In this case the same measure (Popularity) is added to it that is on the y-axis, meaning that columns’ height and lightness represent the same values. The legend for the lightness channel is turned on using the legend property.\n",
    "\n",
    "Note: This is an example when we explicitly instruct Vizzu to show the legend. By default Vizzu automatically shows/hides the legend when it's necessary. You can also turn it off with the legend : null command or set back to automatic mode with legend : 'auto'."
   ]
  },
  {
   "cell_type": "code",
   "execution_count": 2,
   "id": "2b42bdfd",
   "metadata": {},
   "outputs": [
    {
     "data": {
      "text/html": [
       "<script id=\"myVizzu_b359af6\">\n",
       "    let display_b359af6 = myVizzu_b359af6.parentNode.parentNode.style.display;\n",
       "    myVizzu_b359af6.parentNode.parentNode.style.display = \"none\";\n",
       "    chart_ce05078 = chart_ce05078.then(chart => {\n",
       "        if (myVizzu_ce05078.parentNode && myVizzu_ce05078.parentNode.parentNode) {\n",
       "            myVizzu_ce05078.parentNode.parentNode.style.display = \"none\";\n",
       "        }\n",
       "        myVizzu_b359af6.parentNode.parentNode.style.display = display_b359af6;\n",
       "        myVizzu_b359af6.parentNode.insertBefore(myVizzu_ce05078, myVizzu_b359af6);\n",
       "        myVizzu_ce05078.scrollIntoView({behavior: \"auto\", block: \"center\"});\n",
       "        return chart.animate(snapshot_1c2a9bf);\n",
       "    });\n",
       "</script>"
      ]
     },
     "metadata": {},
     "output_type": "display_data"
    },
    {
     "data": {
      "text/html": [
       "<script id=\"myVizzu_02939bf\">\n",
       "    let display_02939bf = myVizzu_02939bf.parentNode.parentNode.style.display;\n",
       "    myVizzu_02939bf.parentNode.parentNode.style.display = \"none\";\n",
       "    chart_ce05078 = chart_ce05078.then(chart => {\n",
       "        if (myVizzu_ce05078.parentNode && myVizzu_ce05078.parentNode.parentNode) {\n",
       "            myVizzu_ce05078.parentNode.parentNode.style.display = \"none\";\n",
       "        }\n",
       "        myVizzu_02939bf.parentNode.parentNode.style.display = display_02939bf;\n",
       "        myVizzu_02939bf.parentNode.insertBefore(myVizzu_ce05078, myVizzu_02939bf);\n",
       "        myVizzu_ce05078.scrollIntoView({behavior: \"auto\", block: \"center\"});\n",
       "        return chart.animate({\"config\": {\"title\": \"Lightness - legend on\"}});\n",
       "    });\n",
       "</script>"
      ]
     },
     "metadata": {},
     "output_type": "display_data"
    },
    {
     "data": {
      "text/html": [
       "<script id=\"myVizzu_26c2d2e\">\n",
       "    let display_26c2d2e = myVizzu_26c2d2e.parentNode.parentNode.style.display;\n",
       "    myVizzu_26c2d2e.parentNode.parentNode.style.display = \"none\";\n",
       "    chart_ce05078 = chart_ce05078.then(chart => {\n",
       "        if (myVizzu_ce05078.parentNode && myVizzu_ce05078.parentNode.parentNode) {\n",
       "            myVizzu_ce05078.parentNode.parentNode.style.display = \"none\";\n",
       "        }\n",
       "        myVizzu_26c2d2e.parentNode.parentNode.style.display = display_26c2d2e;\n",
       "        myVizzu_26c2d2e.parentNode.insertBefore(myVizzu_ce05078, myVizzu_26c2d2e);\n",
       "        myVizzu_ce05078.scrollIntoView({behavior: \"auto\", block: \"center\"});\n",
       "        return chart.animate({\"config\": {\"channels\": {\"lightness\": {\"attach\": \"Popularity\"}}, \"legend\": \"lightness\"}});\n",
       "    });\n",
       "</script>"
      ]
     },
     "metadata": {},
     "output_type": "display_data"
    },
    {
     "data": {
      "text/html": [
       "<script id=\"myVizzu_e0d5942\">\n",
       "    myVizzu_e0d5942.parentNode.parentNode.style.display = \"none\";\n",
       "    let snapshot_e0d5942;\n",
       "    chart_ce05078 = chart_ce05078.then(chart => {\n",
       "        snapshot_e0d5942 = chart.store();\n",
       "        return chart;\n",
       "    });\n",
       "</script>"
      ]
     },
     "metadata": {},
     "output_type": "display_data"
    }
   ],
   "source": [
    "chart.animate(snapshot1)\n",
    "\n",
    "chart.animate(Config({\"title\": \"Lightness - legend on\"}))\n",
    "\n",
    "chart.animate(Config({\n",
    "    \"channels\": {\n",
    "        \"lightness\": {\n",
    "            \"attach\": \"Popularity\"\n",
    "        }\n",
    "    },\n",
    "    \"legend\": \"lightness\"\n",
    "}))\n",
    "\n",
    "snapshot2 = chart.store()"
   ]
  },
  {
   "cell_type": "markdown",
   "id": "33b46377",
   "metadata": {},
   "source": [
    "The color channel sets the color of the markers. The same dimension (Genres) is put on it that is on the x-axis resulting in each bar having a different color. If a measure is put on the color channel, a color range will be used.\n",
    "\n",
    "Note: The value on the lightness channel is removed in this step as it doesn’t make sense to use it together with the color channel in this case."
   ]
  },
  {
   "cell_type": "code",
   "execution_count": 3,
   "id": "1b4481a7",
   "metadata": {},
   "outputs": [
    {
     "data": {
      "text/html": [
       "<script id=\"myVizzu_78326ae\">\n",
       "    let display_78326ae = myVizzu_78326ae.parentNode.parentNode.style.display;\n",
       "    myVizzu_78326ae.parentNode.parentNode.style.display = \"none\";\n",
       "    chart_ce05078 = chart_ce05078.then(chart => {\n",
       "        if (myVizzu_ce05078.parentNode && myVizzu_ce05078.parentNode.parentNode) {\n",
       "            myVizzu_ce05078.parentNode.parentNode.style.display = \"none\";\n",
       "        }\n",
       "        myVizzu_78326ae.parentNode.parentNode.style.display = display_78326ae;\n",
       "        myVizzu_78326ae.parentNode.insertBefore(myVizzu_ce05078, myVizzu_78326ae);\n",
       "        myVizzu_ce05078.scrollIntoView({behavior: \"auto\", block: \"center\"});\n",
       "        return chart.animate(snapshot_e0d5942);\n",
       "    });\n",
       "</script>"
      ]
     },
     "metadata": {},
     "output_type": "display_data"
    },
    {
     "data": {
      "text/html": [
       "<script id=\"myVizzu_79cc114\">\n",
       "    let display_79cc114 = myVizzu_79cc114.parentNode.parentNode.style.display;\n",
       "    myVizzu_79cc114.parentNode.parentNode.style.display = \"none\";\n",
       "    chart_ce05078 = chart_ce05078.then(chart => {\n",
       "        if (myVizzu_ce05078.parentNode && myVizzu_ce05078.parentNode.parentNode) {\n",
       "            myVizzu_ce05078.parentNode.parentNode.style.display = \"none\";\n",
       "        }\n",
       "        myVizzu_79cc114.parentNode.parentNode.style.display = display_79cc114;\n",
       "        myVizzu_79cc114.parentNode.insertBefore(myVizzu_ce05078, myVizzu_79cc114);\n",
       "        myVizzu_ce05078.scrollIntoView({behavior: \"auto\", block: \"center\"});\n",
       "        return chart.animate({\"config\": {\"title\": \"Color\"}});\n",
       "    });\n",
       "</script>"
      ]
     },
     "metadata": {},
     "output_type": "display_data"
    },
    {
     "data": {
      "text/html": [
       "<script id=\"myVizzu_e7c5d8f\">\n",
       "    let display_e7c5d8f = myVizzu_e7c5d8f.parentNode.parentNode.style.display;\n",
       "    myVizzu_e7c5d8f.parentNode.parentNode.style.display = \"none\";\n",
       "    chart_ce05078 = chart_ce05078.then(chart => {\n",
       "        if (myVizzu_ce05078.parentNode && myVizzu_ce05078.parentNode.parentNode) {\n",
       "            myVizzu_ce05078.parentNode.parentNode.style.display = \"none\";\n",
       "        }\n",
       "        myVizzu_e7c5d8f.parentNode.parentNode.style.display = display_e7c5d8f;\n",
       "        myVizzu_e7c5d8f.parentNode.insertBefore(myVizzu_ce05078, myVizzu_e7c5d8f);\n",
       "        myVizzu_ce05078.scrollIntoView({behavior: \"auto\", block: \"center\"});\n",
       "        return chart.animate({\"config\": {\"channels\": {\"color\": {\"attach\": \"Genres\"}}, \"legend\": \"color\"}});\n",
       "    });\n",
       "</script>"
      ]
     },
     "metadata": {},
     "output_type": "display_data"
    },
    {
     "data": {
      "text/html": [
       "<script id=\"myVizzu_7bf8b44\">\n",
       "    myVizzu_7bf8b44.parentNode.parentNode.style.display = \"none\";\n",
       "    let snapshot_7bf8b44;\n",
       "    chart_ce05078 = chart_ce05078.then(chart => {\n",
       "        snapshot_7bf8b44 = chart.store();\n",
       "        return chart;\n",
       "    });\n",
       "</script>"
      ]
     },
     "metadata": {},
     "output_type": "display_data"
    }
   ],
   "source": [
    "chart.animate(snapshot2)\n",
    "\n",
    "chart.animate(Config({\"title\": \"Color\"}))\n",
    "\n",
    "chart.animate(Config({\n",
    "    \"channels\": {\n",
    "        \"color\": {\n",
    "            \"attach\": \"Genres\"\n",
    "        }\n",
    "    },\n",
    "    \"legend\": \"color\"\n",
    "}))\n",
    "\n",
    "snapshot3 = chart.store()"
   ]
  },
  {
   "cell_type": "markdown",
   "id": "b8d322e5",
   "metadata": {},
   "source": [
    "The size channel sets the size of the markers if the geometry is circle - where size sets the radius of the circles - or line - where size determines line width. It is ignored when using rectangle or area geometry. This is why we change the geometry to circle in the example."
   ]
  },
  {
   "cell_type": "code",
   "execution_count": 4,
   "id": "4d951e6b",
   "metadata": {},
   "outputs": [
    {
     "data": {
      "text/html": [
       "<script id=\"myVizzu_e4c3ee8\">\n",
       "    let display_e4c3ee8 = myVizzu_e4c3ee8.parentNode.parentNode.style.display;\n",
       "    myVizzu_e4c3ee8.parentNode.parentNode.style.display = \"none\";\n",
       "    chart_ce05078 = chart_ce05078.then(chart => {\n",
       "        if (myVizzu_ce05078.parentNode && myVizzu_ce05078.parentNode.parentNode) {\n",
       "            myVizzu_ce05078.parentNode.parentNode.style.display = \"none\";\n",
       "        }\n",
       "        myVizzu_e4c3ee8.parentNode.parentNode.style.display = display_e4c3ee8;\n",
       "        myVizzu_e4c3ee8.parentNode.insertBefore(myVizzu_ce05078, myVizzu_e4c3ee8);\n",
       "        myVizzu_ce05078.scrollIntoView({behavior: \"auto\", block: \"center\"});\n",
       "        return chart.animate(snapshot_7bf8b44);\n",
       "    });\n",
       "</script>"
      ]
     },
     "metadata": {},
     "output_type": "display_data"
    },
    {
     "data": {
      "text/html": [
       "<script id=\"myVizzu_b19a6c5\">\n",
       "    let display_b19a6c5 = myVizzu_b19a6c5.parentNode.parentNode.style.display;\n",
       "    myVizzu_b19a6c5.parentNode.parentNode.style.display = \"none\";\n",
       "    chart_ce05078 = chart_ce05078.then(chart => {\n",
       "        if (myVizzu_ce05078.parentNode && myVizzu_ce05078.parentNode.parentNode) {\n",
       "            myVizzu_ce05078.parentNode.parentNode.style.display = \"none\";\n",
       "        }\n",
       "        myVizzu_b19a6c5.parentNode.parentNode.style.display = display_b19a6c5;\n",
       "        myVizzu_b19a6c5.parentNode.insertBefore(myVizzu_ce05078, myVizzu_b19a6c5);\n",
       "        myVizzu_ce05078.scrollIntoView({behavior: \"auto\", block: \"center\"});\n",
       "        return chart.animate({\"config\": {\"title\": \"Size - change of geometry required\"}});\n",
       "    });\n",
       "</script>"
      ]
     },
     "metadata": {},
     "output_type": "display_data"
    },
    {
     "data": {
      "text/html": [
       "<script id=\"myVizzu_cd22fa6\">\n",
       "    let display_cd22fa6 = myVizzu_cd22fa6.parentNode.parentNode.style.display;\n",
       "    myVizzu_cd22fa6.parentNode.parentNode.style.display = \"none\";\n",
       "    chart_ce05078 = chart_ce05078.then(chart => {\n",
       "        if (myVizzu_ce05078.parentNode && myVizzu_ce05078.parentNode.parentNode) {\n",
       "            myVizzu_ce05078.parentNode.parentNode.style.display = \"none\";\n",
       "        }\n",
       "        myVizzu_cd22fa6.parentNode.parentNode.style.display = display_cd22fa6;\n",
       "        myVizzu_cd22fa6.parentNode.insertBefore(myVizzu_ce05078, myVizzu_cd22fa6);\n",
       "        myVizzu_ce05078.scrollIntoView({behavior: \"auto\", block: \"center\"});\n",
       "        return chart.animate({\"config\": {\"channels\": {\"size\": {\"set\": \"Popularity\"}}, \"geometry\": \"circle\"}});\n",
       "    });\n",
       "</script>"
      ]
     },
     "metadata": {},
     "output_type": "display_data"
    }
   ],
   "source": [
    "chart.animate(snapshot3)\n",
    "\n",
    "chart.animate(Config({\"title\": \"Size - change of geometry required\"}))\n",
    "\n",
    "chart.animate(Config({\n",
    "    \"channels\": {\n",
    "        \"size\": {\n",
    "            \"set\": \"Popularity\"\n",
    "        }\n",
    "    },\n",
    "    \"geometry\": \"circle\"\n",
    "}))"
   ]
  }
 ],
 "metadata": {
  "kernelspec": {
   "display_name": "Python 3 (ipykernel)",
   "language": "python",
   "name": "python3"
  },
  "language_info": {
   "codemirror_mode": {
    "name": "ipython",
    "version": 3
   },
   "file_extension": ".py",
   "mimetype": "text/x-python",
   "name": "python",
   "nbconvert_exporter": "python",
   "pygments_lexer": "ipython3",
   "version": "3.8.10"
  }
 },
 "nbformat": 4,
 "nbformat_minor": 5
}
