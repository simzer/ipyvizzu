{
 "cells": [
  {
   "cell_type": "markdown",
   "id": "59cd2f9b",
   "metadata": {},
   "source": [
    "## Without coordinates & noop channel\n",
    "\n",
    "Certain chart types have neither measures nor dimensions on the axes such as treemaps and bubble charts. This is a case when the noop channel comes in handy for grouping and stacking elements in these kinds of charts.\n",
    "\n",
    "To get to a treemap, we have to detach all dimensions and the measure from the axes and put two of them on the size channel, whereas the other dimension is still on the color channel. Since the same dimensions are used in both cases Vizzu will be able to animate between these states."
   ]
  },
  {
   "cell_type": "code",
   "execution_count": 1,
   "id": "1c575574",
   "metadata": {},
   "outputs": [
    {
     "data": {
      "text/html": [
       "<script id=\"myVizzu_f4ae327\">\n",
       "    let myVizzu_4b5edaa = document.createElement(\"div\");\n",
       "    myVizzu_4b5edaa.style.cssText = \"width: 800px; height: 480px;\";\n",
       "    let chart_4b5edaa = import(\"https://cdn.jsdelivr.net/npm/vizzu@~0.4.0/dist/vizzu.min.js\").then(Vizzu => new Vizzu.default(myVizzu_4b5edaa).initializing);\n",
       "    myVizzu_f4ae327.parentNode.insertBefore(myVizzu_4b5edaa, myVizzu_f4ae327);\n",
       "</script>"
      ]
     },
     "metadata": {},
     "output_type": "display_data"
    },
    {
     "data": {
      "text/html": [
       "<script id=\"myVizzu_dc113ce\">\n",
       "    let display_dc113ce = myVizzu_dc113ce.parentNode.parentNode.style.display;\n",
       "    myVizzu_dc113ce.parentNode.parentNode.style.display = \"none\";\n",
       "    chart_4b5edaa = chart_4b5edaa.then(chart => {\n",
       "        if (myVizzu_4b5edaa.parentNode && myVizzu_4b5edaa.parentNode.parentNode) {\n",
       "            myVizzu_4b5edaa.parentNode.parentNode.style.display = \"none\";\n",
       "        }\n",
       "        myVizzu_dc113ce.parentNode.parentNode.style.display = display_dc113ce;\n",
       "        myVizzu_dc113ce.parentNode.insertBefore(myVizzu_4b5edaa, myVizzu_dc113ce);\n",
       "        myVizzu_4b5edaa.scrollIntoView({behavior: \"auto\", block: \"center\"});\n",
       "        return chart.animate({\"data\": {\"dimensions\": [{\"name\": \"Genres\", \"values\": [\"Pop\", \"Rock\", \"Jazz\", \"Metal\"]}, {\"name\": \"Types\", \"values\": [\"Hard\", \"Smooth\", \"Experimental\"]}], \"measures\": [{\"name\": \"Popularity\", \"values\": [[114, 96, 78, 52], [56, 36, 174, 121], [127, 83, 94, 58]]}]}});\n",
       "    });\n",
       "</script>"
      ]
     },
     "metadata": {},
     "output_type": "display_data"
    },
    {
     "data": {
      "text/html": [
       "<script id=\"myVizzu_293b0c8\">\n",
       "    let display_293b0c8 = myVizzu_293b0c8.parentNode.parentNode.style.display;\n",
       "    myVizzu_293b0c8.parentNode.parentNode.style.display = \"none\";\n",
       "    chart_4b5edaa = chart_4b5edaa.then(chart => {\n",
       "        if (myVizzu_4b5edaa.parentNode && myVizzu_4b5edaa.parentNode.parentNode) {\n",
       "            myVizzu_4b5edaa.parentNode.parentNode.style.display = \"none\";\n",
       "        }\n",
       "        myVizzu_293b0c8.parentNode.parentNode.style.display = display_293b0c8;\n",
       "        myVizzu_293b0c8.parentNode.insertBefore(myVizzu_4b5edaa, myVizzu_293b0c8);\n",
       "        myVizzu_4b5edaa.scrollIntoView({behavior: \"auto\", block: \"center\"});\n",
       "        return chart.animate({\"config\": {\"channels\": {\"y\": {\"set\": [\"Types\", \"Popularity\"]}, \"x\": {\"set\": \"Genres\"}, \"label\": {\"attach\": \"Popularity\"}}, \"color\": {\"set\": \"Types\"}, \"title\": \"Treemap\"}});\n",
       "    });\n",
       "</script>"
      ]
     },
     "metadata": {},
     "output_type": "display_data"
    },
    {
     "data": {
      "text/html": [
       "<script id=\"myVizzu_9bfe0e4\">\n",
       "    let display_9bfe0e4 = myVizzu_9bfe0e4.parentNode.parentNode.style.display;\n",
       "    myVizzu_9bfe0e4.parentNode.parentNode.style.display = \"none\";\n",
       "    chart_4b5edaa = chart_4b5edaa.then(chart => {\n",
       "        if (myVizzu_4b5edaa.parentNode && myVizzu_4b5edaa.parentNode.parentNode) {\n",
       "            myVizzu_4b5edaa.parentNode.parentNode.style.display = \"none\";\n",
       "        }\n",
       "        myVizzu_9bfe0e4.parentNode.parentNode.style.display = display_9bfe0e4;\n",
       "        myVizzu_9bfe0e4.parentNode.insertBefore(myVizzu_4b5edaa, myVizzu_9bfe0e4);\n",
       "        myVizzu_4b5edaa.scrollIntoView({behavior: \"auto\", block: \"center\"});\n",
       "        return chart.animate({\"config\": {\"channels\": {\"y\": {\"set\": null}, \"x\": {\"set\": null}, \"size\": {\"attach\": [\"Genres\", \"Popularity\"]}}}});\n",
       "    });\n",
       "</script>"
      ]
     },
     "metadata": {},
     "output_type": "display_data"
    },
    {
     "data": {
      "text/html": [
       "<script id=\"myVizzu_5968348\">\n",
       "    myVizzu_5968348.parentNode.parentNode.style.display = \"none\";\n",
       "    let snapshot_5968348;\n",
       "    chart_4b5edaa = chart_4b5edaa.then(chart => {\n",
       "        snapshot_5968348 = chart.store();\n",
       "        return chart;\n",
       "    });\n",
       "</script>"
      ]
     },
     "metadata": {},
     "output_type": "display_data"
    }
   ],
   "source": [
    "from ipyvizzu import Chart, Data, Config\n",
    "\n",
    "chart = Chart()\n",
    "\n",
    "data = Data.from_json(\"./music_data.json\")\n",
    "\n",
    "chart.animate(data)\n",
    "\n",
    "chart.animate(Config({\n",
    "    \"channels\": {\n",
    "        \"y\": {\n",
    "            \"set\": [\"Types\", \"Popularity\"]\n",
    "        },\n",
    "        \"x\": {\n",
    "            \"set\": \"Genres\"\n",
    "        },\n",
    "        \"label\": {\n",
    "            \"attach\": \"Popularity\"\n",
    "        }\n",
    "    },\n",
    "    \"color\": {\n",
    "        \"set\": \"Types\"\n",
    "    },\n",
    "    \"title\": \"Treemap\"\n",
    "}))\n",
    "\n",
    "chart.animate(Config({\n",
    "    \"channels\": {\n",
    "        \"y\": {\n",
    "            \"set\": None,\n",
    "        },\n",
    "        \"x\": {\n",
    "            \"set\": None,\n",
    "        },\n",
    "        \"size\": {\n",
    "            \"attach\": [\"Genres\", \"Popularity\"],\n",
    "        }\n",
    "    }\n",
    "}))\n",
    "\n",
    "snapshot1 = chart.store()"
   ]
  },
  {
   "cell_type": "markdown",
   "id": "e0bdcefc",
   "metadata": {},
   "source": [
    "Getting from a treemap to a bubble chart is simply by changing the geometry to circle. This bubble chart is stacked by the Type dimension that is on the size channel - this is why the bubbles are in separate, small groups."
   ]
  },
  {
   "cell_type": "code",
   "execution_count": 2,
   "id": "3cdf36b5",
   "metadata": {},
   "outputs": [
    {
     "data": {
      "text/html": [
       "<script id=\"myVizzu_be779a3\">\n",
       "    let display_be779a3 = myVizzu_be779a3.parentNode.parentNode.style.display;\n",
       "    myVizzu_be779a3.parentNode.parentNode.style.display = \"none\";\n",
       "    chart_4b5edaa = chart_4b5edaa.then(chart => {\n",
       "        if (myVizzu_4b5edaa.parentNode && myVizzu_4b5edaa.parentNode.parentNode) {\n",
       "            myVizzu_4b5edaa.parentNode.parentNode.style.display = \"none\";\n",
       "        }\n",
       "        myVizzu_be779a3.parentNode.parentNode.style.display = display_be779a3;\n",
       "        myVizzu_be779a3.parentNode.insertBefore(myVizzu_4b5edaa, myVizzu_be779a3);\n",
       "        myVizzu_4b5edaa.scrollIntoView({behavior: \"auto\", block: \"center\"});\n",
       "        return chart.animate(snapshot_5968348);\n",
       "    });\n",
       "</script>"
      ]
     },
     "metadata": {},
     "output_type": "display_data"
    },
    {
     "data": {
      "text/html": [
       "<script id=\"myVizzu_7b07267\">\n",
       "    let display_7b07267 = myVizzu_7b07267.parentNode.parentNode.style.display;\n",
       "    myVizzu_7b07267.parentNode.parentNode.style.display = \"none\";\n",
       "    chart_4b5edaa = chart_4b5edaa.then(chart => {\n",
       "        if (myVizzu_4b5edaa.parentNode && myVizzu_4b5edaa.parentNode.parentNode) {\n",
       "            myVizzu_4b5edaa.parentNode.parentNode.style.display = \"none\";\n",
       "        }\n",
       "        myVizzu_7b07267.parentNode.parentNode.style.display = display_7b07267;\n",
       "        myVizzu_7b07267.parentNode.insertBefore(myVizzu_4b5edaa, myVizzu_7b07267);\n",
       "        myVizzu_4b5edaa.scrollIntoView({behavior: \"auto\", block: \"center\"});\n",
       "        return chart.animate({\"config\": {\"title\": \"Bubble chart - stacked\"}});\n",
       "    });\n",
       "</script>"
      ]
     },
     "metadata": {},
     "output_type": "display_data"
    },
    {
     "data": {
      "text/html": [
       "<script id=\"myVizzu_0242dbc\">\n",
       "    let display_0242dbc = myVizzu_0242dbc.parentNode.parentNode.style.display;\n",
       "    myVizzu_0242dbc.parentNode.parentNode.style.display = \"none\";\n",
       "    chart_4b5edaa = chart_4b5edaa.then(chart => {\n",
       "        if (myVizzu_4b5edaa.parentNode && myVizzu_4b5edaa.parentNode.parentNode) {\n",
       "            myVizzu_4b5edaa.parentNode.parentNode.style.display = \"none\";\n",
       "        }\n",
       "        myVizzu_0242dbc.parentNode.parentNode.style.display = display_0242dbc;\n",
       "        myVizzu_0242dbc.parentNode.insertBefore(myVizzu_4b5edaa, myVizzu_0242dbc);\n",
       "        myVizzu_4b5edaa.scrollIntoView({behavior: \"auto\", block: \"center\"});\n",
       "        return chart.animate({\"config\": {\"geometry\": \"circle\"}});\n",
       "    });\n",
       "</script>"
      ]
     },
     "metadata": {},
     "output_type": "display_data"
    },
    {
     "data": {
      "text/html": [
       "<script id=\"myVizzu_b32a6aa\">\n",
       "    myVizzu_b32a6aa.parentNode.parentNode.style.display = \"none\";\n",
       "    let snapshot_b32a6aa;\n",
       "    chart_4b5edaa = chart_4b5edaa.then(chart => {\n",
       "        snapshot_b32a6aa = chart.store();\n",
       "        return chart;\n",
       "    });\n",
       "</script>"
      ]
     },
     "metadata": {},
     "output_type": "display_data"
    }
   ],
   "source": [
    "chart.animate(snapshot1)\n",
    "\n",
    "chart.animate(Config({\"title\": \"Bubble chart - stacked\"}))\n",
    "\n",
    "chart.animate(Config({\n",
    "    \"geometry\": \"circle\",\n",
    "}))\n",
    "\n",
    "snapshot2 = chart.store()"
   ]
  },
  {
   "cell_type": "markdown",
   "id": "f57e6095",
   "metadata": {},
   "source": [
    "In order to show all bubbles as one group, we use the noop (no operations) channel for the Genres dimension. The noop channel enables us to have a dimension on the chart, that doesn’t affect any parameter of the elements, only their count."
   ]
  },
  {
   "cell_type": "code",
   "execution_count": 3,
   "id": "4fc62e64",
   "metadata": {},
   "outputs": [
    {
     "data": {
      "text/html": [
       "<script id=\"myVizzu_3128681\">\n",
       "    let display_3128681 = myVizzu_3128681.parentNode.parentNode.style.display;\n",
       "    myVizzu_3128681.parentNode.parentNode.style.display = \"none\";\n",
       "    chart_4b5edaa = chart_4b5edaa.then(chart => {\n",
       "        if (myVizzu_4b5edaa.parentNode && myVizzu_4b5edaa.parentNode.parentNode) {\n",
       "            myVizzu_4b5edaa.parentNode.parentNode.style.display = \"none\";\n",
       "        }\n",
       "        myVizzu_3128681.parentNode.parentNode.style.display = display_3128681;\n",
       "        myVizzu_3128681.parentNode.insertBefore(myVizzu_4b5edaa, myVizzu_3128681);\n",
       "        myVizzu_4b5edaa.scrollIntoView({behavior: \"auto\", block: \"center\"});\n",
       "        return chart.animate(snapshot_b32a6aa);\n",
       "    });\n",
       "</script>"
      ]
     },
     "metadata": {},
     "output_type": "display_data"
    },
    {
     "data": {
      "text/html": [
       "<script id=\"myVizzu_997a2ae\">\n",
       "    let display_997a2ae = myVizzu_997a2ae.parentNode.parentNode.style.display;\n",
       "    myVizzu_997a2ae.parentNode.parentNode.style.display = \"none\";\n",
       "    chart_4b5edaa = chart_4b5edaa.then(chart => {\n",
       "        if (myVizzu_4b5edaa.parentNode && myVizzu_4b5edaa.parentNode.parentNode) {\n",
       "            myVizzu_4b5edaa.parentNode.parentNode.style.display = \"none\";\n",
       "        }\n",
       "        myVizzu_997a2ae.parentNode.parentNode.style.display = display_997a2ae;\n",
       "        myVizzu_997a2ae.parentNode.insertBefore(myVizzu_4b5edaa, myVizzu_997a2ae);\n",
       "        myVizzu_4b5edaa.scrollIntoView({behavior: \"auto\", block: \"center\"});\n",
       "        return chart.animate({\"config\": {\"title\": \"Bubble chart - grouped - using the noop channel\"}});\n",
       "    });\n",
       "</script>"
      ]
     },
     "metadata": {},
     "output_type": "display_data"
    },
    {
     "data": {
      "text/html": [
       "<script id=\"myVizzu_3ff6381\">\n",
       "    let display_3ff6381 = myVizzu_3ff6381.parentNode.parentNode.style.display;\n",
       "    myVizzu_3ff6381.parentNode.parentNode.style.display = \"none\";\n",
       "    chart_4b5edaa = chart_4b5edaa.then(chart => {\n",
       "        if (myVizzu_4b5edaa.parentNode && myVizzu_4b5edaa.parentNode.parentNode) {\n",
       "            myVizzu_4b5edaa.parentNode.parentNode.style.display = \"none\";\n",
       "        }\n",
       "        myVizzu_3ff6381.parentNode.parentNode.style.display = display_3ff6381;\n",
       "        myVizzu_3ff6381.parentNode.insertBefore(myVizzu_4b5edaa, myVizzu_3ff6381);\n",
       "        myVizzu_4b5edaa.scrollIntoView({behavior: \"auto\", block: \"center\"});\n",
       "        return chart.animate({\"config\": {\"channels\": {\"size\": {\"detach\": \"Genres\"}, \"noop\": {\"set\": \"Genres\"}}}});\n",
       "    });\n",
       "</script>"
      ]
     },
     "metadata": {},
     "output_type": "display_data"
    }
   ],
   "source": [
    "chart.animate(snapshot2)\n",
    "\n",
    "chart.animate(Config({\"title\": \"Bubble chart - grouped - using the noop channel\"}))\n",
    "\n",
    "chart.animate(Config({\n",
    "    \"channels\": {\n",
    "        \"size\": {\n",
    "            \"detach\": 'Genres'\n",
    "        },\n",
    "        \"noop\": {\n",
    "            \"set\": 'Genres'\n",
    "        }\n",
    "    }\n",
    "}))"
   ]
  }
 ],
 "metadata": {
  "kernelspec": {
   "display_name": "Python 3 (ipykernel)",
   "language": "python",
   "name": "python3"
  },
  "language_info": {
   "codemirror_mode": {
    "name": "ipython",
    "version": 3
   },
   "file_extension": ".py",
   "mimetype": "text/x-python",
   "name": "python",
   "nbconvert_exporter": "python",
   "pygments_lexer": "ipython3",
   "version": "3.8.10"
  }
 },
 "nbformat": 4,
 "nbformat_minor": 5
}
