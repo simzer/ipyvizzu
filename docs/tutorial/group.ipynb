{
 "cells": [
  {
   "cell_type": "markdown",
   "id": "6a4ffcba",
   "metadata": {},
   "source": [
    "## Group/stack\n",
    "\n",
    "When you add dimensions to the channels, there is a simple rule to keep in mind in the current beta phase of Vizzu. The following example also shows how to group and stack elements of a bar chart.\n",
    "\n",
    "The rule: When you add a dimension (Type) to a channel (x-axis) with only dimensions on it, Vizzu will fade between the states, as shown here. Thus, you get a grouped bar chart, but the connection between the original state and this one will be unclear for the viewer because of the fading."
   ]
  },
  {
   "cell_type": "code",
   "execution_count": 1,
   "id": "15e0586a",
   "metadata": {},
   "outputs": [
    {
     "data": {
      "text/html": [
       "<script id=\"myVizzu_0012161\">\n",
       "    let myVizzu_7bbc51a = document.createElement(\"div\");\n",
       "    myVizzu_7bbc51a.style.cssText = \"width: 800px; height: 480px;\";\n",
       "    let chart_7bbc51a = import(\"https://cdn.jsdelivr.net/npm/vizzu@~0.4.0/dist/vizzu.min.js\").then(Vizzu => new Vizzu.default(myVizzu_7bbc51a).initializing);\n",
       "    myVizzu_0012161.parentNode.insertBefore(myVizzu_7bbc51a, myVizzu_0012161);\n",
       "</script>"
      ]
     },
     "metadata": {},
     "output_type": "display_data"
    },
    {
     "data": {
      "text/html": [
       "<script id=\"myVizzu_d4700ab\">\n",
       "    let display_d4700ab = myVizzu_d4700ab.parentNode.parentNode.style.display;\n",
       "    myVizzu_d4700ab.parentNode.parentNode.style.display = \"none\";\n",
       "    chart_7bbc51a = chart_7bbc51a.then(chart => {\n",
       "        if (myVizzu_7bbc51a.parentNode && myVizzu_7bbc51a.parentNode.parentNode) {\n",
       "            myVizzu_7bbc51a.parentNode.parentNode.style.display = \"none\";\n",
       "        }\n",
       "        myVizzu_d4700ab.parentNode.parentNode.style.display = display_d4700ab;\n",
       "        myVizzu_d4700ab.parentNode.insertBefore(myVizzu_7bbc51a, myVizzu_d4700ab);\n",
       "        myVizzu_7bbc51a.scrollIntoView({behavior: \"auto\", block: \"center\"});\n",
       "        return chart.animate({\"data\": {\"dimensions\": [{\"name\": \"Genres\", \"values\": [\"Pop\", \"Rock\", \"Jazz\", \"Metal\"]}, {\"name\": \"Types\", \"values\": [\"Hard\", \"Smooth\", \"Experimental\"]}], \"measures\": [{\"name\": \"Popularity\", \"values\": [[114, 96, 78, 52], [56, 36, 174, 121], [127, 83, 94, 58]]}]}});\n",
       "    });\n",
       "</script>"
      ]
     },
     "metadata": {},
     "output_type": "display_data"
    },
    {
     "data": {
      "text/html": [
       "<script id=\"myVizzu_4cb6509\">\n",
       "    let display_4cb6509 = myVizzu_4cb6509.parentNode.parentNode.style.display;\n",
       "    myVizzu_4cb6509.parentNode.parentNode.style.display = \"none\";\n",
       "    chart_7bbc51a = chart_7bbc51a.then(chart => {\n",
       "        if (myVizzu_7bbc51a.parentNode && myVizzu_7bbc51a.parentNode.parentNode) {\n",
       "            myVizzu_7bbc51a.parentNode.parentNode.style.display = \"none\";\n",
       "        }\n",
       "        myVizzu_4cb6509.parentNode.parentNode.style.display = display_4cb6509;\n",
       "        myVizzu_4cb6509.parentNode.insertBefore(myVizzu_7bbc51a, myVizzu_4cb6509);\n",
       "        myVizzu_7bbc51a.scrollIntoView({behavior: \"auto\", block: \"center\"});\n",
       "        return chart.animate({\"config\": {\"channels\": {\"y\": {\"set\": \"Popularity\"}, \"x\": {\"set\": \"Genres\"}}, \"title\": \"The wrong way means no animation\"}});\n",
       "    });\n",
       "</script>"
      ]
     },
     "metadata": {},
     "output_type": "display_data"
    },
    {
     "data": {
      "text/html": [
       "<script id=\"myVizzu_f1ce751\">\n",
       "    let display_f1ce751 = myVizzu_f1ce751.parentNode.parentNode.style.display;\n",
       "    myVizzu_f1ce751.parentNode.parentNode.style.display = \"none\";\n",
       "    chart_7bbc51a = chart_7bbc51a.then(chart => {\n",
       "        if (myVizzu_7bbc51a.parentNode && myVizzu_7bbc51a.parentNode.parentNode) {\n",
       "            myVizzu_7bbc51a.parentNode.parentNode.style.display = \"none\";\n",
       "        }\n",
       "        myVizzu_f1ce751.parentNode.parentNode.style.display = display_f1ce751;\n",
       "        myVizzu_f1ce751.parentNode.insertBefore(myVizzu_7bbc51a, myVizzu_f1ce751);\n",
       "        myVizzu_7bbc51a.scrollIntoView({behavior: \"auto\", block: \"center\"});\n",
       "        return chart.animate({\"config\": {\"channels\": {\"x\": {\"set\": [\"Genres\", \"Types\"]}, \"color\": {\"attach\": \"Types\"}}}});\n",
       "    });\n",
       "</script>"
      ]
     },
     "metadata": {},
     "output_type": "display_data"
    },
    {
     "data": {
      "text/html": [
       "<script id=\"myVizzu_f6d1435\">\n",
       "    myVizzu_f6d1435.parentNode.parentNode.style.display = \"none\";\n",
       "    let snapshot_f6d1435;\n",
       "    chart_7bbc51a = chart_7bbc51a.then(chart => {\n",
       "        snapshot_f6d1435 = chart.store();\n",
       "        return chart;\n",
       "    });\n",
       "</script>"
      ]
     },
     "metadata": {},
     "output_type": "display_data"
    }
   ],
   "source": [
    "from ipyvizzu import Chart, Data, Config\n",
    "\n",
    "chart = Chart()\n",
    "\n",
    "data = Data.from_json(\"./music_data.json\")\n",
    "\n",
    "chart.animate(data)\n",
    "\n",
    "chart.animate(Config({\n",
    "    \"channels\": {\n",
    "        \"y\": {\n",
    "            \"set\": \"Popularity\"\n",
    "        },\n",
    "        \"x\": {\n",
    "            \"set\": \"Genres\"\n",
    "        }\n",
    "    },\n",
    "    \"title\": \"The wrong way means no animation\"\n",
    "}))\n",
    "\n",
    "chart.animate(Config({\n",
    "    \"channels\": {\n",
    "        \"x\": {\n",
    "            \"set\": [\"Genres\", \"Types\"]\n",
    "        },\n",
    "        \"color\": {\n",
    "            \"attach\": \"Types\"\n",
    "        },\n",
    "    },\n",
    "}))\n",
    "\n",
    "snapshot1 = chart.store()"
   ]
  },
  {
   "cell_type": "markdown",
   "id": "87e38239",
   "metadata": {},
   "source": [
    "Let’s get back to the original state by removing the extra dimension - Vizzu will also simply fade between these states."
   ]
  },
  {
   "cell_type": "code",
   "execution_count": 2,
   "id": "4840001d",
   "metadata": {},
   "outputs": [
    {
     "data": {
      "text/html": [
       "<script id=\"myVizzu_67a1776\">\n",
       "    let display_67a1776 = myVizzu_67a1776.parentNode.parentNode.style.display;\n",
       "    myVizzu_67a1776.parentNode.parentNode.style.display = \"none\";\n",
       "    chart_7bbc51a = chart_7bbc51a.then(chart => {\n",
       "        if (myVizzu_7bbc51a.parentNode && myVizzu_7bbc51a.parentNode.parentNode) {\n",
       "            myVizzu_7bbc51a.parentNode.parentNode.style.display = \"none\";\n",
       "        }\n",
       "        myVizzu_67a1776.parentNode.parentNode.style.display = display_67a1776;\n",
       "        myVizzu_67a1776.parentNode.insertBefore(myVizzu_7bbc51a, myVizzu_67a1776);\n",
       "        myVizzu_7bbc51a.scrollIntoView({behavior: \"auto\", block: \"center\"});\n",
       "        return chart.animate(snapshot_f6d1435);\n",
       "    });\n",
       "</script>"
      ]
     },
     "metadata": {},
     "output_type": "display_data"
    },
    {
     "data": {
      "text/html": [
       "<script id=\"myVizzu_18e7151\">\n",
       "    let display_18e7151 = myVizzu_18e7151.parentNode.parentNode.style.display;\n",
       "    myVizzu_18e7151.parentNode.parentNode.style.display = \"none\";\n",
       "    chart_7bbc51a = chart_7bbc51a.then(chart => {\n",
       "        if (myVizzu_7bbc51a.parentNode && myVizzu_7bbc51a.parentNode.parentNode) {\n",
       "            myVizzu_7bbc51a.parentNode.parentNode.style.display = \"none\";\n",
       "        }\n",
       "        myVizzu_18e7151.parentNode.parentNode.style.display = display_18e7151;\n",
       "        myVizzu_18e7151.parentNode.insertBefore(myVizzu_7bbc51a, myVizzu_18e7151);\n",
       "        myVizzu_7bbc51a.scrollIntoView({behavior: \"auto\", block: \"center\"});\n",
       "        return chart.animate({\"config\": {\"title\": \"Let's get back to where we were\"}});\n",
       "    });\n",
       "</script>"
      ]
     },
     "metadata": {},
     "output_type": "display_data"
    },
    {
     "data": {
      "text/html": [
       "<script id=\"myVizzu_f76ef16\">\n",
       "    let display_f76ef16 = myVizzu_f76ef16.parentNode.parentNode.style.display;\n",
       "    myVizzu_f76ef16.parentNode.parentNode.style.display = \"none\";\n",
       "    chart_7bbc51a = chart_7bbc51a.then(chart => {\n",
       "        if (myVizzu_7bbc51a.parentNode && myVizzu_7bbc51a.parentNode.parentNode) {\n",
       "            myVizzu_7bbc51a.parentNode.parentNode.style.display = \"none\";\n",
       "        }\n",
       "        myVizzu_f76ef16.parentNode.parentNode.style.display = display_f76ef16;\n",
       "        myVizzu_f76ef16.parentNode.insertBefore(myVizzu_7bbc51a, myVizzu_f76ef16);\n",
       "        myVizzu_7bbc51a.scrollIntoView({behavior: \"auto\", block: \"center\"});\n",
       "        return chart.animate({\"config\": {\"channels\": {\"x\": {\"detach\": \"Types\"}, \"color\": {\"set\": null}}}});\n",
       "    });\n",
       "</script>"
      ]
     },
     "metadata": {},
     "output_type": "display_data"
    },
    {
     "data": {
      "text/html": [
       "<script id=\"myVizzu_cf5cc6a\">\n",
       "    myVizzu_cf5cc6a.parentNode.parentNode.style.display = \"none\";\n",
       "    let snapshot_cf5cc6a;\n",
       "    chart_7bbc51a = chart_7bbc51a.then(chart => {\n",
       "        snapshot_cf5cc6a = chart.store();\n",
       "        return chart;\n",
       "    });\n",
       "</script>"
      ]
     },
     "metadata": {},
     "output_type": "display_data"
    }
   ],
   "source": [
    "chart.animate(snapshot1)\n",
    "\n",
    "chart.animate(Config({\"title\": \"Let's get back to where we were\"}))\n",
    "\n",
    "chart.animate(Config({\n",
    "    \"channels\": {\n",
    "        \"x\": {\n",
    "            \"detach\": \"Types\"\n",
    "        },\n",
    "        \"color\": {\n",
    "            \"set\": None\n",
    "        },\n",
    "    }\n",
    "}))\n",
    "\n",
    "snapshot2 = chart.store()"
   ]
  },
  {
   "cell_type": "markdown",
   "id": "c28f9825",
   "metadata": {},
   "source": [
    "The right way is to add the new dimension to the same channel where the measure is: the y-axis. However, since doing only this would result in multiple column chart elements with the same color stacked on top of each other, we also add the same dimension (Type) to the color channel."
   ]
  },
  {
   "cell_type": "code",
   "execution_count": 3,
   "id": "c9f206b4",
   "metadata": {},
   "outputs": [
    {
     "data": {
      "text/html": [
       "<script id=\"myVizzu_bbba3ea\">\n",
       "    let display_bbba3ea = myVizzu_bbba3ea.parentNode.parentNode.style.display;\n",
       "    myVizzu_bbba3ea.parentNode.parentNode.style.display = \"none\";\n",
       "    chart_7bbc51a = chart_7bbc51a.then(chart => {\n",
       "        if (myVizzu_7bbc51a.parentNode && myVizzu_7bbc51a.parentNode.parentNode) {\n",
       "            myVizzu_7bbc51a.parentNode.parentNode.style.display = \"none\";\n",
       "        }\n",
       "        myVizzu_bbba3ea.parentNode.parentNode.style.display = display_bbba3ea;\n",
       "        myVizzu_bbba3ea.parentNode.insertBefore(myVizzu_7bbc51a, myVizzu_bbba3ea);\n",
       "        myVizzu_7bbc51a.scrollIntoView({behavior: \"auto\", block: \"center\"});\n",
       "        return chart.animate(snapshot_cf5cc6a);\n",
       "    });\n",
       "</script>"
      ]
     },
     "metadata": {},
     "output_type": "display_data"
    },
    {
     "data": {
      "text/html": [
       "<script id=\"myVizzu_5ff3bb4\">\n",
       "    let display_5ff3bb4 = myVizzu_5ff3bb4.parentNode.parentNode.style.display;\n",
       "    myVizzu_5ff3bb4.parentNode.parentNode.style.display = \"none\";\n",
       "    chart_7bbc51a = chart_7bbc51a.then(chart => {\n",
       "        if (myVizzu_7bbc51a.parentNode && myVizzu_7bbc51a.parentNode.parentNode) {\n",
       "            myVizzu_7bbc51a.parentNode.parentNode.style.display = \"none\";\n",
       "        }\n",
       "        myVizzu_5ff3bb4.parentNode.parentNode.style.display = display_5ff3bb4;\n",
       "        myVizzu_5ff3bb4.parentNode.insertBefore(myVizzu_7bbc51a, myVizzu_5ff3bb4);\n",
       "        myVizzu_7bbc51a.scrollIntoView({behavior: \"auto\", block: \"center\"});\n",
       "        return chart.animate({\"config\": {\"title\": \"The right way: add to the same channel where the measure is\"}});\n",
       "    });\n",
       "</script>"
      ]
     },
     "metadata": {},
     "output_type": "display_data"
    },
    {
     "data": {
      "text/html": [
       "<script id=\"myVizzu_c5ebd15\">\n",
       "    let display_c5ebd15 = myVizzu_c5ebd15.parentNode.parentNode.style.display;\n",
       "    myVizzu_c5ebd15.parentNode.parentNode.style.display = \"none\";\n",
       "    chart_7bbc51a = chart_7bbc51a.then(chart => {\n",
       "        if (myVizzu_7bbc51a.parentNode && myVizzu_7bbc51a.parentNode.parentNode) {\n",
       "            myVizzu_7bbc51a.parentNode.parentNode.style.display = \"none\";\n",
       "        }\n",
       "        myVizzu_c5ebd15.parentNode.parentNode.style.display = display_c5ebd15;\n",
       "        myVizzu_c5ebd15.parentNode.insertBefore(myVizzu_7bbc51a, myVizzu_c5ebd15);\n",
       "        myVizzu_7bbc51a.scrollIntoView({behavior: \"auto\", block: \"center\"});\n",
       "        return chart.animate({\"config\": {\"channels\": {\"y\": {\"attach\": \"Types\"}, \"color\": {\"attach\": \"Types\"}}}});\n",
       "    });\n",
       "</script>"
      ]
     },
     "metadata": {},
     "output_type": "display_data"
    },
    {
     "data": {
      "text/html": [
       "<script id=\"myVizzu_61f3fe8\">\n",
       "    myVizzu_61f3fe8.parentNode.parentNode.style.display = \"none\";\n",
       "    let snapshot_61f3fe8;\n",
       "    chart_7bbc51a = chart_7bbc51a.then(chart => {\n",
       "        snapshot_61f3fe8 = chart.store();\n",
       "        return chart;\n",
       "    });\n",
       "</script>"
      ]
     },
     "metadata": {},
     "output_type": "display_data"
    }
   ],
   "source": [
    "chart.animate(snapshot2)\n",
    "\n",
    "chart.animate(Config({\"title\": \"The right way: add to the same channel where the measure is\"}))\n",
    "\n",
    "chart.animate(Config({\n",
    "    \"channels\": {\n",
    "        \"y\": {\n",
    "            \"attach\": \"Types\"\n",
    "        },\n",
    "        \"color\": {\n",
    "            \"attach\": \"Types\"\n",
    "        },\n",
    "    }\n",
    "}))\n",
    "\n",
    "snapshot3 = chart.store()"
   ]
  },
  {
   "cell_type": "markdown",
   "id": "a7b863e0",
   "metadata": {},
   "source": [
    "By detaching this newly added dimension from the y-axis and attaching it to the x-axis, you get to the same grouped bar chart as in the first step but in a way that is easy to follow for the viewer."
   ]
  },
  {
   "cell_type": "code",
   "execution_count": 4,
   "id": "d8a3b336",
   "metadata": {},
   "outputs": [
    {
     "data": {
      "text/html": [
       "<script id=\"myVizzu_42af5e5\">\n",
       "    let display_42af5e5 = myVizzu_42af5e5.parentNode.parentNode.style.display;\n",
       "    myVizzu_42af5e5.parentNode.parentNode.style.display = \"none\";\n",
       "    chart_7bbc51a = chart_7bbc51a.then(chart => {\n",
       "        if (myVizzu_7bbc51a.parentNode && myVizzu_7bbc51a.parentNode.parentNode) {\n",
       "            myVizzu_7bbc51a.parentNode.parentNode.style.display = \"none\";\n",
       "        }\n",
       "        myVizzu_42af5e5.parentNode.parentNode.style.display = display_42af5e5;\n",
       "        myVizzu_42af5e5.parentNode.insertBefore(myVizzu_7bbc51a, myVizzu_42af5e5);\n",
       "        myVizzu_7bbc51a.scrollIntoView({behavior: \"auto\", block: \"center\"});\n",
       "        return chart.animate(snapshot_61f3fe8);\n",
       "    });\n",
       "</script>"
      ]
     },
     "metadata": {},
     "output_type": "display_data"
    },
    {
     "data": {
      "text/html": [
       "<script id=\"myVizzu_499bd2d\">\n",
       "    let display_499bd2d = myVizzu_499bd2d.parentNode.parentNode.style.display;\n",
       "    myVizzu_499bd2d.parentNode.parentNode.style.display = \"none\";\n",
       "    chart_7bbc51a = chart_7bbc51a.then(chart => {\n",
       "        if (myVizzu_7bbc51a.parentNode && myVizzu_7bbc51a.parentNode.parentNode) {\n",
       "            myVizzu_7bbc51a.parentNode.parentNode.style.display = \"none\";\n",
       "        }\n",
       "        myVizzu_499bd2d.parentNode.parentNode.style.display = display_499bd2d;\n",
       "        myVizzu_499bd2d.parentNode.insertBefore(myVizzu_7bbc51a, myVizzu_499bd2d);\n",
       "        myVizzu_7bbc51a.scrollIntoView({behavior: \"auto\", block: \"center\"});\n",
       "        return chart.animate({\"config\": {\"title\": \"...then you can add it to another channel = group elements...\"}});\n",
       "    });\n",
       "</script>"
      ]
     },
     "metadata": {},
     "output_type": "display_data"
    },
    {
     "data": {
      "text/html": [
       "<script id=\"myVizzu_b058967\">\n",
       "    let display_b058967 = myVizzu_b058967.parentNode.parentNode.style.display;\n",
       "    myVizzu_b058967.parentNode.parentNode.style.display = \"none\";\n",
       "    chart_7bbc51a = chart_7bbc51a.then(chart => {\n",
       "        if (myVizzu_7bbc51a.parentNode && myVizzu_7bbc51a.parentNode.parentNode) {\n",
       "            myVizzu_7bbc51a.parentNode.parentNode.style.display = \"none\";\n",
       "        }\n",
       "        myVizzu_b058967.parentNode.parentNode.style.display = display_b058967;\n",
       "        myVizzu_b058967.parentNode.insertBefore(myVizzu_7bbc51a, myVizzu_b058967);\n",
       "        myVizzu_7bbc51a.scrollIntoView({behavior: \"auto\", block: \"center\"});\n",
       "        return chart.animate({\"config\": {\"channels\": {\"y\": {\"detach\": \"Types\"}, \"x\": {\"attach\": \"Types\"}}}});\n",
       "    });\n",
       "</script>"
      ]
     },
     "metadata": {},
     "output_type": "display_data"
    },
    {
     "data": {
      "text/html": [
       "<script id=\"myVizzu_3474eec\">\n",
       "    myVizzu_3474eec.parentNode.parentNode.style.display = \"none\";\n",
       "    let snapshot_3474eec;\n",
       "    chart_7bbc51a = chart_7bbc51a.then(chart => {\n",
       "        snapshot_3474eec = chart.store();\n",
       "        return chart;\n",
       "    });\n",
       "</script>"
      ]
     },
     "metadata": {},
     "output_type": "display_data"
    }
   ],
   "source": [
    "chart.animate(snapshot3)\n",
    "\n",
    "chart.animate(Config({\"title\": \"...then you can add it to another channel = group elements...\"}))\n",
    "\n",
    "chart.animate(Config({\n",
    "    \"channels\": {\n",
    "        \"y\": {\n",
    "            \"detach\": \"Types\"\n",
    "        },\n",
    "        \"x\": {\n",
    "            \"attach\": \"Types\"\n",
    "        },\n",
    "    }\n",
    "}))\n",
    "\n",
    "snapshot4 = chart.store()"
   ]
  },
  {
   "cell_type": "markdown",
   "id": "46cb4d25",
   "metadata": {},
   "source": [
    "To stack a grouped chart, you just have to do the same thing the other way around: detach the dimension from the x-axis and attach it to the y-axis."
   ]
  },
  {
   "cell_type": "code",
   "execution_count": 5,
   "id": "075bb4c9",
   "metadata": {},
   "outputs": [
    {
     "data": {
      "text/html": [
       "<script id=\"myVizzu_6423a76\">\n",
       "    let display_6423a76 = myVizzu_6423a76.parentNode.parentNode.style.display;\n",
       "    myVizzu_6423a76.parentNode.parentNode.style.display = \"none\";\n",
       "    chart_7bbc51a = chart_7bbc51a.then(chart => {\n",
       "        if (myVizzu_7bbc51a.parentNode && myVizzu_7bbc51a.parentNode.parentNode) {\n",
       "            myVizzu_7bbc51a.parentNode.parentNode.style.display = \"none\";\n",
       "        }\n",
       "        myVizzu_6423a76.parentNode.parentNode.style.display = display_6423a76;\n",
       "        myVizzu_6423a76.parentNode.insertBefore(myVizzu_7bbc51a, myVizzu_6423a76);\n",
       "        myVizzu_7bbc51a.scrollIntoView({behavior: \"auto\", block: \"center\"});\n",
       "        return chart.animate(snapshot_3474eec);\n",
       "    });\n",
       "</script>"
      ]
     },
     "metadata": {},
     "output_type": "display_data"
    },
    {
     "data": {
      "text/html": [
       "<script id=\"myVizzu_aaabdf9\">\n",
       "    let display_aaabdf9 = myVizzu_aaabdf9.parentNode.parentNode.style.display;\n",
       "    myVizzu_aaabdf9.parentNode.parentNode.style.display = \"none\";\n",
       "    chart_7bbc51a = chart_7bbc51a.then(chart => {\n",
       "        if (myVizzu_7bbc51a.parentNode && myVizzu_7bbc51a.parentNode.parentNode) {\n",
       "            myVizzu_7bbc51a.parentNode.parentNode.style.display = \"none\";\n",
       "        }\n",
       "        myVizzu_aaabdf9.parentNode.parentNode.style.display = display_aaabdf9;\n",
       "        myVizzu_aaabdf9.parentNode.insertBefore(myVizzu_7bbc51a, myVizzu_aaabdf9);\n",
       "        myVizzu_7bbc51a.scrollIntoView({behavior: \"auto\", block: \"center\"});\n",
       "        return chart.animate({\"config\": {\"title\": \"...doing it the other way is how you stack your chart\"}});\n",
       "    });\n",
       "</script>"
      ]
     },
     "metadata": {},
     "output_type": "display_data"
    },
    {
     "data": {
      "text/html": [
       "<script id=\"myVizzu_49bd4a4\">\n",
       "    let display_49bd4a4 = myVizzu_49bd4a4.parentNode.parentNode.style.display;\n",
       "    myVizzu_49bd4a4.parentNode.parentNode.style.display = \"none\";\n",
       "    chart_7bbc51a = chart_7bbc51a.then(chart => {\n",
       "        if (myVizzu_7bbc51a.parentNode && myVizzu_7bbc51a.parentNode.parentNode) {\n",
       "            myVizzu_7bbc51a.parentNode.parentNode.style.display = \"none\";\n",
       "        }\n",
       "        myVizzu_49bd4a4.parentNode.parentNode.style.display = display_49bd4a4;\n",
       "        myVizzu_49bd4a4.parentNode.insertBefore(myVizzu_7bbc51a, myVizzu_49bd4a4);\n",
       "        myVizzu_7bbc51a.scrollIntoView({behavior: \"auto\", block: \"center\"});\n",
       "        return chart.animate({\"config\": {\"channels\": {\"y\": {\"attach\": \"Types\"}, \"x\": {\"detach\": \"Types\"}}}});\n",
       "    });\n",
       "</script>"
      ]
     },
     "metadata": {},
     "output_type": "display_data"
    }
   ],
   "source": [
    "chart.animate(snapshot4)\n",
    "\n",
    "chart.animate(Config({\"title\": \"...doing it the other way is how you stack your chart\"}))\n",
    "\n",
    "chart.animate(Config({\n",
    "    \"channels\": {\n",
    "        \"y\": {\n",
    "            \"attach\": \"Types\"\n",
    "        },\n",
    "        \"x\": {\n",
    "            \"detach\": \"Types\"\n",
    "        },\n",
    "    }\n",
    "}))"
   ]
  }
 ],
 "metadata": {
  "kernelspec": {
   "display_name": "Python 3 (ipykernel)",
   "language": "python",
   "name": "python3"
  },
  "language_info": {
   "codemirror_mode": {
    "name": "ipython",
    "version": 3
   },
   "file_extension": ".py",
   "mimetype": "text/x-python",
   "name": "python",
   "nbconvert_exporter": "python",
   "pygments_lexer": "ipython3",
   "version": "3.8.10"
  }
 },
 "nbformat": 4,
 "nbformat_minor": 5
}
