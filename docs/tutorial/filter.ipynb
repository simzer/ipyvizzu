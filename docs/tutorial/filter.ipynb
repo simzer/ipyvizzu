{
 "cells": [
  {
   "cell_type": "markdown",
   "id": "6dbc8df4",
   "metadata": {},
   "source": [
    "## Filtering & adding new records\n",
    "\n",
    "Filtering enables you to zoom in or out within a chart, allowing the viewer to focus on certain selected elements, or get more context. You can also add new records to the data on the chart which makes it easy to work with real-time sources.\n",
    "\n",
    "**Note:** Currently `Data.filter()` and `Data().set_filter()` only accept JavaScript expression as string. Data fields can be accessed via `record` object, see the examples below.\n",
    "\n",
    "We add two items from the Genres dimension - using the || operator - to the filter, so the chart elements that belong to the other two items will vanish from the chart."
   ]
  },
  {
   "cell_type": "code",
   "execution_count": 1,
   "id": "d5da6794",
   "metadata": {},
   "outputs": [
    {
     "data": {
      "text/html": [
       "<script id=\"myVizzu_27a24a4\">\n",
       "    let myVizzu_d27ee31 = document.createElement(\"div\");\n",
       "    myVizzu_d27ee31.style.cssText = \"width: 800px; height: 480px;\";\n",
       "    let chart_d27ee31 = import(\"https://cdn.jsdelivr.net/npm/vizzu@~0.4.0/dist/vizzu.min.js\").then(Vizzu => new Vizzu.default(myVizzu_d27ee31).initializing);\n",
       "    myVizzu_27a24a4.parentNode.insertBefore(myVizzu_d27ee31, myVizzu_27a24a4);\n",
       "</script>"
      ]
     },
     "metadata": {},
     "output_type": "display_data"
    },
    {
     "data": {
      "text/html": [
       "<script id=\"myVizzu_5f916c3\">\n",
       "    let display_5f916c3 = myVizzu_5f916c3.parentNode.parentNode.style.display;\n",
       "    myVizzu_5f916c3.parentNode.parentNode.style.display = \"none\";\n",
       "    chart_d27ee31 = chart_d27ee31.then(chart => {\n",
       "        if (myVizzu_d27ee31.parentNode && myVizzu_d27ee31.parentNode.parentNode) {\n",
       "            myVizzu_d27ee31.parentNode.parentNode.style.display = \"none\";\n",
       "        }\n",
       "        myVizzu_5f916c3.parentNode.parentNode.style.display = display_5f916c3;\n",
       "        myVizzu_5f916c3.parentNode.insertBefore(myVizzu_d27ee31, myVizzu_5f916c3);\n",
       "        myVizzu_d27ee31.scrollIntoView({behavior: \"auto\", block: \"center\"});\n",
       "        return chart.animate({\"data\": {\"dimensions\": [{\"name\": \"Genres\", \"values\": [\"Pop\", \"Rock\", \"Jazz\", \"Metal\"]}, {\"name\": \"Types\", \"values\": [\"Hard\", \"Smooth\", \"Experimental\"]}], \"measures\": [{\"name\": \"Popularity\", \"values\": [[114, 96, 78, 52], [56, 36, 174, 121], [127, 83, 94, 58]]}]}});\n",
       "    });\n",
       "</script>"
      ]
     },
     "metadata": {},
     "output_type": "display_data"
    },
    {
     "data": {
      "text/html": [
       "<script id=\"myVizzu_77c75be\">\n",
       "    let display_77c75be = myVizzu_77c75be.parentNode.parentNode.style.display;\n",
       "    myVizzu_77c75be.parentNode.parentNode.style.display = \"none\";\n",
       "    chart_d27ee31 = chart_d27ee31.then(chart => {\n",
       "        if (myVizzu_d27ee31.parentNode && myVizzu_d27ee31.parentNode.parentNode) {\n",
       "            myVizzu_d27ee31.parentNode.parentNode.style.display = \"none\";\n",
       "        }\n",
       "        myVizzu_77c75be.parentNode.parentNode.style.display = display_77c75be;\n",
       "        myVizzu_77c75be.parentNode.insertBefore(myVizzu_d27ee31, myVizzu_77c75be);\n",
       "        myVizzu_d27ee31.scrollIntoView({behavior: \"auto\", block: \"center\"});\n",
       "        return chart.animate({\"config\": {\"channels\": {\"y\": {\"set\": [\"Popularity\", \"Types\"]}, \"x\": {\"set\": \"Genres\"}, \"label\": {\"attach\": \"Popularity\"}}, \"color\": {\"attach\": \"Types\"}, \"title\": \"Filter by one dimension\"}});\n",
       "    });\n",
       "</script>"
      ]
     },
     "metadata": {},
     "output_type": "display_data"
    },
    {
     "data": {
      "text/html": [
       "<script id=\"myVizzu_869b78e\">\n",
       "    let display_869b78e = myVizzu_869b78e.parentNode.parentNode.style.display;\n",
       "    myVizzu_869b78e.parentNode.parentNode.style.display = \"none\";\n",
       "    chart_d27ee31 = chart_d27ee31.then(chart => {\n",
       "        if (myVizzu_d27ee31.parentNode && myVizzu_d27ee31.parentNode.parentNode) {\n",
       "            myVizzu_d27ee31.parentNode.parentNode.style.display = \"none\";\n",
       "        }\n",
       "        myVizzu_869b78e.parentNode.parentNode.style.display = display_869b78e;\n",
       "        myVizzu_869b78e.parentNode.insertBefore(myVizzu_d27ee31, myVizzu_869b78e);\n",
       "        myVizzu_d27ee31.scrollIntoView({behavior: \"auto\", block: \"center\"});\n",
       "        return chart.animate({\"data\": {\"filter\": record => { return (record['Genres'] == 'Pop' || record['Genres'] == 'Metal') }}});\n",
       "    });\n",
       "</script>"
      ]
     },
     "metadata": {},
     "output_type": "display_data"
    },
    {
     "data": {
      "text/html": [
       "<script id=\"myVizzu_06612d5\">\n",
       "    myVizzu_06612d5.parentNode.parentNode.style.display = \"none\";\n",
       "    let snapshot_06612d5;\n",
       "    chart_d27ee31 = chart_d27ee31.then(chart => {\n",
       "        snapshot_06612d5 = chart.store();\n",
       "        return chart;\n",
       "    });\n",
       "</script>"
      ]
     },
     "metadata": {},
     "output_type": "display_data"
    }
   ],
   "source": [
    "from ipyvizzu import Chart, Data, Config\n",
    "\n",
    "chart = Chart()\n",
    "\n",
    "data = Data()\n",
    "data.add_dimension('Genres', [ 'Pop', 'Rock', 'Jazz', 'Metal'])\n",
    "data.add_dimension('Types', [ 'Hard', 'Smooth', 'Experimental' ])\n",
    "data.add_measure(\n",
    "    'Popularity',\n",
    "    [\n",
    "        [114, 96, 78, 52],\n",
    "        [56, 36, 174, 121],\n",
    "        [127, 83, 94, 58],\n",
    "    ]\n",
    ")\n",
    "chart.animate(data)\n",
    "\n",
    "chart.animate(Config({\n",
    "    \"channels\": {\n",
    "        \"y\": {\n",
    "            \"set\": [\"Popularity\", \"Types\"]\n",
    "        }, \n",
    "        \"x\": {\n",
    "            \"set\": \"Genres\"\n",
    "        },\n",
    "        \"label\": {\n",
    "            \"attach\": \"Popularity\"\n",
    "        }\n",
    "    },\n",
    "    \"color\": {\n",
    "        \"attach\": \"Types\"\n",
    "    },\n",
    "    \"title\": \"Filter by one dimension\"\n",
    "}))\n",
    "\n",
    "filter1 = Data.filter(\"record['Genres'] == 'Pop' || record['Genres'] == 'Metal'\")\n",
    "\n",
    "chart.animate(filter1)\n",
    "\n",
    "snapshot1 = chart.store()"
   ]
  },
  {
   "cell_type": "markdown",
   "id": "33d0a09d",
   "metadata": {},
   "source": [
    "Now we add a cross-filter that includes items from both the Genres and the Types dimensions. This way we override the filter from the previous state. If we weren't update the filter, Vizzu would use it in subsequent states."
   ]
  },
  {
   "cell_type": "code",
   "execution_count": 2,
   "id": "4807db16",
   "metadata": {},
   "outputs": [
    {
     "data": {
      "text/html": [
       "<script id=\"myVizzu_9d1ca4b\">\n",
       "    let display_9d1ca4b = myVizzu_9d1ca4b.parentNode.parentNode.style.display;\n",
       "    myVizzu_9d1ca4b.parentNode.parentNode.style.display = \"none\";\n",
       "    chart_d27ee31 = chart_d27ee31.then(chart => {\n",
       "        if (myVizzu_d27ee31.parentNode && myVizzu_d27ee31.parentNode.parentNode) {\n",
       "            myVizzu_d27ee31.parentNode.parentNode.style.display = \"none\";\n",
       "        }\n",
       "        myVizzu_9d1ca4b.parentNode.parentNode.style.display = display_9d1ca4b;\n",
       "        myVizzu_9d1ca4b.parentNode.insertBefore(myVizzu_d27ee31, myVizzu_9d1ca4b);\n",
       "        myVizzu_d27ee31.scrollIntoView({behavior: \"auto\", block: \"center\"});\n",
       "        return chart.animate(snapshot_06612d5);\n",
       "    });\n",
       "</script>"
      ]
     },
     "metadata": {},
     "output_type": "display_data"
    },
    {
     "data": {
      "text/html": [
       "<script id=\"myVizzu_5c6788d\">\n",
       "    let display_5c6788d = myVizzu_5c6788d.parentNode.parentNode.style.display;\n",
       "    myVizzu_5c6788d.parentNode.parentNode.style.display = \"none\";\n",
       "    chart_d27ee31 = chart_d27ee31.then(chart => {\n",
       "        if (myVizzu_d27ee31.parentNode && myVizzu_d27ee31.parentNode.parentNode) {\n",
       "            myVizzu_d27ee31.parentNode.parentNode.style.display = \"none\";\n",
       "        }\n",
       "        myVizzu_5c6788d.parentNode.parentNode.style.display = display_5c6788d;\n",
       "        myVizzu_5c6788d.parentNode.insertBefore(myVizzu_d27ee31, myVizzu_5c6788d);\n",
       "        myVizzu_d27ee31.scrollIntoView({behavior: \"auto\", block: \"center\"});\n",
       "        return chart.animate({\"config\": {\"title\": \"Filter by two dimensions\"}});\n",
       "    });\n",
       "</script>"
      ]
     },
     "metadata": {},
     "output_type": "display_data"
    },
    {
     "data": {
      "text/html": [
       "<script id=\"myVizzu_797a612\">\n",
       "    let display_797a612 = myVizzu_797a612.parentNode.parentNode.style.display;\n",
       "    myVizzu_797a612.parentNode.parentNode.style.display = \"none\";\n",
       "    chart_d27ee31 = chart_d27ee31.then(chart => {\n",
       "        if (myVizzu_d27ee31.parentNode && myVizzu_d27ee31.parentNode.parentNode) {\n",
       "            myVizzu_d27ee31.parentNode.parentNode.style.display = \"none\";\n",
       "        }\n",
       "        myVizzu_797a612.parentNode.parentNode.style.display = display_797a612;\n",
       "        myVizzu_797a612.parentNode.insertBefore(myVizzu_d27ee31, myVizzu_797a612);\n",
       "        myVizzu_d27ee31.scrollIntoView({behavior: \"auto\", block: \"center\"});\n",
       "        return chart.animate({\"data\": {\"filter\": record => { return ((record['Genres'] == 'Pop' || record['Genres'] == 'Metal') && record['Types'] == 'Smooth') }}});\n",
       "    });\n",
       "</script>"
      ]
     },
     "metadata": {},
     "output_type": "display_data"
    },
    {
     "data": {
      "text/html": [
       "<script id=\"myVizzu_18638c5\">\n",
       "    myVizzu_18638c5.parentNode.parentNode.style.display = \"none\";\n",
       "    let snapshot_18638c5;\n",
       "    chart_d27ee31 = chart_d27ee31.then(chart => {\n",
       "        snapshot_18638c5 = chart.store();\n",
       "        return chart;\n",
       "    });\n",
       "</script>"
      ]
     },
     "metadata": {},
     "output_type": "display_data"
    }
   ],
   "source": [
    "chart.animate(snapshot1)\n",
    "\n",
    "chart.animate(Config({\"title\": \"Filter by two dimensions\"}))\n",
    "\n",
    "filter2 = Data.filter(\"(record['Genres'] == 'Pop' || record['Genres'] == 'Metal') && record['Types'] == 'Smooth'\")\n",
    "\n",
    "chart.animate(filter2)\n",
    "\n",
    "snapshot2 = chart.store()"
   ]
  },
  {
   "cell_type": "markdown",
   "id": "b782890b",
   "metadata": {},
   "source": [
    "Switching the filter off to get back to the original view."
   ]
  },
  {
   "cell_type": "code",
   "execution_count": 3,
   "id": "6e231d21",
   "metadata": {},
   "outputs": [
    {
     "data": {
      "text/html": [
       "<script id=\"myVizzu_26712fc\">\n",
       "    let display_26712fc = myVizzu_26712fc.parentNode.parentNode.style.display;\n",
       "    myVizzu_26712fc.parentNode.parentNode.style.display = \"none\";\n",
       "    chart_d27ee31 = chart_d27ee31.then(chart => {\n",
       "        if (myVizzu_d27ee31.parentNode && myVizzu_d27ee31.parentNode.parentNode) {\n",
       "            myVizzu_d27ee31.parentNode.parentNode.style.display = \"none\";\n",
       "        }\n",
       "        myVizzu_26712fc.parentNode.parentNode.style.display = display_26712fc;\n",
       "        myVizzu_26712fc.parentNode.insertBefore(myVizzu_d27ee31, myVizzu_26712fc);\n",
       "        myVizzu_d27ee31.scrollIntoView({behavior: \"auto\", block: \"center\"});\n",
       "        return chart.animate(snapshot_18638c5);\n",
       "    });\n",
       "</script>"
      ]
     },
     "metadata": {},
     "output_type": "display_data"
    },
    {
     "data": {
      "text/html": [
       "<script id=\"myVizzu_a5e0c57\">\n",
       "    let display_a5e0c57 = myVizzu_a5e0c57.parentNode.parentNode.style.display;\n",
       "    myVizzu_a5e0c57.parentNode.parentNode.style.display = \"none\";\n",
       "    chart_d27ee31 = chart_d27ee31.then(chart => {\n",
       "        if (myVizzu_d27ee31.parentNode && myVizzu_d27ee31.parentNode.parentNode) {\n",
       "            myVizzu_d27ee31.parentNode.parentNode.style.display = \"none\";\n",
       "        }\n",
       "        myVizzu_a5e0c57.parentNode.parentNode.style.display = display_a5e0c57;\n",
       "        myVizzu_a5e0c57.parentNode.insertBefore(myVizzu_d27ee31, myVizzu_a5e0c57);\n",
       "        myVizzu_d27ee31.scrollIntoView({behavior: \"auto\", block: \"center\"});\n",
       "        return chart.animate({\"config\": {\"title\": \"Filter off\"}});\n",
       "    });\n",
       "</script>"
      ]
     },
     "metadata": {},
     "output_type": "display_data"
    },
    {
     "data": {
      "text/html": [
       "<script id=\"myVizzu_7d64851\">\n",
       "    let display_7d64851 = myVizzu_7d64851.parentNode.parentNode.style.display;\n",
       "    myVizzu_7d64851.parentNode.parentNode.style.display = \"none\";\n",
       "    chart_d27ee31 = chart_d27ee31.then(chart => {\n",
       "        if (myVizzu_d27ee31.parentNode && myVizzu_d27ee31.parentNode.parentNode) {\n",
       "            myVizzu_d27ee31.parentNode.parentNode.style.display = \"none\";\n",
       "        }\n",
       "        myVizzu_7d64851.parentNode.parentNode.style.display = display_7d64851;\n",
       "        myVizzu_7d64851.parentNode.insertBefore(myVizzu_d27ee31, myVizzu_7d64851);\n",
       "        myVizzu_d27ee31.scrollIntoView({behavior: \"auto\", block: \"center\"});\n",
       "        return chart.animate({\"data\": {\"filter\": null}});\n",
       "    });\n",
       "</script>"
      ]
     },
     "metadata": {},
     "output_type": "display_data"
    },
    {
     "data": {
      "text/html": [
       "<script id=\"myVizzu_c533e0e\">\n",
       "    myVizzu_c533e0e.parentNode.parentNode.style.display = \"none\";\n",
       "    let snapshot_c533e0e;\n",
       "    chart_d27ee31 = chart_d27ee31.then(chart => {\n",
       "        snapshot_c533e0e = chart.store();\n",
       "        return chart;\n",
       "    });\n",
       "</script>"
      ]
     },
     "metadata": {},
     "output_type": "display_data"
    }
   ],
   "source": [
    "chart.animate(snapshot2)\n",
    "\n",
    "chart.animate(Config({\"title\": \"Filter off\"}))\n",
    "\n",
    "chart.animate(Data.filter(None))\n",
    "\n",
    "snapshot3 = chart.store()"
   ]
  },
  {
   "cell_type": "markdown",
   "id": "88243fd6",
   "metadata": {},
   "source": [
    "Here we add another record to the data set and update the chart accordingly."
   ]
  },
  {
   "cell_type": "code",
   "execution_count": 4,
   "id": "384d20b1",
   "metadata": {},
   "outputs": [
    {
     "data": {
      "text/html": [
       "<script id=\"myVizzu_7d4ffb5\">\n",
       "    let display_7d4ffb5 = myVizzu_7d4ffb5.parentNode.parentNode.style.display;\n",
       "    myVizzu_7d4ffb5.parentNode.parentNode.style.display = \"none\";\n",
       "    chart_d27ee31 = chart_d27ee31.then(chart => {\n",
       "        if (myVizzu_d27ee31.parentNode && myVizzu_d27ee31.parentNode.parentNode) {\n",
       "            myVizzu_d27ee31.parentNode.parentNode.style.display = \"none\";\n",
       "        }\n",
       "        myVizzu_7d4ffb5.parentNode.parentNode.style.display = display_7d4ffb5;\n",
       "        myVizzu_7d4ffb5.parentNode.insertBefore(myVizzu_d27ee31, myVizzu_7d4ffb5);\n",
       "        myVizzu_d27ee31.scrollIntoView({behavior: \"auto\", block: \"center\"});\n",
       "        return chart.animate(snapshot_c533e0e);\n",
       "    });\n",
       "</script>"
      ]
     },
     "metadata": {},
     "output_type": "display_data"
    },
    {
     "data": {
      "text/html": [
       "<script id=\"myVizzu_4993c6f\">\n",
       "    let display_4993c6f = myVizzu_4993c6f.parentNode.parentNode.style.display;\n",
       "    myVizzu_4993c6f.parentNode.parentNode.style.display = \"none\";\n",
       "    chart_d27ee31 = chart_d27ee31.then(chart => {\n",
       "        if (myVizzu_d27ee31.parentNode && myVizzu_d27ee31.parentNode.parentNode) {\n",
       "            myVizzu_d27ee31.parentNode.parentNode.style.display = \"none\";\n",
       "        }\n",
       "        myVizzu_4993c6f.parentNode.parentNode.style.display = display_4993c6f;\n",
       "        myVizzu_4993c6f.parentNode.insertBefore(myVizzu_d27ee31, myVizzu_4993c6f);\n",
       "        myVizzu_d27ee31.scrollIntoView({behavior: \"auto\", block: \"center\"});\n",
       "        return chart.animate({\"config\": {\"title\": \"Adding new records\"}});\n",
       "    });\n",
       "</script>"
      ]
     },
     "metadata": {},
     "output_type": "display_data"
    },
    {
     "data": {
      "text/html": [
       "<script id=\"myVizzu_16a6901\">\n",
       "    let display_16a6901 = myVizzu_16a6901.parentNode.parentNode.style.display;\n",
       "    myVizzu_16a6901.parentNode.parentNode.style.display = \"none\";\n",
       "    chart_d27ee31 = chart_d27ee31.then(chart => {\n",
       "        if (myVizzu_d27ee31.parentNode && myVizzu_d27ee31.parentNode.parentNode) {\n",
       "            myVizzu_d27ee31.parentNode.parentNode.style.display = \"none\";\n",
       "        }\n",
       "        myVizzu_16a6901.parentNode.parentNode.style.display = display_16a6901;\n",
       "        myVizzu_16a6901.parentNode.insertBefore(myVizzu_d27ee31, myVizzu_16a6901);\n",
       "        myVizzu_d27ee31.scrollIntoView({behavior: \"auto\", block: \"center\"});\n",
       "        return chart.animate({\"data\": {\"records\": [[\"Soul\", \"Hard\", 91], [\"Soul\", \"Smooth\", 57], [\"Soul\", \"Experimental\", 115]]}});\n",
       "    });\n",
       "</script>"
      ]
     },
     "metadata": {},
     "output_type": "display_data"
    }
   ],
   "source": [
    "chart.animate(snapshot3)\n",
    "\n",
    "chart.animate(Config({\"title\": \"Adding new records\"}))\n",
    "\n",
    "data2 = Data()\n",
    "records = [\n",
    "    ['Soul', 'Hard', 91],\n",
    "    ['Soul', 'Smooth', 57],\n",
    "    ['Soul', 'Experimental', 115]\n",
    "]\n",
    "data2.add_records(records)\n",
    "\n",
    "chart.animate(data2)"
   ]
  },
  {
   "cell_type": "markdown",
   "id": "c87444f7",
   "metadata": {},
   "source": [
    "Note: combining this option with the store function makes it easy to update previously configured states with fresh data since this function saves the config and style parameters of the chart into a variable but not the data."
   ]
  }
 ],
 "metadata": {
  "kernelspec": {
   "display_name": "Python 3 (ipykernel)",
   "language": "python",
   "name": "python3"
  },
  "language_info": {
   "codemirror_mode": {
    "name": "ipython",
    "version": 3
   },
   "file_extension": ".py",
   "mimetype": "text/x-python",
   "name": "python",
   "nbconvert_exporter": "python",
   "pygments_lexer": "ipython3",
   "version": "3.8.10"
  }
 },
 "nbformat": 4,
 "nbformat_minor": 5
}
