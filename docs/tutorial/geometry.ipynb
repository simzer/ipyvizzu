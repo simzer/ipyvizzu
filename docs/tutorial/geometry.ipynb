{
 "cells": [
  {
   "cell_type": "markdown",
   "id": "8518ab11",
   "metadata": {},
   "source": [
    "## Geometry\n",
    "\n",
    "In Vizzu you can set the geometric elements used to represent your data by the geometry property within the config object.\n",
    "\n",
    "The first step is switching the geometry to area.\n",
    "\n",
    "The second step is drawing a line chart.\n",
    "\n",
    "The third step is switching the geometry to circle. This setting is the most useful when used together with the size channel, as shown in the next chapter of the tutorial.\n",
    "\n",
    "The last step is switching the geometry to rectangle. Rectangle geometry is the default setting in Vizzu, used for most common charts like bar and column charts."
   ]
  },
  {
   "cell_type": "code",
   "execution_count": 1,
   "id": "b0552636",
   "metadata": {},
   "outputs": [
    {
     "data": {
      "text/html": [
       "<script id=\"myVizzu_01b5eb2\">\n",
       "    let myVizzu_1666455 = document.createElement(\"div\");\n",
       "    myVizzu_1666455.style.cssText = \"width: 800px; height: 480px;\";\n",
       "    let chart_1666455 = import(\"https://cdn.jsdelivr.net/npm/vizzu@~0.4.0/dist/vizzu.min.js\").then(Vizzu => new Vizzu.default(myVizzu_1666455).initializing);\n",
       "    myVizzu_01b5eb2.parentNode.insertBefore(myVizzu_1666455, myVizzu_01b5eb2);\n",
       "</script>"
      ]
     },
     "metadata": {},
     "output_type": "display_data"
    },
    {
     "data": {
      "text/html": [
       "<script id=\"myVizzu_9843fdc\">\n",
       "    let display_9843fdc = myVizzu_9843fdc.parentNode.parentNode.style.display;\n",
       "    myVizzu_9843fdc.parentNode.parentNode.style.display = \"none\";\n",
       "    chart_1666455 = chart_1666455.then(chart => {\n",
       "        if (myVizzu_1666455.parentNode && myVizzu_1666455.parentNode.parentNode) {\n",
       "            myVizzu_1666455.parentNode.parentNode.style.display = \"none\";\n",
       "        }\n",
       "        myVizzu_9843fdc.parentNode.parentNode.style.display = display_9843fdc;\n",
       "        myVizzu_9843fdc.parentNode.insertBefore(myVizzu_1666455, myVizzu_9843fdc);\n",
       "        myVizzu_1666455.scrollIntoView({behavior: \"auto\", block: \"center\"});\n",
       "        return chart.animate({\"data\": {\"dimensions\": [{\"name\": \"Genres\", \"values\": [\"Pop\", \"Rock\", \"Jazz\", \"Metal\"]}, {\"name\": \"Types\", \"values\": [\"Hard\", \"Smooth\", \"Experimental\"]}], \"measures\": [{\"name\": \"Popularity\", \"values\": [[114, 96, 78, 52], [56, 36, 174, 121], [127, 83, 94, 58]]}]}});\n",
       "    });\n",
       "</script>"
      ]
     },
     "metadata": {},
     "output_type": "display_data"
    },
    {
     "data": {
      "text/html": [
       "<script id=\"myVizzu_f4b218a\">\n",
       "    let display_f4b218a = myVizzu_f4b218a.parentNode.parentNode.style.display;\n",
       "    myVizzu_f4b218a.parentNode.parentNode.style.display = \"none\";\n",
       "    chart_1666455 = chart_1666455.then(chart => {\n",
       "        if (myVizzu_1666455.parentNode && myVizzu_1666455.parentNode.parentNode) {\n",
       "            myVizzu_1666455.parentNode.parentNode.style.display = \"none\";\n",
       "        }\n",
       "        myVizzu_f4b218a.parentNode.parentNode.style.display = display_f4b218a;\n",
       "        myVizzu_f4b218a.parentNode.insertBefore(myVizzu_1666455, myVizzu_f4b218a);\n",
       "        myVizzu_1666455.scrollIntoView({behavior: \"auto\", block: \"center\"});\n",
       "        return chart.animate({\"config\": {\"channels\": {\"y\": {\"set\": \"Popularity\"}, \"x\": {\"set\": \"Genres\"}}}});\n",
       "    });\n",
       "</script>"
      ]
     },
     "metadata": {},
     "output_type": "display_data"
    },
    {
     "data": {
      "text/html": [
       "<script id=\"myVizzu_03854d3\">\n",
       "    let display_03854d3 = myVizzu_03854d3.parentNode.parentNode.style.display;\n",
       "    myVizzu_03854d3.parentNode.parentNode.style.display = \"none\";\n",
       "    chart_1666455 = chart_1666455.then(chart => {\n",
       "        if (myVizzu_1666455.parentNode && myVizzu_1666455.parentNode.parentNode) {\n",
       "            myVizzu_1666455.parentNode.parentNode.style.display = \"none\";\n",
       "        }\n",
       "        myVizzu_03854d3.parentNode.parentNode.style.display = display_03854d3;\n",
       "        myVizzu_03854d3.parentNode.insertBefore(myVizzu_1666455, myVizzu_03854d3);\n",
       "        myVizzu_1666455.scrollIntoView({behavior: \"auto\", block: \"center\"});\n",
       "        return chart.animate({\"config\": {\"title\": \"Geometry: area\"}});\n",
       "    });\n",
       "</script>"
      ]
     },
     "metadata": {},
     "output_type": "display_data"
    },
    {
     "data": {
      "text/html": [
       "<script id=\"myVizzu_6d2474e\">\n",
       "    let display_6d2474e = myVizzu_6d2474e.parentNode.parentNode.style.display;\n",
       "    myVizzu_6d2474e.parentNode.parentNode.style.display = \"none\";\n",
       "    chart_1666455 = chart_1666455.then(chart => {\n",
       "        if (myVizzu_1666455.parentNode && myVizzu_1666455.parentNode.parentNode) {\n",
       "            myVizzu_1666455.parentNode.parentNode.style.display = \"none\";\n",
       "        }\n",
       "        myVizzu_6d2474e.parentNode.parentNode.style.display = display_6d2474e;\n",
       "        myVizzu_6d2474e.parentNode.insertBefore(myVizzu_1666455, myVizzu_6d2474e);\n",
       "        myVizzu_1666455.scrollIntoView({behavior: \"auto\", block: \"center\"});\n",
       "        return chart.animate({\"config\": {\"geometry\": \"area\"}});\n",
       "    });\n",
       "</script>"
      ]
     },
     "metadata": {},
     "output_type": "display_data"
    },
    {
     "data": {
      "text/html": [
       "<script id=\"myVizzu_d8d9d44\">\n",
       "    let display_d8d9d44 = myVizzu_d8d9d44.parentNode.parentNode.style.display;\n",
       "    myVizzu_d8d9d44.parentNode.parentNode.style.display = \"none\";\n",
       "    chart_1666455 = chart_1666455.then(chart => {\n",
       "        if (myVizzu_1666455.parentNode && myVizzu_1666455.parentNode.parentNode) {\n",
       "            myVizzu_1666455.parentNode.parentNode.style.display = \"none\";\n",
       "        }\n",
       "        myVizzu_d8d9d44.parentNode.parentNode.style.display = display_d8d9d44;\n",
       "        myVizzu_d8d9d44.parentNode.insertBefore(myVizzu_1666455, myVizzu_d8d9d44);\n",
       "        myVizzu_1666455.scrollIntoView({behavior: \"auto\", block: \"center\"});\n",
       "        return chart.animate({\"config\": {\"title\": \"Geometry: line\"}});\n",
       "    });\n",
       "</script>"
      ]
     },
     "metadata": {},
     "output_type": "display_data"
    },
    {
     "data": {
      "text/html": [
       "<script id=\"myVizzu_77f762c\">\n",
       "    let display_77f762c = myVizzu_77f762c.parentNode.parentNode.style.display;\n",
       "    myVizzu_77f762c.parentNode.parentNode.style.display = \"none\";\n",
       "    chart_1666455 = chart_1666455.then(chart => {\n",
       "        if (myVizzu_1666455.parentNode && myVizzu_1666455.parentNode.parentNode) {\n",
       "            myVizzu_1666455.parentNode.parentNode.style.display = \"none\";\n",
       "        }\n",
       "        myVizzu_77f762c.parentNode.parentNode.style.display = display_77f762c;\n",
       "        myVizzu_77f762c.parentNode.insertBefore(myVizzu_1666455, myVizzu_77f762c);\n",
       "        myVizzu_1666455.scrollIntoView({behavior: \"auto\", block: \"center\"});\n",
       "        return chart.animate({\"config\": {\"geometry\": \"line\"}});\n",
       "    });\n",
       "</script>"
      ]
     },
     "metadata": {},
     "output_type": "display_data"
    },
    {
     "data": {
      "text/html": [
       "<script id=\"myVizzu_452c309\">\n",
       "    let display_452c309 = myVizzu_452c309.parentNode.parentNode.style.display;\n",
       "    myVizzu_452c309.parentNode.parentNode.style.display = \"none\";\n",
       "    chart_1666455 = chart_1666455.then(chart => {\n",
       "        if (myVizzu_1666455.parentNode && myVizzu_1666455.parentNode.parentNode) {\n",
       "            myVizzu_1666455.parentNode.parentNode.style.display = \"none\";\n",
       "        }\n",
       "        myVizzu_452c309.parentNode.parentNode.style.display = display_452c309;\n",
       "        myVizzu_452c309.parentNode.insertBefore(myVizzu_1666455, myVizzu_452c309);\n",
       "        myVizzu_1666455.scrollIntoView({behavior: \"auto\", block: \"center\"});\n",
       "        return chart.animate({\"config\": {\"title\": \"Geometry: circle\"}});\n",
       "    });\n",
       "</script>"
      ]
     },
     "metadata": {},
     "output_type": "display_data"
    },
    {
     "data": {
      "text/html": [
       "<script id=\"myVizzu_dd18092\">\n",
       "    let display_dd18092 = myVizzu_dd18092.parentNode.parentNode.style.display;\n",
       "    myVizzu_dd18092.parentNode.parentNode.style.display = \"none\";\n",
       "    chart_1666455 = chart_1666455.then(chart => {\n",
       "        if (myVizzu_1666455.parentNode && myVizzu_1666455.parentNode.parentNode) {\n",
       "            myVizzu_1666455.parentNode.parentNode.style.display = \"none\";\n",
       "        }\n",
       "        myVizzu_dd18092.parentNode.parentNode.style.display = display_dd18092;\n",
       "        myVizzu_dd18092.parentNode.insertBefore(myVizzu_1666455, myVizzu_dd18092);\n",
       "        myVizzu_1666455.scrollIntoView({behavior: \"auto\", block: \"center\"});\n",
       "        return chart.animate({\"config\": {\"geometry\": \"circle\"}});\n",
       "    });\n",
       "</script>"
      ]
     },
     "metadata": {},
     "output_type": "display_data"
    },
    {
     "data": {
      "text/html": [
       "<script id=\"myVizzu_4b50a2e\">\n",
       "    let display_4b50a2e = myVizzu_4b50a2e.parentNode.parentNode.style.display;\n",
       "    myVizzu_4b50a2e.parentNode.parentNode.style.display = \"none\";\n",
       "    chart_1666455 = chart_1666455.then(chart => {\n",
       "        if (myVizzu_1666455.parentNode && myVizzu_1666455.parentNode.parentNode) {\n",
       "            myVizzu_1666455.parentNode.parentNode.style.display = \"none\";\n",
       "        }\n",
       "        myVizzu_4b50a2e.parentNode.parentNode.style.display = display_4b50a2e;\n",
       "        myVizzu_4b50a2e.parentNode.insertBefore(myVizzu_1666455, myVizzu_4b50a2e);\n",
       "        myVizzu_1666455.scrollIntoView({behavior: \"auto\", block: \"center\"});\n",
       "        return chart.animate({\"config\": {\"title\": \"Geometry: rectangle - default\"}});\n",
       "    });\n",
       "</script>"
      ]
     },
     "metadata": {},
     "output_type": "display_data"
    },
    {
     "data": {
      "text/html": [
       "<script id=\"myVizzu_27f5624\">\n",
       "    let display_27f5624 = myVizzu_27f5624.parentNode.parentNode.style.display;\n",
       "    myVizzu_27f5624.parentNode.parentNode.style.display = \"none\";\n",
       "    chart_1666455 = chart_1666455.then(chart => {\n",
       "        if (myVizzu_1666455.parentNode && myVizzu_1666455.parentNode.parentNode) {\n",
       "            myVizzu_1666455.parentNode.parentNode.style.display = \"none\";\n",
       "        }\n",
       "        myVizzu_27f5624.parentNode.parentNode.style.display = display_27f5624;\n",
       "        myVizzu_27f5624.parentNode.insertBefore(myVizzu_1666455, myVizzu_27f5624);\n",
       "        myVizzu_1666455.scrollIntoView({behavior: \"auto\", block: \"center\"});\n",
       "        return chart.animate({\"config\": {\"geometry\": \"rectangle\"}});\n",
       "    });\n",
       "</script>"
      ]
     },
     "metadata": {},
     "output_type": "display_data"
    }
   ],
   "source": [
    "from ipyvizzu import Chart, Data, Config\n",
    "\n",
    "chart = Chart()\n",
    "\n",
    "data = Data.from_json(\"./music_data.json\")\n",
    "\n",
    "chart.animate(data)\n",
    "\n",
    "chart.animate(Config({\n",
    "    \"channels\": {\n",
    "        \"y\": {\n",
    "            \"set\": \"Popularity\"\n",
    "        }, \n",
    "        \"x\": {\n",
    "            \"set\": \"Genres\"\n",
    "        }\n",
    "    }\n",
    "}))\n",
    "\n",
    "chart.animate(Config({\n",
    "    \"title\": \"Geometry: area\"\n",
    "}))\n",
    "\n",
    "chart.animate(Config({\n",
    "    \"geometry\": \"area\"\n",
    "}))\n",
    "\n",
    "chart.animate(Config({\n",
    "    \"title\": \"Geometry: line\"\n",
    "}))\n",
    "\n",
    "chart.animate(Config({\n",
    "    \"geometry\": \"line\"\n",
    "}))\n",
    "\n",
    "chart.animate(Config({\n",
    "    \"title\": \"Geometry: circle\"\n",
    "}))\n",
    "\n",
    "chart.animate(Config({\n",
    "    \"geometry\": \"circle\"\n",
    "}))\n",
    "\n",
    "chart.animate(Config({\n",
    "    \"title\": \"Geometry: rectangle - default\"\n",
    "}))\n",
    "\n",
    "chart.animate(Config({\n",
    "    \"geometry\": \"rectangle\"\n",
    "}))"
   ]
  }
 ],
 "metadata": {
  "kernelspec": {
   "display_name": "Python 3 (ipykernel)",
   "language": "python",
   "name": "python3"
  },
  "language_info": {
   "codemirror_mode": {
    "name": "ipython",
    "version": 3
   },
   "file_extension": ".py",
   "mimetype": "text/x-python",
   "name": "python",
   "nbconvert_exporter": "python",
   "pygments_lexer": "ipython3",
   "version": "3.8.10"
  }
 },
 "nbformat": 4,
 "nbformat_minor": 5
}
