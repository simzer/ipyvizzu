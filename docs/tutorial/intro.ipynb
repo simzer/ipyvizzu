{
 "cells": [
  {
   "cell_type": "markdown",
   "id": "9b68a06e",
   "metadata": {},
   "source": [
    "# Intro\n",
    "\n",
    "This is the tutorial of ipyvizzu - the Jupyter notebook integration of the free, open-source Javascript library Vizzu. You can create animated charts, data stories, and interactive explorers with it. This is an excellent place to start using ipyVizzu, as it walks you through the installation of the library, introduces the logic it employs and the different settings to control how your animated charts look and behave."
   ]
  },
  {
   "cell_type": "markdown",
   "id": "e45b133a",
   "metadata": {},
   "source": [
    "## Installation\n",
    "\n",
    "ipyvizzu requires `IPython`, `NumPy` and `pandas` packages.\n",
    "However you can use it only in Jupyter Notebook therefore `notebook` project has to be installed.\n",
    "\n",
    "```sh\n",
    "pip install ipyvizzu\n",
    "pip install notebook\n",
    "```\n",
    "\n",
    "## [Optional] Using locally installed Vizzu \n",
    "\n",
    "ipyvizzu downloads Vizzu from [jsDelivr](https://www.jsdelivr.com/package/npm/vizzu?version=~0.4.0) CDN by default,\n",
    "but a local copy of it can be used like this:\n",
    "\n",
    "```sh\n",
    "npm install vizzu@~0.4.0\n",
    "```\n",
    "\n",
    "To use the locally installed Vizzu, you have to set the Vizzu Javascript file's location in the constructor of the Chart class.\n",
    "\n",
    "```python\n",
    "from ipyvizzu import Chart\n",
    "\n",
    "chart = Chart(vizzu=\"./node_modules/vizzu/dist/vizzu.min.js\")\n",
    "```\n"
   ]
  },
  {
   "cell_type": "markdown",
   "id": "9d41721b",
   "metadata": {},
   "source": [
    "## The basic logic of Vizzu\n",
    "\n",
    "The foundation of a Vizzu chart used in ipyvizzu is the animation. The animation contains states describing the chart's configuration, such as the data series, coordinate system, labels, titles, etc. A static chart is the result of a single animation state. When there are more states, ipyvizzu automatically transitions between these. The animate method initiates the animation into a new state by describing the new chart and how Vizzu should transition to it. The return value of the animate method is a promise that will be resolved after the animation is completed. Using this logic you can create a promise chain of animation from state to state.\n",
    "\n",
    "<p align=\"center\">\n",
    "    <img src=\"https://github.com/vizzuhq/ipyvizzu/raw/main/docs/tutorial/code_structure.svg\" alt=\"Vizzu\" />\n",
    "</p>\n",
    "\n",
    "The animate method has two parameters in total. The first parameter sets the chart, and the (optional) second determines how Vizzu should animate to that state.\n",
    "\n",
    "The first parameter has the following three properties:\n",
    "\n",
    "data - this is where you add the data that you want to put on the charts.\n",
    "config - this is where you can add or remove series on the channels and set the general settings of the chart like the chart title, the geometry, the alignment etc.\n",
    "style - this is where you can set how your chart looks."
   ]
  },
  {
   "cell_type": "markdown",
   "id": "fba2264d",
   "metadata": {},
   "source": [
    "Next chapter: [Adding data](./data.ipynb) ----- Back to the [Table of contents](../index.ipynb#tutorial)"
   ]
  }
 ],
 "metadata": {
  "kernelspec": {
   "display_name": ".venv",
   "language": "python",
   "name": ".venv"
  },
  "language_info": {
   "codemirror_mode": {
    "name": "ipython",
    "version": 3
   },
   "file_extension": ".py",
   "mimetype": "text/x-python",
   "name": "python",
   "nbconvert_exporter": "python",
   "pygments_lexer": "ipython3",
   "version": "3.8.10"
  }
 },
 "nbformat": 4,
 "nbformat_minor": 5
}
