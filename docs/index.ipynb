{
 "cells": [
  {
   "cell_type": "markdown",
   "id": "c688d4ac",
   "metadata": {},
   "source": [
    "\n",
    "# ipyvizzu\n",
    "\n",
    "ipyvizzu is the [Jupyter Notebook](https://jupyter.org/) integration of Vizzu.\n",
    "\n",
    "# Vizzu\n",
    "\n",
    "[Vizzu](https://lib.vizzuhq.com/) is a free, open-source Javascript/C++ library utilizing a generic dataviz engine that generates many types of charts and seamlessly animates between them. It can be used to create static charts but more importantly it is designed for building animated data stories and interactive explorers as Vizzu enables showing different perspectives of the data that the viewers can easily follow due to the animation. Visit [Vizzu on Github](https://github.com/vizzuhq/vizzu-lib)."
   ]
  },
  {
   "cell_type": "code",
   "execution_count": 1,
   "id": "af20f729",
   "metadata": {},
   "outputs": [
    {
     "data": {
      "text/html": [
       "<script id=\"myVizzu_6788297\">\n",
       "    myVizzu_6788297.parentNode.parentNode.style.display = \"none\";\n",
       "    let myVizzu_cfd264f = document.createElement(\"div\");\n",
       "    myVizzu_cfd264f.style.cssText = \"width: 800px; height: 480px;\";\n",
       "    let chart_cfd264f = import(\"https://cdn.jsdelivr.net/npm/vizzu@~0.4.0/dist/vizzu.min.js\").then(Vizzu => new Vizzu.default(myVizzu_cfd264f).initializing);\n",
       "</script>"
      ]
     },
     "metadata": {},
     "output_type": "display_data"
    },
    {
     "data": {
      "text/html": [
       "<script id=\"myVizzu_00f0438\">\n",
       "    let display_00f0438 = myVizzu_00f0438.parentNode.parentNode.style.display;\n",
       "    myVizzu_00f0438.parentNode.parentNode.style.display = \"none\";\n",
       "    chart_cfd264f = chart_cfd264f.then(chart => {\n",
       "        if (myVizzu_cfd264f.parentNode && myVizzu_cfd264f.parentNode.parentNode) {\n",
       "            myVizzu_cfd264f.parentNode.parentNode.style.display = \"none\";\n",
       "        }\n",
       "        myVizzu_00f0438.parentNode.parentNode.style.display = display_00f0438;\n",
       "        myVizzu_00f0438.parentNode.insertBefore(myVizzu_cfd264f, myVizzu_00f0438);\n",
       "        return chart.animate({\"data\": {\"series\": [{\"name\": \"Foo\", \"values\": [\"Alice\", \"Bob\", \"Ted\"]}, {\"name\": \"Bar\", \"values\": [15, 32, 12]}, {\"name\": \"Baz\", \"values\": [5, 2, 2]}]}});\n",
       "    });\n",
       "</script>"
      ]
     },
     "metadata": {},
     "output_type": "display_data"
    },
    {
     "data": {
      "text/html": [
       "<script id=\"myVizzu_c1640f3\">\n",
       "    let display_c1640f3 = myVizzu_c1640f3.parentNode.parentNode.style.display;\n",
       "    myVizzu_c1640f3.parentNode.parentNode.style.display = \"none\";\n",
       "    chart_cfd264f = chart_cfd264f.then(chart => {\n",
       "        if (myVizzu_cfd264f.parentNode && myVizzu_cfd264f.parentNode.parentNode) {\n",
       "            myVizzu_cfd264f.parentNode.parentNode.style.display = \"none\";\n",
       "        }\n",
       "        myVizzu_c1640f3.parentNode.parentNode.style.display = display_c1640f3;\n",
       "        myVizzu_c1640f3.parentNode.insertBefore(myVizzu_cfd264f, myVizzu_c1640f3);\n",
       "        return chart.animate({\"config\": {\"x\": \"Foo\", \"y\": \"Bar\", \"color\": \"Foo\"}});\n",
       "    });\n",
       "</script>"
      ]
     },
     "metadata": {},
     "output_type": "display_data"
    },
    {
     "data": {
      "text/html": [
       "<script id=\"myVizzu_5d78607\">\n",
       "    let display_5d78607 = myVizzu_5d78607.parentNode.parentNode.style.display;\n",
       "    myVizzu_5d78607.parentNode.parentNode.style.display = \"none\";\n",
       "    chart_cfd264f = chart_cfd264f.then(chart => {\n",
       "        if (myVizzu_cfd264f.parentNode && myVizzu_cfd264f.parentNode.parentNode) {\n",
       "            myVizzu_cfd264f.parentNode.parentNode.style.display = \"none\";\n",
       "        }\n",
       "        myVizzu_5d78607.parentNode.parentNode.style.display = display_5d78607;\n",
       "        myVizzu_5d78607.parentNode.insertBefore(myVizzu_cfd264f, myVizzu_5d78607);\n",
       "        return chart.animate({\"config\": {\"geometry\": \"circle\"}});\n",
       "    });\n",
       "</script>"
      ]
     },
     "metadata": {},
     "output_type": "display_data"
    },
    {
     "data": {
      "text/html": [
       "<script id=\"myVizzu_9b98079\">\n",
       "    let display_9b98079 = myVizzu_9b98079.parentNode.parentNode.style.display;\n",
       "    myVizzu_9b98079.parentNode.parentNode.style.display = \"none\";\n",
       "    chart_cfd264f = chart_cfd264f.then(chart => {\n",
       "        if (myVizzu_cfd264f.parentNode && myVizzu_cfd264f.parentNode.parentNode) {\n",
       "            myVizzu_cfd264f.parentNode.parentNode.style.display = \"none\";\n",
       "        }\n",
       "        myVizzu_9b98079.parentNode.parentNode.style.display = display_9b98079;\n",
       "        myVizzu_9b98079.parentNode.insertBefore(myVizzu_cfd264f, myVizzu_9b98079);\n",
       "        return chart.animate({\"config\": {\"x\": \"Foo\", \"y\": \"Baz\", \"color\": \"Foo\"}});\n",
       "    });\n",
       "</script>"
      ]
     },
     "metadata": {},
     "output_type": "display_data"
    },
    {
     "data": {
      "text/html": [
       "<script id=\"myVizzu_6da6a2b\">\n",
       "    let display_6da6a2b = myVizzu_6da6a2b.parentNode.parentNode.style.display;\n",
       "    myVizzu_6da6a2b.parentNode.parentNode.style.display = \"none\";\n",
       "    chart_cfd264f = chart_cfd264f.then(chart => {\n",
       "        if (myVizzu_cfd264f.parentNode && myVizzu_cfd264f.parentNode.parentNode) {\n",
       "            myVizzu_cfd264f.parentNode.parentNode.style.display = \"none\";\n",
       "        }\n",
       "        myVizzu_6da6a2b.parentNode.parentNode.style.display = display_6da6a2b;\n",
       "        myVizzu_6da6a2b.parentNode.insertBefore(myVizzu_cfd264f, myVizzu_6da6a2b);\n",
       "        return chart.animate({\"config\": {\"geometry\": \"rectangle\"}});\n",
       "    });\n",
       "</script>"
      ]
     },
     "metadata": {},
     "output_type": "display_data"
    }
   ],
   "source": [
    "#sample\n",
    "from ipyvizzu import Chart, Data, Config\n",
    "\n",
    "data = Data()\n",
    "data.add_series(\"Foo\", ['Alice', 'Bob', 'Ted'])\n",
    "data.add_series(\"Bar\", [15, 32, 12])\n",
    "data.add_series(\"Baz\", [5, 2, 2])\n",
    "\n",
    "chart = Chart()\n",
    "chart.animate(data)\n",
    "\n",
    "chart.animate(Config({\"x\": \"Foo\", \"y\": \"Bar\", \"color\": \"Foo\"}))\n",
    "chart.animate(Config({\"geometry\": \"circle\"}))\n",
    "chart.animate(Config({\"x\": \"Foo\", \"y\": \"Baz\", \"color\": \"Foo\"}))\n",
    "chart.animate(Config({\"geometry\": \"rectangle\"}))"
   ]
  },
  {
   "cell_type": "markdown",
   "id": "f07fd301",
   "metadata": {},
   "source": [
    "**Note:** `Chart` only generates the Javascript code, the Vizzu calls are evaluated by the browser. Therefore if a blank space appears where the vizzu should be, check the console of your browser where the Javascript lib reports its errors.\n",
    "\n",
    "# Installation\n",
    "\n",
    "ipyvizzu requires `IPython` and `NumPy` packages.\n",
    "The `notebook` project has to be installed as ipyvizzu can only be used within a Jupyter Notebook.\n",
    "\n",
    "```python\n",
    "pip install ipyvizzu\n",
    "pip install notebook\n",
    "```\n",
    "You can also use local installation, there's more info about this in the [Intro](examples/intro.html)  section of the documentation.\n",
    "\n",
    "# Documentation\n",
    "\n",
    "* [ipyvizzu options](options.html)\n",
    "\n",
    "The following tutorial is an excellent place to start using ipyvizzu, as it walks you through the installation, introduces the logic it employs and the different settings to control how your charts look and behave.\n",
    "* [Intro](examples/basic_logic.html)\n",
    "* [Adding data](examples/data.html)\n",
    "* [Axes, title, tooltip](examples/axes.html)\n",
    "* [Geometry](examples/geometry.html)\n",
    "* [Channels & legend](examples/channels.html)\n",
    "* [Group/stack](examples/group.html)\n",
    "* [Sorting](examples/sorting.html)\n",
    "* [Align & range](examples/align.html)\n",
    "* [Aggregate/drill-down](examples/aggregate.html)\n",
    "* [Orientation, split & polar](examples/orientation.html)\n",
    "* [Filtering & adding new records](examples/filter.html)\n",
    "* [Without coordinates & noop channel](examples/without_coordinates.html)\n",
    "* [Color palette & fonts](examples/palette_font.html)\n",
    "* [Chart layout](examples/layout.html)\n",
    "* [Animation options](examples/animation_options.html)"
   ]
  }
 ],
 "metadata": {
  "kernelspec": {
   "display_name": "Python 3 (ipykernel)",
   "language": "python",
   "name": "python3"
  },
  "language_info": {
   "codemirror_mode": {
    "name": "ipython",
    "version": 3
   },
   "file_extension": ".py",
   "mimetype": "text/x-python",
   "name": "python",
   "nbconvert_exporter": "python",
   "pygments_lexer": "ipython3",
   "version": "3.8.10"
  }
 },
 "nbformat": 4,
 "nbformat_minor": 5
}
