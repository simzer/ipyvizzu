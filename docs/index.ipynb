{
 "cells": [
  {
   "cell_type": "markdown",
   "id": "c688d4ac",
   "metadata": {},
   "source": [
    "# ipyvizzu\n",
    "\n",
    "ipyvizzu is the [Jupyter Notebook](https://jupyter.org/) integration of Vizzu.\n",
    "\n",
    "# Vizzu\n",
    "\n",
    "[Vizzu](https://lib.vizzuhq.com/) is a free, open-source Javascript/C++ library utilizing a generic dataviz engine that generates many types of charts and seamlessly animates between them. It can be used to create static charts but more importantly it is designed for building animated data stories and interactive explorers as Vizzu enables showing different perspectives of the data that the viewers can easily follow due to the animation. Visit [Vizzu on Github](https://github.com/vizzuhq/vizzu-lib)."
   ]
  },
  {
   "cell_type": "code",
   "execution_count": null,
   "id": "af20f729",
   "metadata": {},
   "outputs": [],
   "source": [
    "# sample\n",
    "\n",
    "import pandas as pd\n",
    "from ipyvizzu import Chart, Data, Config\n",
    "\n",
    "data_frame = pd.read_csv('./examples/stories/titanic/titanic.csv')\n",
    "data = Data()\n",
    "data.add_data_frame(data_frame)\n",
    "\n",
    "chart = Chart()\n",
    "chart.scroll_into_view = False\n",
    "\n",
    "chart.animate(data)\n",
    "\n",
    "chart.animate(Config({\"x\": \"Count\", \"y\": \"Sex\", \"label\": \"Count\",\"title\":\"Passengers of the Titanic\"}))\n",
    "chart.animate(Config({\"x\": [\"Count\",\"Survived\"], \"label\": [\"Count\",\"Survived\"], \"color\": \"Survived\"}))\n"
   ]
  },
  {
   "cell_type": "code",
   "execution_count": null,
   "id": "a2bcd26e",
   "metadata": {},
   "outputs": [],
   "source": [
    "chart.animate(Config({\"x\": \"Count\", \"y\": [\"Sex\",\"Survived\"]}))\n"
   ]
  },
  {
   "cell_type": "markdown",
   "id": "f07fd301",
   "metadata": {},
   "source": [
    "**Note:** `Chart` only generates the Javascript code, the Vizzu calls are evaluated by the browser. Therefore if a blank space appears where the vizzu should be, check the console of your browser where the Javascript lib reports its errors.\n",
    "\n",
    "# Installation\n",
    "\n",
    "ipyvizzu requires the `IPython`, `NumPy` and `pandas` packages.\n",
    "The `notebook` project has to be installed as ipyvizzu can only be used within a Jupyter Notebook.\n",
    "\n",
    "```python\n",
    "pip install ipyvizzu\n",
    "pip install notebook\n",
    "```\n",
    "\n",
    "<a id=\"tutorial\"></a>\n",
    "# Documentation\n",
    "\n",
    "Description of the different options available when using ipyvizzu\n",
    "\n",
    "* [ipyvizzu options](options.ipynb)\n",
    "\n",
    "The following tutorial is an excellent place to start using ipyvizzu, as it walks you through the installation, introduces the logic ipyvizzu employs and the different settings to control how your charts look and behave.\n",
    "\n",
    "* [Intro](tutorial/intro.ipynb)\n",
    "* [Adding data](tutorial/data.ipynb)\n",
    "* [Axes, title, tooltip](tutorial/axes.ipynb)\n",
    "* [Geometry](tutorial/geometry.ipynb)\n",
    "* [Channels & legend](tutorial/channels.ipynb)\n",
    "* [Group/stack](tutorial/group.ipynb)\n",
    "* [Sorting](tutorial/sorting.ipynb)\n",
    "* [Align & range](tutorial/align.ipynb)\n",
    "* [Aggregate/drill-down](tutorial/aggregate.ipynb)\n",
    "* [Orientation, split & polar](tutorial/orientation.ipynb)\n",
    "* [Filtering & adding new records](tutorial/filter.ipynb)\n",
    "* [Without coordinates & noop channel](tutorial/without_coordinates.ipynb)\n",
    "* [Color palette & fonts](tutorial/palette_font.ipynb)\n",
    "* [Chart layout](tutorial/layout.ipynb)\n",
    "* [Animation options](tutorial/animation_options.ipynb)\n",
    "\n",
    "# Examples\n",
    "\n",
    "For a selection of common static charts and further animated examples visit our [Gallery](https://vizzuhq.github.io/ipyvizzu/examples/examples.html). "
   ]
  }
 ],
 "metadata": {
  "interpreter": {
   "hash": "ac66d1bd39984e4519ceb3060cabedab691f867d7b44eada92a2f40d8a64edd1"
  },
  "kernelspec": {
   "display_name": ".venv",
   "language": "python",
   "name": ".venv"
  },
  "language_info": {
   "codemirror_mode": {
    "name": "ipython",
    "version": 3
   },
   "file_extension": ".py",
   "mimetype": "text/x-python",
   "name": "python",
   "nbconvert_exporter": "python",
   "pygments_lexer": "ipython3",
   "version": "3.8.10"
  }
 },
 "nbformat": 4,
 "nbformat_minor": 5
}
